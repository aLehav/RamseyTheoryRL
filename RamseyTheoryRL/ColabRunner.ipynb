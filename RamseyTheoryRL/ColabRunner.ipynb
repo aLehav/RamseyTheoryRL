{
  "nbformat": 4,
  "nbformat_minor": 0,
  "metadata": {
    "colab": {
      "provenance": [],
      "authorship_tag": "ABX9TyNWUzqW7GMDWztZU/X7eDhB",
      "include_colab_link": true
    },
    "kernelspec": {
      "name": "python3",
      "display_name": "Python 3"
    },
    "language_info": {
      "name": "python"
    }
  },
  "cells": [
    {
      "cell_type": "markdown",
      "metadata": {
        "id": "view-in-github",
        "colab_type": "text"
      },
      "source": [
        "<a href=\"https://colab.research.google.com/github/aLehav/RamseyTheoryRL/blob/main/ColabRunner.ipynb\" target=\"_parent\"><img src=\"https://colab.research.google.com/assets/colab-badge.svg\" alt=\"Open In Colab\"/></a>"
      ]
    },
    {
      "cell_type": "code",
      "execution_count": 1,
      "metadata": {
        "colab": {
          "base_uri": "https://localhost:8080/"
        },
        "id": "XHQ9dbNwi_px",
        "outputId": "bed1c685-1fde-4a95-d6da-6cd9e5051ca9"
      },
      "outputs": [
        {
          "output_type": "stream",
          "name": "stdout",
          "text": [
            "/content/RamseyTheoryRL\n",
            "\u001b[2K     \u001b[90m━━━━━━━━━━━━━━━━━━━━━━━━━━━━━━━━━━━━━━━\u001b[0m \u001b[32m450.4/450.4 kB\u001b[0m \u001b[31m8.8 MB/s\u001b[0m eta \u001b[36m0:00:00\u001b[0m\n",
            "\u001b[2K     \u001b[90m━━━━━━━━━━━━━━━━━━━━━━━━━━━━━━━━━━━━━━\u001b[0m \u001b[32m184.3/184.3 kB\u001b[0m \u001b[31m12.2 MB/s\u001b[0m eta \u001b[36m0:00:00\u001b[0m\n",
            "\u001b[2K     \u001b[90m━━━━━━━━━━━━━━━━━━━━━━━━━━━━━━━━━━━━━━━\u001b[0m \u001b[32m135.9/135.9 kB\u001b[0m \u001b[31m9.7 MB/s\u001b[0m eta \u001b[36m0:00:00\u001b[0m\n",
            "\u001b[2K     \u001b[90m━━━━━━━━━━━━━━━━━━━━━━━━━━━━━━━━━━━━━━━━\u001b[0m \u001b[32m3.3/3.3 MB\u001b[0m \u001b[31m52.5 MB/s\u001b[0m eta \u001b[36m0:00:00\u001b[0m\n",
            "\u001b[2K     \u001b[90m━━━━━━━━━━━━━━━━━━━━━━━━━━━━━━━━━━━━━━━━\u001b[0m \u001b[32m11.0/11.0 MB\u001b[0m \u001b[31m70.1 MB/s\u001b[0m eta \u001b[36m0:00:00\u001b[0m\n",
            "\u001b[2K     \u001b[90m━━━━━━━━━━━━━━━━━━━━━━━━━━━━━━━━━━━━━━━━\u001b[0m \u001b[32m79.8/79.8 kB\u001b[0m \u001b[31m6.5 MB/s\u001b[0m eta \u001b[36m0:00:00\u001b[0m\n",
            "\u001b[2K     \u001b[90m━━━━━━━━━━━━━━━━━━━━━━━━━━━━━━━━━━━━━━━━\u001b[0m \u001b[32m67.7/67.7 kB\u001b[0m \u001b[31m6.7 MB/s\u001b[0m eta \u001b[36m0:00:00\u001b[0m\n",
            "\u001b[2K     \u001b[90m━━━━━━━━━━━━━━━━━━━━━━━━━━━━━━━━━━━━━━\u001b[0m \u001b[32m137.9/137.9 kB\u001b[0m \u001b[31m12.5 MB/s\u001b[0m eta \u001b[36m0:00:00\u001b[0m\n",
            "\u001b[2K     \u001b[90m━━━━━━━━━━━━━━━━━━━━━━━━━━━━━━━━━━━━━━━━\u001b[0m \u001b[32m62.7/62.7 kB\u001b[0m \u001b[31m5.8 MB/s\u001b[0m eta \u001b[36m0:00:00\u001b[0m\n",
            "\u001b[?25h  Preparing metadata (setup.py) ... \u001b[?25l\u001b[?25hdone\n",
            "\u001b[2K     \u001b[90m━━━━━━━━━━━━━━━━━━━━━━━━━━━━━━━━━━━━━━━━\u001b[0m \u001b[32m66.4/66.4 kB\u001b[0m \u001b[31m6.1 MB/s\u001b[0m eta \u001b[36m0:00:00\u001b[0m\n",
            "\u001b[?25h  Building wheel for docopt (setup.py) ... \u001b[?25l\u001b[?25hdone\n"
          ]
        }
      ],
      "source": [
        "!git clone https://github.com/aLehav/RamseyTheoryRL.git --quiet\n",
        "%cd RamseyTheoryRL\n",
        "!pip install -r RamseyTheoryRL/requirements.txt --quiet"
      ]
    },
    {
      "cell_type": "code",
      "source": [
        "import os\n",
        "\n",
        "os.environ['NEPTUNE_API_TOKEN'] = ''\n",
        "os.environ['NEPTUNE_NAME'] = ''\n",
        "\n",
        "from RamseyTheoryRL.src.ramsey_checker.test import NeptuneRunner\n",
        "\n",
        "runner = NeptuneRunner(n = 8,s = 3,t = 4)\n",
        "runner.run()"
      ],
      "metadata": {
        "colab": {
          "base_uri": "https://localhost:8080/"
        },
        "id": "EbKJ5M1RJ7cr",
        "outputId": "54eef2e4-bab0-43f2-ccdb-8457cd7f58f7"
      },
      "execution_count": 5,
      "outputs": [
        {
          "output_type": "stream",
          "name": "stderr",
          "text": [
            "/content/RamseyTheoryRL/RamseyTheoryRL/src/utils/heuristic/handle_neptune.py:19: NeptuneWarning: To avoid unintended consumption of logging hours during interactive sessions, the following monitoring options are disabled unless set to 'True' when initializing the run: 'capture_stdout', 'capture_stderr', and 'capture_hardware_metrics'.\n",
            "  run = neptune.init_run(project=project, api_token=api_token)\n"
          ]
        },
        {
          "output_type": "stream",
          "name": "stdout",
          "text": [
            "https://app.neptune.ai/alehav/RamseyRL/e/RAM-237\n",
            "https://app.neptune.ai/alehav/RamseyRL/m/RAM-HEUR/v/RAM-HEUR-158\n",
            "Pretraining on 11483 samples.\n",
            "Epoch 1/5\n",
            "359/359 [==============================] - 2s 2ms/step - loss: 0.1042 - accuracy: 0.8629\n",
            "Epoch 2/5\n",
            "359/359 [==============================] - 1s 3ms/step - loss: 0.0796 - accuracy: 0.9479\n",
            "Epoch 3/5\n",
            "359/359 [==============================] - 1s 2ms/step - loss: 0.0760 - accuracy: 0.9596\n",
            "Epoch 4/5\n",
            "359/359 [==============================] - 1s 3ms/step - loss: 0.0743 - accuracy: 0.9663\n",
            "Epoch 5/5\n",
            "359/359 [==============================] - 1s 4ms/step - loss: 0.0730 - accuracy: 0.9676\n"
          ]
        },
        {
          "output_type": "stream",
          "name": "stderr",
          "text": [
            "WARNING:absl:Found untraced functions such as _update_step_xla while saving (showing 1 of 1). These functions will not be directly callable after loading.\n",
            "100%|██████████| 1/1 [00:00<00:00,  3.11it/s, iterations=1/1 Iterations Completed]"
          ]
        },
        {
          "output_type": "stream",
          "name": "stdout",
          "text": [
            "cleaned_data----------------------------------------- True\n",
            "1/1 [==============================] - 1s 725ms/step - loss: 10.8104 - accuracy: 0.0000e+00\n"
          ]
        },
        {
          "output_type": "stream",
          "name": "stderr",
          "text": [
            "WARNING:absl:Found untraced functions such as _update_step_xla while saving (showing 1 of 1). These functions will not be directly callable after loading.\n",
            "\n",
            "                                                                                  \n",
            "100%|██████████| 2/2 [00:00<00:00,  9.31it/s]\u001b[A\n",
            "100%|██████████| 2/2 [00:00<00:00,  9.31it/s, iterations=2/2 Iterations Completed]\u001b[A"
          ]
        },
        {
          "output_type": "stream",
          "name": "stdout",
          "text": [
            "cleaned_data----------------------------------------- True\n",
            "1/1 [==============================] - 0s 18ms/step - loss: 3.0505 - accuracy: 0.3929\n"
          ]
        },
        {
          "output_type": "stream",
          "name": "stderr",
          "text": [
            "WARNING:absl:Found untraced functions such as _update_step_xla while saving (showing 1 of 1). These functions will not be directly callable after loading.\n",
            " 67%|██████▋   | 2/3 [00:00<?, ?it/s]\n",
            "100%|██████████| 3/3 [00:00<00:00,  7.50it/s, iterations=3/3 Iterations Completed]"
          ]
        },
        {
          "output_type": "stream",
          "name": "stdout",
          "text": [
            "cleaned_data----------------------------------------- True\n",
            "1/1 [==============================] - 0s 10ms/step - loss: 1.1742 - accuracy: 1.0000\n"
          ]
        },
        {
          "output_type": "stream",
          "name": "stderr",
          "text": [
            "WARNING:absl:Found untraced functions such as _update_step_xla while saving (showing 1 of 1). These functions will not be directly callable after loading.\n",
            "\n",
            "                                                                                  \n",
            "100%|██████████| 4/4 [00:00<00:00,  8.09it/s]\u001b[A\n",
            "100%|██████████| 4/4 [00:00<00:00,  8.09it/s, iterations=4/4 Iterations Completed]\u001b[A"
          ]
        },
        {
          "output_type": "stream",
          "name": "stdout",
          "text": [
            "cleaned_data----------------------------------------- True\n",
            "1/1 [==============================] - 0s 10ms/step - loss: 1.3818 - accuracy: 1.0000\n"
          ]
        },
        {
          "output_type": "stream",
          "name": "stderr",
          "text": [
            "WARNING:absl:Found untraced functions such as _update_step_xla while saving (showing 1 of 1). These functions will not be directly callable after loading.\n",
            " 80%|████████  | 4/5 [00:00<?, ?it/s]\n",
            "100%|██████████| 5/5 [00:00<00:00,  7.28it/s, iterations=5/5 Iterations Completed]"
          ]
        },
        {
          "output_type": "stream",
          "name": "stdout",
          "text": [
            "cleaned_data----------------------------------------- True\n",
            "1/1 [==============================] - 0s 12ms/step - loss: 1.7708 - accuracy: 1.0000\n"
          ]
        },
        {
          "output_type": "stream",
          "name": "stderr",
          "text": [
            "WARNING:absl:Found untraced functions such as _update_step_xla while saving (showing 1 of 1). These functions will not be directly callable after loading.\n",
            "\n",
            "                                                                                  \n",
            "100%|██████████| 6/6 [00:00<00:00,  8.66it/s]\u001b[A\n",
            "100%|██████████| 6/6 [00:00<00:00,  8.66it/s, iterations=6/6 Iterations Completed]\u001b[A"
          ]
        },
        {
          "output_type": "stream",
          "name": "stdout",
          "text": [
            "cleaned_data----------------------------------------- True\n",
            "1/1 [==============================] - 0s 10ms/step - loss: 1.9599 - accuracy: 1.0000\n"
          ]
        },
        {
          "output_type": "stream",
          "name": "stderr",
          "text": [
            "WARNING:absl:Found untraced functions such as _update_step_xla while saving (showing 1 of 1). These functions will not be directly callable after loading.\n",
            " 86%|████████▌ | 6/7 [00:00<?, ?it/s]\n",
            "100%|██████████| 7/7 [00:00<00:00,  8.08it/s, iterations=7/7 Iterations Completed]"
          ]
        },
        {
          "output_type": "stream",
          "name": "stdout",
          "text": [
            "cleaned_data----------------------------------------- True\n",
            "1/1 [==============================] - 0s 9ms/step - loss: 1.8476 - accuracy: 1.0000\n"
          ]
        },
        {
          "output_type": "stream",
          "name": "stderr",
          "text": [
            "WARNING:absl:Found untraced functions such as _update_step_xla while saving (showing 1 of 1). These functions will not be directly callable after loading.\n",
            "\n",
            "                                                                                  \n",
            "100%|██████████| 8/8 [00:00<00:00,  8.39it/s]\u001b[A\n",
            "100%|██████████| 8/8 [00:00<00:00,  8.39it/s, iterations=8/8 Iterations Completed]\u001b[A"
          ]
        },
        {
          "output_type": "stream",
          "name": "stdout",
          "text": [
            "cleaned_data----------------------------------------- True\n",
            "1/1 [==============================] - 0s 13ms/step - loss: 1.6308 - accuracy: 1.0000\n"
          ]
        },
        {
          "output_type": "stream",
          "name": "stderr",
          "text": [
            "WARNING:absl:Found untraced functions such as _update_step_xla while saving (showing 1 of 1). These functions will not be directly callable after loading.\n",
            " 89%|████████▉ | 8/9 [00:00<?, ?it/s]\n",
            "100%|██████████| 9/9 [00:00<00:00,  6.78it/s, iterations=9/9 Iterations Completed]"
          ]
        },
        {
          "output_type": "stream",
          "name": "stdout",
          "text": [
            "cleaned_data----------------------------------------- True\n",
            "1/1 [==============================] - 0s 10ms/step - loss: 1.3435 - accuracy: 1.0000\n"
          ]
        },
        {
          "output_type": "stream",
          "name": "stderr",
          "text": [
            "WARNING:absl:Found untraced functions such as _update_step_xla while saving (showing 1 of 1). These functions will not be directly callable after loading.\n",
            "\n",
            "                                                                                  \n",
            "100%|██████████| 10/10 [00:00<00:00,  8.43it/s]\u001b[A\n",
            "100%|██████████| 10/10 [00:00<00:00,  8.43it/s, iterations=10/10 Iterations Completed]\u001b[A"
          ]
        },
        {
          "output_type": "stream",
          "name": "stdout",
          "text": [
            "cleaned_data----------------------------------------- True\n",
            "1/1 [==============================] - 0s 12ms/step - loss: 0.7425 - accuracy: 0.9643\n"
          ]
        },
        {
          "output_type": "stream",
          "name": "stderr",
          "text": [
            "WARNING:absl:Found untraced functions such as _update_step_xla while saving (showing 1 of 1). These functions will not be directly callable after loading.\n",
            " 91%|█████████ | 10/11 [00:00<?, ?it/s]\n",
            "100%|██████████| 11/11 [00:00<00:00,  4.71it/s, iterations=11/11 Iterations Completed]"
          ]
        },
        {
          "output_type": "stream",
          "name": "stdout",
          "text": [
            "cleaned_data----------------------------------------- True\n",
            "1/1 [==============================] - 0s 11ms/step - loss: 1.3787 - accuracy: 0.5000\n"
          ]
        },
        {
          "output_type": "stream",
          "name": "stderr",
          "text": [
            "WARNING:absl:Found untraced functions such as _update_step_xla while saving (showing 1 of 1). These functions will not be directly callable after loading.\n",
            "\n",
            "                                                                                      \n",
            "100%|██████████| 12/12 [00:00<00:00,  5.49it/s]\u001b[A\n",
            "100%|██████████| 12/12 [00:00<00:00,  5.49it/s, iterations=12/12 Iterations Completed]\u001b[A"
          ]
        },
        {
          "output_type": "stream",
          "name": "stdout",
          "text": [
            "cleaned_data----------------------------------------- True\n",
            "1/1 [==============================] - 0s 14ms/step - loss: 1.0195 - accuracy: 0.6071\n"
          ]
        },
        {
          "output_type": "stream",
          "name": "stderr",
          "text": [
            "WARNING:absl:Found untraced functions such as _update_step_xla while saving (showing 1 of 1). These functions will not be directly callable after loading.\n",
            " 92%|█████████▏| 12/13 [00:00<?, ?it/s]\n",
            "100%|██████████| 13/13 [00:00<00:00,  8.09it/s, iterations=13/13 Iterations Completed]"
          ]
        },
        {
          "output_type": "stream",
          "name": "stdout",
          "text": [
            "cleaned_data----------------------------------------- True\n",
            "1/1 [==============================] - 0s 11ms/step - loss: 0.6791 - accuracy: 0.9643\n"
          ]
        },
        {
          "output_type": "stream",
          "name": "stderr",
          "text": [
            "WARNING:absl:Found untraced functions such as _update_step_xla while saving (showing 1 of 1). These functions will not be directly callable after loading.\n",
            "\n",
            "                                                                                      \n",
            "100%|██████████| 14/14 [00:00<00:00,  9.09it/s]\u001b[A\n",
            "100%|██████████| 14/14 [00:00<00:00,  9.09it/s, iterations=14/14 Iterations Completed]\u001b[A"
          ]
        },
        {
          "output_type": "stream",
          "name": "stdout",
          "text": [
            "cleaned_data----------------------------------------- True\n",
            "1/1 [==============================] - 0s 10ms/step - loss: 1.1071 - accuracy: 1.0000\n"
          ]
        },
        {
          "output_type": "stream",
          "name": "stderr",
          "text": [
            "WARNING:absl:Found untraced functions such as _update_step_xla while saving (showing 1 of 1). These functions will not be directly callable after loading.\n",
            " 93%|█████████▎| 14/15 [00:00<?, ?it/s]\n",
            "100%|██████████| 15/15 [00:00<00:00,  7.88it/s, iterations=15/15 Iterations Completed]"
          ]
        },
        {
          "output_type": "stream",
          "name": "stdout",
          "text": [
            "cleaned_data----------------------------------------- True\n",
            "1/1 [==============================] - 0s 10ms/step - loss: 1.5465 - accuracy: 1.0000\n"
          ]
        },
        {
          "output_type": "stream",
          "name": "stderr",
          "text": [
            "WARNING:absl:Found untraced functions such as _update_step_xla while saving (showing 1 of 1). These functions will not be directly callable after loading.\n",
            "\n",
            "                                                                                      \n",
            "100%|██████████| 16/16 [00:00<00:00,  8.17it/s]\u001b[A\n",
            "100%|██████████| 16/16 [00:00<00:00,  8.17it/s, iterations=16/16 Iterations Completed]\u001b[A"
          ]
        },
        {
          "output_type": "stream",
          "name": "stdout",
          "text": [
            "cleaned_data----------------------------------------- True\n",
            "1/1 [==============================] - 0s 9ms/step - loss: 1.9496 - accuracy: 1.0000\n"
          ]
        },
        {
          "output_type": "stream",
          "name": "stderr",
          "text": [
            "WARNING:absl:Found untraced functions such as _update_step_xla while saving (showing 1 of 1). These functions will not be directly callable after loading.\n",
            " 94%|█████████▍| 16/17 [00:00<?, ?it/s]\n",
            "100%|██████████| 17/17 [00:00<00:00,  7.92it/s, iterations=17/17 Iterations Completed]"
          ]
        },
        {
          "output_type": "stream",
          "name": "stdout",
          "text": [
            "cleaned_data----------------------------------------- True\n",
            "1/1 [==============================] - 0s 10ms/step - loss: 1.9761 - accuracy: 1.0000\n"
          ]
        },
        {
          "output_type": "stream",
          "name": "stderr",
          "text": [
            "WARNING:absl:Found untraced functions such as _update_step_xla while saving (showing 1 of 1). These functions will not be directly callable after loading.\n",
            "\n",
            "                                                                                      \n",
            "100%|██████████| 18/18 [00:00<00:00,  7.71it/s]\u001b[A\n",
            "100%|██████████| 18/18 [00:00<00:00,  7.71it/s, iterations=18/18 Iterations Completed]\u001b[A"
          ]
        },
        {
          "output_type": "stream",
          "name": "stdout",
          "text": [
            "cleaned_data----------------------------------------- True\n",
            "1/1 [==============================] - 0s 10ms/step - loss: 2.1288 - accuracy: 1.0000\n"
          ]
        },
        {
          "output_type": "stream",
          "name": "stderr",
          "text": [
            "WARNING:absl:Found untraced functions such as _update_step_xla while saving (showing 1 of 1). These functions will not be directly callable after loading.\n",
            " 95%|█████████▍| 18/19 [00:00<?, ?it/s]\n",
            "100%|██████████| 19/19 [00:00<00:00,  7.90it/s, iterations=19/19 Iterations Completed]"
          ]
        },
        {
          "output_type": "stream",
          "name": "stdout",
          "text": [
            "cleaned_data----------------------------------------- True\n",
            "1/1 [==============================] - 0s 12ms/step - loss: 2.2345 - accuracy: 1.0000\n"
          ]
        },
        {
          "output_type": "stream",
          "name": "stderr",
          "text": [
            "WARNING:absl:Found untraced functions such as _update_step_xla while saving (showing 1 of 1). These functions will not be directly callable after loading.\n",
            "\n",
            "                                                                                      \n",
            "100%|██████████| 20/20 [00:00<00:00,  7.23it/s]\u001b[A\n",
            "100%|██████████| 20/20 [00:00<00:00,  7.23it/s, iterations=20/20 Iterations Completed]\u001b[A"
          ]
        },
        {
          "output_type": "stream",
          "name": "stdout",
          "text": [
            "cleaned_data----------------------------------------- True\n",
            "1/1 [==============================] - 0s 11ms/step - loss: 1.7649 - accuracy: 1.0000\n"
          ]
        },
        {
          "output_type": "stream",
          "name": "stderr",
          "text": [
            "WARNING:absl:Found untraced functions such as _update_step_xla while saving (showing 1 of 1). These functions will not be directly callable after loading.\n",
            " 95%|█████████▌| 20/21 [00:00<?, ?it/s]\n",
            "100%|██████████| 21/21 [00:00<00:00,  7.72it/s, iterations=21/21 Iterations Completed]"
          ]
        },
        {
          "output_type": "stream",
          "name": "stdout",
          "text": [
            "cleaned_data----------------------------------------- True\n",
            "1/1 [==============================] - 0s 9ms/step - loss: 1.2999 - accuracy: 1.0000\n"
          ]
        },
        {
          "output_type": "stream",
          "name": "stderr",
          "text": [
            "WARNING:absl:Found untraced functions such as _update_step_xla while saving (showing 1 of 1). These functions will not be directly callable after loading.\n",
            "\n",
            "                                                                                      \n",
            "100%|██████████| 22/22 [00:00<00:00,  5.34it/s]\u001b[A\n",
            "100%|██████████| 22/22 [00:00<00:00,  5.34it/s, iterations=22/22 Iterations Completed]\u001b[A"
          ]
        },
        {
          "output_type": "stream",
          "name": "stdout",
          "text": [
            "cleaned_data----------------------------------------- True\n",
            "1/1 [==============================] - 0s 14ms/step - loss: 1.0827 - accuracy: 1.0000\n"
          ]
        },
        {
          "output_type": "stream",
          "name": "stderr",
          "text": [
            "WARNING:absl:Found untraced functions such as _update_step_xla while saving (showing 1 of 1). These functions will not be directly callable after loading.\n",
            " 96%|█████████▌| 22/23 [00:00<?, ?it/s]\n",
            "100%|██████████| 23/23 [00:00<00:00,  4.83it/s, iterations=23/23 Iterations Completed]"
          ]
        },
        {
          "output_type": "stream",
          "name": "stdout",
          "text": [
            "cleaned_data----------------------------------------- True\n",
            "1/1 [==============================] - 0s 12ms/step - loss: 1.1131 - accuracy: 1.0000\n"
          ]
        },
        {
          "output_type": "stream",
          "name": "stderr",
          "text": [
            "WARNING:absl:Found untraced functions such as _update_step_xla while saving (showing 1 of 1). These functions will not be directly callable after loading.\n",
            "\n",
            "                                                                                      \n",
            "100%|██████████| 24/24 [00:00<00:00,  8.53it/s]\u001b[A\n",
            "100%|██████████| 24/24 [00:00<00:00,  8.53it/s, iterations=24/24 Iterations Completed]\u001b[A"
          ]
        },
        {
          "output_type": "stream",
          "name": "stdout",
          "text": [
            "cleaned_data----------------------------------------- True\n",
            "1/1 [==============================] - 0s 11ms/step - loss: 0.9518 - accuracy: 1.0000\n"
          ]
        },
        {
          "output_type": "stream",
          "name": "stderr",
          "text": [
            "WARNING:absl:Found untraced functions such as _update_step_xla while saving (showing 1 of 1). These functions will not be directly callable after loading.\n",
            " 96%|█████████▌| 24/25 [00:00<?, ?it/s]\n",
            "100%|██████████| 25/25 [00:00<00:00,  6.98it/s, iterations=25/25 Iterations Completed]"
          ]
        },
        {
          "output_type": "stream",
          "name": "stdout",
          "text": [
            "cleaned_data----------------------------------------- True\n",
            "1/1 [==============================] - 0s 10ms/step - loss: 0.6717 - accuracy: 0.8571\n"
          ]
        },
        {
          "output_type": "stream",
          "name": "stderr",
          "text": [
            "WARNING:absl:Found untraced functions such as _update_step_xla while saving (showing 1 of 1). These functions will not be directly callable after loading.\n",
            "\n",
            "                                                                                      \n",
            "100%|██████████| 26/26 [00:00<00:00,  7.25it/s]\u001b[A\n",
            "100%|██████████| 26/26 [00:00<00:00,  7.25it/s, iterations=26/26 Iterations Completed]\u001b[A"
          ]
        },
        {
          "output_type": "stream",
          "name": "stdout",
          "text": [
            "cleaned_data----------------------------------------- True\n",
            "1/1 [==============================] - 0s 10ms/step - loss: 2.7034 - accuracy: 0.0714\n"
          ]
        },
        {
          "output_type": "stream",
          "name": "stderr",
          "text": [
            "WARNING:absl:Found untraced functions such as _update_step_xla while saving (showing 1 of 1). These functions will not be directly callable after loading.\n",
            " 96%|█████████▋| 26/27 [00:00<?, ?it/s]\n",
            "100%|██████████| 27/27 [00:00<00:00,  7.36it/s, iterations=27/27 Iterations Completed]"
          ]
        },
        {
          "output_type": "stream",
          "name": "stdout",
          "text": [
            "cleaned_data----------------------------------------- True\n",
            "1/1 [==============================] - 0s 13ms/step - loss: 0.7377 - accuracy: 0.8214\n"
          ]
        },
        {
          "output_type": "stream",
          "name": "stderr",
          "text": [
            "WARNING:absl:Found untraced functions such as _update_step_xla while saving (showing 1 of 1). These functions will not be directly callable after loading.\n",
            "\n",
            "                                                                                      \n",
            "100%|██████████| 28/28 [00:00<00:00,  8.29it/s]\u001b[A\n",
            "100%|██████████| 28/28 [00:00<00:00,  8.29it/s, iterations=28/28 Iterations Completed]\u001b[A"
          ]
        },
        {
          "output_type": "stream",
          "name": "stdout",
          "text": [
            "cleaned_data----------------------------------------- True\n",
            "1/1 [==============================] - 0s 13ms/step - loss: 0.6096 - accuracy: 0.9643\n"
          ]
        },
        {
          "output_type": "stream",
          "name": "stderr",
          "text": [
            "WARNING:absl:Found untraced functions such as _update_step_xla while saving (showing 1 of 1). These functions will not be directly callable after loading.\n",
            " 97%|█████████▋| 28/29 [00:00<?, ?it/s]\n",
            "100%|██████████| 29/29 [00:00<00:00,  8.52it/s, iterations=29/29 Iterations Completed]"
          ]
        },
        {
          "output_type": "stream",
          "name": "stdout",
          "text": [
            "cleaned_data----------------------------------------- True\n",
            "1/1 [==============================] - 0s 10ms/step - loss: 0.6084 - accuracy: 1.0000\n"
          ]
        },
        {
          "output_type": "stream",
          "name": "stderr",
          "text": [
            "WARNING:absl:Found untraced functions such as _update_step_xla while saving (showing 1 of 1). These functions will not be directly callable after loading.\n",
            "\n",
            "                                                                                      \n",
            "100%|██████████| 30/30 [00:00<00:00,  7.78it/s]\u001b[A\n",
            "100%|██████████| 30/30 [00:00<00:00,  7.78it/s, iterations=30/30 Iterations Completed]\u001b[A"
          ]
        },
        {
          "output_type": "stream",
          "name": "stdout",
          "text": [
            "cleaned_data----------------------------------------- True\n",
            "1/1 [==============================] - 0s 9ms/step - loss: 0.4379 - accuracy: 1.0000\n"
          ]
        },
        {
          "output_type": "stream",
          "name": "stderr",
          "text": [
            "WARNING:absl:Found untraced functions such as _update_step_xla while saving (showing 1 of 1). These functions will not be directly callable after loading.\n",
            " 97%|█████████▋| 30/31 [00:00<?, ?it/s]\n",
            "100%|██████████| 31/31 [00:00<00:00,  7.94it/s, iterations=31/31 Iterations Completed]"
          ]
        },
        {
          "output_type": "stream",
          "name": "stdout",
          "text": [
            "cleaned_data----------------------------------------- True\n",
            "1/1 [==============================] - 0s 11ms/step - loss: 0.4678 - accuracy: 1.0000\n"
          ]
        },
        {
          "output_type": "stream",
          "name": "stderr",
          "text": [
            "WARNING:absl:Found untraced functions such as _update_step_xla while saving (showing 1 of 1). These functions will not be directly callable after loading.\n",
            "\n",
            "                                                                                      \n",
            "100%|██████████| 32/32 [00:00<00:00,  7.99it/s]\u001b[A\n",
            "100%|██████████| 32/32 [00:00<00:00,  7.99it/s, iterations=32/32 Iterations Completed]\u001b[A"
          ]
        },
        {
          "output_type": "stream",
          "name": "stdout",
          "text": [
            "cleaned_data----------------------------------------- True\n",
            "1/1 [==============================] - 0s 10ms/step - loss: 0.7782 - accuracy: 1.0000\n"
          ]
        },
        {
          "output_type": "stream",
          "name": "stderr",
          "text": [
            "WARNING:absl:Found untraced functions such as _update_step_xla while saving (showing 1 of 1). These functions will not be directly callable after loading.\n",
            " 97%|█████████▋| 32/33 [00:00<?, ?it/s]\n",
            "100%|██████████| 33/33 [00:00<00:00,  4.82it/s, iterations=33/33 Iterations Completed]"
          ]
        },
        {
          "output_type": "stream",
          "name": "stdout",
          "text": [
            "cleaned_data----------------------------------------- True\n",
            "1/1 [==============================] - 0s 14ms/step - loss: 1.0797 - accuracy: 1.0000\n"
          ]
        },
        {
          "output_type": "stream",
          "name": "stderr",
          "text": [
            "WARNING:absl:Found untraced functions such as _update_step_xla while saving (showing 1 of 1). These functions will not be directly callable after loading.\n",
            "\n",
            "\n",
            "100%|██████████| 34/34 [00:00<00:00,  4.83it/s]\u001b[A\n",
            "100%|██████████| 34/34 [00:00<00:00,  4.83it/s, iterations=34/34 Iterations Completed]\u001b[A"
          ]
        },
        {
          "output_type": "stream",
          "name": "stdout",
          "text": [
            "cleaned_data----------------------------------------- True\n",
            "1/1 [==============================] - 0s 12ms/step - loss: 0.6379 - accuracy: 1.0000\n"
          ]
        },
        {
          "output_type": "stream",
          "name": "stderr",
          "text": [
            "WARNING:absl:Found untraced functions such as _update_step_xla while saving (showing 1 of 1). These functions will not be directly callable after loading.\n",
            " 97%|█████████▋| 34/35 [00:00<?, ?it/s]\n",
            "100%|██████████| 35/35 [00:00<00:00,  6.44it/s, iterations=35/35 Iterations Completed]"
          ]
        },
        {
          "output_type": "stream",
          "name": "stdout",
          "text": [
            "cleaned_data----------------------------------------- True\n",
            "1/1 [==============================] - 0s 12ms/step - loss: 0.9408 - accuracy: 1.0000\n"
          ]
        },
        {
          "output_type": "stream",
          "name": "stderr",
          "text": [
            "WARNING:absl:Found untraced functions such as _update_step_xla while saving (showing 1 of 1). These functions will not be directly callable after loading.\n",
            "\n",
            "                                                                                      \n",
            "100%|██████████| 36/36 [00:00<00:00,  8.26it/s]\u001b[A\n",
            "100%|██████████| 36/36 [00:00<00:00,  8.26it/s, iterations=36/36 Iterations Completed]\u001b[A"
          ]
        },
        {
          "output_type": "stream",
          "name": "stdout",
          "text": [
            "cleaned_data----------------------------------------- True\n",
            "1/1 [==============================] - 0s 10ms/step - loss: 1.1958 - accuracy: 1.0000\n"
          ]
        },
        {
          "output_type": "stream",
          "name": "stderr",
          "text": [
            "WARNING:absl:Found untraced functions such as _update_step_xla while saving (showing 1 of 1). These functions will not be directly callable after loading.\n",
            " 97%|█████████▋| 36/37 [00:00<?, ?it/s]\n",
            "100%|██████████| 37/37 [00:00<00:00,  7.58it/s, iterations=37/37 Iterations Completed]"
          ]
        },
        {
          "output_type": "stream",
          "name": "stdout",
          "text": [
            "cleaned_data----------------------------------------- True\n",
            "1/1 [==============================] - 0s 12ms/step - loss: 0.7716 - accuracy: 1.0000\n"
          ]
        },
        {
          "output_type": "stream",
          "name": "stderr",
          "text": [
            "WARNING:absl:Found untraced functions such as _update_step_xla while saving (showing 1 of 1). These functions will not be directly callable after loading.\n",
            "\n",
            "                                                                                      \n",
            "100%|██████████| 38/38 [00:00<00:00,  8.40it/s]\u001b[A\n",
            "100%|██████████| 38/38 [00:00<00:00,  8.40it/s, iterations=38/38 Iterations Completed]\u001b[A"
          ]
        },
        {
          "output_type": "stream",
          "name": "stdout",
          "text": [
            "cleaned_data----------------------------------------- True\n",
            "1/1 [==============================] - 0s 11ms/step - loss: 0.7615 - accuracy: 1.0000\n"
          ]
        },
        {
          "output_type": "stream",
          "name": "stderr",
          "text": [
            "WARNING:absl:Found untraced functions such as _update_step_xla while saving (showing 1 of 1). These functions will not be directly callable after loading.\n",
            " 97%|█████████▋| 38/39 [00:00<?, ?it/s]\n",
            "100%|██████████| 39/39 [00:00<00:00,  8.01it/s, iterations=39/39 Iterations Completed]"
          ]
        },
        {
          "output_type": "stream",
          "name": "stdout",
          "text": [
            "cleaned_data----------------------------------------- True\n",
            "1/1 [==============================] - 0s 10ms/step - loss: 0.6210 - accuracy: 0.8571\n"
          ]
        },
        {
          "output_type": "stream",
          "name": "stderr",
          "text": [
            "WARNING:absl:Found untraced functions such as _update_step_xla while saving (showing 1 of 1). These functions will not be directly callable after loading.\n",
            "\n",
            "                                                                                      \n",
            "100%|██████████| 40/40 [00:00<00:00,  8.34it/s]\u001b[A\n",
            "100%|██████████| 40/40 [00:00<00:00,  8.34it/s, iterations=40/40 Iterations Completed]\u001b[A"
          ]
        },
        {
          "output_type": "stream",
          "name": "stdout",
          "text": [
            "cleaned_data----------------------------------------- True\n",
            "1/1 [==============================] - 0s 13ms/step - loss: 1.1939 - accuracy: 0.3929\n"
          ]
        },
        {
          "output_type": "stream",
          "name": "stderr",
          "text": [
            "WARNING:absl:Found untraced functions such as _update_step_xla while saving (showing 1 of 1). These functions will not be directly callable after loading.\n",
            " 98%|█████████▊| 40/41 [00:00<?, ?it/s]\n",
            "100%|██████████| 41/41 [00:00<00:00,  7.99it/s, iterations=41/41 Iterations Completed]"
          ]
        },
        {
          "output_type": "stream",
          "name": "stdout",
          "text": [
            "cleaned_data----------------------------------------- True\n",
            "1/1 [==============================] - 0s 10ms/step - loss: 0.8045 - accuracy: 0.7500\n"
          ]
        },
        {
          "output_type": "stream",
          "name": "stderr",
          "text": [
            "WARNING:absl:Found untraced functions such as _update_step_xla while saving (showing 1 of 1). These functions will not be directly callable after loading.\n",
            "\n",
            "                                                                                      \n",
            "100%|██████████| 42/42 [00:00<00:00,  8.64it/s]\u001b[A\n",
            "100%|██████████| 42/42 [00:00<00:00,  8.64it/s, iterations=42/42 Iterations Completed]\u001b[A"
          ]
        },
        {
          "output_type": "stream",
          "name": "stdout",
          "text": [
            "cleaned_data----------------------------------------- True\n",
            "1/1 [==============================] - 0s 9ms/step - loss: 0.4559 - accuracy: 0.9643\n"
          ]
        },
        {
          "output_type": "stream",
          "name": "stderr",
          "text": [
            "WARNING:absl:Found untraced functions such as _update_step_xla while saving (showing 1 of 1). These functions will not be directly callable after loading.\n",
            " 98%|█████████▊| 42/43 [00:00<?, ?it/s]\n",
            "100%|██████████| 43/43 [00:00<00:00,  8.01it/s, iterations=43/43 Iterations Completed]"
          ]
        },
        {
          "output_type": "stream",
          "name": "stdout",
          "text": [
            "cleaned_data----------------------------------------- True\n",
            "1/1 [==============================] - 0s 15ms/step - loss: 0.4339 - accuracy: 1.0000\n"
          ]
        },
        {
          "output_type": "stream",
          "name": "stderr",
          "text": [
            "WARNING:absl:Found untraced functions such as _update_step_xla while saving (showing 1 of 1). These functions will not be directly callable after loading.\n",
            "\n",
            "                                                                                      \n",
            "100%|██████████| 44/44 [00:00<00:00,  7.08it/s]\u001b[A\n",
            "100%|██████████| 44/44 [00:00<00:00,  7.08it/s, iterations=44/44 Iterations Completed]\u001b[A"
          ]
        },
        {
          "output_type": "stream",
          "name": "stdout",
          "text": [
            "cleaned_data----------------------------------------- True\n",
            "1/1 [==============================] - 0s 12ms/step - loss: 0.5871 - accuracy: 1.0000\n"
          ]
        },
        {
          "output_type": "stream",
          "name": "stderr",
          "text": [
            "WARNING:absl:Found untraced functions such as _update_step_xla while saving (showing 1 of 1). These functions will not be directly callable after loading.\n",
            " 98%|█████████▊| 44/45 [00:00<?, ?it/s]\n",
            "100%|██████████| 45/45 [00:00<00:00,  4.92it/s, iterations=45/45 Iterations Completed]"
          ]
        },
        {
          "output_type": "stream",
          "name": "stdout",
          "text": [
            "cleaned_data----------------------------------------- True\n",
            "1/1 [==============================] - 0s 10ms/step - loss: 0.7863 - accuracy: 1.0000\n"
          ]
        },
        {
          "output_type": "stream",
          "name": "stderr",
          "text": [
            "WARNING:absl:Found untraced functions such as _update_step_xla while saving (showing 1 of 1). These functions will not be directly callable after loading.\n",
            "\n",
            "                                                                                      \n",
            "100%|██████████| 46/46 [00:00<00:00,  7.43it/s]\u001b[A\n",
            "100%|██████████| 46/46 [00:00<00:00,  7.43it/s, iterations=46/46 Iterations Completed]\u001b[A"
          ]
        },
        {
          "output_type": "stream",
          "name": "stdout",
          "text": [
            "cleaned_data----------------------------------------- True\n",
            "1/1 [==============================] - 0s 9ms/step - loss: 0.7712 - accuracy: 1.0000\n"
          ]
        },
        {
          "output_type": "stream",
          "name": "stderr",
          "text": [
            "WARNING:absl:Found untraced functions such as _update_step_xla while saving (showing 1 of 1). These functions will not be directly callable after loading.\n",
            " 98%|█████████▊| 46/47 [00:00<?, ?it/s]\n",
            "100%|██████████| 47/47 [00:00<00:00,  8.34it/s, iterations=47/47 Iterations Completed]"
          ]
        },
        {
          "output_type": "stream",
          "name": "stdout",
          "text": [
            "cleaned_data----------------------------------------- True\n",
            "1/1 [==============================] - 0s 16ms/step - loss: 1.1105 - accuracy: 1.0000\n"
          ]
        },
        {
          "output_type": "stream",
          "name": "stderr",
          "text": [
            "WARNING:absl:Found untraced functions such as _update_step_xla while saving (showing 1 of 1). These functions will not be directly callable after loading.\n",
            "\n",
            "                                                                                      \n",
            "100%|██████████| 48/48 [00:00<00:00,  8.23it/s]\u001b[A\n",
            "100%|██████████| 48/48 [00:00<00:00,  8.23it/s, iterations=48/48 Iterations Completed]\u001b[A"
          ]
        },
        {
          "output_type": "stream",
          "name": "stdout",
          "text": [
            "cleaned_data----------------------------------------- True\n",
            "1/1 [==============================] - 0s 11ms/step - loss: 0.9045 - accuracy: 1.0000\n"
          ]
        },
        {
          "output_type": "stream",
          "name": "stderr",
          "text": [
            "WARNING:absl:Found untraced functions such as _update_step_xla while saving (showing 1 of 1). These functions will not be directly callable after loading.\n",
            " 98%|█████████▊| 48/49 [00:00<?, ?it/s]\n",
            "100%|██████████| 49/49 [00:00<00:00,  7.68it/s, iterations=49/49 Iterations Completed]"
          ]
        },
        {
          "output_type": "stream",
          "name": "stdout",
          "text": [
            "cleaned_data----------------------------------------- True\n",
            "1/1 [==============================] - 0s 9ms/step - loss: 0.8093 - accuracy: 1.0000\n"
          ]
        },
        {
          "output_type": "stream",
          "name": "stderr",
          "text": [
            "WARNING:absl:Found untraced functions such as _update_step_xla while saving (showing 1 of 1). These functions will not be directly callable after loading.\n",
            "\n",
            "                                                                                      \n",
            "100%|██████████| 50/50 [00:00<00:00,  7.79it/s]\u001b[A\n",
            "100%|██████████| 50/50 [00:00<00:00,  7.79it/s, iterations=50/50 Iterations Completed]\u001b[A"
          ]
        },
        {
          "output_type": "stream",
          "name": "stdout",
          "text": [
            "cleaned_data----------------------------------------- True\n",
            "1/1 [==============================] - 0s 10ms/step - loss: 0.8766 - accuracy: 1.0000\n"
          ]
        },
        {
          "output_type": "stream",
          "name": "stderr",
          "text": [
            "WARNING:absl:Found untraced functions such as _update_step_xla while saving (showing 1 of 1). These functions will not be directly callable after loading.\n",
            " 98%|█████████▊| 50/51 [00:00<?, ?it/s]\n",
            "100%|██████████| 51/51 [00:00<00:00,  7.89it/s, iterations=51/51 Iterations Completed]"
          ]
        },
        {
          "output_type": "stream",
          "name": "stdout",
          "text": [
            "cleaned_data----------------------------------------- True\n",
            "1/1 [==============================] - 0s 14ms/step - loss: 0.4625 - accuracy: 1.0000\n"
          ]
        },
        {
          "output_type": "stream",
          "name": "stderr",
          "text": [
            "WARNING:absl:Found untraced functions such as _update_step_xla while saving (showing 1 of 1). These functions will not be directly callable after loading.\n",
            "\n",
            "                                                                                      \n",
            "100%|██████████| 52/52 [00:00<00:00,  8.21it/s]\u001b[A\n",
            "100%|██████████| 52/52 [00:00<00:00,  8.21it/s, iterations=52/52 Iterations Completed]\u001b[A"
          ]
        },
        {
          "output_type": "stream",
          "name": "stdout",
          "text": [
            "cleaned_data----------------------------------------- True\n",
            "1/1 [==============================] - 0s 10ms/step - loss: 0.4836 - accuracy: 0.8214\n"
          ]
        },
        {
          "output_type": "stream",
          "name": "stderr",
          "text": [
            "WARNING:absl:Found untraced functions such as _update_step_xla while saving (showing 1 of 1). These functions will not be directly callable after loading.\n",
            " 98%|█████████▊| 52/53 [00:00<?, ?it/s]\n",
            "100%|██████████| 53/53 [00:00<00:00,  7.32it/s, iterations=53/53 Iterations Completed]"
          ]
        },
        {
          "output_type": "stream",
          "name": "stdout",
          "text": [
            "cleaned_data----------------------------------------- True\n",
            "1/1 [==============================] - 0s 12ms/step - loss: 0.9190 - accuracy: 0.7143\n"
          ]
        },
        {
          "output_type": "stream",
          "name": "stderr",
          "text": [
            "WARNING:absl:Found untraced functions such as _update_step_xla while saving (showing 1 of 1). These functions will not be directly callable after loading.\n",
            "\n",
            "                                                                                      \n",
            "100%|██████████| 54/54 [00:00<00:00,  8.07it/s]\u001b[A\n",
            "100%|██████████| 54/54 [00:00<00:00,  8.07it/s, iterations=54/54 Iterations Completed]\u001b[A"
          ]
        },
        {
          "output_type": "stream",
          "name": "stdout",
          "text": [
            "cleaned_data----------------------------------------- True\n",
            "1/1 [==============================] - 0s 9ms/step - loss: 1.4205 - accuracy: 0.5000\n"
          ]
        },
        {
          "output_type": "stream",
          "name": "stderr",
          "text": [
            "WARNING:absl:Found untraced functions such as _update_step_xla while saving (showing 1 of 1). These functions will not be directly callable after loading.\n",
            " 98%|█████████▊| 54/55 [00:00<?, ?it/s]\n",
            "100%|██████████| 55/55 [00:00<00:00,  8.13it/s, iterations=55/55 Iterations Completed]"
          ]
        },
        {
          "output_type": "stream",
          "name": "stdout",
          "text": [
            "cleaned_data----------------------------------------- True\n",
            "1/1 [==============================] - 0s 9ms/step - loss: 2.6530 - accuracy: 0.0000e+00\n"
          ]
        },
        {
          "output_type": "stream",
          "name": "stderr",
          "text": [
            "WARNING:absl:Found untraced functions such as _update_step_xla while saving (showing 1 of 1). These functions will not be directly callable after loading.\n",
            "\n",
            "\n",
            "100%|██████████| 56/56 [00:00<00:00,  4.68it/s]\u001b[A\n",
            "100%|██████████| 56/56 [00:00<00:00,  4.68it/s, iterations=56/56 Iterations Completed]\u001b[A"
          ]
        },
        {
          "output_type": "stream",
          "name": "stdout",
          "text": [
            "cleaned_data----------------------------------------- True\n",
            "1/1 [==============================] - 0s 14ms/step - loss: 0.7468 - accuracy: 0.8929\n"
          ]
        },
        {
          "output_type": "stream",
          "name": "stderr",
          "text": [
            "WARNING:absl:Found untraced functions such as _update_step_xla while saving (showing 1 of 1). These functions will not be directly callable after loading.\n",
            " 98%|█████████▊| 56/57 [00:00<?, ?it/s]\n",
            "100%|██████████| 57/57 [00:00<00:00,  4.56it/s, iterations=57/57 Iterations Completed]"
          ]
        },
        {
          "output_type": "stream",
          "name": "stdout",
          "text": [
            "cleaned_data----------------------------------------- True\n",
            "1/1 [==============================] - 0s 12ms/step - loss: 1.1554 - accuracy: 1.0000\n"
          ]
        },
        {
          "output_type": "stream",
          "name": "stderr",
          "text": [
            "WARNING:absl:Found untraced functions such as _update_step_xla while saving (showing 1 of 1). These functions will not be directly callable after loading.\n",
            "\n",
            "                                                                                      \n",
            "100%|██████████| 58/58 [00:00<00:00,  7.51it/s]\u001b[A\n",
            "100%|██████████| 58/58 [00:00<00:00,  7.51it/s, iterations=58/58 Iterations Completed]\u001b[A"
          ]
        },
        {
          "output_type": "stream",
          "name": "stdout",
          "text": [
            "cleaned_data----------------------------------------- True\n",
            "1/1 [==============================] - 0s 11ms/step - loss: 1.5165 - accuracy: 1.0000\n"
          ]
        },
        {
          "output_type": "stream",
          "name": "stderr",
          "text": [
            "WARNING:absl:Found untraced functions such as _update_step_xla while saving (showing 1 of 1). These functions will not be directly callable after loading.\n",
            " 98%|█████████▊| 58/59 [00:00<?, ?it/s]\n",
            "100%|██████████| 59/59 [00:00<00:00,  7.89it/s, iterations=59/59 Iterations Completed]"
          ]
        },
        {
          "output_type": "stream",
          "name": "stdout",
          "text": [
            "cleaned_data----------------------------------------- True\n",
            "1/1 [==============================] - 0s 10ms/step - loss: 2.2041 - accuracy: 1.0000\n"
          ]
        },
        {
          "output_type": "stream",
          "name": "stderr",
          "text": [
            "WARNING:absl:Found untraced functions such as _update_step_xla while saving (showing 1 of 1). These functions will not be directly callable after loading.\n",
            "\n",
            "                                                                                      \n",
            "100%|██████████| 60/60 [00:00<00:00,  8.37it/s]\u001b[A\n",
            "100%|██████████| 60/60 [00:00<00:00,  8.37it/s, iterations=60/60 Iterations Completed]\u001b[A"
          ]
        },
        {
          "output_type": "stream",
          "name": "stdout",
          "text": [
            "cleaned_data----------------------------------------- True\n",
            "1/1 [==============================] - 0s 10ms/step - loss: 2.9782 - accuracy: 1.0000\n"
          ]
        },
        {
          "output_type": "stream",
          "name": "stderr",
          "text": [
            "WARNING:absl:Found untraced functions such as _update_step_xla while saving (showing 1 of 1). These functions will not be directly callable after loading.\n",
            " 98%|█████████▊| 60/61 [00:00<?, ?it/s]\n",
            "100%|██████████| 61/61 [00:00<00:00,  7.91it/s, iterations=61/61 Iterations Completed]"
          ]
        },
        {
          "output_type": "stream",
          "name": "stdout",
          "text": [
            "cleaned_data----------------------------------------- True\n",
            "1/1 [==============================] - 0s 10ms/step - loss: 2.4696 - accuracy: 1.0000\n"
          ]
        },
        {
          "output_type": "stream",
          "name": "stderr",
          "text": [
            "WARNING:absl:Found untraced functions such as _update_step_xla while saving (showing 1 of 1). These functions will not be directly callable after loading.\n",
            "\n",
            "                                                                                      \n",
            "100%|██████████| 62/62 [00:00<00:00,  8.54it/s]\u001b[A\n",
            "100%|██████████| 62/62 [00:00<00:00,  8.54it/s, iterations=62/62 Iterations Completed]\u001b[A"
          ]
        },
        {
          "output_type": "stream",
          "name": "stdout",
          "text": [
            "cleaned_data----------------------------------------- True\n",
            "1/1 [==============================] - 0s 13ms/step - loss: 2.1927 - accuracy: 1.0000\n"
          ]
        },
        {
          "output_type": "stream",
          "name": "stderr",
          "text": [
            "WARNING:absl:Found untraced functions such as _update_step_xla while saving (showing 1 of 1). These functions will not be directly callable after loading.\n",
            " 98%|█████████▊| 62/63 [00:00<?, ?it/s]\n",
            "100%|██████████| 63/63 [00:00<00:00,  7.73it/s, iterations=63/63 Iterations Completed]"
          ]
        },
        {
          "output_type": "stream",
          "name": "stdout",
          "text": [
            "cleaned_data----------------------------------------- True\n",
            "1/1 [==============================] - 0s 10ms/step - loss: 2.3493 - accuracy: 1.0000\n"
          ]
        },
        {
          "output_type": "stream",
          "name": "stderr",
          "text": [
            "WARNING:absl:Found untraced functions such as _update_step_xla while saving (showing 1 of 1). These functions will not be directly callable after loading.\n",
            "\n",
            "                                                                                      \n",
            "100%|██████████| 64/64 [00:00<00:00,  7.45it/s]\u001b[A\n",
            "100%|██████████| 64/64 [00:00<00:00,  7.45it/s, iterations=64/64 Iterations Completed]\u001b[A"
          ]
        },
        {
          "output_type": "stream",
          "name": "stdout",
          "text": [
            "cleaned_data----------------------------------------- True\n",
            "1/1 [==============================] - 0s 10ms/step - loss: 1.8420 - accuracy: 1.0000\n"
          ]
        },
        {
          "output_type": "stream",
          "name": "stderr",
          "text": [
            "WARNING:absl:Found untraced functions such as _update_step_xla while saving (showing 1 of 1). These functions will not be directly callable after loading.\n",
            " 98%|█████████▊| 64/65 [00:00<?, ?it/s]\n",
            "100%|██████████| 65/65 [00:00<00:00,  7.58it/s, iterations=65/65 Iterations Completed]"
          ]
        },
        {
          "output_type": "stream",
          "name": "stdout",
          "text": [
            "cleaned_data----------------------------------------- True\n",
            "1/1 [==============================] - 0s 10ms/step - loss: 2.1429 - accuracy: 1.0000\n"
          ]
        },
        {
          "output_type": "stream",
          "name": "stderr",
          "text": [
            "WARNING:absl:Found untraced functions such as _update_step_xla while saving (showing 1 of 1). These functions will not be directly callable after loading.\n",
            "\n",
            "                                                                                      \n",
            "100%|██████████| 66/66 [00:00<00:00,  7.52it/s]\u001b[A\n",
            "100%|██████████| 66/66 [00:00<00:00,  7.52it/s, iterations=66/66 Iterations Completed]\u001b[A"
          ]
        },
        {
          "output_type": "stream",
          "name": "stdout",
          "text": [
            "cleaned_data----------------------------------------- True\n",
            "1/1 [==============================] - 0s 18ms/step - loss: 2.0678 - accuracy: 1.0000\n"
          ]
        },
        {
          "output_type": "stream",
          "name": "stderr",
          "text": [
            "WARNING:absl:Found untraced functions such as _update_step_xla while saving (showing 1 of 1). These functions will not be directly callable after loading.\n",
            " 99%|█████████▊| 66/67 [00:00<?, ?it/s]\n",
            "100%|██████████| 67/67 [00:00<00:00,  4.13it/s, iterations=67/67 Iterations Completed]"
          ]
        },
        {
          "output_type": "stream",
          "name": "stdout",
          "text": [
            "cleaned_data----------------------------------------- True\n",
            "1/1 [==============================] - 0s 11ms/step - loss: 2.2494 - accuracy: 1.0000\n"
          ]
        },
        {
          "output_type": "stream",
          "name": "stderr",
          "text": [
            "WARNING:absl:Found untraced functions such as _update_step_xla while saving (showing 1 of 1). These functions will not be directly callable after loading.\n",
            "\n",
            "\n",
            "100%|██████████| 68/68 [00:00<00:00,  4.02it/s]\u001b[A\n",
            "100%|██████████| 68/68 [00:00<00:00,  4.02it/s, iterations=68/68 Iterations Completed]\u001b[A"
          ]
        },
        {
          "output_type": "stream",
          "name": "stdout",
          "text": [
            "cleaned_data----------------------------------------- True\n",
            "1/1 [==============================] - 0s 13ms/step - loss: 2.0406 - accuracy: 1.0000\n"
          ]
        },
        {
          "output_type": "stream",
          "name": "stderr",
          "text": [
            "WARNING:absl:Found untraced functions such as _update_step_xla while saving (showing 1 of 1). These functions will not be directly callable after loading.\n",
            " 99%|█████████▊| 68/69 [00:00<?, ?it/s]\n",
            "100%|██████████| 69/69 [00:00<00:00,  6.88it/s, iterations=69/69 Iterations Completed]"
          ]
        },
        {
          "output_type": "stream",
          "name": "stdout",
          "text": [
            "cleaned_data----------------------------------------- True\n",
            "1/1 [==============================] - 0s 12ms/step - loss: 2.3409 - accuracy: 1.0000\n"
          ]
        },
        {
          "output_type": "stream",
          "name": "stderr",
          "text": [
            "WARNING:absl:Found untraced functions such as _update_step_xla while saving (showing 1 of 1). These functions will not be directly callable after loading.\n",
            "\n",
            "                                                                                      \n",
            "100%|██████████| 70/70 [00:00<00:00,  8.03it/s]\u001b[A\n",
            "100%|██████████| 70/70 [00:00<00:00,  8.03it/s, iterations=70/70 Iterations Completed]\u001b[A"
          ]
        },
        {
          "output_type": "stream",
          "name": "stdout",
          "text": [
            "cleaned_data----------------------------------------- True\n",
            "1/1 [==============================] - 0s 14ms/step - loss: 2.2263 - accuracy: 1.0000\n"
          ]
        },
        {
          "output_type": "stream",
          "name": "stderr",
          "text": [
            "WARNING:absl:Found untraced functions such as _update_step_xla while saving (showing 1 of 1). These functions will not be directly callable after loading.\n",
            " 99%|█████████▊| 70/71 [00:00<?, ?it/s]\n",
            "100%|██████████| 71/71 [00:00<00:00,  7.10it/s, iterations=71/71 Iterations Completed]"
          ]
        },
        {
          "output_type": "stream",
          "name": "stdout",
          "text": [
            "cleaned_data----------------------------------------- True\n",
            "1/1 [==============================] - 0s 10ms/step - loss: 1.9754 - accuracy: 1.0000\n"
          ]
        },
        {
          "output_type": "stream",
          "name": "stderr",
          "text": [
            "WARNING:absl:Found untraced functions such as _update_step_xla while saving (showing 1 of 1). These functions will not be directly callable after loading.\n",
            "\n",
            "                                                                                      \n",
            "100%|██████████| 72/72 [00:00<00:00,  8.25it/s]\u001b[A\n",
            "100%|██████████| 72/72 [00:00<00:00,  8.25it/s, iterations=72/72 Iterations Completed]\u001b[A"
          ]
        },
        {
          "output_type": "stream",
          "name": "stdout",
          "text": [
            "cleaned_data----------------------------------------- True\n",
            "1/1 [==============================] - 0s 11ms/step - loss: 1.4775 - accuracy: 1.0000\n"
          ]
        },
        {
          "output_type": "stream",
          "name": "stderr",
          "text": [
            "WARNING:absl:Found untraced functions such as _update_step_xla while saving (showing 1 of 1). These functions will not be directly callable after loading.\n",
            " 99%|█████████▊| 72/73 [00:00<?, ?it/s]\n",
            "100%|██████████| 73/73 [00:00<00:00,  6.08it/s, iterations=73/73 Iterations Completed]"
          ]
        },
        {
          "output_type": "stream",
          "name": "stdout",
          "text": [
            "cleaned_data----------------------------------------- True\n",
            "1/1 [==============================] - 0s 13ms/step - loss: 1.3239 - accuracy: 1.0000\n"
          ]
        },
        {
          "output_type": "stream",
          "name": "stderr",
          "text": [
            "WARNING:absl:Found untraced functions such as _update_step_xla while saving (showing 1 of 1). These functions will not be directly callable after loading.\n",
            "\n",
            "                                                                                      \n",
            "100%|██████████| 74/74 [00:00<00:00,  8.07it/s]\u001b[A\n",
            "100%|██████████| 74/74 [00:00<00:00,  8.07it/s, iterations=74/74 Iterations Completed]\u001b[A"
          ]
        },
        {
          "output_type": "stream",
          "name": "stdout",
          "text": [
            "cleaned_data----------------------------------------- True\n",
            "1/1 [==============================] - 0s 13ms/step - loss: 1.4150 - accuracy: 1.0000\n"
          ]
        },
        {
          "output_type": "stream",
          "name": "stderr",
          "text": [
            "WARNING:absl:Found untraced functions such as _update_step_xla while saving (showing 1 of 1). These functions will not be directly callable after loading.\n",
            " 99%|█████████▊| 74/75 [00:00<?, ?it/s]\n",
            "100%|██████████| 75/75 [00:00<00:00,  7.94it/s, iterations=75/75 Iterations Completed]"
          ]
        },
        {
          "output_type": "stream",
          "name": "stdout",
          "text": [
            "cleaned_data----------------------------------------- True\n",
            "1/1 [==============================] - 0s 10ms/step - loss: 1.1959 - accuracy: 1.0000\n"
          ]
        },
        {
          "output_type": "stream",
          "name": "stderr",
          "text": [
            "WARNING:absl:Found untraced functions such as _update_step_xla while saving (showing 1 of 1). These functions will not be directly callable after loading.\n",
            "\n",
            "                                                                                      \n",
            "100%|██████████| 76/76 [00:00<00:00,  7.92it/s]\u001b[A\n",
            "100%|██████████| 76/76 [00:00<00:00,  7.92it/s, iterations=76/76 Iterations Completed]\u001b[A"
          ]
        },
        {
          "output_type": "stream",
          "name": "stdout",
          "text": [
            "cleaned_data----------------------------------------- True\n",
            "1/1 [==============================] - 0s 10ms/step - loss: 1.0615 - accuracy: 1.0000\n"
          ]
        },
        {
          "output_type": "stream",
          "name": "stderr",
          "text": [
            "WARNING:absl:Found untraced functions such as _update_step_xla while saving (showing 1 of 1). These functions will not be directly callable after loading.\n",
            " 99%|█████████▊| 76/77 [00:00<?, ?it/s]\n",
            "100%|██████████| 77/77 [00:00<00:00,  8.10it/s, iterations=77/77 Iterations Completed]"
          ]
        },
        {
          "output_type": "stream",
          "name": "stdout",
          "text": [
            "cleaned_data----------------------------------------- True\n",
            "1/1 [==============================] - 0s 10ms/step - loss: 0.8461 - accuracy: 1.0000\n"
          ]
        },
        {
          "output_type": "stream",
          "name": "stderr",
          "text": [
            "WARNING:absl:Found untraced functions such as _update_step_xla while saving (showing 1 of 1). These functions will not be directly callable after loading.\n"
          ]
        },
        {
          "output_type": "stream",
          "name": "stdout",
          "text": [
            "Unexpected error occurred in Neptune background thread: Killing Neptune asynchronous thread. All data is safe on disk and can be later synced manually using `neptune sync` command.\n"
          ]
        },
        {
          "output_type": "stream",
          "name": "stderr",
          "text": [
            "Exception in thread NeptuneAsyncOpProcessor:\n",
            "Traceback (most recent call last):\n",
            "  File \"/usr/lib/python3.10/threading.py\", line 1016, in _bootstrap_inner\n",
            "    self.run()\n",
            "  File \"/usr/local/lib/python3.10/dist-packages/neptune/internal/operation_processors/async_operation_processor.py\", line 230, in run\n",
            "    super().run()\n",
            "  File \"/usr/local/lib/python3.10/dist-packages/neptune/internal/threading/daemon.py\", line 53, in run\n",
            "    self.work()\n",
            "  File \"/usr/local/lib/python3.10/dist-packages/neptune/internal/operation_processors/async_operation_processor.py\", line 246, in work\n",
            "    self.process_batch([element.obj for element in batch], batch[-1].ver)\n",
            "  File \"/usr/local/lib/python3.10/dist-packages/neptune/internal/threading/daemon.py\", line 76, in wrapper\n",
            "    result = func(self_, *args, **kwargs)\n",
            "  File \"/usr/local/lib/python3.10/dist-packages/neptune/internal/operation_processors/async_operation_processor.py\", line 259, in process_batch\n",
            "    processed_count, errors = self._processor._backend.execute_operations(\n",
            "  File \"/usr/local/lib/python3.10/dist-packages/neptune/internal/backends/hosted_neptune_backend.py\", line 467, in execute_operations\n",
            "    self._execute_upload_operations_with_400_retry(\n",
            "  File \"/usr/local/lib/python3.10/dist-packages/neptune/internal/backends/hosted_neptune_backend.py\", line 571, in _execute_upload_operations_with_400_retry\n",
            "    return self._execute_upload_operations(\n",
            "  File \"/usr/local/lib/python3.10/dist-packages/neptune/internal/backends/hosted_neptune_backend.py\", line 547, in _execute_upload_operations\n",
            "    upload_errors = upload_file_set_attribute(\n",
            "  File \"/usr/local/lib/python3.10/dist-packages/neptune/internal/backends/hosted_file_operations.py\", line 155, in upload_file_set_attribute\n",
            "    data = compress_to_tar_gz_in_memory(upload_entries=package.items)\n",
            "  File \"/usr/local/lib/python3.10/dist-packages/neptune/common/storage/datastream.py\", line 86, in compress_to_tar_gz_in_memory\n",
            "    archive.add(name=entry.source, arcname=entry.target_path, recursive=True)\n",
            "  File \"/usr/lib/python3.10/tarfile.py\", line 2157, in add\n",
            "    tarinfo = self.gettarinfo(name, arcname)\n",
            "  File \"/usr/lib/python3.10/tarfile.py\", line 2032, in gettarinfo\n",
            "    statres = os.stat(name)\n",
            "FileNotFoundError: [Errno 2] No such file or directory: '/content/RamseyTheoryRL/my_model/fingerprint.pb.tmp44619d9456a14c3ba46e52b04cedeb43'\n",
            "\n",
            "\n",
            "100%|██████████| 78/78 [00:00<00:00,  4.58it/s]\u001b[A\n",
            "100%|██████████| 78/78 [00:00<00:00,  4.58it/s, iterations=78/78 Iterations Completed]\u001b[A"
          ]
        },
        {
          "output_type": "stream",
          "name": "stdout",
          "text": [
            "cleaned_data----------------------------------------- True\n",
            "1/1 [==============================] - 0s 12ms/step - loss: 0.5727 - accuracy: 1.0000\n"
          ]
        },
        {
          "output_type": "stream",
          "name": "stderr",
          "text": [
            "WARNING:absl:Found untraced functions such as _update_step_xla while saving (showing 1 of 1). These functions will not be directly callable after loading.\n",
            " 99%|█████████▊| 78/79 [00:00<?, ?it/s]\n",
            "100%|██████████| 79/79 [00:00<00:00,  5.65it/s, iterations=79/79 Iterations Completed]"
          ]
        },
        {
          "output_type": "stream",
          "name": "stdout",
          "text": [
            "cleaned_data----------------------------------------- True\n",
            "1/1 [==============================] - 0s 12ms/step - loss: 0.6436 - accuracy: 0.7857\n"
          ]
        },
        {
          "output_type": "stream",
          "name": "stderr",
          "text": [
            "WARNING:absl:Found untraced functions such as _update_step_xla while saving (showing 1 of 1). These functions will not be directly callable after loading.\n",
            "\n",
            "                                                                                      \n",
            "100%|██████████| 80/80 [00:00<00:00,  7.71it/s]\u001b[A\n",
            "100%|██████████| 80/80 [00:00<00:00,  7.71it/s, iterations=80/80 Iterations Completed]\u001b[A"
          ]
        },
        {
          "output_type": "stream",
          "name": "stdout",
          "text": [
            "cleaned_data----------------------------------------- True\n",
            "1/1 [==============================] - 0s 14ms/step - loss: 3.4766 - accuracy: 0.1786\n"
          ]
        },
        {
          "output_type": "stream",
          "name": "stderr",
          "text": [
            "WARNING:absl:Found untraced functions such as _update_step_xla while saving (showing 1 of 1). These functions will not be directly callable after loading.\n",
            " 99%|█████████▉| 80/81 [00:00<?, ?it/s]\n",
            "100%|██████████| 81/81 [00:00<00:00,  7.51it/s, iterations=81/81 Iterations Completed]"
          ]
        },
        {
          "output_type": "stream",
          "name": "stdout",
          "text": [
            "cleaned_data----------------------------------------- True\n",
            "1/1 [==============================] - 0s 11ms/step - loss: 7.5123 - accuracy: 0.0000e+00\n"
          ]
        },
        {
          "output_type": "stream",
          "name": "stderr",
          "text": [
            "WARNING:absl:Found untraced functions such as _update_step_xla while saving (showing 1 of 1). These functions will not be directly callable after loading.\n",
            "\n",
            "                                                                                      \n",
            "100%|██████████| 82/82 [00:00<00:00,  7.61it/s]\u001b[A\n",
            "100%|██████████| 82/82 [00:00<00:00,  7.61it/s, iterations=82/82 Iterations Completed]\u001b[A"
          ]
        },
        {
          "output_type": "stream",
          "name": "stdout",
          "text": [
            "cleaned_data----------------------------------------- True\n",
            "1/1 [==============================] - 0s 10ms/step - loss: 10.0740 - accuracy: 0.0000e+00\n"
          ]
        },
        {
          "output_type": "stream",
          "name": "stderr",
          "text": [
            "WARNING:absl:Found untraced functions such as _update_step_xla while saving (showing 1 of 1). These functions will not be directly callable after loading.\n",
            " 99%|█████████▉| 82/83 [00:00<?, ?it/s]\n",
            "100%|██████████| 83/83 [00:00<00:00,  7.35it/s, iterations=83/83 Iterations Completed]"
          ]
        },
        {
          "output_type": "stream",
          "name": "stdout",
          "text": [
            "cleaned_data----------------------------------------- True\n",
            "1/1 [==============================] - 0s 10ms/step - loss: 5.1703 - accuracy: 0.0357\n"
          ]
        },
        {
          "output_type": "stream",
          "name": "stderr",
          "text": [
            "WARNING:absl:Found untraced functions such as _update_step_xla while saving (showing 1 of 1). These functions will not be directly callable after loading.\n",
            "\n",
            "                                                                                      \n",
            "100%|██████████| 84/84 [00:00<00:00,  7.66it/s]\u001b[A\n",
            "100%|██████████| 84/84 [00:00<00:00,  7.66it/s, iterations=84/84 Iterations Completed]\u001b[A"
          ]
        },
        {
          "output_type": "stream",
          "name": "stdout",
          "text": [
            "cleaned_data----------------------------------------- True\n",
            "1/1 [==============================] - 0s 12ms/step - loss: 4.1997 - accuracy: 0.2500\n"
          ]
        },
        {
          "output_type": "stream",
          "name": "stderr",
          "text": [
            "WARNING:absl:Found untraced functions such as _update_step_xla while saving (showing 1 of 1). These functions will not be directly callable after loading.\n",
            " 99%|█████████▉| 84/85 [00:00<?, ?it/s]\n",
            "100%|██████████| 85/85 [00:00<00:00,  7.93it/s, iterations=85/85 Iterations Completed]"
          ]
        },
        {
          "output_type": "stream",
          "name": "stdout",
          "text": [
            "cleaned_data----------------------------------------- True\n",
            "1/1 [==============================] - 0s 13ms/step - loss: 1.4654 - accuracy: 0.8214\n"
          ]
        },
        {
          "output_type": "stream",
          "name": "stderr",
          "text": [
            "WARNING:absl:Found untraced functions such as _update_step_xla while saving (showing 1 of 1). These functions will not be directly callable after loading.\n",
            "\n",
            "                                                                                      \n",
            "100%|██████████| 86/86 [00:00<00:00,  8.50it/s]\u001b[A\n",
            "100%|██████████| 86/86 [00:00<00:00,  8.50it/s, iterations=86/86 Iterations Completed]\u001b[A"
          ]
        },
        {
          "output_type": "stream",
          "name": "stdout",
          "text": [
            "cleaned_data----------------------------------------- True\n",
            "1/1 [==============================] - 0s 16ms/step - loss: 1.4033 - accuracy: 1.0000\n"
          ]
        },
        {
          "output_type": "stream",
          "name": "stderr",
          "text": [
            "WARNING:absl:Found untraced functions such as _update_step_xla while saving (showing 1 of 1). These functions will not be directly callable after loading.\n",
            " 99%|█████████▉| 86/87 [00:00<?, ?it/s]\n",
            "100%|██████████| 87/87 [00:00<00:00,  7.59it/s, iterations=87/87 Iterations Completed]"
          ]
        },
        {
          "output_type": "stream",
          "name": "stdout",
          "text": [
            "cleaned_data----------------------------------------- True\n",
            "1/1 [==============================] - 0s 10ms/step - loss: 1.3822 - accuracy: 1.0000\n"
          ]
        },
        {
          "output_type": "stream",
          "name": "stderr",
          "text": [
            "WARNING:absl:Found untraced functions such as _update_step_xla while saving (showing 1 of 1). These functions will not be directly callable after loading.\n",
            "\n",
            "                                                                                      \n",
            "100%|██████████| 88/88 [00:00<00:00,  8.00it/s]\u001b[A\n",
            "100%|██████████| 88/88 [00:00<00:00,  8.00it/s, iterations=88/88 Iterations Completed]\u001b[A"
          ]
        },
        {
          "output_type": "stream",
          "name": "stdout",
          "text": [
            "cleaned_data----------------------------------------- True\n",
            "1/1 [==============================] - 0s 15ms/step - loss: 2.0047 - accuracy: 1.0000\n"
          ]
        },
        {
          "output_type": "stream",
          "name": "stderr",
          "text": [
            "WARNING:absl:Found untraced functions such as _update_step_xla while saving (showing 1 of 1). These functions will not be directly callable after loading.\n",
            " 99%|█████████▉| 88/89 [00:00<?, ?it/s]\n",
            "100%|██████████| 89/89 [00:00<00:00,  4.55it/s, iterations=89/89 Iterations Completed]"
          ]
        },
        {
          "output_type": "stream",
          "name": "stdout",
          "text": [
            "cleaned_data----------------------------------------- True\n",
            "1/1 [==============================] - 0s 11ms/step - loss: 2.4114 - accuracy: 1.0000\n"
          ]
        },
        {
          "output_type": "stream",
          "name": "stderr",
          "text": [
            "WARNING:absl:Found untraced functions such as _update_step_xla while saving (showing 1 of 1). These functions will not be directly callable after loading.\n",
            "\n",
            "                                                                                      \n",
            "100%|██████████| 90/90 [00:00<00:00,  5.14it/s]\u001b[A\n",
            "100%|██████████| 90/90 [00:00<00:00,  5.14it/s, iterations=90/90 Iterations Completed]\u001b[A"
          ]
        },
        {
          "output_type": "stream",
          "name": "stdout",
          "text": [
            "cleaned_data----------------------------------------- True\n",
            "1/1 [==============================] - 0s 10ms/step - loss: 2.5901 - accuracy: 1.0000\n"
          ]
        },
        {
          "output_type": "stream",
          "name": "stderr",
          "text": [
            "WARNING:absl:Found untraced functions such as _update_step_xla while saving (showing 1 of 1). These functions will not be directly callable after loading.\n",
            " 99%|█████████▉| 90/91 [00:00<?, ?it/s]\n",
            "100%|██████████| 91/91 [00:00<00:00,  7.73it/s, iterations=91/91 Iterations Completed]"
          ]
        },
        {
          "output_type": "stream",
          "name": "stdout",
          "text": [
            "cleaned_data----------------------------------------- True\n",
            "1/1 [==============================] - 0s 13ms/step - loss: 2.8671 - accuracy: 1.0000\n"
          ]
        },
        {
          "output_type": "stream",
          "name": "stderr",
          "text": [
            "WARNING:absl:Found untraced functions such as _update_step_xla while saving (showing 1 of 1). These functions will not be directly callable after loading.\n",
            "\n",
            "                                                                                      \n",
            "100%|██████████| 92/92 [00:00<00:00,  8.31it/s]\u001b[A\n",
            "100%|██████████| 92/92 [00:00<00:00,  8.31it/s, iterations=92/92 Iterations Completed]\u001b[A"
          ]
        },
        {
          "output_type": "stream",
          "name": "stdout",
          "text": [
            "cleaned_data----------------------------------------- True\n",
            "1/1 [==============================] - 0s 14ms/step - loss: 3.4434 - accuracy: 1.0000\n"
          ]
        },
        {
          "output_type": "stream",
          "name": "stderr",
          "text": [
            "WARNING:absl:Found untraced functions such as _update_step_xla while saving (showing 1 of 1). These functions will not be directly callable after loading.\n",
            " 99%|█████████▉| 92/93 [00:00<?, ?it/s]\n",
            "100%|██████████| 93/93 [00:00<00:00,  6.89it/s, iterations=93/93 Iterations Completed]"
          ]
        },
        {
          "output_type": "stream",
          "name": "stdout",
          "text": [
            "cleaned_data----------------------------------------- True\n",
            "1/1 [==============================] - 0s 10ms/step - loss: 3.3125 - accuracy: 1.0000\n"
          ]
        },
        {
          "output_type": "stream",
          "name": "stderr",
          "text": [
            "WARNING:absl:Found untraced functions such as _update_step_xla while saving (showing 1 of 1). These functions will not be directly callable after loading.\n",
            "\n",
            "                                                                                      \n",
            "100%|██████████| 94/94 [00:00<00:00,  8.22it/s]\u001b[A\n",
            "100%|██████████| 94/94 [00:00<00:00,  8.22it/s, iterations=94/94 Iterations Completed]\u001b[A"
          ]
        },
        {
          "output_type": "stream",
          "name": "stdout",
          "text": [
            "cleaned_data----------------------------------------- True\n",
            "1/1 [==============================] - 0s 10ms/step - loss: 3.2021 - accuracy: 1.0000\n"
          ]
        },
        {
          "output_type": "stream",
          "name": "stderr",
          "text": [
            "WARNING:absl:Found untraced functions such as _update_step_xla while saving (showing 1 of 1). These functions will not be directly callable after loading.\n",
            " 99%|█████████▉| 94/95 [00:00<?, ?it/s]\n",
            "100%|██████████| 95/95 [00:00<00:00,  7.73it/s, iterations=95/95 Iterations Completed]"
          ]
        },
        {
          "output_type": "stream",
          "name": "stdout",
          "text": [
            "cleaned_data----------------------------------------- True\n",
            "1/1 [==============================] - 0s 13ms/step - loss: 3.2737 - accuracy: 1.0000\n"
          ]
        },
        {
          "output_type": "stream",
          "name": "stderr",
          "text": [
            "WARNING:absl:Found untraced functions such as _update_step_xla while saving (showing 1 of 1). These functions will not be directly callable after loading.\n",
            "\n",
            "                                                                                      \n",
            "100%|██████████| 96/96 [00:00<00:00,  6.62it/s]\u001b[A\n",
            "100%|██████████| 96/96 [00:00<00:00,  6.62it/s, iterations=96/96 Iterations Completed]\u001b[A"
          ]
        },
        {
          "output_type": "stream",
          "name": "stdout",
          "text": [
            "cleaned_data----------------------------------------- True\n",
            "1/1 [==============================] - 0s 9ms/step - loss: 3.1581 - accuracy: 1.0000\n"
          ]
        },
        {
          "output_type": "stream",
          "name": "stderr",
          "text": [
            "WARNING:absl:Found untraced functions such as _update_step_xla while saving (showing 1 of 1). These functions will not be directly callable after loading.\n",
            " 99%|█████████▉| 96/97 [00:00<?, ?it/s]\n",
            "100%|██████████| 97/97 [00:00<00:00,  7.50it/s, iterations=97/97 Iterations Completed]"
          ]
        },
        {
          "output_type": "stream",
          "name": "stdout",
          "text": [
            "cleaned_data----------------------------------------- True\n",
            "1/1 [==============================] - 0s 15ms/step - loss: 3.1515 - accuracy: 1.0000\n"
          ]
        },
        {
          "output_type": "stream",
          "name": "stderr",
          "text": [
            "WARNING:absl:Found untraced functions such as _update_step_xla while saving (showing 1 of 1). These functions will not be directly callable after loading.\n",
            "\n",
            "                                                                                      \n",
            "100%|██████████| 98/98 [00:00<00:00,  7.45it/s]\u001b[A\n",
            "100%|██████████| 98/98 [00:00<00:00,  7.45it/s, iterations=98/98 Iterations Completed]\u001b[A"
          ]
        },
        {
          "output_type": "stream",
          "name": "stdout",
          "text": [
            "cleaned_data----------------------------------------- True\n",
            "1/1 [==============================] - 0s 9ms/step - loss: 3.2012 - accuracy: 1.0000\n"
          ]
        },
        {
          "output_type": "stream",
          "name": "stderr",
          "text": [
            "WARNING:absl:Found untraced functions such as _update_step_xla while saving (showing 1 of 1). These functions will not be directly callable after loading.\n",
            " 99%|█████████▉| 98/99 [00:00<?, ?it/s]\n",
            "100%|██████████| 99/99 [00:00<00:00,  6.95it/s, iterations=99/99 Iterations Completed]"
          ]
        },
        {
          "output_type": "stream",
          "name": "stdout",
          "text": [
            "cleaned_data----------------------------------------- True\n",
            "1/1 [==============================] - 0s 9ms/step - loss: 2.9617 - accuracy: 1.0000\n"
          ]
        },
        {
          "output_type": "stream",
          "name": "stderr",
          "text": [
            "WARNING:absl:Found untraced functions such as _update_step_xla while saving (showing 1 of 1). These functions will not be directly callable after loading.\n",
            "\n",
            "                                                                                      \n",
            "100%|██████████| 100/100 [00:00<00:00,  5.69it/s]\u001b[A\n",
            "100%|██████████| 100/100 [00:00<00:00,  5.69it/s, iterations=100/100 Iterations Completed]\u001b[A"
          ]
        },
        {
          "output_type": "stream",
          "name": "stdout",
          "text": [
            "cleaned_data----------------------------------------- True\n",
            "1/1 [==============================] - 0s 11ms/step - loss: 3.0079 - accuracy: 1.0000\n"
          ]
        },
        {
          "output_type": "stream",
          "name": "stderr",
          "text": [
            "WARNING:absl:Found untraced functions such as _update_step_xla while saving (showing 1 of 1). These functions will not be directly callable after loading.\n",
            " 99%|█████████▉| 100/101 [00:00<?, ?it/s]\n",
            "100%|██████████| 101/101 [00:00<00:00,  6.06it/s, iterations=101/101 Iterations Completed]"
          ]
        },
        {
          "output_type": "stream",
          "name": "stdout",
          "text": [
            "cleaned_data----------------------------------------- True\n",
            "1/1 [==============================] - 0s 13ms/step - loss: 2.9088 - accuracy: 1.0000\n"
          ]
        },
        {
          "output_type": "stream",
          "name": "stderr",
          "text": [
            "WARNING:absl:Found untraced functions such as _update_step_xla while saving (showing 1 of 1). These functions will not be directly callable after loading.\n",
            "\n",
            "                                                                                          \n",
            "100%|██████████| 102/102 [00:00<00:00,  5.24it/s]\u001b[A\n",
            "100%|██████████| 102/102 [00:00<00:00,  5.24it/s, iterations=102/102 Iterations Completed]\u001b[A"
          ]
        },
        {
          "output_type": "stream",
          "name": "stdout",
          "text": [
            "cleaned_data----------------------------------------- True\n",
            "1/1 [==============================] - 0s 10ms/step - loss: 2.9150 - accuracy: 1.0000\n"
          ]
        },
        {
          "output_type": "stream",
          "name": "stderr",
          "text": [
            "WARNING:absl:Found untraced functions such as _update_step_xla while saving (showing 1 of 1). These functions will not be directly callable after loading.\n",
            " 99%|█████████▉| 102/103 [00:00<?, ?it/s]\n",
            "100%|██████████| 103/103 [00:00<00:00,  7.52it/s, iterations=103/103 Iterations Completed]"
          ]
        },
        {
          "output_type": "stream",
          "name": "stdout",
          "text": [
            "cleaned_data----------------------------------------- True\n",
            "1/1 [==============================] - 0s 10ms/step - loss: 2.9108 - accuracy: 1.0000\n"
          ]
        },
        {
          "output_type": "stream",
          "name": "stderr",
          "text": [
            "WARNING:absl:Found untraced functions such as _update_step_xla while saving (showing 1 of 1). These functions will not be directly callable after loading.\n",
            "\n",
            "                                                                                          \n",
            "100%|██████████| 104/104 [00:00<00:00,  8.05it/s]\u001b[A\n",
            "100%|██████████| 104/104 [00:00<00:00,  8.05it/s, iterations=104/104 Iterations Completed]\u001b[A"
          ]
        },
        {
          "output_type": "stream",
          "name": "stdout",
          "text": [
            "cleaned_data----------------------------------------- True\n",
            "1/1 [==============================] - 0s 9ms/step - loss: 2.7093 - accuracy: 1.0000\n"
          ]
        },
        {
          "output_type": "stream",
          "name": "stderr",
          "text": [
            "WARNING:absl:Found untraced functions such as _update_step_xla while saving (showing 1 of 1). These functions will not be directly callable after loading.\n",
            " 99%|█████████▉| 104/105 [00:00<?, ?it/s]\n",
            "100%|██████████| 105/105 [00:00<00:00,  7.25it/s, iterations=105/105 Iterations Completed]"
          ]
        },
        {
          "output_type": "stream",
          "name": "stdout",
          "text": [
            "cleaned_data----------------------------------------- True\n",
            "1/1 [==============================] - 0s 11ms/step - loss: 2.6578 - accuracy: 1.0000\n"
          ]
        },
        {
          "output_type": "stream",
          "name": "stderr",
          "text": [
            "WARNING:absl:Found untraced functions such as _update_step_xla while saving (showing 1 of 1). These functions will not be directly callable after loading.\n",
            "\n",
            "                                                                                          \n",
            "100%|██████████| 106/106 [00:00<00:00,  7.62it/s]\u001b[A\n",
            "100%|██████████| 106/106 [00:00<00:00,  7.62it/s, iterations=106/106 Iterations Completed]\u001b[A"
          ]
        },
        {
          "output_type": "stream",
          "name": "stdout",
          "text": [
            "cleaned_data----------------------------------------- True\n",
            "1/1 [==============================] - 0s 12ms/step - loss: 2.7053 - accuracy: 1.0000\n"
          ]
        },
        {
          "output_type": "stream",
          "name": "stderr",
          "text": [
            "WARNING:absl:Found untraced functions such as _update_step_xla while saving (showing 1 of 1). These functions will not be directly callable after loading.\n",
            " 99%|█████████▉| 106/107 [00:00<?, ?it/s]\n",
            "100%|██████████| 107/107 [00:00<00:00,  7.76it/s, iterations=107/107 Iterations Completed]"
          ]
        },
        {
          "output_type": "stream",
          "name": "stdout",
          "text": [
            "cleaned_data----------------------------------------- True\n",
            "1/1 [==============================] - 0s 11ms/step - loss: 2.5628 - accuracy: 1.0000\n"
          ]
        },
        {
          "output_type": "stream",
          "name": "stderr",
          "text": [
            "WARNING:absl:Found untraced functions such as _update_step_xla while saving (showing 1 of 1). These functions will not be directly callable after loading.\n",
            "\n",
            "                                                                                          \n",
            "100%|██████████| 108/108 [00:00<00:00,  8.01it/s]\u001b[A\n",
            "100%|██████████| 108/108 [00:00<00:00,  8.01it/s, iterations=108/108 Iterations Completed]\u001b[A"
          ]
        },
        {
          "output_type": "stream",
          "name": "stdout",
          "text": [
            "cleaned_data----------------------------------------- True\n",
            "1/1 [==============================] - 0s 10ms/step - loss: 2.6367 - accuracy: 1.0000\n"
          ]
        },
        {
          "output_type": "stream",
          "name": "stderr",
          "text": [
            "WARNING:absl:Found untraced functions such as _update_step_xla while saving (showing 1 of 1). These functions will not be directly callable after loading.\n",
            " 99%|█████████▉| 108/109 [00:00<?, ?it/s]\n",
            "100%|██████████| 109/109 [00:00<00:00,  7.58it/s, iterations=109/109 Iterations Completed]"
          ]
        },
        {
          "output_type": "stream",
          "name": "stdout",
          "text": [
            "cleaned_data----------------------------------------- True\n",
            "1/1 [==============================] - 0s 10ms/step - loss: 2.4423 - accuracy: 1.0000\n"
          ]
        },
        {
          "output_type": "stream",
          "name": "stderr",
          "text": [
            "WARNING:absl:Found untraced functions such as _update_step_xla while saving (showing 1 of 1). These functions will not be directly callable after loading.\n",
            "\n",
            "                                                                                          \n",
            "100%|██████████| 110/110 [00:00<00:00,  8.44it/s]\u001b[A\n",
            "100%|██████████| 110/110 [00:00<00:00,  8.44it/s, iterations=110/110 Iterations Completed]\u001b[A"
          ]
        },
        {
          "output_type": "stream",
          "name": "stdout",
          "text": [
            "cleaned_data----------------------------------------- True\n",
            "1/1 [==============================] - 0s 15ms/step - loss: 2.3847 - accuracy: 1.0000\n"
          ]
        },
        {
          "output_type": "stream",
          "name": "stderr",
          "text": [
            "WARNING:absl:Found untraced functions such as _update_step_xla while saving (showing 1 of 1). These functions will not be directly callable after loading.\n",
            " 99%|█████████▉| 110/111 [00:00<?, ?it/s]\n",
            "100%|██████████| 111/111 [00:00<00:00,  8.19it/s, iterations=111/111 Iterations Completed]"
          ]
        },
        {
          "output_type": "stream",
          "name": "stdout",
          "text": [
            "cleaned_data----------------------------------------- True\n",
            "1/1 [==============================] - 0s 17ms/step - loss: 2.3006 - accuracy: 1.0000\n"
          ]
        },
        {
          "output_type": "stream",
          "name": "stderr",
          "text": [
            "WARNING:absl:Found untraced functions such as _update_step_xla while saving (showing 1 of 1). These functions will not be directly callable after loading.\n",
            "\n",
            "                                                                                          \n",
            "100%|██████████| 112/112 [00:00<00:00,  5.42it/s]\u001b[A\n",
            "100%|██████████| 112/112 [00:00<00:00,  5.42it/s, iterations=112/112 Iterations Completed]\u001b[A"
          ]
        },
        {
          "output_type": "stream",
          "name": "stdout",
          "text": [
            "cleaned_data----------------------------------------- True\n",
            "1/1 [==============================] - 0s 11ms/step - loss: 2.2294 - accuracy: 1.0000\n"
          ]
        },
        {
          "output_type": "stream",
          "name": "stderr",
          "text": [
            "WARNING:absl:Found untraced functions such as _update_step_xla while saving (showing 1 of 1). These functions will not be directly callable after loading.\n",
            " 99%|█████████▉| 112/113 [00:00<?, ?it/s]\n",
            "100%|██████████| 113/113 [00:00<00:00,  4.97it/s, iterations=113/113 Iterations Completed]"
          ]
        },
        {
          "output_type": "stream",
          "name": "stdout",
          "text": [
            "cleaned_data----------------------------------------- True\n",
            "1/1 [==============================] - 0s 12ms/step - loss: 1.9161 - accuracy: 1.0000\n"
          ]
        },
        {
          "output_type": "stream",
          "name": "stderr",
          "text": [
            "WARNING:absl:Found untraced functions such as _update_step_xla while saving (showing 1 of 1). These functions will not be directly callable after loading.\n",
            "\n",
            "                                                                                          \n",
            "100%|██████████| 114/114 [00:00<00:00,  8.33it/s]\u001b[A\n",
            "100%|██████████| 114/114 [00:00<00:00,  8.33it/s, iterations=114/114 Iterations Completed]\u001b[A"
          ]
        },
        {
          "output_type": "stream",
          "name": "stdout",
          "text": [
            "cleaned_data----------------------------------------- True\n",
            "1/1 [==============================] - 0s 12ms/step - loss: 1.7778 - accuracy: 1.0000\n"
          ]
        },
        {
          "output_type": "stream",
          "name": "stderr",
          "text": [
            "WARNING:absl:Found untraced functions such as _update_step_xla while saving (showing 1 of 1). These functions will not be directly callable after loading.\n",
            " 99%|█████████▉| 114/115 [00:00<?, ?it/s]\n",
            "100%|██████████| 115/115 [00:00<00:00,  6.82it/s, iterations=115/115 Iterations Completed]"
          ]
        },
        {
          "output_type": "stream",
          "name": "stdout",
          "text": [
            "cleaned_data----------------------------------------- True\n",
            "1/1 [==============================] - 0s 10ms/step - loss: 1.5771 - accuracy: 1.0000\n"
          ]
        },
        {
          "output_type": "stream",
          "name": "stderr",
          "text": [
            "WARNING:absl:Found untraced functions such as _update_step_xla while saving (showing 1 of 1). These functions will not be directly callable after loading.\n",
            "\n",
            "                                                                                          \n",
            "100%|██████████| 116/116 [00:00<00:00,  8.01it/s]\u001b[A\n",
            "100%|██████████| 116/116 [00:00<00:00,  8.01it/s, iterations=116/116 Iterations Completed]\u001b[A"
          ]
        },
        {
          "output_type": "stream",
          "name": "stdout",
          "text": [
            "cleaned_data----------------------------------------- True\n",
            "1/1 [==============================] - 0s 11ms/step - loss: 1.4131 - accuracy: 1.0000\n"
          ]
        },
        {
          "output_type": "stream",
          "name": "stderr",
          "text": [
            "WARNING:absl:Found untraced functions such as _update_step_xla while saving (showing 1 of 1). These functions will not be directly callable after loading.\n",
            " 99%|█████████▉| 116/117 [00:00<?, ?it/s]\n",
            "100%|██████████| 117/117 [00:00<00:00,  7.52it/s, iterations=117/117 Iterations Completed]"
          ]
        },
        {
          "output_type": "stream",
          "name": "stdout",
          "text": [
            "cleaned_data----------------------------------------- True\n",
            "1/1 [==============================] - 0s 15ms/step - loss: 1.3429 - accuracy: 1.0000\n"
          ]
        },
        {
          "output_type": "stream",
          "name": "stderr",
          "text": [
            "WARNING:absl:Found untraced functions such as _update_step_xla while saving (showing 1 of 1). These functions will not be directly callable after loading.\n",
            "\n",
            "                                                                                          \n",
            "100%|██████████| 118/118 [00:00<00:00,  7.39it/s]\u001b[A\n",
            "100%|██████████| 118/118 [00:00<00:00,  7.39it/s, iterations=118/118 Iterations Completed]\u001b[A"
          ]
        },
        {
          "output_type": "stream",
          "name": "stdout",
          "text": [
            "cleaned_data----------------------------------------- True\n",
            "1/1 [==============================] - 0s 15ms/step - loss: 1.2712 - accuracy: 1.0000\n"
          ]
        },
        {
          "output_type": "stream",
          "name": "stderr",
          "text": [
            "WARNING:absl:Found untraced functions such as _update_step_xla while saving (showing 1 of 1). These functions will not be directly callable after loading.\n",
            " 99%|█████████▉| 118/119 [00:00<?, ?it/s]\n",
            "100%|██████████| 119/119 [00:00<00:00,  7.14it/s, iterations=119/119 Iterations Completed]"
          ]
        },
        {
          "output_type": "stream",
          "name": "stdout",
          "text": [
            "cleaned_data----------------------------------------- True\n",
            "1/1 [==============================] - 0s 12ms/step - loss: 1.3609 - accuracy: 1.0000\n"
          ]
        },
        {
          "output_type": "stream",
          "name": "stderr",
          "text": [
            "WARNING:absl:Found untraced functions such as _update_step_xla while saving (showing 1 of 1). These functions will not be directly callable after loading.\n",
            "\n",
            "                                                                                          \n",
            "100%|██████████| 120/120 [00:00<00:00,  7.55it/s]\u001b[A\n",
            "100%|██████████| 120/120 [00:00<00:00,  7.55it/s, iterations=120/120 Iterations Completed]\u001b[A"
          ]
        },
        {
          "output_type": "stream",
          "name": "stdout",
          "text": [
            "cleaned_data----------------------------------------- True\n",
            "1/1 [==============================] - 0s 11ms/step - loss: 1.2052 - accuracy: 1.0000\n"
          ]
        },
        {
          "output_type": "stream",
          "name": "stderr",
          "text": [
            "WARNING:absl:Found untraced functions such as _update_step_xla while saving (showing 1 of 1). These functions will not be directly callable after loading.\n",
            " 99%|█████████▉| 120/121 [00:00<?, ?it/s]\n",
            "100%|██████████| 121/121 [00:00<00:00,  7.73it/s, iterations=121/121 Iterations Completed]"
          ]
        },
        {
          "output_type": "stream",
          "name": "stdout",
          "text": [
            "cleaned_data----------------------------------------- True\n",
            "1/1 [==============================] - 0s 10ms/step - loss: 1.1260 - accuracy: 1.0000\n"
          ]
        },
        {
          "output_type": "stream",
          "name": "stderr",
          "text": [
            "WARNING:absl:Found untraced functions such as _update_step_xla while saving (showing 1 of 1). These functions will not be directly callable after loading.\n",
            "\n",
            "                                                                                          \n",
            "100%|██████████| 122/122 [00:00<00:00,  7.72it/s]\u001b[A\n",
            "100%|██████████| 122/122 [00:00<00:00,  7.72it/s, iterations=122/122 Iterations Completed]\u001b[A"
          ]
        },
        {
          "output_type": "stream",
          "name": "stdout",
          "text": [
            "cleaned_data----------------------------------------- True\n",
            "1/1 [==============================] - 0s 10ms/step - loss: 1.2374 - accuracy: 1.0000\n"
          ]
        },
        {
          "output_type": "stream",
          "name": "stderr",
          "text": [
            "WARNING:absl:Found untraced functions such as _update_step_xla while saving (showing 1 of 1). These functions will not be directly callable after loading.\n",
            " 99%|█████████▉| 122/123 [00:00<?, ?it/s]\n",
            "100%|██████████| 123/123 [00:00<00:00,  5.79it/s, iterations=123/123 Iterations Completed]"
          ]
        },
        {
          "output_type": "stream",
          "name": "stdout",
          "text": [
            "cleaned_data----------------------------------------- True\n",
            "1/1 [==============================] - 0s 35ms/step - loss: 0.8038 - accuracy: 1.0000\n"
          ]
        },
        {
          "output_type": "stream",
          "name": "stderr",
          "text": [
            "WARNING:absl:Found untraced functions such as _update_step_xla while saving (showing 1 of 1). These functions will not be directly callable after loading.\n",
            "\n",
            "\n",
            "100%|██████████| 124/124 [00:00<00:00,  4.86it/s]\u001b[A\n",
            "100%|██████████| 124/124 [00:00<00:00,  4.86it/s, iterations=124/124 Iterations Completed]\u001b[A"
          ]
        },
        {
          "output_type": "stream",
          "name": "stdout",
          "text": [
            "cleaned_data----------------------------------------- True\n",
            "1/1 [==============================] - 0s 13ms/step - loss: 0.6326 - accuracy: 1.0000\n"
          ]
        },
        {
          "output_type": "stream",
          "name": "stderr",
          "text": [
            "WARNING:absl:Found untraced functions such as _update_step_xla while saving (showing 1 of 1). These functions will not be directly callable after loading.\n",
            " 99%|█████████▉| 124/125 [00:00<?, ?it/s]\n",
            "100%|██████████| 125/125 [00:00<00:00,  6.77it/s, iterations=125/125 Iterations Completed]"
          ]
        },
        {
          "output_type": "stream",
          "name": "stdout",
          "text": [
            "cleaned_data----------------------------------------- True\n",
            "1/1 [==============================] - 0s 10ms/step - loss: 0.5902 - accuracy: 0.9286\n"
          ]
        },
        {
          "output_type": "stream",
          "name": "stderr",
          "text": [
            "WARNING:absl:Found untraced functions such as _update_step_xla while saving (showing 1 of 1). These functions will not be directly callable after loading.\n",
            "\n",
            "                                                                                          \n",
            "100%|██████████| 126/126 [00:00<00:00,  6.03it/s]\u001b[A\n",
            "100%|██████████| 126/126 [00:00<00:00,  6.03it/s, iterations=126/126 Iterations Completed]\u001b[A"
          ]
        },
        {
          "output_type": "stream",
          "name": "stdout",
          "text": [
            "cleaned_data----------------------------------------- True\n",
            "1/1 [==============================] - 0s 14ms/step - loss: 0.7021 - accuracy: 0.8571\n"
          ]
        },
        {
          "output_type": "stream",
          "name": "stderr",
          "text": [
            "WARNING:absl:Found untraced functions such as _update_step_xla while saving (showing 1 of 1). These functions will not be directly callable after loading.\n",
            " 99%|█████████▉| 126/127 [00:00<?, ?it/s]\n",
            "100%|██████████| 127/127 [00:00<00:00,  7.67it/s, iterations=127/127 Iterations Completed]"
          ]
        },
        {
          "output_type": "stream",
          "name": "stdout",
          "text": [
            "cleaned_data----------------------------------------- True\n",
            "1/1 [==============================] - 0s 10ms/step - loss: 1.7703 - accuracy: 0.0714\n"
          ]
        },
        {
          "output_type": "stream",
          "name": "stderr",
          "text": [
            "WARNING:absl:Found untraced functions such as _update_step_xla while saving (showing 1 of 1). These functions will not be directly callable after loading.\n",
            "\n",
            "                                                                                          \n",
            "100%|██████████| 128/128 [00:00<00:00,  7.66it/s]\u001b[A\n",
            "100%|██████████| 128/128 [00:00<00:00,  7.66it/s, iterations=128/128 Iterations Completed]\u001b[A"
          ]
        },
        {
          "output_type": "stream",
          "name": "stdout",
          "text": [
            "cleaned_data----------------------------------------- True\n",
            "1/1 [==============================] - 0s 9ms/step - loss: 4.4684 - accuracy: 0.0000e+00\n"
          ]
        },
        {
          "output_type": "stream",
          "name": "stderr",
          "text": [
            "WARNING:absl:Found untraced functions such as _update_step_xla while saving (showing 1 of 1). These functions will not be directly callable after loading.\n",
            " 99%|█████████▉| 128/129 [00:00<?, ?it/s]\n",
            "100%|██████████| 129/129 [00:00<00:00,  7.03it/s, iterations=129/129 Iterations Completed]"
          ]
        },
        {
          "output_type": "stream",
          "name": "stdout",
          "text": [
            "cleaned_data----------------------------------------- True\n",
            "1/1 [==============================] - 0s 10ms/step - loss: 3.1050 - accuracy: 0.2143\n"
          ]
        },
        {
          "output_type": "stream",
          "name": "stderr",
          "text": [
            "WARNING:absl:Found untraced functions such as _update_step_xla while saving (showing 1 of 1). These functions will not be directly callable after loading.\n",
            "\n",
            "                                                                                          \n",
            "100%|██████████| 130/130 [00:00<00:00,  6.78it/s]\u001b[A\n",
            "100%|██████████| 130/130 [00:00<00:00,  6.78it/s, iterations=130/130 Iterations Completed]\u001b[A"
          ]
        },
        {
          "output_type": "stream",
          "name": "stdout",
          "text": [
            "cleaned_data----------------------------------------- True\n",
            "1/1 [==============================] - 0s 10ms/step - loss: 1.9875 - accuracy: 0.2143\n"
          ]
        },
        {
          "output_type": "stream",
          "name": "stderr",
          "text": [
            "WARNING:absl:Found untraced functions such as _update_step_xla while saving (showing 1 of 1). These functions will not be directly callable after loading.\n",
            " 99%|█████████▉| 130/131 [00:00<?, ?it/s]\n",
            "100%|██████████| 131/131 [00:00<00:00,  6.89it/s, iterations=131/131 Iterations Completed]"
          ]
        },
        {
          "output_type": "stream",
          "name": "stdout",
          "text": [
            "cleaned_data----------------------------------------- True\n",
            "1/1 [==============================] - 0s 13ms/step - loss: 0.9179 - accuracy: 0.5714\n"
          ]
        },
        {
          "output_type": "stream",
          "name": "stderr",
          "text": [
            "WARNING:absl:Found untraced functions such as _update_step_xla while saving (showing 1 of 1). These functions will not be directly callable after loading.\n",
            "\n",
            "                                                                                          \n",
            "100%|██████████| 132/132 [00:00<00:00,  7.31it/s]\u001b[A\n",
            "100%|██████████| 132/132 [00:00<00:00,  7.31it/s, iterations=132/132 Iterations Completed]\u001b[A"
          ]
        },
        {
          "output_type": "stream",
          "name": "stdout",
          "text": [
            "cleaned_data----------------------------------------- True\n",
            "1/1 [==============================] - 0s 10ms/step - loss: 1.0588 - accuracy: 0.9286\n"
          ]
        },
        {
          "output_type": "stream",
          "name": "stderr",
          "text": [
            "WARNING:absl:Found untraced functions such as _update_step_xla while saving (showing 1 of 1). These functions will not be directly callable after loading.\n",
            " 99%|█████████▉| 132/133 [00:00<?, ?it/s]\n",
            "100%|██████████| 133/133 [00:00<00:00,  6.60it/s, iterations=133/133 Iterations Completed]"
          ]
        },
        {
          "output_type": "stream",
          "name": "stdout",
          "text": [
            "cleaned_data----------------------------------------- True\n",
            "1/1 [==============================] - 0s 11ms/step - loss: 0.5609 - accuracy: 1.0000\n"
          ]
        },
        {
          "output_type": "stream",
          "name": "stderr",
          "text": [
            "WARNING:absl:Found untraced functions such as _update_step_xla while saving (showing 1 of 1). These functions will not be directly callable after loading.\n",
            "\n",
            "\n",
            "100%|██████████| 134/134 [00:00<00:00,  5.14it/s]\u001b[A\n",
            "100%|██████████| 134/134 [00:00<00:00,  5.14it/s, iterations=134/134 Iterations Completed]\u001b[A"
          ]
        },
        {
          "output_type": "stream",
          "name": "stdout",
          "text": [
            "cleaned_data----------------------------------------- True\n",
            "1/1 [==============================] - 0s 10ms/step - loss: 0.5281 - accuracy: 1.0000\n"
          ]
        },
        {
          "output_type": "stream",
          "name": "stderr",
          "text": [
            "WARNING:absl:Found untraced functions such as _update_step_xla while saving (showing 1 of 1). These functions will not be directly callable after loading.\n",
            " 99%|█████████▉| 134/135 [00:00<?, ?it/s]\n",
            "100%|██████████| 135/135 [00:00<00:00,  5.40it/s, iterations=135/135 Iterations Completed]"
          ]
        },
        {
          "output_type": "stream",
          "name": "stdout",
          "text": [
            "cleaned_data----------------------------------------- True\n",
            "1/1 [==============================] - 0s 14ms/step - loss: 0.6370 - accuracy: 1.0000\n"
          ]
        },
        {
          "output_type": "stream",
          "name": "stderr",
          "text": [
            "WARNING:absl:Found untraced functions such as _update_step_xla while saving (showing 1 of 1). These functions will not be directly callable after loading.\n",
            "\n",
            "                                                                                          \n",
            "100%|██████████| 136/136 [00:00<00:00,  8.53it/s]\u001b[A\n",
            "100%|██████████| 136/136 [00:00<00:00,  8.53it/s, iterations=136/136 Iterations Completed]\u001b[A"
          ]
        },
        {
          "output_type": "stream",
          "name": "stdout",
          "text": [
            "cleaned_data----------------------------------------- True\n",
            "1/1 [==============================] - 0s 9ms/step - loss: 1.0148 - accuracy: 1.0000\n"
          ]
        },
        {
          "output_type": "stream",
          "name": "stderr",
          "text": [
            "WARNING:absl:Found untraced functions such as _update_step_xla while saving (showing 1 of 1). These functions will not be directly callable after loading.\n",
            " 99%|█████████▉| 136/137 [00:00<?, ?it/s]\n",
            "100%|██████████| 137/137 [00:00<00:00,  7.79it/s, iterations=137/137 Iterations Completed]"
          ]
        },
        {
          "output_type": "stream",
          "name": "stdout",
          "text": [
            "cleaned_data----------------------------------------- True\n",
            "1/1 [==============================] - 0s 11ms/step - loss: 1.0396 - accuracy: 1.0000\n"
          ]
        },
        {
          "output_type": "stream",
          "name": "stderr",
          "text": [
            "WARNING:absl:Found untraced functions such as _update_step_xla while saving (showing 1 of 1). These functions will not be directly callable after loading.\n",
            "\n",
            "                                                                                          \n",
            "100%|██████████| 138/138 [00:00<00:00,  7.99it/s]\u001b[A\n",
            "100%|██████████| 138/138 [00:00<00:00,  7.99it/s, iterations=138/138 Iterations Completed]\u001b[A"
          ]
        },
        {
          "output_type": "stream",
          "name": "stdout",
          "text": [
            "cleaned_data----------------------------------------- True\n",
            "1/1 [==============================] - 0s 11ms/step - loss: 1.1540 - accuracy: 1.0000\n"
          ]
        },
        {
          "output_type": "stream",
          "name": "stderr",
          "text": [
            "WARNING:absl:Found untraced functions such as _update_step_xla while saving (showing 1 of 1). These functions will not be directly callable after loading.\n",
            " 99%|█████████▉| 138/139 [00:00<?, ?it/s]\n",
            "100%|██████████| 139/139 [00:00<00:00,  7.76it/s, iterations=139/139 Iterations Completed]"
          ]
        },
        {
          "output_type": "stream",
          "name": "stdout",
          "text": [
            "cleaned_data----------------------------------------- True\n",
            "1/1 [==============================] - 0s 10ms/step - loss: 1.2727 - accuracy: 1.0000\n"
          ]
        },
        {
          "output_type": "stream",
          "name": "stderr",
          "text": [
            "WARNING:absl:Found untraced functions such as _update_step_xla while saving (showing 1 of 1). These functions will not be directly callable after loading.\n",
            "\n",
            "                                                                                          \n",
            "100%|██████████| 140/140 [00:00<00:00,  8.00it/s]\u001b[A\n",
            "100%|██████████| 140/140 [00:00<00:00,  8.00it/s, iterations=140/140 Iterations Completed]\u001b[A"
          ]
        },
        {
          "output_type": "stream",
          "name": "stdout",
          "text": [
            "cleaned_data----------------------------------------- True\n",
            "1/1 [==============================] - 0s 11ms/step - loss: 1.3824 - accuracy: 1.0000\n"
          ]
        },
        {
          "output_type": "stream",
          "name": "stderr",
          "text": [
            "WARNING:absl:Found untraced functions such as _update_step_xla while saving (showing 1 of 1). These functions will not be directly callable after loading.\n",
            " 99%|█████████▉| 140/141 [00:00<?, ?it/s]\n",
            "100%|██████████| 141/141 [00:00<00:00,  7.65it/s, iterations=141/141 Iterations Completed]"
          ]
        },
        {
          "output_type": "stream",
          "name": "stdout",
          "text": [
            "cleaned_data----------------------------------------- True\n",
            "1/1 [==============================] - 0s 10ms/step - loss: 1.4322 - accuracy: 1.0000\n"
          ]
        },
        {
          "output_type": "stream",
          "name": "stderr",
          "text": [
            "WARNING:absl:Found untraced functions such as _update_step_xla while saving (showing 1 of 1). These functions will not be directly callable after loading.\n",
            "\n",
            "                                                                                          \n",
            "100%|██████████| 142/142 [00:00<00:00,  7.21it/s]\u001b[A\n",
            "100%|██████████| 142/142 [00:00<00:00,  7.21it/s, iterations=142/142 Iterations Completed]\u001b[A"
          ]
        },
        {
          "output_type": "stream",
          "name": "stdout",
          "text": [
            "cleaned_data----------------------------------------- True\n",
            "1/1 [==============================] - 0s 10ms/step - loss: 1.6189 - accuracy: 1.0000\n"
          ]
        },
        {
          "output_type": "stream",
          "name": "stderr",
          "text": [
            "WARNING:absl:Found untraced functions such as _update_step_xla while saving (showing 1 of 1). These functions will not be directly callable after loading.\n",
            " 99%|█████████▉| 142/143 [00:00<?, ?it/s]\n",
            "100%|██████████| 143/143 [00:00<00:00,  7.31it/s, iterations=143/143 Iterations Completed]"
          ]
        },
        {
          "output_type": "stream",
          "name": "stdout",
          "text": [
            "cleaned_data----------------------------------------- True\n",
            "1/1 [==============================] - 0s 9ms/step - loss: 1.6787 - accuracy: 1.0000\n"
          ]
        },
        {
          "output_type": "stream",
          "name": "stderr",
          "text": [
            "WARNING:absl:Found untraced functions such as _update_step_xla while saving (showing 1 of 1). These functions will not be directly callable after loading.\n",
            "\n",
            "                                                                                          \n",
            "100%|██████████| 144/144 [00:00<00:00,  7.84it/s]\u001b[A\n",
            "100%|██████████| 144/144 [00:00<00:00,  7.84it/s, iterations=144/144 Iterations Completed]\u001b[A"
          ]
        },
        {
          "output_type": "stream",
          "name": "stdout",
          "text": [
            "cleaned_data----------------------------------------- True\n",
            "1/1 [==============================] - 0s 13ms/step - loss: 1.6116 - accuracy: 1.0000\n"
          ]
        },
        {
          "output_type": "stream",
          "name": "stderr",
          "text": [
            "WARNING:absl:Found untraced functions such as _update_step_xla while saving (showing 1 of 1). These functions will not be directly callable after loading.\n",
            " 99%|█████████▉| 144/145 [00:00<?, ?it/s]\n",
            "100%|██████████| 145/145 [00:00<00:00,  5.59it/s, iterations=145/145 Iterations Completed]"
          ]
        },
        {
          "output_type": "stream",
          "name": "stdout",
          "text": [
            "cleaned_data----------------------------------------- True\n",
            "1/1 [==============================] - 0s 12ms/step - loss: 1.6117 - accuracy: 1.0000\n"
          ]
        },
        {
          "output_type": "stream",
          "name": "stderr",
          "text": [
            "WARNING:absl:Found untraced functions such as _update_step_xla while saving (showing 1 of 1). These functions will not be directly callable after loading.\n",
            "\n",
            "\n",
            "100%|██████████| 146/146 [00:00<00:00,  5.11it/s]\u001b[A\n",
            "100%|██████████| 146/146 [00:00<00:00,  5.11it/s, iterations=146/146 Iterations Completed]\u001b[A"
          ]
        },
        {
          "output_type": "stream",
          "name": "stdout",
          "text": [
            "cleaned_data----------------------------------------- True\n",
            "1/1 [==============================] - 0s 11ms/step - loss: 1.6120 - accuracy: 1.0000\n"
          ]
        },
        {
          "output_type": "stream",
          "name": "stderr",
          "text": [
            "WARNING:absl:Found untraced functions such as _update_step_xla while saving (showing 1 of 1). These functions will not be directly callable after loading.\n",
            " 99%|█████████▉| 146/147 [00:00<?, ?it/s]\n",
            "100%|██████████| 147/147 [00:00<00:00,  7.60it/s, iterations=147/147 Iterations Completed]"
          ]
        },
        {
          "output_type": "stream",
          "name": "stdout",
          "text": [
            "cleaned_data----------------------------------------- True\n",
            "1/1 [==============================] - 0s 10ms/step - loss: 1.5150 - accuracy: 1.0000\n"
          ]
        },
        {
          "output_type": "stream",
          "name": "stderr",
          "text": [
            "WARNING:absl:Found untraced functions such as _update_step_xla while saving (showing 1 of 1). These functions will not be directly callable after loading.\n",
            "\n",
            "                                                                                          \n",
            "100%|██████████| 148/148 [00:00<00:00,  7.97it/s]\u001b[A\n",
            "100%|██████████| 148/148 [00:00<00:00,  7.97it/s, iterations=148/148 Iterations Completed]\u001b[A"
          ]
        },
        {
          "output_type": "stream",
          "name": "stdout",
          "text": [
            "cleaned_data----------------------------------------- True\n",
            "1/1 [==============================] - 0s 10ms/step - loss: 1.5708 - accuracy: 1.0000\n"
          ]
        },
        {
          "output_type": "stream",
          "name": "stderr",
          "text": [
            "WARNING:absl:Found untraced functions such as _update_step_xla while saving (showing 1 of 1). These functions will not be directly callable after loading.\n",
            " 99%|█████████▉| 148/149 [00:00<?, ?it/s]\n",
            "100%|██████████| 149/149 [00:00<00:00,  7.64it/s, iterations=149/149 Iterations Completed]"
          ]
        },
        {
          "output_type": "stream",
          "name": "stdout",
          "text": [
            "cleaned_data----------------------------------------- True\n",
            "1/1 [==============================] - 0s 12ms/step - loss: 1.4887 - accuracy: 1.0000\n"
          ]
        },
        {
          "output_type": "stream",
          "name": "stderr",
          "text": [
            "WARNING:absl:Found untraced functions such as _update_step_xla while saving (showing 1 of 1). These functions will not be directly callable after loading.\n",
            "\n",
            "                                                                                          \n",
            "100%|██████████| 150/150 [00:00<00:00,  7.17it/s]\u001b[A\n",
            "100%|██████████| 150/150 [00:00<00:00,  7.17it/s, iterations=150/150 Iterations Completed]\u001b[A"
          ]
        },
        {
          "output_type": "stream",
          "name": "stdout",
          "text": [
            "cleaned_data----------------------------------------- True\n",
            "1/1 [==============================] - 0s 14ms/step - loss: 1.5219 - accuracy: 1.0000\n"
          ]
        },
        {
          "output_type": "stream",
          "name": "stderr",
          "text": [
            "WARNING:absl:Found untraced functions such as _update_step_xla while saving (showing 1 of 1). These functions will not be directly callable after loading.\n",
            " 99%|█████████▉| 150/151 [00:00<?, ?it/s]\n",
            "100%|██████████| 151/151 [00:00<00:00,  8.13it/s, iterations=151/151 Iterations Completed]"
          ]
        },
        {
          "output_type": "stream",
          "name": "stdout",
          "text": [
            "cleaned_data----------------------------------------- True\n",
            "1/1 [==============================] - 0s 9ms/step - loss: 1.3830 - accuracy: 1.0000\n"
          ]
        },
        {
          "output_type": "stream",
          "name": "stderr",
          "text": [
            "WARNING:absl:Found untraced functions such as _update_step_xla while saving (showing 1 of 1). These functions will not be directly callable after loading.\n",
            "\n",
            "                                                                                          \n",
            "100%|██████████| 152/152 [00:00<00:00,  7.93it/s]\u001b[A\n",
            "100%|██████████| 152/152 [00:00<00:00,  7.93it/s, iterations=152/152 Iterations Completed]\u001b[A"
          ]
        },
        {
          "output_type": "stream",
          "name": "stdout",
          "text": [
            "cleaned_data----------------------------------------- True\n",
            "1/1 [==============================] - 0s 12ms/step - loss: 1.3130 - accuracy: 1.0000\n"
          ]
        },
        {
          "output_type": "stream",
          "name": "stderr",
          "text": [
            "WARNING:absl:Found untraced functions such as _update_step_xla while saving (showing 1 of 1). These functions will not be directly callable after loading.\n",
            " 99%|█████████▉| 152/153 [00:00<?, ?it/s]\n",
            "100%|██████████| 153/153 [00:00<00:00,  7.75it/s, iterations=153/153 Iterations Completed]"
          ]
        },
        {
          "output_type": "stream",
          "name": "stdout",
          "text": [
            "cleaned_data----------------------------------------- True\n",
            "1/1 [==============================] - 0s 11ms/step - loss: 1.3070 - accuracy: 1.0000\n"
          ]
        },
        {
          "output_type": "stream",
          "name": "stderr",
          "text": [
            "WARNING:absl:Found untraced functions such as _update_step_xla while saving (showing 1 of 1). These functions will not be directly callable after loading.\n",
            "\n",
            "                                                                                          \n",
            "100%|██████████| 154/154 [00:00<00:00,  6.28it/s]\u001b[A\n",
            "100%|██████████| 154/154 [00:00<00:00,  6.28it/s, iterations=154/154 Iterations Completed]\u001b[A"
          ]
        },
        {
          "output_type": "stream",
          "name": "stdout",
          "text": [
            "cleaned_data----------------------------------------- True\n",
            "1/1 [==============================] - 0s 11ms/step - loss: 1.1695 - accuracy: 1.0000\n"
          ]
        },
        {
          "output_type": "stream",
          "name": "stderr",
          "text": [
            "WARNING:absl:Found untraced functions such as _update_step_xla while saving (showing 1 of 1). These functions will not be directly callable after loading.\n",
            " 99%|█████████▉| 154/155 [00:00<?, ?it/s]\n",
            "100%|██████████| 155/155 [00:00<00:00,  6.74it/s, iterations=155/155 Iterations Completed]"
          ]
        },
        {
          "output_type": "stream",
          "name": "stdout",
          "text": [
            "cleaned_data----------------------------------------- True\n",
            "1/1 [==============================] - 0s 10ms/step - loss: 1.1663 - accuracy: 1.0000\n"
          ]
        },
        {
          "output_type": "stream",
          "name": "stderr",
          "text": [
            "WARNING:absl:Found untraced functions such as _update_step_xla while saving (showing 1 of 1). These functions will not be directly callable after loading.\n",
            "\n",
            "                                                                                          \n",
            "100%|██████████| 156/156 [00:00<00:00,  5.17it/s]\u001b[A\n",
            "100%|██████████| 156/156 [00:00<00:00,  5.17it/s, iterations=156/156 Iterations Completed]\u001b[A"
          ]
        },
        {
          "output_type": "stream",
          "name": "stdout",
          "text": [
            "cleaned_data----------------------------------------- True\n",
            "1/1 [==============================] - 0s 10ms/step - loss: 0.9737 - accuracy: 1.0000\n"
          ]
        },
        {
          "output_type": "stream",
          "name": "stderr",
          "text": [
            "WARNING:absl:Found untraced functions such as _update_step_xla while saving (showing 1 of 1). These functions will not be directly callable after loading.\n",
            " 99%|█████████▉| 156/157 [00:00<?, ?it/s]\n",
            "100%|██████████| 157/157 [00:00<00:00,  5.26it/s, iterations=157/157 Iterations Completed]"
          ]
        },
        {
          "output_type": "stream",
          "name": "stdout",
          "text": [
            "cleaned_data----------------------------------------- True\n",
            "1/1 [==============================] - 0s 11ms/step - loss: 0.9035 - accuracy: 1.0000\n"
          ]
        },
        {
          "output_type": "stream",
          "name": "stderr",
          "text": [
            "WARNING:absl:Found untraced functions such as _update_step_xla while saving (showing 1 of 1). These functions will not be directly callable after loading.\n",
            "\n",
            "                                                                                          \n",
            "100%|██████████| 158/158 [00:00<00:00,  7.28it/s]\u001b[A\n",
            "100%|██████████| 158/158 [00:00<00:00,  7.28it/s, iterations=158/158 Iterations Completed]\u001b[A"
          ]
        },
        {
          "output_type": "stream",
          "name": "stdout",
          "text": [
            "cleaned_data----------------------------------------- True\n",
            "1/1 [==============================] - 0s 9ms/step - loss: 0.9029 - accuracy: 1.0000\n"
          ]
        },
        {
          "output_type": "stream",
          "name": "stderr",
          "text": [
            "WARNING:absl:Found untraced functions such as _update_step_xla while saving (showing 1 of 1). These functions will not be directly callable after loading.\n",
            " 99%|█████████▉| 158/159 [00:00<?, ?it/s]\n",
            "100%|██████████| 159/159 [00:00<00:00,  7.83it/s, iterations=159/159 Iterations Completed]"
          ]
        },
        {
          "output_type": "stream",
          "name": "stdout",
          "text": [
            "cleaned_data----------------------------------------- True\n",
            "1/1 [==============================] - 0s 10ms/step - loss: 0.9603 - accuracy: 1.0000\n"
          ]
        },
        {
          "output_type": "stream",
          "name": "stderr",
          "text": [
            "WARNING:absl:Found untraced functions such as _update_step_xla while saving (showing 1 of 1). These functions will not be directly callable after loading.\n",
            "\n",
            "                                                                                          \n",
            "100%|██████████| 160/160 [00:00<00:00,  8.20it/s]\u001b[A\n",
            "100%|██████████| 160/160 [00:00<00:00,  8.20it/s, iterations=160/160 Iterations Completed]\u001b[A"
          ]
        },
        {
          "output_type": "stream",
          "name": "stdout",
          "text": [
            "cleaned_data----------------------------------------- True\n",
            "1/1 [==============================] - 0s 18ms/step - loss: 0.7837 - accuracy: 1.0000\n"
          ]
        },
        {
          "output_type": "stream",
          "name": "stderr",
          "text": [
            "WARNING:absl:Found untraced functions such as _update_step_xla while saving (showing 1 of 1). These functions will not be directly callable after loading.\n",
            " 99%|█████████▉| 160/161 [00:00<?, ?it/s]\n",
            "100%|██████████| 161/161 [00:00<00:00,  6.85it/s, iterations=161/161 Iterations Completed]"
          ]
        },
        {
          "output_type": "stream",
          "name": "stdout",
          "text": [
            "cleaned_data----------------------------------------- True\n",
            "1/1 [==============================] - 0s 10ms/step - loss: 0.6942 - accuracy: 1.0000\n"
          ]
        },
        {
          "output_type": "stream",
          "name": "stderr",
          "text": [
            "WARNING:absl:Found untraced functions such as _update_step_xla while saving (showing 1 of 1). These functions will not be directly callable after loading.\n",
            "\n",
            "                                                                                          \n",
            "100%|██████████| 162/162 [00:00<00:00,  7.56it/s]\u001b[A\n",
            "100%|██████████| 162/162 [00:00<00:00,  7.56it/s, iterations=162/162 Iterations Completed]\u001b[A"
          ]
        },
        {
          "output_type": "stream",
          "name": "stdout",
          "text": [
            "cleaned_data----------------------------------------- True\n",
            "1/1 [==============================] - 0s 11ms/step - loss: 0.6636 - accuracy: 1.0000\n"
          ]
        },
        {
          "output_type": "stream",
          "name": "stderr",
          "text": [
            "WARNING:absl:Found untraced functions such as _update_step_xla while saving (showing 1 of 1). These functions will not be directly callable after loading.\n",
            " 99%|█████████▉| 162/163 [00:00<?, ?it/s]\n",
            "100%|██████████| 163/163 [00:00<00:00,  6.67it/s, iterations=163/163 Iterations Completed]"
          ]
        },
        {
          "output_type": "stream",
          "name": "stdout",
          "text": [
            "cleaned_data----------------------------------------- True\n",
            "1/1 [==============================] - 0s 9ms/step - loss: 0.5509 - accuracy: 0.9643\n"
          ]
        },
        {
          "output_type": "stream",
          "name": "stderr",
          "text": [
            "WARNING:absl:Found untraced functions such as _update_step_xla while saving (showing 1 of 1). These functions will not be directly callable after loading.\n",
            "\n",
            "                                                                                          \n",
            "100%|██████████| 164/164 [00:00<00:00,  7.70it/s]\u001b[A\n",
            "100%|██████████| 164/164 [00:00<00:00,  7.70it/s, iterations=164/164 Iterations Completed]\u001b[A"
          ]
        },
        {
          "output_type": "stream",
          "name": "stdout",
          "text": [
            "cleaned_data----------------------------------------- True\n",
            "1/1 [==============================] - 0s 12ms/step - loss: 0.5553 - accuracy: 0.9643\n"
          ]
        },
        {
          "output_type": "stream",
          "name": "stderr",
          "text": [
            "WARNING:absl:Found untraced functions such as _update_step_xla while saving (showing 1 of 1). These functions will not be directly callable after loading.\n",
            " 99%|█████████▉| 164/165 [00:00<?, ?it/s]\n",
            "100%|██████████| 165/165 [00:00<00:00,  7.60it/s, iterations=165/165 Iterations Completed]"
          ]
        },
        {
          "output_type": "stream",
          "name": "stdout",
          "text": [
            "cleaned_data----------------------------------------- True\n",
            "1/1 [==============================] - 0s 10ms/step - loss: 0.5748 - accuracy: 1.0000\n"
          ]
        },
        {
          "output_type": "stream",
          "name": "stderr",
          "text": [
            "WARNING:absl:Found untraced functions such as _update_step_xla while saving (showing 1 of 1). These functions will not be directly callable after loading.\n",
            "\n",
            "                                                                                          \n",
            "100%|██████████| 166/166 [00:00<00:00,  8.25it/s]\u001b[A\n",
            "100%|██████████| 166/166 [00:00<00:00,  8.25it/s, iterations=166/166 Iterations Completed]\u001b[A"
          ]
        },
        {
          "output_type": "stream",
          "name": "stdout",
          "text": [
            "cleaned_data----------------------------------------- True\n",
            "1/1 [==============================] - 0s 10ms/step - loss: 0.5274 - accuracy: 0.9286\n"
          ]
        },
        {
          "output_type": "stream",
          "name": "stderr",
          "text": [
            "WARNING:absl:Found untraced functions such as _update_step_xla while saving (showing 1 of 1). These functions will not be directly callable after loading.\n",
            " 99%|█████████▉| 166/167 [00:00<?, ?it/s]\n",
            "100%|██████████| 167/167 [00:00<00:00,  4.88it/s, iterations=167/167 Iterations Completed]"
          ]
        },
        {
          "output_type": "stream",
          "name": "stdout",
          "text": [
            "cleaned_data----------------------------------------- True\n",
            "1/1 [==============================] - 0s 15ms/step - loss: 0.8430 - accuracy: 0.6786\n"
          ]
        },
        {
          "output_type": "stream",
          "name": "stderr",
          "text": [
            "WARNING:absl:Found untraced functions such as _update_step_xla while saving (showing 1 of 1). These functions will not be directly callable after loading.\n",
            "\n",
            "\n",
            "100%|██████████| 168/168 [00:00<00:00,  4.88it/s]\u001b[A\n",
            "100%|██████████| 168/168 [00:00<00:00,  4.88it/s, iterations=168/168 Iterations Completed]\u001b[A"
          ]
        },
        {
          "output_type": "stream",
          "name": "stdout",
          "text": [
            "cleaned_data----------------------------------------- True\n",
            "1/1 [==============================] - 0s 15ms/step - loss: 0.8718 - accuracy: 0.5714\n"
          ]
        },
        {
          "output_type": "stream",
          "name": "stderr",
          "text": [
            "WARNING:absl:Found untraced functions such as _update_step_xla while saving (showing 1 of 1). These functions will not be directly callable after loading.\n",
            " 99%|█████████▉| 168/169 [00:00<?, ?it/s]\n",
            "100%|██████████| 169/169 [00:00<00:00,  7.06it/s, iterations=169/169 Iterations Completed]"
          ]
        },
        {
          "output_type": "stream",
          "name": "stdout",
          "text": [
            "cleaned_data----------------------------------------- True\n",
            "1/1 [==============================] - 0s 13ms/step - loss: 0.9912 - accuracy: 0.5357\n"
          ]
        },
        {
          "output_type": "stream",
          "name": "stderr",
          "text": [
            "WARNING:absl:Found untraced functions such as _update_step_xla while saving (showing 1 of 1). These functions will not be directly callable after loading.\n",
            "\n",
            "                                                                                          \n",
            "100%|██████████| 170/170 [00:00<00:00,  8.28it/s]\u001b[A\n",
            "100%|██████████| 170/170 [00:00<00:00,  8.28it/s, iterations=170/170 Iterations Completed]\u001b[A"
          ]
        },
        {
          "output_type": "stream",
          "name": "stdout",
          "text": [
            "cleaned_data----------------------------------------- True\n",
            "1/1 [==============================] - 0s 12ms/step - loss: 1.1114 - accuracy: 0.5714\n"
          ]
        },
        {
          "output_type": "stream",
          "name": "stderr",
          "text": [
            "WARNING:absl:Found untraced functions such as _update_step_xla while saving (showing 1 of 1). These functions will not be directly callable after loading.\n",
            " 99%|█████████▉| 170/171 [00:00<?, ?it/s]\n",
            "100%|██████████| 171/171 [00:00<00:00,  7.72it/s, iterations=171/171 Iterations Completed]"
          ]
        },
        {
          "output_type": "stream",
          "name": "stdout",
          "text": [
            "cleaned_data----------------------------------------- True\n",
            "1/1 [==============================] - 0s 10ms/step - loss: 0.8629 - accuracy: 0.6786\n"
          ]
        },
        {
          "output_type": "stream",
          "name": "stderr",
          "text": [
            "WARNING:absl:Found untraced functions such as _update_step_xla while saving (showing 1 of 1). These functions will not be directly callable after loading.\n",
            "\n",
            "                                                                                          \n",
            "100%|██████████| 172/172 [00:00<00:00,  7.80it/s]\u001b[A\n",
            "100%|██████████| 172/172 [00:00<00:00,  7.80it/s, iterations=172/172 Iterations Completed]\u001b[A"
          ]
        },
        {
          "output_type": "stream",
          "name": "stdout",
          "text": [
            "cleaned_data----------------------------------------- True\n",
            "1/1 [==============================] - 0s 11ms/step - loss: 0.6286 - accuracy: 0.8571\n"
          ]
        },
        {
          "output_type": "stream",
          "name": "stderr",
          "text": [
            "WARNING:absl:Found untraced functions such as _update_step_xla while saving (showing 1 of 1). These functions will not be directly callable after loading.\n",
            " 99%|█████████▉| 172/173 [00:00<?, ?it/s]\n",
            "100%|██████████| 173/173 [00:00<00:00,  7.24it/s, iterations=173/173 Iterations Completed]"
          ]
        },
        {
          "output_type": "stream",
          "name": "stdout",
          "text": [
            "cleaned_data----------------------------------------- True\n",
            "1/1 [==============================] - 0s 9ms/step - loss: 0.5185 - accuracy: 0.8571\n"
          ]
        },
        {
          "output_type": "stream",
          "name": "stderr",
          "text": [
            "WARNING:absl:Found untraced functions such as _update_step_xla while saving (showing 1 of 1). These functions will not be directly callable after loading.\n",
            "\n",
            "                                                                                          \n",
            "100%|██████████| 174/174 [00:00<00:00,  7.64it/s]\u001b[A\n",
            "100%|██████████| 174/174 [00:00<00:00,  7.64it/s, iterations=174/174 Iterations Completed]\u001b[A"
          ]
        },
        {
          "output_type": "stream",
          "name": "stdout",
          "text": [
            "cleaned_data----------------------------------------- True\n",
            "1/1 [==============================] - 0s 13ms/step - loss: 0.7176 - accuracy: 0.9643\n"
          ]
        },
        {
          "output_type": "stream",
          "name": "stderr",
          "text": [
            "WARNING:absl:Found untraced functions such as _update_step_xla while saving (showing 1 of 1). These functions will not be directly callable after loading.\n",
            " 99%|█████████▉| 174/175 [00:00<?, ?it/s]\n",
            "100%|██████████| 175/175 [00:00<00:00,  7.56it/s, iterations=175/175 Iterations Completed]"
          ]
        },
        {
          "output_type": "stream",
          "name": "stdout",
          "text": [
            "cleaned_data----------------------------------------- True\n",
            "1/1 [==============================] - 0s 14ms/step - loss: 0.4536 - accuracy: 0.9643\n"
          ]
        },
        {
          "output_type": "stream",
          "name": "stderr",
          "text": [
            "WARNING:absl:Found untraced functions such as _update_step_xla while saving (showing 1 of 1). These functions will not be directly callable after loading.\n",
            "\n",
            "                                                                                          \n",
            "100%|██████████| 176/176 [00:00<00:00,  8.53it/s]\u001b[A\n",
            "100%|██████████| 176/176 [00:00<00:00,  8.53it/s, iterations=176/176 Iterations Completed]\u001b[A"
          ]
        },
        {
          "output_type": "stream",
          "name": "stdout",
          "text": [
            "cleaned_data----------------------------------------- True\n",
            "1/1 [==============================] - 0s 11ms/step - loss: 0.5283 - accuracy: 0.9643\n"
          ]
        },
        {
          "output_type": "stream",
          "name": "stderr",
          "text": [
            "WARNING:absl:Found untraced functions such as _update_step_xla while saving (showing 1 of 1). These functions will not be directly callable after loading.\n",
            " 99%|█████████▉| 176/177 [00:00<?, ?it/s]\n",
            "100%|██████████| 177/177 [00:00<00:00,  7.60it/s, iterations=177/177 Iterations Completed]"
          ]
        },
        {
          "output_type": "stream",
          "name": "stdout",
          "text": [
            "cleaned_data----------------------------------------- True\n",
            "1/1 [==============================] - 0s 11ms/step - loss: 0.6292 - accuracy: 1.0000\n"
          ]
        },
        {
          "output_type": "stream",
          "name": "stderr",
          "text": [
            "WARNING:absl:Found untraced functions such as _update_step_xla while saving (showing 1 of 1). These functions will not be directly callable after loading.\n",
            "\n",
            "                                                                                          \n",
            "100%|██████████| 178/178 [00:00<00:00,  7.92it/s]\u001b[A\n",
            "100%|██████████| 178/178 [00:00<00:00,  7.92it/s, iterations=178/178 Iterations Completed]\u001b[A"
          ]
        },
        {
          "output_type": "stream",
          "name": "stdout",
          "text": [
            "cleaned_data----------------------------------------- True\n",
            "1/1 [==============================] - 0s 10ms/step - loss: 0.8144 - accuracy: 1.0000\n"
          ]
        },
        {
          "output_type": "stream",
          "name": "stderr",
          "text": [
            "WARNING:absl:Found untraced functions such as _update_step_xla while saving (showing 1 of 1). These functions will not be directly callable after loading.\n",
            " 99%|█████████▉| 178/179 [00:00<?, ?it/s]\n",
            "100%|██████████| 179/179 [00:00<00:00,  5.24it/s, iterations=179/179 Iterations Completed]"
          ]
        },
        {
          "output_type": "stream",
          "name": "stdout",
          "text": [
            "cleaned_data----------------------------------------- True\n",
            "1/1 [==============================] - 0s 15ms/step - loss: 1.0693 - accuracy: 1.0000\n"
          ]
        },
        {
          "output_type": "stream",
          "name": "stderr",
          "text": [
            "WARNING:absl:Found untraced functions such as _update_step_xla while saving (showing 1 of 1). These functions will not be directly callable after loading.\n",
            "\n",
            "\n",
            "100%|██████████| 180/180 [00:00<00:00,  4.43it/s]\u001b[A\n",
            "100%|██████████| 180/180 [00:00<00:00,  4.43it/s, iterations=180/180 Iterations Completed]\u001b[A"
          ]
        },
        {
          "output_type": "stream",
          "name": "stdout",
          "text": [
            "cleaned_data----------------------------------------- True\n",
            "1/1 [==============================] - 0s 11ms/step - loss: 0.8618 - accuracy: 1.0000\n"
          ]
        },
        {
          "output_type": "stream",
          "name": "stderr",
          "text": [
            "WARNING:absl:Found untraced functions such as _update_step_xla while saving (showing 1 of 1). These functions will not be directly callable after loading.\n",
            " 99%|█████████▉| 180/181 [00:00<?, ?it/s]\n",
            "100%|██████████| 181/181 [00:00<00:00,  7.09it/s, iterations=181/181 Iterations Completed]"
          ]
        },
        {
          "output_type": "stream",
          "name": "stdout",
          "text": [
            "cleaned_data----------------------------------------- True\n",
            "1/1 [==============================] - 0s 9ms/step - loss: 0.9559 - accuracy: 1.0000\n"
          ]
        },
        {
          "output_type": "stream",
          "name": "stderr",
          "text": [
            "WARNING:absl:Found untraced functions such as _update_step_xla while saving (showing 1 of 1). These functions will not be directly callable after loading.\n",
            "\n",
            "                                                                                          \n",
            "100%|██████████| 182/182 [00:00<00:00,  8.08it/s]\u001b[A\n",
            "100%|██████████| 182/182 [00:00<00:00,  8.08it/s, iterations=182/182 Iterations Completed]\u001b[A"
          ]
        },
        {
          "output_type": "stream",
          "name": "stdout",
          "text": [
            "cleaned_data----------------------------------------- True\n",
            "1/1 [==============================] - 0s 12ms/step - loss: 1.0705 - accuracy: 1.0000\n"
          ]
        },
        {
          "output_type": "stream",
          "name": "stderr",
          "text": [
            "WARNING:absl:Found untraced functions such as _update_step_xla while saving (showing 1 of 1). These functions will not be directly callable after loading.\n",
            " 99%|█████████▉| 182/183 [00:00<?, ?it/s]\n",
            "100%|██████████| 183/183 [00:00<00:00,  7.10it/s, iterations=183/183 Iterations Completed]"
          ]
        },
        {
          "output_type": "stream",
          "name": "stdout",
          "text": [
            "cleaned_data----------------------------------------- True\n",
            "1/1 [==============================] - 0s 10ms/step - loss: 0.9517 - accuracy: 1.0000\n"
          ]
        },
        {
          "output_type": "stream",
          "name": "stderr",
          "text": [
            "WARNING:absl:Found untraced functions such as _update_step_xla while saving (showing 1 of 1). These functions will not be directly callable after loading.\n",
            "\n",
            "                                                                                          \n",
            "100%|██████████| 184/184 [00:00<00:00,  7.31it/s]\u001b[A\n",
            "100%|██████████| 184/184 [00:00<00:00,  7.31it/s, iterations=184/184 Iterations Completed]\u001b[A"
          ]
        },
        {
          "output_type": "stream",
          "name": "stdout",
          "text": [
            "cleaned_data----------------------------------------- True\n",
            "1/1 [==============================] - 0s 10ms/step - loss: 0.7503 - accuracy: 1.0000\n"
          ]
        },
        {
          "output_type": "stream",
          "name": "stderr",
          "text": [
            "WARNING:absl:Found untraced functions such as _update_step_xla while saving (showing 1 of 1). These functions will not be directly callable after loading.\n",
            " 99%|█████████▉| 184/185 [00:00<?, ?it/s]\n",
            "100%|██████████| 185/185 [00:00<00:00,  6.35it/s, iterations=185/185 Iterations Completed]"
          ]
        },
        {
          "output_type": "stream",
          "name": "stdout",
          "text": [
            "cleaned_data----------------------------------------- True\n",
            "1/1 [==============================] - 0s 11ms/step - loss: 0.6020 - accuracy: 1.0000\n"
          ]
        },
        {
          "output_type": "stream",
          "name": "stderr",
          "text": [
            "WARNING:absl:Found untraced functions such as _update_step_xla while saving (showing 1 of 1). These functions will not be directly callable after loading.\n",
            "\n",
            "                                                                                          \n",
            "100%|██████████| 186/186 [00:00<00:00,  7.91it/s]\u001b[A\n",
            "100%|██████████| 186/186 [00:00<00:00,  7.91it/s, iterations=186/186 Iterations Completed]\u001b[A"
          ]
        },
        {
          "output_type": "stream",
          "name": "stdout",
          "text": [
            "cleaned_data----------------------------------------- True\n",
            "1/1 [==============================] - 0s 9ms/step - loss: 0.6699 - accuracy: 1.0000\n"
          ]
        },
        {
          "output_type": "stream",
          "name": "stderr",
          "text": [
            "WARNING:absl:Found untraced functions such as _update_step_xla while saving (showing 1 of 1). These functions will not be directly callable after loading.\n",
            " 99%|█████████▉| 186/187 [00:00<?, ?it/s]\n",
            "100%|██████████| 187/187 [00:00<00:00,  7.03it/s, iterations=187/187 Iterations Completed]"
          ]
        },
        {
          "output_type": "stream",
          "name": "stdout",
          "text": [
            "cleaned_data----------------------------------------- True\n",
            "1/1 [==============================] - 0s 13ms/step - loss: 0.8035 - accuracy: 1.0000\n"
          ]
        },
        {
          "output_type": "stream",
          "name": "stderr",
          "text": [
            "WARNING:absl:Found untraced functions such as _update_step_xla while saving (showing 1 of 1). These functions will not be directly callable after loading.\n",
            "\n",
            "                                                                                          \n",
            "100%|██████████| 188/188 [00:00<00:00,  8.10it/s]\u001b[A\n",
            "100%|██████████| 188/188 [00:00<00:00,  8.10it/s, iterations=188/188 Iterations Completed]\u001b[A"
          ]
        },
        {
          "output_type": "stream",
          "name": "stdout",
          "text": [
            "cleaned_data----------------------------------------- True\n",
            "1/1 [==============================] - 0s 13ms/step - loss: 0.7826 - accuracy: 1.0000\n"
          ]
        },
        {
          "output_type": "stream",
          "name": "stderr",
          "text": [
            "WARNING:absl:Found untraced functions such as _update_step_xla while saving (showing 1 of 1). These functions will not be directly callable after loading.\n",
            " 99%|█████████▉| 188/189 [00:00<?, ?it/s]\n",
            "100%|██████████| 189/189 [00:00<00:00,  7.55it/s, iterations=189/189 Iterations Completed]"
          ]
        },
        {
          "output_type": "stream",
          "name": "stdout",
          "text": [
            "cleaned_data----------------------------------------- True\n",
            "1/1 [==============================] - 0s 10ms/step - loss: 0.8158 - accuracy: 1.0000\n"
          ]
        },
        {
          "output_type": "stream",
          "name": "stderr",
          "text": [
            "WARNING:absl:Found untraced functions such as _update_step_xla while saving (showing 1 of 1). These functions will not be directly callable after loading.\n",
            "\n",
            "                                                                                          \n",
            "100%|██████████| 190/190 [00:00<00:00,  5.61it/s]\u001b[A\n",
            "100%|██████████| 190/190 [00:00<00:00,  5.61it/s, iterations=190/190 Iterations Completed]\u001b[A"
          ]
        },
        {
          "output_type": "stream",
          "name": "stdout",
          "text": [
            "cleaned_data----------------------------------------- True\n",
            "1/1 [==============================] - 0s 11ms/step - loss: 0.7301 - accuracy: 1.0000\n"
          ]
        },
        {
          "output_type": "stream",
          "name": "stderr",
          "text": [
            "WARNING:absl:Found untraced functions such as _update_step_xla while saving (showing 1 of 1). These functions will not be directly callable after loading.\n",
            " 99%|█████████▉| 190/191 [00:00<?, ?it/s]\n",
            "100%|██████████| 191/191 [00:00<00:00,  4.89it/s, iterations=191/191 Iterations Completed]"
          ]
        },
        {
          "output_type": "stream",
          "name": "stdout",
          "text": [
            "cleaned_data----------------------------------------- True\n",
            "1/1 [==============================] - 0s 12ms/step - loss: 0.5521 - accuracy: 1.0000\n"
          ]
        },
        {
          "output_type": "stream",
          "name": "stderr",
          "text": [
            "WARNING:absl:Found untraced functions such as _update_step_xla while saving (showing 1 of 1). These functions will not be directly callable after loading.\n",
            "\n",
            "                                                                                          \n",
            "100%|██████████| 192/192 [00:00<00:00,  7.35it/s]\u001b[A\n",
            "100%|██████████| 192/192 [00:00<00:00,  7.35it/s, iterations=192/192 Iterations Completed]\u001b[A"
          ]
        },
        {
          "output_type": "stream",
          "name": "stdout",
          "text": [
            "cleaned_data----------------------------------------- True\n",
            "1/1 [==============================] - 0s 11ms/step - loss: 0.6086 - accuracy: 1.0000\n"
          ]
        },
        {
          "output_type": "stream",
          "name": "stderr",
          "text": [
            "WARNING:absl:Found untraced functions such as _update_step_xla while saving (showing 1 of 1). These functions will not be directly callable after loading.\n",
            " 99%|█████████▉| 192/193 [00:00<?, ?it/s]\n",
            "100%|██████████| 193/193 [00:00<00:00,  6.95it/s, iterations=193/193 Iterations Completed]"
          ]
        },
        {
          "output_type": "stream",
          "name": "stdout",
          "text": [
            "cleaned_data----------------------------------------- True\n",
            "1/1 [==============================] - 0s 9ms/step - loss: 0.5581 - accuracy: 1.0000\n"
          ]
        },
        {
          "output_type": "stream",
          "name": "stderr",
          "text": [
            "WARNING:absl:Found untraced functions such as _update_step_xla while saving (showing 1 of 1). These functions will not be directly callable after loading.\n",
            "\n",
            "                                                                                          \n",
            "100%|██████████| 194/194 [00:00<00:00,  7.80it/s]\u001b[A\n",
            "100%|██████████| 194/194 [00:00<00:00,  7.80it/s, iterations=194/194 Iterations Completed]\u001b[A"
          ]
        },
        {
          "output_type": "stream",
          "name": "stdout",
          "text": [
            "cleaned_data----------------------------------------- True\n",
            "1/1 [==============================] - 0s 9ms/step - loss: 0.4843 - accuracy: 0.9643\n"
          ]
        },
        {
          "output_type": "stream",
          "name": "stderr",
          "text": [
            "WARNING:absl:Found untraced functions such as _update_step_xla while saving (showing 1 of 1). These functions will not be directly callable after loading.\n",
            " 99%|█████████▉| 194/195 [00:00<?, ?it/s]\n",
            "100%|██████████| 195/195 [00:00<00:00,  6.79it/s, iterations=195/195 Iterations Completed]"
          ]
        },
        {
          "output_type": "stream",
          "name": "stdout",
          "text": [
            "cleaned_data----------------------------------------- True\n",
            "1/1 [==============================] - 0s 16ms/step - loss: 0.4764 - accuracy: 0.9643\n"
          ]
        },
        {
          "output_type": "stream",
          "name": "stderr",
          "text": [
            "WARNING:absl:Found untraced functions such as _update_step_xla while saving (showing 1 of 1). These functions will not be directly callable after loading.\n",
            "\n",
            "                                                                                          \n",
            "100%|██████████| 196/196 [00:00<00:00,  8.00it/s]\u001b[A\n",
            "100%|██████████| 196/196 [00:00<00:00,  8.00it/s, iterations=196/196 Iterations Completed]\u001b[A"
          ]
        },
        {
          "output_type": "stream",
          "name": "stdout",
          "text": [
            "cleaned_data----------------------------------------- True\n",
            "1/1 [==============================] - 0s 8ms/step - loss: 0.5329 - accuracy: 0.8929\n"
          ]
        },
        {
          "output_type": "stream",
          "name": "stderr",
          "text": [
            "WARNING:absl:Found untraced functions such as _update_step_xla while saving (showing 1 of 1). These functions will not be directly callable after loading.\n",
            " 99%|█████████▉| 196/197 [00:00<?, ?it/s]\n",
            "100%|██████████| 197/197 [00:00<00:00,  7.97it/s, iterations=197/197 Iterations Completed]"
          ]
        },
        {
          "output_type": "stream",
          "name": "stdout",
          "text": [
            "cleaned_data----------------------------------------- True\n",
            "1/1 [==============================] - 0s 16ms/step - loss: 0.7428 - accuracy: 0.6429\n"
          ]
        },
        {
          "output_type": "stream",
          "name": "stderr",
          "text": [
            "WARNING:absl:Found untraced functions such as _update_step_xla while saving (showing 1 of 1). These functions will not be directly callable after loading.\n",
            "\n",
            "                                                                                          \n",
            "100%|██████████| 198/198 [00:00<00:00,  8.13it/s]\u001b[A\n",
            "100%|██████████| 198/198 [00:00<00:00,  8.13it/s, iterations=198/198 Iterations Completed]\u001b[A"
          ]
        },
        {
          "output_type": "stream",
          "name": "stdout",
          "text": [
            "cleaned_data----------------------------------------- True\n",
            "1/1 [==============================] - 0s 12ms/step - loss: 0.5880 - accuracy: 0.8214\n"
          ]
        },
        {
          "output_type": "stream",
          "name": "stderr",
          "text": [
            "WARNING:absl:Found untraced functions such as _update_step_xla while saving (showing 1 of 1). These functions will not be directly callable after loading.\n",
            " 99%|█████████▉| 198/199 [00:00<?, ?it/s]\n",
            "100%|██████████| 199/199 [00:00<00:00,  7.47it/s, iterations=199/199 Iterations Completed]"
          ]
        },
        {
          "output_type": "stream",
          "name": "stdout",
          "text": [
            "cleaned_data----------------------------------------- True\n",
            "1/1 [==============================] - 0s 10ms/step - loss: 0.6137 - accuracy: 0.7143\n"
          ]
        },
        {
          "output_type": "stream",
          "name": "stderr",
          "text": [
            "WARNING:absl:Found untraced functions such as _update_step_xla while saving (showing 1 of 1). These functions will not be directly callable after loading.\n",
            "\n",
            "                                                                                          \n",
            "100%|██████████| 200/200 [00:00<00:00,  8.06it/s]\u001b[A\n",
            "100%|██████████| 200/200 [00:00<00:00,  8.06it/s, iterations=200/200 Iterations Completed]\u001b[A"
          ]
        },
        {
          "output_type": "stream",
          "name": "stdout",
          "text": [
            "cleaned_data----------------------------------------- True\n",
            "1/1 [==============================] - 0s 10ms/step - loss: 0.5205 - accuracy: 0.8929\n"
          ]
        },
        {
          "output_type": "stream",
          "name": "stderr",
          "text": [
            "WARNING:absl:Found untraced functions such as _update_step_xla while saving (showing 1 of 1). These functions will not be directly callable after loading.\n",
            "100%|█████████▉| 200/201 [00:00<?, ?it/s]\n",
            "100%|██████████| 201/201 [00:00<00:00,  4.37it/s, iterations=201/201 Iterations Completed]"
          ]
        },
        {
          "output_type": "stream",
          "name": "stdout",
          "text": [
            "cleaned_data----------------------------------------- True\n",
            "1/1 [==============================] - 0s 21ms/step - loss: 0.5414 - accuracy: 0.7857\n"
          ]
        },
        {
          "output_type": "stream",
          "name": "stderr",
          "text": [
            "WARNING:absl:Found untraced functions such as _update_step_xla while saving (showing 1 of 1). These functions will not be directly callable after loading.\n",
            "\n",
            "\n",
            "100%|██████████| 202/202 [00:00<00:00,  4.74it/s]\u001b[A\n",
            "100%|██████████| 202/202 [00:00<00:00,  4.74it/s, iterations=202/202 Iterations Completed]\u001b[A"
          ]
        },
        {
          "output_type": "stream",
          "name": "stdout",
          "text": [
            "cleaned_data----------------------------------------- True\n",
            "1/1 [==============================] - 0s 11ms/step - loss: 0.5167 - accuracy: 0.9286\n"
          ]
        },
        {
          "output_type": "stream",
          "name": "stderr",
          "text": [
            "WARNING:absl:Found untraced functions such as _update_step_xla while saving (showing 1 of 1). These functions will not be directly callable after loading.\n",
            "100%|█████████▉| 202/203 [00:00<?, ?it/s]\n",
            "100%|██████████| 203/203 [00:00<00:00,  4.89it/s, iterations=203/203 Iterations Completed]"
          ]
        },
        {
          "output_type": "stream",
          "name": "stdout",
          "text": [
            "cleaned_data----------------------------------------- True\n",
            "1/1 [==============================] - 0s 9ms/step - loss: 0.4434 - accuracy: 0.9643\n"
          ]
        },
        {
          "output_type": "stream",
          "name": "stderr",
          "text": [
            "WARNING:absl:Found untraced functions such as _update_step_xla while saving (showing 1 of 1). These functions will not be directly callable after loading.\n",
            "\n",
            "                                                                                          \n",
            "100%|██████████| 204/204 [00:00<00:00,  6.95it/s]\u001b[A\n",
            "100%|██████████| 204/204 [00:00<00:00,  6.95it/s, iterations=204/204 Iterations Completed]\u001b[A"
          ]
        },
        {
          "output_type": "stream",
          "name": "stdout",
          "text": [
            "cleaned_data----------------------------------------- True\n",
            "1/1 [==============================] - 0s 13ms/step - loss: 0.4334 - accuracy: 0.9286\n"
          ]
        },
        {
          "output_type": "stream",
          "name": "stderr",
          "text": [
            "WARNING:absl:Found untraced functions such as _update_step_xla while saving (showing 1 of 1). These functions will not be directly callable after loading.\n",
            "100%|█████████▉| 204/205 [00:00<?, ?it/s]\n",
            "100%|██████████| 205/205 [00:00<00:00,  6.74it/s, iterations=205/205 Iterations Completed]"
          ]
        },
        {
          "output_type": "stream",
          "name": "stdout",
          "text": [
            "cleaned_data----------------------------------------- True\n",
            "1/1 [==============================] - 0s 14ms/step - loss: 0.6468 - accuracy: 0.9286\n"
          ]
        },
        {
          "output_type": "stream",
          "name": "stderr",
          "text": [
            "WARNING:absl:Found untraced functions such as _update_step_xla while saving (showing 1 of 1). These functions will not be directly callable after loading.\n",
            "\n",
            "                                                                                          \n",
            "100%|██████████| 206/206 [00:00<00:00,  7.39it/s]\u001b[A\n",
            "100%|██████████| 206/206 [00:00<00:00,  7.39it/s, iterations=206/206 Iterations Completed]\u001b[A"
          ]
        },
        {
          "output_type": "stream",
          "name": "stdout",
          "text": [
            "cleaned_data----------------------------------------- True\n",
            "1/1 [==============================] - 0s 13ms/step - loss: 0.4364 - accuracy: 1.0000\n"
          ]
        },
        {
          "output_type": "stream",
          "name": "stderr",
          "text": [
            "WARNING:absl:Found untraced functions such as _update_step_xla while saving (showing 1 of 1). These functions will not be directly callable after loading.\n",
            "100%|█████████▉| 206/207 [00:00<?, ?it/s]\n",
            "100%|██████████| 207/207 [00:00<00:00,  5.98it/s, iterations=207/207 Iterations Completed]"
          ]
        },
        {
          "output_type": "stream",
          "name": "stdout",
          "text": [
            "cleaned_data----------------------------------------- True\n",
            "1/1 [==============================] - 0s 10ms/step - loss: 0.6785 - accuracy: 1.0000\n"
          ]
        },
        {
          "output_type": "stream",
          "name": "stderr",
          "text": [
            "WARNING:absl:Found untraced functions such as _update_step_xla while saving (showing 1 of 1). These functions will not be directly callable after loading.\n",
            "\n",
            "                                                                                          \n",
            "100%|██████████| 208/208 [00:00<00:00,  6.92it/s]\u001b[A\n",
            "100%|██████████| 208/208 [00:00<00:00,  6.92it/s, iterations=208/208 Iterations Completed]\u001b[A"
          ]
        },
        {
          "output_type": "stream",
          "name": "stdout",
          "text": [
            "cleaned_data----------------------------------------- True\n",
            "1/1 [==============================] - 0s 15ms/step - loss: 0.4752 - accuracy: 1.0000\n"
          ]
        },
        {
          "output_type": "stream",
          "name": "stderr",
          "text": [
            "WARNING:absl:Found untraced functions such as _update_step_xla while saving (showing 1 of 1). These functions will not be directly callable after loading.\n",
            "100%|█████████▉| 208/209 [00:00<?, ?it/s]\n",
            "100%|██████████| 209/209 [00:00<00:00,  7.13it/s, iterations=209/209 Iterations Completed]"
          ]
        },
        {
          "output_type": "stream",
          "name": "stdout",
          "text": [
            "cleaned_data----------------------------------------- True\n",
            "1/1 [==============================] - 0s 11ms/step - loss: 0.4206 - accuracy: 0.9643\n"
          ]
        },
        {
          "output_type": "stream",
          "name": "stderr",
          "text": [
            "WARNING:absl:Found untraced functions such as _update_step_xla while saving (showing 1 of 1). These functions will not be directly callable after loading.\n",
            "\n",
            "                                                                                          \n",
            "100%|██████████| 210/210 [00:00<00:00,  7.59it/s]\u001b[A\n",
            "100%|██████████| 210/210 [00:00<00:00,  7.59it/s, iterations=210/210 Iterations Completed]\u001b[A"
          ]
        },
        {
          "output_type": "stream",
          "name": "stdout",
          "text": [
            "cleaned_data----------------------------------------- True\n",
            "1/1 [==============================] - 0s 15ms/step - loss: 0.4672 - accuracy: 0.9286\n"
          ]
        },
        {
          "output_type": "stream",
          "name": "stderr",
          "text": [
            "WARNING:absl:Found untraced functions such as _update_step_xla while saving (showing 1 of 1). These functions will not be directly callable after loading.\n",
            "100%|█████████▉| 210/211 [00:00<?, ?it/s]\n",
            "100%|██████████| 211/211 [00:00<00:00,  7.19it/s, iterations=211/211 Iterations Completed]"
          ]
        },
        {
          "output_type": "stream",
          "name": "stdout",
          "text": [
            "cleaned_data----------------------------------------- True\n",
            "1/1 [==============================] - 0s 11ms/step - loss: 0.5554 - accuracy: 0.8571\n"
          ]
        },
        {
          "output_type": "stream",
          "name": "stderr",
          "text": [
            "WARNING:absl:Found untraced functions such as _update_step_xla while saving (showing 1 of 1). These functions will not be directly callable after loading.\n",
            "\n",
            "                                                                                          \n",
            "100%|██████████| 212/212 [00:00<00:00,  5.41it/s]\u001b[A\n",
            "100%|██████████| 212/212 [00:00<00:00,  5.41it/s, iterations=212/212 Iterations Completed]\u001b[A"
          ]
        },
        {
          "output_type": "stream",
          "name": "stdout",
          "text": [
            "cleaned_data----------------------------------------- True\n",
            "1/1 [==============================] - 0s 11ms/step - loss: 0.4362 - accuracy: 0.9286\n"
          ]
        },
        {
          "output_type": "stream",
          "name": "stderr",
          "text": [
            "WARNING:absl:Found untraced functions such as _update_step_xla while saving (showing 1 of 1). These functions will not be directly callable after loading.\n",
            "100%|█████████▉| 212/213 [00:00<?, ?it/s]\n",
            "100%|██████████| 213/213 [00:00<00:00,  4.89it/s, iterations=213/213 Iterations Completed]"
          ]
        },
        {
          "output_type": "stream",
          "name": "stdout",
          "text": [
            "cleaned_data----------------------------------------- True\n",
            "1/1 [==============================] - 0s 14ms/step - loss: 0.3998 - accuracy: 0.8929\n"
          ]
        },
        {
          "output_type": "stream",
          "name": "stderr",
          "text": [
            "WARNING:absl:Found untraced functions such as _update_step_xla while saving (showing 1 of 1). These functions will not be directly callable after loading.\n",
            "\n",
            "                                                                                          \n",
            "100%|██████████| 214/214 [00:00<00:00,  7.51it/s]\u001b[A\n",
            "100%|██████████| 214/214 [00:00<00:00,  7.51it/s, iterations=214/214 Iterations Completed]\u001b[A"
          ]
        },
        {
          "output_type": "stream",
          "name": "stdout",
          "text": [
            "cleaned_data----------------------------------------- True\n",
            "1/1 [==============================] - 0s 18ms/step - loss: 0.4074 - accuracy: 0.9286\n"
          ]
        },
        {
          "output_type": "stream",
          "name": "stderr",
          "text": [
            "WARNING:absl:Found untraced functions such as _update_step_xla while saving (showing 1 of 1). These functions will not be directly callable after loading.\n",
            "100%|█████████▉| 214/215 [00:00<?, ?it/s]\n",
            "100%|██████████| 215/215 [00:00<00:00,  6.37it/s, iterations=215/215 Iterations Completed]"
          ]
        },
        {
          "output_type": "stream",
          "name": "stdout",
          "text": [
            "cleaned_data----------------------------------------- True\n",
            "1/1 [==============================] - 0s 12ms/step - loss: 0.4468 - accuracy: 0.9643\n"
          ]
        },
        {
          "output_type": "stream",
          "name": "stderr",
          "text": [
            "WARNING:absl:Found untraced functions such as _update_step_xla while saving (showing 1 of 1). These functions will not be directly callable after loading.\n",
            "\n",
            "                                                                                          \n",
            "100%|██████████| 216/216 [00:00<00:00,  7.03it/s]\u001b[A\n",
            "100%|██████████| 216/216 [00:00<00:00,  7.03it/s, iterations=216/216 Iterations Completed]\u001b[A"
          ]
        },
        {
          "output_type": "stream",
          "name": "stdout",
          "text": [
            "cleaned_data----------------------------------------- True\n",
            "1/1 [==============================] - 0s 12ms/step - loss: 0.5178 - accuracy: 0.7857\n"
          ]
        },
        {
          "output_type": "stream",
          "name": "stderr",
          "text": [
            "WARNING:absl:Found untraced functions such as _update_step_xla while saving (showing 1 of 1). These functions will not be directly callable after loading.\n",
            "100%|█████████▉| 216/217 [00:00<?, ?it/s]\n",
            "100%|██████████| 217/217 [00:00<00:00,  6.19it/s, iterations=217/217 Iterations Completed]"
          ]
        },
        {
          "output_type": "stream",
          "name": "stdout",
          "text": [
            "cleaned_data----------------------------------------- True\n",
            "1/1 [==============================] - 0s 11ms/step - loss: 0.4047 - accuracy: 0.9286\n"
          ]
        },
        {
          "output_type": "stream",
          "name": "stderr",
          "text": [
            "WARNING:absl:Found untraced functions such as _update_step_xla while saving (showing 1 of 1). These functions will not be directly callable after loading.\n",
            "\n",
            "                                                                                          \n",
            "100%|██████████| 218/218 [00:00<00:00,  7.45it/s]\u001b[A\n",
            "100%|██████████| 218/218 [00:00<00:00,  7.45it/s, iterations=218/218 Iterations Completed]\u001b[A"
          ]
        },
        {
          "output_type": "stream",
          "name": "stdout",
          "text": [
            "cleaned_data----------------------------------------- True\n",
            "1/1 [==============================] - 0s 10ms/step - loss: 0.4431 - accuracy: 0.9286\n"
          ]
        },
        {
          "output_type": "stream",
          "name": "stderr",
          "text": [
            "WARNING:absl:Found untraced functions such as _update_step_xla while saving (showing 1 of 1). These functions will not be directly callable after loading.\n",
            "100%|█████████▉| 218/219 [00:00<?, ?it/s]\n",
            "100%|██████████| 219/219 [00:00<00:00,  6.98it/s, iterations=219/219 Iterations Completed]"
          ]
        },
        {
          "output_type": "stream",
          "name": "stdout",
          "text": [
            "cleaned_data----------------------------------------- True\n",
            "1/1 [==============================] - 0s 11ms/step - loss: 0.4004 - accuracy: 1.0000\n"
          ]
        },
        {
          "output_type": "stream",
          "name": "stderr",
          "text": [
            "WARNING:absl:Found untraced functions such as _update_step_xla while saving (showing 1 of 1). These functions will not be directly callable after loading.\n",
            "\n",
            "                                                                                          \n",
            "100%|██████████| 220/220 [00:00<00:00,  7.37it/s]\u001b[A\n",
            "100%|██████████| 220/220 [00:00<00:00,  7.37it/s, iterations=220/220 Iterations Completed]\u001b[A"
          ]
        },
        {
          "output_type": "stream",
          "name": "stdout",
          "text": [
            "cleaned_data----------------------------------------- True\n",
            "1/1 [==============================] - 0s 8ms/step - loss: 0.4737 - accuracy: 0.9643\n"
          ]
        },
        {
          "output_type": "stream",
          "name": "stderr",
          "text": [
            "WARNING:absl:Found untraced functions such as _update_step_xla while saving (showing 1 of 1). These functions will not be directly callable after loading.\n",
            "100%|█████████▉| 220/221 [00:00<?, ?it/s]\n",
            "100%|██████████| 221/221 [00:00<00:00,  7.21it/s, iterations=221/221 Iterations Completed]"
          ]
        },
        {
          "output_type": "stream",
          "name": "stdout",
          "text": [
            "cleaned_data----------------------------------------- True\n",
            "1/1 [==============================] - 0s 10ms/step - loss: 0.4110 - accuracy: 1.0000\n"
          ]
        },
        {
          "output_type": "stream",
          "name": "stderr",
          "text": [
            "WARNING:absl:Found untraced functions such as _update_step_xla while saving (showing 1 of 1). These functions will not be directly callable after loading.\n",
            "\n",
            "                                                                                          \n",
            "100%|██████████| 222/222 [00:00<00:00,  7.94it/s]\u001b[A\n",
            "100%|██████████| 222/222 [00:00<00:00,  7.94it/s, iterations=222/222 Iterations Completed]\u001b[A"
          ]
        },
        {
          "output_type": "stream",
          "name": "stdout",
          "text": [
            "cleaned_data----------------------------------------- True\n",
            "1/1 [==============================] - 0s 10ms/step - loss: 0.4189 - accuracy: 1.0000\n"
          ]
        },
        {
          "output_type": "stream",
          "name": "stderr",
          "text": [
            "WARNING:absl:Found untraced functions such as _update_step_xla while saving (showing 1 of 1). These functions will not be directly callable after loading.\n",
            "100%|█████████▉| 222/223 [00:00<?, ?it/s]\n",
            "100%|██████████| 223/223 [00:00<00:00,  5.06it/s, iterations=223/223 Iterations Completed]"
          ]
        },
        {
          "output_type": "stream",
          "name": "stdout",
          "text": [
            "cleaned_data----------------------------------------- True\n",
            "1/1 [==============================] - 0s 11ms/step - loss: 0.4071 - accuracy: 1.0000\n"
          ]
        },
        {
          "output_type": "stream",
          "name": "stderr",
          "text": [
            "WARNING:absl:Found untraced functions such as _update_step_xla while saving (showing 1 of 1). These functions will not be directly callable after loading.\n",
            "\n",
            "\n",
            "100%|██████████| 224/224 [00:00<00:00,  4.28it/s]\u001b[A\n",
            "100%|██████████| 224/224 [00:00<00:00,  4.28it/s, iterations=224/224 Iterations Completed]\u001b[A"
          ]
        },
        {
          "output_type": "stream",
          "name": "stdout",
          "text": [
            "cleaned_data----------------------------------------- True\n",
            "1/1 [==============================] - 0s 20ms/step - loss: 0.6161 - accuracy: 1.0000\n"
          ]
        },
        {
          "output_type": "stream",
          "name": "stderr",
          "text": [
            "WARNING:absl:Found untraced functions such as _update_step_xla while saving (showing 1 of 1). These functions will not be directly callable after loading.\n",
            "100%|█████████▉| 224/225 [00:00<?, ?it/s]\n",
            "100%|██████████| 225/225 [00:00<00:00,  6.66it/s, iterations=225/225 Iterations Completed]"
          ]
        },
        {
          "output_type": "stream",
          "name": "stdout",
          "text": [
            "cleaned_data----------------------------------------- True\n",
            "1/1 [==============================] - 0s 11ms/step - loss: 0.7600 - accuracy: 1.0000\n"
          ]
        },
        {
          "output_type": "stream",
          "name": "stderr",
          "text": [
            "WARNING:absl:Found untraced functions such as _update_step_xla while saving (showing 1 of 1). These functions will not be directly callable after loading.\n",
            "\n",
            "                                                                                          \n",
            "100%|██████████| 226/226 [00:00<00:00,  6.89it/s]\u001b[A\n",
            "100%|██████████| 226/226 [00:00<00:00,  6.89it/s, iterations=226/226 Iterations Completed]\u001b[A"
          ]
        },
        {
          "output_type": "stream",
          "name": "stdout",
          "text": [
            "cleaned_data----------------------------------------- True\n",
            "1/1 [==============================] - 0s 9ms/step - loss: 0.8783 - accuracy: 1.0000\n"
          ]
        },
        {
          "output_type": "stream",
          "name": "stderr",
          "text": [
            "WARNING:absl:Found untraced functions such as _update_step_xla while saving (showing 1 of 1). These functions will not be directly callable after loading.\n",
            "100%|█████████▉| 226/227 [00:00<?, ?it/s]\n",
            "100%|██████████| 227/227 [00:00<00:00,  7.30it/s, iterations=227/227 Iterations Completed]"
          ]
        },
        {
          "output_type": "stream",
          "name": "stdout",
          "text": [
            "cleaned_data----------------------------------------- True\n",
            "1/1 [==============================] - 0s 10ms/step - loss: 1.0495 - accuracy: 1.0000\n"
          ]
        },
        {
          "output_type": "stream",
          "name": "stderr",
          "text": [
            "WARNING:absl:Found untraced functions such as _update_step_xla while saving (showing 1 of 1). These functions will not be directly callable after loading.\n",
            "\n",
            "                                                                                          \n",
            "100%|██████████| 228/228 [00:00<00:00,  7.12it/s]\u001b[A\n",
            "100%|██████████| 228/228 [00:00<00:00,  7.12it/s, iterations=228/228 Iterations Completed]\u001b[A"
          ]
        },
        {
          "output_type": "stream",
          "name": "stdout",
          "text": [
            "cleaned_data----------------------------------------- True\n",
            "1/1 [==============================] - 0s 13ms/step - loss: 1.1345 - accuracy: 1.0000\n"
          ]
        },
        {
          "output_type": "stream",
          "name": "stderr",
          "text": [
            "WARNING:absl:Found untraced functions such as _update_step_xla while saving (showing 1 of 1). These functions will not be directly callable after loading.\n",
            "100%|█████████▉| 228/229 [00:00<?, ?it/s]\n",
            "100%|██████████| 229/229 [00:00<00:00,  5.86it/s, iterations=229/229 Iterations Completed]"
          ]
        },
        {
          "output_type": "stream",
          "name": "stdout",
          "text": [
            "cleaned_data----------------------------------------- True\n",
            "1/1 [==============================] - 0s 11ms/step - loss: 1.1753 - accuracy: 1.0000\n"
          ]
        },
        {
          "output_type": "stream",
          "name": "stderr",
          "text": [
            "WARNING:absl:Found untraced functions such as _update_step_xla while saving (showing 1 of 1). These functions will not be directly callable after loading.\n",
            "\n",
            "                                                                                          \n",
            "100%|██████████| 230/230 [00:00<00:00,  6.69it/s]\u001b[A\n",
            "100%|██████████| 230/230 [00:00<00:00,  6.69it/s, iterations=230/230 Iterations Completed]\u001b[A"
          ]
        },
        {
          "output_type": "stream",
          "name": "stdout",
          "text": [
            "cleaned_data----------------------------------------- True\n",
            "1/1 [==============================] - 0s 10ms/step - loss: 1.0795 - accuracy: 1.0000\n"
          ]
        },
        {
          "output_type": "stream",
          "name": "stderr",
          "text": [
            "WARNING:absl:Found untraced functions such as _update_step_xla while saving (showing 1 of 1). These functions will not be directly callable after loading.\n",
            "100%|█████████▉| 230/231 [00:00<?, ?it/s]\n",
            "100%|██████████| 231/231 [00:00<00:00,  6.69it/s, iterations=231/231 Iterations Completed]"
          ]
        },
        {
          "output_type": "stream",
          "name": "stdout",
          "text": [
            "cleaned_data----------------------------------------- True\n",
            "1/1 [==============================] - 0s 9ms/step - loss: 0.8633 - accuracy: 1.0000\n"
          ]
        },
        {
          "output_type": "stream",
          "name": "stderr",
          "text": [
            "WARNING:absl:Found untraced functions such as _update_step_xla while saving (showing 1 of 1). These functions will not be directly callable after loading.\n",
            "\n",
            "                                                                                          \n",
            "100%|██████████| 232/232 [00:00<00:00,  7.49it/s]\u001b[A\n",
            "100%|██████████| 232/232 [00:00<00:00,  7.49it/s, iterations=232/232 Iterations Completed]\u001b[A"
          ]
        },
        {
          "output_type": "stream",
          "name": "stdout",
          "text": [
            "cleaned_data----------------------------------------- True\n",
            "1/1 [==============================] - 0s 12ms/step - loss: 0.8508 - accuracy: 1.0000\n"
          ]
        },
        {
          "output_type": "stream",
          "name": "stderr",
          "text": [
            "WARNING:absl:Found untraced functions such as _update_step_xla while saving (showing 1 of 1). These functions will not be directly callable after loading.\n",
            "100%|█████████▉| 232/233 [00:00<?, ?it/s]\n",
            "100%|██████████| 233/233 [00:00<00:00,  5.35it/s, iterations=233/233 Iterations Completed]"
          ]
        },
        {
          "output_type": "stream",
          "name": "stdout",
          "text": [
            "cleaned_data----------------------------------------- True\n",
            "1/1 [==============================] - 0s 11ms/step - loss: 0.6946 - accuracy: 1.0000\n"
          ]
        },
        {
          "output_type": "stream",
          "name": "stderr",
          "text": [
            "WARNING:absl:Found untraced functions such as _update_step_xla while saving (showing 1 of 1). These functions will not be directly callable after loading.\n",
            "\n",
            "\n",
            "100%|██████████| 234/234 [00:00<00:00,  4.86it/s]\u001b[A\n",
            "100%|██████████| 234/234 [00:00<00:00,  4.86it/s, iterations=234/234 Iterations Completed]\u001b[A"
          ]
        },
        {
          "output_type": "stream",
          "name": "stdout",
          "text": [
            "cleaned_data----------------------------------------- True\n",
            "1/1 [==============================] - 0s 10ms/step - loss: 0.5311 - accuracy: 1.0000\n"
          ]
        },
        {
          "output_type": "stream",
          "name": "stderr",
          "text": [
            "WARNING:absl:Found untraced functions such as _update_step_xla while saving (showing 1 of 1). These functions will not be directly callable after loading.\n",
            "100%|█████████▉| 234/235 [00:00<?, ?it/s]\n",
            "100%|██████████| 235/235 [00:00<00:00,  5.40it/s, iterations=235/235 Iterations Completed]"
          ]
        },
        {
          "output_type": "stream",
          "name": "stdout",
          "text": [
            "cleaned_data----------------------------------------- True\n",
            "1/1 [==============================] - 0s 13ms/step - loss: 0.5186 - accuracy: 1.0000\n"
          ]
        },
        {
          "output_type": "stream",
          "name": "stderr",
          "text": [
            "WARNING:absl:Found untraced functions such as _update_step_xla while saving (showing 1 of 1). These functions will not be directly callable after loading.\n",
            "\n",
            "                                                                                          \n",
            "100%|██████████| 236/236 [00:00<00:00,  7.79it/s]\u001b[A\n",
            "100%|██████████| 236/236 [00:00<00:00,  7.79it/s, iterations=236/236 Iterations Completed]\u001b[A"
          ]
        },
        {
          "output_type": "stream",
          "name": "stdout",
          "text": [
            "cleaned_data----------------------------------------- True\n",
            "1/1 [==============================] - 0s 10ms/step - loss: 0.5487 - accuracy: 1.0000\n"
          ]
        },
        {
          "output_type": "stream",
          "name": "stderr",
          "text": [
            "WARNING:absl:Found untraced functions such as _update_step_xla while saving (showing 1 of 1). These functions will not be directly callable after loading.\n",
            "100%|█████████▉| 236/237 [00:00<?, ?it/s]\n",
            "100%|██████████| 237/237 [00:00<00:00,  6.99it/s, iterations=237/237 Iterations Completed]"
          ]
        },
        {
          "output_type": "stream",
          "name": "stdout",
          "text": [
            "cleaned_data----------------------------------------- True\n",
            "1/1 [==============================] - 0s 11ms/step - loss: 0.5396 - accuracy: 1.0000\n"
          ]
        },
        {
          "output_type": "stream",
          "name": "stderr",
          "text": [
            "WARNING:absl:Found untraced functions such as _update_step_xla while saving (showing 1 of 1). These functions will not be directly callable after loading.\n",
            "\n",
            "                                                                                          \n",
            "100%|██████████| 238/238 [00:00<00:00,  7.16it/s]\u001b[A\n",
            "100%|██████████| 238/238 [00:00<00:00,  7.16it/s, iterations=238/238 Iterations Completed]\u001b[A"
          ]
        },
        {
          "output_type": "stream",
          "name": "stdout",
          "text": [
            "cleaned_data----------------------------------------- True\n",
            "1/1 [==============================] - 0s 9ms/step - loss: 0.6480 - accuracy: 1.0000\n"
          ]
        },
        {
          "output_type": "stream",
          "name": "stderr",
          "text": [
            "WARNING:absl:Found untraced functions such as _update_step_xla while saving (showing 1 of 1). These functions will not be directly callable after loading.\n",
            "100%|█████████▉| 238/239 [00:00<?, ?it/s]\n",
            "100%|██████████| 239/239 [00:00<00:00,  6.86it/s, iterations=239/239 Iterations Completed]"
          ]
        },
        {
          "output_type": "stream",
          "name": "stdout",
          "text": [
            "cleaned_data----------------------------------------- True\n",
            "1/1 [==============================] - 0s 13ms/step - loss: 0.6476 - accuracy: 1.0000\n"
          ]
        },
        {
          "output_type": "stream",
          "name": "stderr",
          "text": [
            "WARNING:absl:Found untraced functions such as _update_step_xla while saving (showing 1 of 1). These functions will not be directly callable after loading.\n",
            "\n",
            "                                                                                          \n",
            "100%|██████████| 240/240 [00:00<00:00,  7.28it/s]\u001b[A\n",
            "100%|██████████| 240/240 [00:00<00:00,  7.28it/s, iterations=240/240 Iterations Completed]\u001b[A"
          ]
        },
        {
          "output_type": "stream",
          "name": "stdout",
          "text": [
            "cleaned_data----------------------------------------- True\n",
            "1/1 [==============================] - 0s 13ms/step - loss: 0.5885 - accuracy: 1.0000\n"
          ]
        },
        {
          "output_type": "stream",
          "name": "stderr",
          "text": [
            "WARNING:absl:Found untraced functions such as _update_step_xla while saving (showing 1 of 1). These functions will not be directly callable after loading.\n",
            "100%|█████████▉| 240/241 [00:00<?, ?it/s]\n",
            "100%|██████████| 241/241 [00:00<00:00,  6.52it/s, iterations=241/241 Iterations Completed]"
          ]
        },
        {
          "output_type": "stream",
          "name": "stdout",
          "text": [
            "cleaned_data----------------------------------------- True\n",
            "1/1 [==============================] - 0s 10ms/step - loss: 0.6592 - accuracy: 1.0000\n"
          ]
        },
        {
          "output_type": "stream",
          "name": "stderr",
          "text": [
            "WARNING:absl:Found untraced functions such as _update_step_xla while saving (showing 1 of 1). These functions will not be directly callable after loading.\n",
            "\n",
            "                                                                                          \n",
            "100%|██████████| 242/242 [00:00<00:00,  7.05it/s]\u001b[A\n",
            "100%|██████████| 242/242 [00:00<00:00,  7.05it/s, iterations=242/242 Iterations Completed]\u001b[A"
          ]
        },
        {
          "output_type": "stream",
          "name": "stdout",
          "text": [
            "cleaned_data----------------------------------------- True\n",
            "1/1 [==============================] - 0s 12ms/step - loss: 0.4785 - accuracy: 1.0000\n"
          ]
        },
        {
          "output_type": "stream",
          "name": "stderr",
          "text": [
            "WARNING:absl:Found untraced functions such as _update_step_xla while saving (showing 1 of 1). These functions will not be directly callable after loading.\n",
            "100%|█████████▉| 242/243 [00:00<?, ?it/s]\n",
            "100%|██████████| 243/243 [00:00<00:00,  6.46it/s, iterations=243/243 Iterations Completed]"
          ]
        },
        {
          "output_type": "stream",
          "name": "stdout",
          "text": [
            "cleaned_data----------------------------------------- True\n",
            "1/1 [==============================] - 0s 12ms/step - loss: 0.4383 - accuracy: 0.9643\n"
          ]
        },
        {
          "output_type": "stream",
          "name": "stderr",
          "text": [
            "WARNING:absl:Found untraced functions such as _update_step_xla while saving (showing 1 of 1). These functions will not be directly callable after loading.\n",
            "\n",
            "\n",
            "100%|██████████| 244/244 [00:00<00:00,  4.69it/s]\u001b[A\n",
            "100%|██████████| 244/244 [00:00<00:00,  4.69it/s, iterations=244/244 Iterations Completed]\u001b[A"
          ]
        },
        {
          "output_type": "stream",
          "name": "stdout",
          "text": [
            "cleaned_data----------------------------------------- True\n",
            "1/1 [==============================] - 0s 17ms/step - loss: 0.5950 - accuracy: 0.7500\n"
          ]
        },
        {
          "output_type": "stream",
          "name": "stderr",
          "text": [
            "WARNING:absl:Found untraced functions such as _update_step_xla while saving (showing 1 of 1). These functions will not be directly callable after loading.\n",
            "100%|█████████▉| 244/245 [00:00<?, ?it/s]\n",
            "100%|██████████| 245/245 [00:00<00:00,  4.55it/s, iterations=245/245 Iterations Completed]"
          ]
        },
        {
          "output_type": "stream",
          "name": "stdout",
          "text": [
            "cleaned_data----------------------------------------- True\n",
            "1/1 [==============================] - 0s 11ms/step - loss: 0.9283 - accuracy: 0.4286\n"
          ]
        },
        {
          "output_type": "stream",
          "name": "stderr",
          "text": [
            "WARNING:absl:Found untraced functions such as _update_step_xla while saving (showing 1 of 1). These functions will not be directly callable after loading.\n",
            "\n",
            "                                                                                          \n",
            "100%|██████████| 246/246 [00:00<00:00,  7.27it/s]\u001b[A\n",
            "100%|██████████| 246/246 [00:00<00:00,  7.27it/s, iterations=246/246 Iterations Completed]\u001b[A"
          ]
        },
        {
          "output_type": "stream",
          "name": "stdout",
          "text": [
            "cleaned_data----------------------------------------- True\n",
            "1/1 [==============================] - 0s 11ms/step - loss: 0.8144 - accuracy: 0.6786\n"
          ]
        },
        {
          "output_type": "stream",
          "name": "stderr",
          "text": [
            "WARNING:absl:Found untraced functions such as _update_step_xla while saving (showing 1 of 1). These functions will not be directly callable after loading.\n",
            "100%|█████████▉| 246/247 [00:00<?, ?it/s]\n",
            "100%|██████████| 247/247 [00:00<00:00,  6.28it/s, iterations=247/247 Iterations Completed]"
          ]
        },
        {
          "output_type": "stream",
          "name": "stdout",
          "text": [
            "cleaned_data----------------------------------------- True\n",
            "1/1 [==============================] - 0s 10ms/step - loss: 1.0367 - accuracy: 0.4286\n"
          ]
        },
        {
          "output_type": "stream",
          "name": "stderr",
          "text": [
            "WARNING:absl:Found untraced functions such as _update_step_xla while saving (showing 1 of 1). These functions will not be directly callable after loading.\n",
            "\n",
            "                                                                                          \n",
            "100%|██████████| 248/248 [00:00<00:00,  7.50it/s]\u001b[A\n",
            "100%|██████████| 248/248 [00:00<00:00,  7.50it/s, iterations=248/248 Iterations Completed]\u001b[A"
          ]
        },
        {
          "output_type": "stream",
          "name": "stdout",
          "text": [
            "cleaned_data----------------------------------------- True\n",
            "1/1 [==============================] - 0s 13ms/step - loss: 0.6457 - accuracy: 0.7857\n"
          ]
        },
        {
          "output_type": "stream",
          "name": "stderr",
          "text": [
            "WARNING:absl:Found untraced functions such as _update_step_xla while saving (showing 1 of 1). These functions will not be directly callable after loading.\n",
            "100%|█████████▉| 248/249 [00:00<?, ?it/s]\n",
            "100%|██████████| 249/249 [00:00<00:00,  6.65it/s, iterations=249/249 Iterations Completed]"
          ]
        },
        {
          "output_type": "stream",
          "name": "stdout",
          "text": [
            "cleaned_data----------------------------------------- True\n",
            "1/1 [==============================] - 0s 12ms/step - loss: 0.7821 - accuracy: 0.6071\n"
          ]
        },
        {
          "output_type": "stream",
          "name": "stderr",
          "text": [
            "WARNING:absl:Found untraced functions such as _update_step_xla while saving (showing 1 of 1). These functions will not be directly callable after loading.\n",
            "\n",
            "                                                                                          \n",
            "100%|██████████| 250/250 [00:00<00:00,  6.62it/s]\u001b[A\n",
            "100%|██████████| 250/250 [00:00<00:00,  6.62it/s, iterations=250/250 Iterations Completed]\u001b[A"
          ]
        },
        {
          "output_type": "stream",
          "name": "stdout",
          "text": [
            "cleaned_data----------------------------------------- True\n",
            "1/1 [==============================] - 0s 13ms/step - loss: 0.7450 - accuracy: 0.7857\n"
          ]
        },
        {
          "output_type": "stream",
          "name": "stderr",
          "text": [
            "WARNING:absl:Found untraced functions such as _update_step_xla while saving (showing 1 of 1). These functions will not be directly callable after loading.\n",
            "100%|█████████▉| 250/251 [00:00<?, ?it/s]\n",
            "100%|██████████| 251/251 [00:00<00:00,  6.43it/s, iterations=251/251 Iterations Completed]"
          ]
        },
        {
          "output_type": "stream",
          "name": "stdout",
          "text": [
            "cleaned_data----------------------------------------- True\n",
            "1/1 [==============================] - 0s 11ms/step - loss: 0.6543 - accuracy: 0.7857\n"
          ]
        },
        {
          "output_type": "stream",
          "name": "stderr",
          "text": [
            "WARNING:absl:Found untraced functions such as _update_step_xla while saving (showing 1 of 1). These functions will not be directly callable after loading.\n",
            "\n",
            "                                                                                          \n",
            "100%|██████████| 252/252 [00:00<00:00,  7.35it/s]\u001b[A\n",
            "100%|██████████| 252/252 [00:00<00:00,  7.35it/s, iterations=252/252 Iterations Completed]\u001b[A"
          ]
        },
        {
          "output_type": "stream",
          "name": "stdout",
          "text": [
            "cleaned_data----------------------------------------- True\n",
            "1/1 [==============================] - 0s 13ms/step - loss: 0.5697 - accuracy: 0.7500\n"
          ]
        },
        {
          "output_type": "stream",
          "name": "stderr",
          "text": [
            "WARNING:absl:Found untraced functions such as _update_step_xla while saving (showing 1 of 1). These functions will not be directly callable after loading.\n",
            "100%|█████████▉| 252/253 [00:00<?, ?it/s]\n",
            "100%|██████████| 253/253 [00:00<00:00,  6.15it/s, iterations=253/253 Iterations Completed]"
          ]
        },
        {
          "output_type": "stream",
          "name": "stdout",
          "text": [
            "cleaned_data----------------------------------------- True\n",
            "1/1 [==============================] - 0s 13ms/step - loss: 0.4444 - accuracy: 0.9643\n"
          ]
        },
        {
          "output_type": "stream",
          "name": "stderr",
          "text": [
            "WARNING:absl:Found untraced functions such as _update_step_xla while saving (showing 1 of 1). These functions will not be directly callable after loading.\n",
            "\n",
            "\n",
            "100%|██████████| 254/254 [00:00<00:00,  4.76it/s]\u001b[A\n",
            "100%|██████████| 254/254 [00:00<00:00,  4.76it/s, iterations=254/254 Iterations Completed]\u001b[A"
          ]
        },
        {
          "output_type": "stream",
          "name": "stdout",
          "text": [
            "cleaned_data----------------------------------------- True\n",
            "1/1 [==============================] - 0s 15ms/step - loss: 0.4083 - accuracy: 1.0000\n"
          ]
        },
        {
          "output_type": "stream",
          "name": "stderr",
          "text": [
            "WARNING:absl:Found untraced functions such as _update_step_xla while saving (showing 1 of 1). These functions will not be directly callable after loading.\n",
            "100%|█████████▉| 254/255 [00:00<?, ?it/s]\n",
            "100%|██████████| 255/255 [00:00<00:00,  4.60it/s, iterations=255/255 Iterations Completed]"
          ]
        },
        {
          "output_type": "stream",
          "name": "stdout",
          "text": [
            "cleaned_data----------------------------------------- True\n",
            "1/1 [==============================] - 0s 11ms/step - loss: 0.4200 - accuracy: 0.9286\n"
          ]
        },
        {
          "output_type": "stream",
          "name": "stderr",
          "text": [
            "WARNING:absl:Found untraced functions such as _update_step_xla while saving (showing 1 of 1). These functions will not be directly callable after loading.\n",
            "\n",
            "\n",
            "100%|██████████| 256/256 [00:00<00:00,  4.88it/s]\u001b[A\n",
            "100%|██████████| 256/256 [00:00<00:00,  4.88it/s, iterations=256/256 Iterations Completed]\u001b[A"
          ]
        },
        {
          "output_type": "stream",
          "name": "stdout",
          "text": [
            "cleaned_data----------------------------------------- True\n",
            "1/1 [==============================] - 0s 12ms/step - loss: 0.4578 - accuracy: 0.9286\n"
          ]
        },
        {
          "output_type": "stream",
          "name": "stderr",
          "text": [
            "WARNING:absl:Found untraced functions such as _update_step_xla while saving (showing 1 of 1). These functions will not be directly callable after loading.\n",
            "100%|█████████▉| 256/257 [00:00<?, ?it/s]\n",
            "100%|██████████| 257/257 [00:00<00:00,  7.00it/s, iterations=257/257 Iterations Completed]"
          ]
        },
        {
          "output_type": "stream",
          "name": "stdout",
          "text": [
            "cleaned_data----------------------------------------- True\n",
            "1/1 [==============================] - 0s 22ms/step - loss: 0.4657 - accuracy: 0.9643\n"
          ]
        },
        {
          "output_type": "stream",
          "name": "stderr",
          "text": [
            "WARNING:absl:Found untraced functions such as _update_step_xla while saving (showing 1 of 1). These functions will not be directly callable after loading.\n",
            "\n",
            "                                                                                          \n",
            "100%|██████████| 258/258 [00:00<00:00,  6.60it/s]\u001b[A\n",
            "100%|██████████| 258/258 [00:00<00:00,  6.60it/s, iterations=258/258 Iterations Completed]\u001b[A"
          ]
        },
        {
          "output_type": "stream",
          "name": "stdout",
          "text": [
            "cleaned_data----------------------------------------- True\n",
            "1/1 [==============================] - 0s 10ms/step - loss: 0.6039 - accuracy: 1.0000\n"
          ]
        },
        {
          "output_type": "stream",
          "name": "stderr",
          "text": [
            "WARNING:absl:Found untraced functions such as _update_step_xla while saving (showing 1 of 1). These functions will not be directly callable after loading.\n",
            "100%|█████████▉| 258/259 [00:00<?, ?it/s]\n",
            "100%|██████████| 259/259 [00:00<00:00,  7.25it/s, iterations=259/259 Iterations Completed]"
          ]
        },
        {
          "output_type": "stream",
          "name": "stdout",
          "text": [
            "cleaned_data----------------------------------------- True\n",
            "1/1 [==============================] - 0s 16ms/step - loss: 0.7567 - accuracy: 1.0000\n"
          ]
        },
        {
          "output_type": "stream",
          "name": "stderr",
          "text": [
            "WARNING:absl:Found untraced functions such as _update_step_xla while saving (showing 1 of 1). These functions will not be directly callable after loading.\n",
            "\n",
            "                                                                                          \n",
            "100%|██████████| 260/260 [00:00<00:00,  7.70it/s]\u001b[A\n",
            "100%|██████████| 260/260 [00:00<00:00,  7.70it/s, iterations=260/260 Iterations Completed]\u001b[A"
          ]
        },
        {
          "output_type": "stream",
          "name": "stdout",
          "text": [
            "cleaned_data----------------------------------------- True\n",
            "1/1 [==============================] - 0s 10ms/step - loss: 0.9824 - accuracy: 1.0000\n"
          ]
        },
        {
          "output_type": "stream",
          "name": "stderr",
          "text": [
            "WARNING:absl:Found untraced functions such as _update_step_xla while saving (showing 1 of 1). These functions will not be directly callable after loading.\n",
            "100%|█████████▉| 260/261 [00:00<?, ?it/s]\n",
            "100%|██████████| 261/261 [00:00<00:00,  6.33it/s, iterations=261/261 Iterations Completed]"
          ]
        },
        {
          "output_type": "stream",
          "name": "stdout",
          "text": [
            "cleaned_data----------------------------------------- True\n",
            "1/1 [==============================] - 0s 16ms/step - loss: 1.1309 - accuracy: 1.0000\n"
          ]
        },
        {
          "output_type": "stream",
          "name": "stderr",
          "text": [
            "WARNING:absl:Found untraced functions such as _update_step_xla while saving (showing 1 of 1). These functions will not be directly callable after loading.\n",
            "\n",
            "                                                                                          \n",
            "100%|██████████| 262/262 [00:00<00:00,  6.66it/s]\u001b[A\n",
            "100%|██████████| 262/262 [00:00<00:00,  6.66it/s, iterations=262/262 Iterations Completed]\u001b[A"
          ]
        },
        {
          "output_type": "stream",
          "name": "stdout",
          "text": [
            "cleaned_data----------------------------------------- True\n",
            "1/1 [==============================] - 0s 11ms/step - loss: 0.9202 - accuracy: 1.0000\n"
          ]
        },
        {
          "output_type": "stream",
          "name": "stderr",
          "text": [
            "WARNING:absl:Found untraced functions such as _update_step_xla while saving (showing 1 of 1). These functions will not be directly callable after loading.\n",
            "100%|█████████▉| 262/263 [00:00<?, ?it/s]\n",
            "100%|██████████| 263/263 [00:00<00:00,  6.83it/s, iterations=263/263 Iterations Completed]"
          ]
        },
        {
          "output_type": "stream",
          "name": "stdout",
          "text": [
            "cleaned_data----------------------------------------- True\n",
            "1/1 [==============================] - 0s 10ms/step - loss: 0.7751 - accuracy: 1.0000\n"
          ]
        },
        {
          "output_type": "stream",
          "name": "stderr",
          "text": [
            "WARNING:absl:Found untraced functions such as _update_step_xla while saving (showing 1 of 1). These functions will not be directly callable after loading.\n",
            "\n",
            "                                                                                          \n",
            "100%|██████████| 264/264 [00:00<00:00,  6.90it/s]\u001b[A\n",
            "100%|██████████| 264/264 [00:00<00:00,  6.90it/s, iterations=264/264 Iterations Completed]\u001b[A"
          ]
        },
        {
          "output_type": "stream",
          "name": "stdout",
          "text": [
            "cleaned_data----------------------------------------- True\n",
            "1/1 [==============================] - 0s 10ms/step - loss: 0.8705 - accuracy: 1.0000\n"
          ]
        },
        {
          "output_type": "stream",
          "name": "stderr",
          "text": [
            "WARNING:absl:Found untraced functions such as _update_step_xla while saving (showing 1 of 1). These functions will not be directly callable after loading.\n",
            "100%|█████████▉| 264/265 [00:00<?, ?it/s]\n",
            "100%|██████████| 265/265 [00:00<00:00,  4.66it/s, iterations=265/265 Iterations Completed]"
          ]
        },
        {
          "output_type": "stream",
          "name": "stdout",
          "text": [
            "cleaned_data----------------------------------------- True\n",
            "1/1 [==============================] - 0s 11ms/step - loss: 1.0155 - accuracy: 1.0000\n"
          ]
        },
        {
          "output_type": "stream",
          "name": "stderr",
          "text": [
            "WARNING:absl:Found untraced functions such as _update_step_xla while saving (showing 1 of 1). These functions will not be directly callable after loading.\n",
            "\n",
            "\n",
            "100%|██████████| 266/266 [00:00<00:00,  3.62it/s]\u001b[A\n",
            "100%|██████████| 266/266 [00:00<00:00,  3.62it/s, iterations=266/266 Iterations Completed]\u001b[A"
          ]
        },
        {
          "output_type": "stream",
          "name": "stdout",
          "text": [
            "cleaned_data----------------------------------------- True\n",
            "1/1 [==============================] - 0s 16ms/step - loss: 0.9312 - accuracy: 1.0000\n"
          ]
        },
        {
          "output_type": "stream",
          "name": "stderr",
          "text": [
            "WARNING:absl:Found untraced functions such as _update_step_xla while saving (showing 1 of 1). These functions will not be directly callable after loading.\n",
            "100%|█████████▉| 266/267 [00:00<?, ?it/s]\n",
            "100%|██████████| 267/267 [00:00<00:00,  6.45it/s, iterations=267/267 Iterations Completed]"
          ]
        },
        {
          "output_type": "stream",
          "name": "stdout",
          "text": [
            "cleaned_data----------------------------------------- True\n",
            "1/1 [==============================] - 0s 9ms/step - loss: 1.1248 - accuracy: 1.0000\n"
          ]
        },
        {
          "output_type": "stream",
          "name": "stderr",
          "text": [
            "WARNING:absl:Found untraced functions such as _update_step_xla while saving (showing 1 of 1). These functions will not be directly callable after loading.\n",
            "\n",
            "                                                                                          \n",
            "100%|██████████| 268/268 [00:00<00:00,  7.15it/s]\u001b[A\n",
            "100%|██████████| 268/268 [00:00<00:00,  7.15it/s, iterations=268/268 Iterations Completed]\u001b[A"
          ]
        },
        {
          "output_type": "stream",
          "name": "stdout",
          "text": [
            "cleaned_data----------------------------------------- True\n",
            "1/1 [==============================] - 0s 11ms/step - loss: 0.9064 - accuracy: 1.0000\n"
          ]
        },
        {
          "output_type": "stream",
          "name": "stderr",
          "text": [
            "WARNING:absl:Found untraced functions such as _update_step_xla while saving (showing 1 of 1). These functions will not be directly callable after loading.\n",
            "100%|█████████▉| 268/269 [00:00<?, ?it/s]\n",
            "100%|██████████| 269/269 [00:00<00:00,  6.53it/s, iterations=269/269 Iterations Completed]"
          ]
        },
        {
          "output_type": "stream",
          "name": "stdout",
          "text": [
            "cleaned_data----------------------------------------- True\n",
            "1/1 [==============================] - 0s 10ms/step - loss: 0.9757 - accuracy: 1.0000\n"
          ]
        },
        {
          "output_type": "stream",
          "name": "stderr",
          "text": [
            "WARNING:absl:Found untraced functions such as _update_step_xla while saving (showing 1 of 1). These functions will not be directly callable after loading.\n",
            "\n",
            "                                                                                          \n",
            "100%|██████████| 270/270 [00:00<00:00,  7.27it/s]\u001b[A\n",
            "100%|██████████| 270/270 [00:00<00:00,  7.27it/s, iterations=270/270 Iterations Completed]\u001b[A"
          ]
        },
        {
          "output_type": "stream",
          "name": "stdout",
          "text": [
            "cleaned_data----------------------------------------- True\n",
            "1/1 [==============================] - 0s 9ms/step - loss: 0.8418 - accuracy: 1.0000\n"
          ]
        },
        {
          "output_type": "stream",
          "name": "stderr",
          "text": [
            "WARNING:absl:Found untraced functions such as _update_step_xla while saving (showing 1 of 1). These functions will not be directly callable after loading.\n",
            "100%|█████████▉| 270/271 [00:00<?, ?it/s]\n",
            "100%|██████████| 271/271 [00:00<00:00,  7.47it/s, iterations=271/271 Iterations Completed]"
          ]
        },
        {
          "output_type": "stream",
          "name": "stdout",
          "text": [
            "cleaned_data----------------------------------------- True\n",
            "1/1 [==============================] - 0s 9ms/step - loss: 0.9832 - accuracy: 1.0000\n"
          ]
        },
        {
          "output_type": "stream",
          "name": "stderr",
          "text": [
            "WARNING:absl:Found untraced functions such as _update_step_xla while saving (showing 1 of 1). These functions will not be directly callable after loading.\n",
            "\n",
            "                                                                                          \n",
            "100%|██████████| 272/272 [00:00<00:00,  7.37it/s]\u001b[A\n",
            "100%|██████████| 272/272 [00:00<00:00,  7.37it/s, iterations=272/272 Iterations Completed]\u001b[A"
          ]
        },
        {
          "output_type": "stream",
          "name": "stdout",
          "text": [
            "cleaned_data----------------------------------------- True\n",
            "1/1 [==============================] - 0s 9ms/step - loss: 1.0293 - accuracy: 1.0000\n"
          ]
        },
        {
          "output_type": "stream",
          "name": "stderr",
          "text": [
            "WARNING:absl:Found untraced functions such as _update_step_xla while saving (showing 1 of 1). These functions will not be directly callable after loading.\n",
            "100%|█████████▉| 272/273 [00:00<?, ?it/s]\n",
            "100%|██████████| 273/273 [00:00<00:00,  7.11it/s, iterations=273/273 Iterations Completed]"
          ]
        },
        {
          "output_type": "stream",
          "name": "stdout",
          "text": [
            "cleaned_data----------------------------------------- True\n",
            "1/1 [==============================] - 0s 10ms/step - loss: 1.1091 - accuracy: 1.0000\n"
          ]
        },
        {
          "output_type": "stream",
          "name": "stderr",
          "text": [
            "WARNING:absl:Found untraced functions such as _update_step_xla while saving (showing 1 of 1). These functions will not be directly callable after loading.\n",
            "\n",
            "                                                                                          \n",
            "100%|██████████| 274/274 [00:00<00:00,  7.44it/s]\u001b[A\n",
            "100%|██████████| 274/274 [00:00<00:00,  7.44it/s, iterations=274/274 Iterations Completed]\u001b[A"
          ]
        },
        {
          "output_type": "stream",
          "name": "stdout",
          "text": [
            "cleaned_data----------------------------------------- True\n",
            "1/1 [==============================] - 0s 11ms/step - loss: 0.9711 - accuracy: 1.0000\n"
          ]
        },
        {
          "output_type": "stream",
          "name": "stderr",
          "text": [
            "WARNING:absl:Found untraced functions such as _update_step_xla while saving (showing 1 of 1). These functions will not be directly callable after loading.\n",
            "100%|█████████▉| 274/275 [00:00<?, ?it/s]\n",
            "100%|██████████| 275/275 [00:00<00:00,  6.63it/s, iterations=275/275 Iterations Completed]"
          ]
        },
        {
          "output_type": "stream",
          "name": "stdout",
          "text": [
            "cleaned_data----------------------------------------- True\n",
            "1/1 [==============================] - 0s 11ms/step - loss: 0.7299 - accuracy: 1.0000\n"
          ]
        },
        {
          "output_type": "stream",
          "name": "stderr",
          "text": [
            "WARNING:absl:Found untraced functions such as _update_step_xla while saving (showing 1 of 1). These functions will not be directly callable after loading.\n",
            "\n",
            "                                                                                          \n",
            "100%|██████████| 276/276 [00:00<00:00,  5.78it/s]\u001b[A\n",
            "100%|██████████| 276/276 [00:00<00:00,  5.78it/s, iterations=276/276 Iterations Completed]\u001b[A"
          ]
        },
        {
          "output_type": "stream",
          "name": "stdout",
          "text": [
            "cleaned_data----------------------------------------- True\n",
            "1/1 [==============================] - 0s 17ms/step - loss: 0.4954 - accuracy: 1.0000\n"
          ]
        },
        {
          "output_type": "stream",
          "name": "stderr",
          "text": [
            "WARNING:absl:Found untraced functions such as _update_step_xla while saving (showing 1 of 1). These functions will not be directly callable after loading.\n",
            "100%|█████████▉| 276/277 [00:00<?, ?it/s]\n",
            "100%|██████████| 277/277 [00:00<00:00,  4.44it/s, iterations=277/277 Iterations Completed]"
          ]
        },
        {
          "output_type": "stream",
          "name": "stdout",
          "text": [
            "cleaned_data----------------------------------------- True\n",
            "1/1 [==============================] - 0s 11ms/step - loss: 0.4485 - accuracy: 0.8929\n"
          ]
        },
        {
          "output_type": "stream",
          "name": "stderr",
          "text": [
            "WARNING:absl:Found untraced functions such as _update_step_xla while saving (showing 1 of 1). These functions will not be directly callable after loading.\n",
            "\n",
            "                                                                                          \n",
            "100%|██████████| 278/278 [00:00<00:00,  6.70it/s]\u001b[A\n",
            "100%|██████████| 278/278 [00:00<00:00,  6.70it/s, iterations=278/278 Iterations Completed]\u001b[A"
          ]
        },
        {
          "output_type": "stream",
          "name": "stdout",
          "text": [
            "cleaned_data----------------------------------------- True\n",
            "1/1 [==============================] - 0s 9ms/step - loss: 0.4998 - accuracy: 0.9286\n"
          ]
        },
        {
          "output_type": "stream",
          "name": "stderr",
          "text": [
            "WARNING:absl:Found untraced functions such as _update_step_xla while saving (showing 1 of 1). These functions will not be directly callable after loading.\n",
            "100%|█████████▉| 278/279 [00:00<?, ?it/s]\n",
            "100%|██████████| 279/279 [00:00<00:00,  6.99it/s, iterations=279/279 Iterations Completed]"
          ]
        },
        {
          "output_type": "stream",
          "name": "stdout",
          "text": [
            "cleaned_data----------------------------------------- True\n",
            "1/1 [==============================] - 0s 11ms/step - loss: 0.5750 - accuracy: 1.0000\n"
          ]
        },
        {
          "output_type": "stream",
          "name": "stderr",
          "text": [
            "WARNING:absl:Found untraced functions such as _update_step_xla while saving (showing 1 of 1). These functions will not be directly callable after loading.\n",
            "\n",
            "                                                                                          \n",
            "100%|██████████| 280/280 [00:00<00:00,  6.93it/s]\u001b[A\n",
            "100%|██████████| 280/280 [00:00<00:00,  6.93it/s, iterations=280/280 Iterations Completed]\u001b[A"
          ]
        },
        {
          "output_type": "stream",
          "name": "stdout",
          "text": [
            "cleaned_data----------------------------------------- True\n",
            "1/1 [==============================] - 0s 18ms/step - loss: 0.6809 - accuracy: 1.0000\n"
          ]
        },
        {
          "output_type": "stream",
          "name": "stderr",
          "text": [
            "WARNING:absl:Found untraced functions such as _update_step_xla while saving (showing 1 of 1). These functions will not be directly callable after loading.\n",
            "100%|█████████▉| 280/281 [00:00<?, ?it/s]\n",
            "100%|██████████| 281/281 [00:00<00:00,  7.42it/s, iterations=281/281 Iterations Completed]"
          ]
        },
        {
          "output_type": "stream",
          "name": "stdout",
          "text": [
            "cleaned_data----------------------------------------- True\n",
            "1/1 [==============================] - 0s 14ms/step - loss: 0.4876 - accuracy: 1.0000\n"
          ]
        },
        {
          "output_type": "stream",
          "name": "stderr",
          "text": [
            "WARNING:absl:Found untraced functions such as _update_step_xla while saving (showing 1 of 1). These functions will not be directly callable after loading.\n",
            "\n",
            "                                                                                          \n",
            "100%|██████████| 282/282 [00:00<00:00,  6.47it/s]\u001b[A\n",
            "100%|██████████| 282/282 [00:00<00:00,  6.47it/s, iterations=282/282 Iterations Completed]\u001b[A"
          ]
        },
        {
          "output_type": "stream",
          "name": "stdout",
          "text": [
            "cleaned_data----------------------------------------- True\n",
            "1/1 [==============================] - 0s 10ms/step - loss: 0.5390 - accuracy: 0.8571\n"
          ]
        },
        {
          "output_type": "stream",
          "name": "stderr",
          "text": [
            "WARNING:absl:Found untraced functions such as _update_step_xla while saving (showing 1 of 1). These functions will not be directly callable after loading.\n",
            "100%|█████████▉| 282/283 [00:00<?, ?it/s]\n",
            "100%|██████████| 283/283 [00:00<00:00,  6.69it/s, iterations=283/283 Iterations Completed]"
          ]
        },
        {
          "output_type": "stream",
          "name": "stdout",
          "text": [
            "cleaned_data----------------------------------------- True\n",
            "1/1 [==============================] - 0s 10ms/step - loss: 0.4985 - accuracy: 0.8214\n"
          ]
        },
        {
          "output_type": "stream",
          "name": "stderr",
          "text": [
            "WARNING:absl:Found untraced functions such as _update_step_xla while saving (showing 1 of 1). These functions will not be directly callable after loading.\n",
            "\n",
            "                                                                                          \n",
            "100%|██████████| 284/284 [00:00<00:00,  7.21it/s]\u001b[A\n",
            "100%|██████████| 284/284 [00:00<00:00,  7.21it/s, iterations=284/284 Iterations Completed]\u001b[A"
          ]
        },
        {
          "output_type": "stream",
          "name": "stdout",
          "text": [
            "cleaned_data----------------------------------------- True\n",
            "1/1 [==============================] - 0s 9ms/step - loss: 0.5595 - accuracy: 0.7500\n"
          ]
        },
        {
          "output_type": "stream",
          "name": "stderr",
          "text": [
            "WARNING:absl:Found untraced functions such as _update_step_xla while saving (showing 1 of 1). These functions will not be directly callable after loading.\n",
            "100%|█████████▉| 284/285 [00:00<?, ?it/s]\n",
            "100%|██████████| 285/285 [00:00<00:00,  6.77it/s, iterations=285/285 Iterations Completed]"
          ]
        },
        {
          "output_type": "stream",
          "name": "stdout",
          "text": [
            "cleaned_data----------------------------------------- True\n",
            "1/1 [==============================] - 0s 9ms/step - loss: 0.5120 - accuracy: 0.8571\n"
          ]
        },
        {
          "output_type": "stream",
          "name": "stderr",
          "text": [
            "WARNING:absl:Found untraced functions such as _update_step_xla while saving (showing 1 of 1). These functions will not be directly callable after loading.\n",
            "\n",
            "                                                                                          \n",
            "100%|██████████| 286/286 [00:00<00:00,  6.80it/s]\u001b[A\n",
            "100%|██████████| 286/286 [00:00<00:00,  6.80it/s, iterations=286/286 Iterations Completed]\u001b[A"
          ]
        },
        {
          "output_type": "stream",
          "name": "stdout",
          "text": [
            "cleaned_data----------------------------------------- True\n",
            "1/1 [==============================] - 0s 12ms/step - loss: 0.4015 - accuracy: 0.9286\n"
          ]
        },
        {
          "output_type": "stream",
          "name": "stderr",
          "text": [
            "WARNING:absl:Found untraced functions such as _update_step_xla while saving (showing 1 of 1). These functions will not be directly callable after loading.\n",
            "100%|█████████▉| 286/287 [00:00<?, ?it/s]\n",
            "100%|██████████| 287/287 [00:00<00:00,  5.17it/s, iterations=287/287 Iterations Completed]"
          ]
        },
        {
          "output_type": "stream",
          "name": "stdout",
          "text": [
            "cleaned_data----------------------------------------- True\n",
            "1/1 [==============================] - 0s 11ms/step - loss: 0.4120 - accuracy: 0.9643\n"
          ]
        },
        {
          "output_type": "stream",
          "name": "stderr",
          "text": [
            "WARNING:absl:Found untraced functions such as _update_step_xla while saving (showing 1 of 1). These functions will not be directly callable after loading.\n",
            "\n",
            "\n",
            "100%|██████████| 288/288 [00:00<00:00,  5.01it/s]\u001b[A\n",
            "100%|██████████| 288/288 [00:00<00:00,  5.01it/s, iterations=288/288 Iterations Completed]\u001b[A"
          ]
        },
        {
          "output_type": "stream",
          "name": "stdout",
          "text": [
            "cleaned_data----------------------------------------- True\n",
            "1/1 [==============================] - 0s 17ms/step - loss: 0.4363 - accuracy: 0.9286\n"
          ]
        },
        {
          "output_type": "stream",
          "name": "stderr",
          "text": [
            "WARNING:absl:Found untraced functions such as _update_step_xla while saving (showing 1 of 1). These functions will not be directly callable after loading.\n",
            "100%|█████████▉| 288/289 [00:00<?, ?it/s]\n",
            "100%|██████████| 289/289 [00:00<00:00,  6.19it/s, iterations=289/289 Iterations Completed]"
          ]
        },
        {
          "output_type": "stream",
          "name": "stdout",
          "text": [
            "cleaned_data----------------------------------------- True\n",
            "1/1 [==============================] - 0s 13ms/step - loss: 0.4392 - accuracy: 0.9643\n"
          ]
        },
        {
          "output_type": "stream",
          "name": "stderr",
          "text": [
            "WARNING:absl:Found untraced functions such as _update_step_xla while saving (showing 1 of 1). These functions will not be directly callable after loading.\n",
            "\n",
            "                                                                                          \n",
            "100%|██████████| 290/290 [00:00<00:00,  6.53it/s]\u001b[A\n",
            "100%|██████████| 290/290 [00:00<00:00,  6.53it/s, iterations=290/290 Iterations Completed]\u001b[A"
          ]
        },
        {
          "output_type": "stream",
          "name": "stdout",
          "text": [
            "cleaned_data----------------------------------------- True\n",
            "1/1 [==============================] - 0s 12ms/step - loss: 0.5286 - accuracy: 0.8929\n"
          ]
        },
        {
          "output_type": "stream",
          "name": "stderr",
          "text": [
            "WARNING:absl:Found untraced functions such as _update_step_xla while saving (showing 1 of 1). These functions will not be directly callable after loading.\n",
            "100%|█████████▉| 290/291 [00:00<?, ?it/s]\n",
            "100%|██████████| 291/291 [00:00<00:00,  6.86it/s, iterations=291/291 Iterations Completed]"
          ]
        },
        {
          "output_type": "stream",
          "name": "stdout",
          "text": [
            "cleaned_data----------------------------------------- True\n",
            "1/1 [==============================] - 0s 10ms/step - loss: 0.4100 - accuracy: 0.9643\n"
          ]
        },
        {
          "output_type": "stream",
          "name": "stderr",
          "text": [
            "WARNING:absl:Found untraced functions such as _update_step_xla while saving (showing 1 of 1). These functions will not be directly callable after loading.\n",
            "\n",
            "                                                                                          \n",
            "100%|██████████| 292/292 [00:00<00:00,  7.63it/s]\u001b[A\n",
            "100%|██████████| 292/292 [00:00<00:00,  7.63it/s, iterations=292/292 Iterations Completed]\u001b[A"
          ]
        },
        {
          "output_type": "stream",
          "name": "stdout",
          "text": [
            "cleaned_data----------------------------------------- True\n",
            "1/1 [==============================] - 0s 9ms/step - loss: 0.6463 - accuracy: 1.0000\n"
          ]
        },
        {
          "output_type": "stream",
          "name": "stderr",
          "text": [
            "WARNING:absl:Found untraced functions such as _update_step_xla while saving (showing 1 of 1). These functions will not be directly callable after loading.\n",
            "100%|█████████▉| 292/293 [00:00<?, ?it/s]\n",
            "100%|██████████| 293/293 [00:00<00:00,  6.40it/s, iterations=293/293 Iterations Completed]"
          ]
        },
        {
          "output_type": "stream",
          "name": "stdout",
          "text": [
            "cleaned_data----------------------------------------- True\n",
            "1/1 [==============================] - 0s 9ms/step - loss: 0.8981 - accuracy: 1.0000\n"
          ]
        },
        {
          "output_type": "stream",
          "name": "stderr",
          "text": [
            "WARNING:absl:Found untraced functions such as _update_step_xla while saving (showing 1 of 1). These functions will not be directly callable after loading.\n",
            "\n",
            "                                                                                          \n",
            "100%|██████████| 294/294 [00:00<00:00,  7.29it/s]\u001b[A\n",
            "100%|██████████| 294/294 [00:00<00:00,  7.29it/s, iterations=294/294 Iterations Completed]\u001b[A"
          ]
        },
        {
          "output_type": "stream",
          "name": "stdout",
          "text": [
            "cleaned_data----------------------------------------- True\n",
            "1/1 [==============================] - 0s 10ms/step - loss: 1.0847 - accuracy: 1.0000\n"
          ]
        },
        {
          "output_type": "stream",
          "name": "stderr",
          "text": [
            "WARNING:absl:Found untraced functions such as _update_step_xla while saving (showing 1 of 1). These functions will not be directly callable after loading.\n",
            "100%|█████████▉| 294/295 [00:00<?, ?it/s]\n",
            "100%|██████████| 295/295 [00:00<00:00,  7.15it/s, iterations=295/295 Iterations Completed]"
          ]
        },
        {
          "output_type": "stream",
          "name": "stdout",
          "text": [
            "cleaned_data----------------------------------------- True\n",
            "1/1 [==============================] - 0s 10ms/step - loss: 1.3132 - accuracy: 1.0000\n"
          ]
        },
        {
          "output_type": "stream",
          "name": "stderr",
          "text": [
            "WARNING:absl:Found untraced functions such as _update_step_xla while saving (showing 1 of 1). These functions will not be directly callable after loading.\n",
            "\n",
            "                                                                                          \n",
            "100%|██████████| 296/296 [00:00<00:00,  7.61it/s]\u001b[A\n",
            "100%|██████████| 296/296 [00:00<00:00,  7.61it/s, iterations=296/296 Iterations Completed]\u001b[A"
          ]
        },
        {
          "output_type": "stream",
          "name": "stdout",
          "text": [
            "cleaned_data----------------------------------------- True\n",
            "1/1 [==============================] - 0s 10ms/step - loss: 1.3568 - accuracy: 1.0000\n"
          ]
        },
        {
          "output_type": "stream",
          "name": "stderr",
          "text": [
            "WARNING:absl:Found untraced functions such as _update_step_xla while saving (showing 1 of 1). These functions will not be directly callable after loading.\n",
            "100%|█████████▉| 296/297 [00:00<?, ?it/s]\n",
            "100%|██████████| 297/297 [00:00<00:00,  6.53it/s, iterations=297/297 Iterations Completed]"
          ]
        },
        {
          "output_type": "stream",
          "name": "stdout",
          "text": [
            "cleaned_data----------------------------------------- True\n",
            "1/1 [==============================] - 0s 11ms/step - loss: 1.2257 - accuracy: 1.0000\n"
          ]
        },
        {
          "output_type": "stream",
          "name": "stderr",
          "text": [
            "WARNING:absl:Found untraced functions such as _update_step_xla while saving (showing 1 of 1). These functions will not be directly callable after loading.\n",
            "\n",
            "\n",
            "100%|██████████| 298/298 [00:00<00:00,  5.25it/s]\u001b[A\n",
            "100%|██████████| 298/298 [00:00<00:00,  5.25it/s, iterations=298/298 Iterations Completed]\u001b[A"
          ]
        },
        {
          "output_type": "stream",
          "name": "stdout",
          "text": [
            "cleaned_data----------------------------------------- True\n",
            "1/1 [==============================] - 0s 11ms/step - loss: 1.0545 - accuracy: 1.0000\n"
          ]
        },
        {
          "output_type": "stream",
          "name": "stderr",
          "text": [
            "WARNING:absl:Found untraced functions such as _update_step_xla while saving (showing 1 of 1). These functions will not be directly callable after loading.\n",
            "100%|█████████▉| 298/299 [00:00<?, ?it/s]\n",
            "100%|██████████| 299/299 [00:00<00:00,  4.40it/s, iterations=299/299 Iterations Completed]"
          ]
        },
        {
          "output_type": "stream",
          "name": "stdout",
          "text": [
            "cleaned_data----------------------------------------- True\n",
            "1/1 [==============================] - 0s 15ms/step - loss: 1.2251 - accuracy: 1.0000\n"
          ]
        },
        {
          "output_type": "stream",
          "name": "stderr",
          "text": [
            "WARNING:absl:Found untraced functions such as _update_step_xla while saving (showing 1 of 1). These functions will not be directly callable after loading.\n",
            "\n",
            "                                                                                          \n",
            "100%|██████████| 300/300 [00:00<00:00,  5.76it/s]\u001b[A\n",
            "100%|██████████| 300/300 [00:00<00:00,  5.76it/s, iterations=300/300 Iterations Completed]\u001b[A"
          ]
        },
        {
          "output_type": "stream",
          "name": "stdout",
          "text": [
            "cleaned_data----------------------------------------- True\n",
            "1/1 [==============================] - 0s 10ms/step - loss: 1.1857 - accuracy: 1.0000\n"
          ]
        },
        {
          "output_type": "stream",
          "name": "stderr",
          "text": [
            "WARNING:absl:Found untraced functions such as _update_step_xla while saving (showing 1 of 1). These functions will not be directly callable after loading.\n",
            "100%|█████████▉| 300/301 [00:00<?, ?it/s]\n",
            "100%|██████████| 301/301 [00:00<00:00,  6.64it/s, iterations=301/301 Iterations Completed]"
          ]
        },
        {
          "output_type": "stream",
          "name": "stdout",
          "text": [
            "cleaned_data----------------------------------------- True\n",
            "1/1 [==============================] - 0s 9ms/step - loss: 1.0343 - accuracy: 1.0000\n"
          ]
        },
        {
          "output_type": "stream",
          "name": "stderr",
          "text": [
            "WARNING:absl:Found untraced functions such as _update_step_xla while saving (showing 1 of 1). These functions will not be directly callable after loading.\n",
            "\n",
            "                                                                                          \n",
            "100%|██████████| 302/302 [00:00<00:00,  6.50it/s]\u001b[A\n",
            "100%|██████████| 302/302 [00:00<00:00,  6.50it/s, iterations=302/302 Iterations Completed]\u001b[A"
          ]
        },
        {
          "output_type": "stream",
          "name": "stdout",
          "text": [
            "cleaned_data----------------------------------------- True\n",
            "1/1 [==============================] - 0s 13ms/step - loss: 1.0737 - accuracy: 1.0000\n"
          ]
        },
        {
          "output_type": "stream",
          "name": "stderr",
          "text": [
            "WARNING:absl:Found untraced functions such as _update_step_xla while saving (showing 1 of 1). These functions will not be directly callable after loading.\n",
            "100%|█████████▉| 302/303 [00:00<?, ?it/s]\n",
            "100%|██████████| 303/303 [00:00<00:00,  6.73it/s, iterations=303/303 Iterations Completed]"
          ]
        },
        {
          "output_type": "stream",
          "name": "stdout",
          "text": [
            "cleaned_data----------------------------------------- True\n",
            "1/1 [==============================] - 0s 8ms/step - loss: 1.0061 - accuracy: 1.0000\n"
          ]
        },
        {
          "output_type": "stream",
          "name": "stderr",
          "text": [
            "WARNING:absl:Found untraced functions such as _update_step_xla while saving (showing 1 of 1). These functions will not be directly callable after loading.\n",
            "\n",
            "                                                                                          \n",
            "100%|██████████| 304/304 [00:00<00:00,  7.47it/s]\u001b[A\n",
            "100%|██████████| 304/304 [00:00<00:00,  7.47it/s, iterations=304/304 Iterations Completed]\u001b[A"
          ]
        },
        {
          "output_type": "stream",
          "name": "stdout",
          "text": [
            "cleaned_data----------------------------------------- True\n",
            "1/1 [==============================] - 0s 14ms/step - loss: 0.8364 - accuracy: 1.0000\n"
          ]
        },
        {
          "output_type": "stream",
          "name": "stderr",
          "text": [
            "WARNING:absl:Found untraced functions such as _update_step_xla while saving (showing 1 of 1). These functions will not be directly callable after loading.\n",
            "100%|█████████▉| 304/305 [00:00<?, ?it/s]\n",
            "100%|██████████| 305/305 [00:00<00:00,  6.89it/s, iterations=305/305 Iterations Completed]"
          ]
        },
        {
          "output_type": "stream",
          "name": "stdout",
          "text": [
            "cleaned_data----------------------------------------- True\n",
            "1/1 [==============================] - 0s 15ms/step - loss: 0.9532 - accuracy: 1.0000\n"
          ]
        },
        {
          "output_type": "stream",
          "name": "stderr",
          "text": [
            "WARNING:absl:Found untraced functions such as _update_step_xla while saving (showing 1 of 1). These functions will not be directly callable after loading.\n",
            "\n",
            "                                                                                          \n",
            "100%|██████████| 306/306 [00:00<00:00,  7.07it/s]\u001b[A\n",
            "100%|██████████| 306/306 [00:00<00:00,  7.07it/s, iterations=306/306 Iterations Completed]\u001b[A"
          ]
        },
        {
          "output_type": "stream",
          "name": "stdout",
          "text": [
            "cleaned_data----------------------------------------- True\n",
            "1/1 [==============================] - 0s 9ms/step - loss: 1.0154 - accuracy: 1.0000\n"
          ]
        },
        {
          "output_type": "stream",
          "name": "stderr",
          "text": [
            "WARNING:absl:Found untraced functions such as _update_step_xla while saving (showing 1 of 1). These functions will not be directly callable after loading.\n",
            "100%|█████████▉| 306/307 [00:00<?, ?it/s]\n",
            "100%|██████████| 307/307 [00:00<00:00,  5.74it/s, iterations=307/307 Iterations Completed]"
          ]
        },
        {
          "output_type": "stream",
          "name": "stdout",
          "text": [
            "cleaned_data----------------------------------------- True\n",
            "1/1 [==============================] - 0s 10ms/step - loss: 0.8305 - accuracy: 1.0000\n"
          ]
        },
        {
          "output_type": "stream",
          "name": "stderr",
          "text": [
            "WARNING:absl:Found untraced functions such as _update_step_xla while saving (showing 1 of 1). These functions will not be directly callable after loading.\n",
            "\n",
            "                                                                                          \n",
            "100%|██████████| 308/308 [00:00<00:00,  7.44it/s]\u001b[A\n",
            "100%|██████████| 308/308 [00:00<00:00,  7.44it/s, iterations=308/308 Iterations Completed]\u001b[A"
          ]
        },
        {
          "output_type": "stream",
          "name": "stdout",
          "text": [
            "cleaned_data----------------------------------------- True\n",
            "1/1 [==============================] - 0s 9ms/step - loss: 0.8174 - accuracy: 1.0000\n"
          ]
        },
        {
          "output_type": "stream",
          "name": "stderr",
          "text": [
            "WARNING:absl:Found untraced functions such as _update_step_xla while saving (showing 1 of 1). These functions will not be directly callable after loading.\n",
            "100%|█████████▉| 308/309 [00:00<?, ?it/s]\n",
            "100%|██████████| 309/309 [00:00<00:00,  5.58it/s, iterations=309/309 Iterations Completed]"
          ]
        },
        {
          "output_type": "stream",
          "name": "stdout",
          "text": [
            "cleaned_data----------------------------------------- True\n",
            "1/1 [==============================] - 0s 22ms/step - loss: 0.8393 - accuracy: 1.0000\n"
          ]
        },
        {
          "output_type": "stream",
          "name": "stderr",
          "text": [
            "WARNING:absl:Found untraced functions such as _update_step_xla while saving (showing 1 of 1). These functions will not be directly callable after loading.\n",
            "\n",
            "\n",
            "100%|██████████| 310/310 [00:00<00:00,  4.68it/s]\u001b[A\n",
            "100%|██████████| 310/310 [00:00<00:00,  4.68it/s, iterations=310/310 Iterations Completed]\u001b[A"
          ]
        },
        {
          "output_type": "stream",
          "name": "stdout",
          "text": [
            "cleaned_data----------------------------------------- True\n",
            "1/1 [==============================] - 0s 13ms/step - loss: 0.6273 - accuracy: 1.0000\n"
          ]
        },
        {
          "output_type": "stream",
          "name": "stderr",
          "text": [
            "WARNING:absl:Found untraced functions such as _update_step_xla while saving (showing 1 of 1). These functions will not be directly callable after loading.\n",
            "100%|█████████▉| 310/311 [00:00<?, ?it/s]\n",
            "100%|██████████| 311/311 [00:00<00:00,  6.94it/s, iterations=311/311 Iterations Completed]"
          ]
        },
        {
          "output_type": "stream",
          "name": "stdout",
          "text": [
            "cleaned_data----------------------------------------- True\n",
            "1/1 [==============================] - 0s 13ms/step - loss: 0.6633 - accuracy: 1.0000\n"
          ]
        },
        {
          "output_type": "stream",
          "name": "stderr",
          "text": [
            "WARNING:absl:Found untraced functions such as _update_step_xla while saving (showing 1 of 1). These functions will not be directly callable after loading.\n",
            "\n",
            "                                                                                          \n",
            "100%|██████████| 312/312 [00:00<00:00,  7.08it/s]\u001b[A\n",
            "100%|██████████| 312/312 [00:00<00:00,  7.08it/s, iterations=312/312 Iterations Completed]\u001b[A"
          ]
        },
        {
          "output_type": "stream",
          "name": "stdout",
          "text": [
            "cleaned_data----------------------------------------- True\n",
            "1/1 [==============================] - 0s 9ms/step - loss: 0.6536 - accuracy: 1.0000\n"
          ]
        },
        {
          "output_type": "stream",
          "name": "stderr",
          "text": [
            "WARNING:absl:Found untraced functions such as _update_step_xla while saving (showing 1 of 1). These functions will not be directly callable after loading.\n",
            "100%|█████████▉| 312/313 [00:00<?, ?it/s]\n",
            "100%|██████████| 313/313 [00:00<00:00,  7.17it/s, iterations=313/313 Iterations Completed]"
          ]
        },
        {
          "output_type": "stream",
          "name": "stdout",
          "text": [
            "cleaned_data----------------------------------------- True\n",
            "1/1 [==============================] - 0s 10ms/step - loss: 0.5528 - accuracy: 1.0000\n"
          ]
        },
        {
          "output_type": "stream",
          "name": "stderr",
          "text": [
            "WARNING:absl:Found untraced functions such as _update_step_xla while saving (showing 1 of 1). These functions will not be directly callable after loading.\n",
            "\n",
            "                                                                                          \n",
            "100%|██████████| 314/314 [00:00<00:00,  6.57it/s]\u001b[A\n",
            "100%|██████████| 314/314 [00:00<00:00,  6.57it/s, iterations=314/314 Iterations Completed]\u001b[A"
          ]
        },
        {
          "output_type": "stream",
          "name": "stdout",
          "text": [
            "cleaned_data----------------------------------------- True\n",
            "1/1 [==============================] - 0s 13ms/step - loss: 0.5284 - accuracy: 1.0000\n"
          ]
        },
        {
          "output_type": "stream",
          "name": "stderr",
          "text": [
            "WARNING:absl:Found untraced functions such as _update_step_xla while saving (showing 1 of 1). These functions will not be directly callable after loading.\n",
            "100%|█████████▉| 314/315 [00:00<?, ?it/s]\n",
            "100%|██████████| 315/315 [00:00<00:00,  6.86it/s, iterations=315/315 Iterations Completed]"
          ]
        },
        {
          "output_type": "stream",
          "name": "stdout",
          "text": [
            "cleaned_data----------------------------------------- True\n",
            "1/1 [==============================] - 0s 11ms/step - loss: 0.4146 - accuracy: 1.0000\n"
          ]
        },
        {
          "output_type": "stream",
          "name": "stderr",
          "text": [
            "WARNING:absl:Found untraced functions such as _update_step_xla while saving (showing 1 of 1). These functions will not be directly callable after loading.\n",
            "\n",
            "                                                                                          \n",
            "100%|██████████| 316/316 [00:00<00:00,  6.31it/s]\u001b[A\n",
            "100%|██████████| 316/316 [00:00<00:00,  6.31it/s, iterations=316/316 Iterations Completed]\u001b[A"
          ]
        },
        {
          "output_type": "stream",
          "name": "stdout",
          "text": [
            "cleaned_data----------------------------------------- True\n",
            "1/1 [==============================] - 0s 13ms/step - loss: 0.7343 - accuracy: 0.5714\n"
          ]
        },
        {
          "output_type": "stream",
          "name": "stderr",
          "text": [
            "WARNING:absl:Found untraced functions such as _update_step_xla while saving (showing 1 of 1). These functions will not be directly callable after loading.\n",
            "100%|█████████▉| 316/317 [00:00<?, ?it/s]\n",
            "100%|██████████| 317/317 [00:00<00:00,  7.14it/s, iterations=317/317 Iterations Completed]"
          ]
        },
        {
          "output_type": "stream",
          "name": "stdout",
          "text": [
            "cleaned_data----------------------------------------- True\n",
            "1/1 [==============================] - 0s 10ms/step - loss: 0.9403 - accuracy: 0.5000\n"
          ]
        },
        {
          "output_type": "stream",
          "name": "stderr",
          "text": [
            "WARNING:absl:Found untraced functions such as _update_step_xla while saving (showing 1 of 1). These functions will not be directly callable after loading.\n",
            "\n",
            "                                                                                          \n",
            "100%|██████████| 318/318 [00:00<00:00,  7.13it/s]\u001b[A\n",
            "100%|██████████| 318/318 [00:00<00:00,  7.13it/s, iterations=318/318 Iterations Completed]\u001b[A"
          ]
        },
        {
          "output_type": "stream",
          "name": "stdout",
          "text": [
            "cleaned_data----------------------------------------- True\n",
            "1/1 [==============================] - 0s 11ms/step - loss: 0.9911 - accuracy: 0.2857\n"
          ]
        },
        {
          "output_type": "stream",
          "name": "stderr",
          "text": [
            "WARNING:absl:Found untraced functions such as _update_step_xla while saving (showing 1 of 1). These functions will not be directly callable after loading.\n",
            "100%|█████████▉| 318/319 [00:00<?, ?it/s]\n",
            "100%|██████████| 319/319 [00:00<00:00,  5.59it/s, iterations=319/319 Iterations Completed]"
          ]
        },
        {
          "output_type": "stream",
          "name": "stdout",
          "text": [
            "cleaned_data----------------------------------------- True\n",
            "1/1 [==============================] - 0s 12ms/step - loss: 0.6564 - accuracy: 0.6429\n"
          ]
        },
        {
          "output_type": "stream",
          "name": "stderr",
          "text": [
            "WARNING:absl:Found untraced functions such as _update_step_xla while saving (showing 1 of 1). These functions will not be directly callable after loading.\n",
            "\n",
            "                                                                                          \n",
            "100%|██████████| 320/320 [00:00<00:00,  5.99it/s]\u001b[A\n",
            "100%|██████████| 320/320 [00:00<00:00,  5.99it/s, iterations=320/320 Iterations Completed]\u001b[A"
          ]
        },
        {
          "output_type": "stream",
          "name": "stdout",
          "text": [
            "cleaned_data----------------------------------------- True\n",
            "1/1 [==============================] - 0s 11ms/step - loss: 0.4981 - accuracy: 0.8571\n"
          ]
        },
        {
          "output_type": "stream",
          "name": "stderr",
          "text": [
            "WARNING:absl:Found untraced functions such as _update_step_xla while saving (showing 1 of 1). These functions will not be directly callable after loading.\n",
            "100%|█████████▉| 320/321 [00:00<?, ?it/s]\n",
            "100%|██████████| 321/321 [00:00<00:00,  4.91it/s, iterations=321/321 Iterations Completed]"
          ]
        },
        {
          "output_type": "stream",
          "name": "stdout",
          "text": [
            "cleaned_data----------------------------------------- True\n",
            "1/1 [==============================] - 0s 12ms/step - loss: 0.4142 - accuracy: 0.9286\n"
          ]
        },
        {
          "output_type": "stream",
          "name": "stderr",
          "text": [
            "WARNING:absl:Found untraced functions such as _update_step_xla while saving (showing 1 of 1). These functions will not be directly callable after loading.\n",
            "\n",
            "                                                                                          \n",
            "100%|██████████| 322/322 [00:00<00:00,  7.18it/s]\u001b[A\n",
            "100%|██████████| 322/322 [00:00<00:00,  7.18it/s, iterations=322/322 Iterations Completed]\u001b[A"
          ]
        },
        {
          "output_type": "stream",
          "name": "stdout",
          "text": [
            "cleaned_data----------------------------------------- True\n",
            "1/1 [==============================] - 0s 8ms/step - loss: 0.4692 - accuracy: 0.8571\n"
          ]
        },
        {
          "output_type": "stream",
          "name": "stderr",
          "text": [
            "WARNING:absl:Found untraced functions such as _update_step_xla while saving (showing 1 of 1). These functions will not be directly callable after loading.\n",
            "100%|█████████▉| 322/323 [00:00<?, ?it/s]\n",
            "100%|██████████| 323/323 [00:00<00:00,  6.94it/s, iterations=323/323 Iterations Completed]"
          ]
        },
        {
          "output_type": "stream",
          "name": "stdout",
          "text": [
            "cleaned_data----------------------------------------- True\n",
            "1/1 [==============================] - 0s 9ms/step - loss: 0.6957 - accuracy: 0.6786\n"
          ]
        },
        {
          "output_type": "stream",
          "name": "stderr",
          "text": [
            "WARNING:absl:Found untraced functions such as _update_step_xla while saving (showing 1 of 1). These functions will not be directly callable after loading.\n",
            "\n",
            "                                                                                          \n",
            "100%|██████████| 324/324 [00:00<00:00,  6.98it/s]\u001b[A\n",
            "100%|██████████| 324/324 [00:00<00:00,  6.98it/s, iterations=324/324 Iterations Completed]\u001b[A"
          ]
        },
        {
          "output_type": "stream",
          "name": "stdout",
          "text": [
            "cleaned_data----------------------------------------- True\n",
            "1/1 [==============================] - 0s 11ms/step - loss: 0.7517 - accuracy: 0.6786\n"
          ]
        },
        {
          "output_type": "stream",
          "name": "stderr",
          "text": [
            "WARNING:absl:Found untraced functions such as _update_step_xla while saving (showing 1 of 1). These functions will not be directly callable after loading.\n",
            "100%|█████████▉| 324/325 [00:00<?, ?it/s]\n",
            "100%|██████████| 325/325 [00:00<00:00,  6.63it/s, iterations=325/325 Iterations Completed]"
          ]
        },
        {
          "output_type": "stream",
          "name": "stdout",
          "text": [
            "cleaned_data----------------------------------------- True\n",
            "1/1 [==============================] - 0s 10ms/step - loss: 0.8056 - accuracy: 0.5714\n"
          ]
        },
        {
          "output_type": "stream",
          "name": "stderr",
          "text": [
            "WARNING:absl:Found untraced functions such as _update_step_xla while saving (showing 1 of 1). These functions will not be directly callable after loading.\n",
            "\n",
            "                                                                                          \n",
            "100%|██████████| 326/326 [00:00<00:00,  6.07it/s]\u001b[A\n",
            "100%|██████████| 326/326 [00:00<00:00,  6.07it/s, iterations=326/326 Iterations Completed]\u001b[A"
          ]
        },
        {
          "output_type": "stream",
          "name": "stdout",
          "text": [
            "cleaned_data----------------------------------------- True\n",
            "1/1 [==============================] - 0s 12ms/step - loss: 0.4612 - accuracy: 0.9286\n"
          ]
        },
        {
          "output_type": "stream",
          "name": "stderr",
          "text": [
            "WARNING:absl:Found untraced functions such as _update_step_xla while saving (showing 1 of 1). These functions will not be directly callable after loading.\n",
            "100%|█████████▉| 326/327 [00:00<?, ?it/s]\n",
            "100%|██████████| 327/327 [00:00<00:00,  5.65it/s, iterations=327/327 Iterations Completed]"
          ]
        },
        {
          "output_type": "stream",
          "name": "stdout",
          "text": [
            "cleaned_data----------------------------------------- True\n",
            "1/1 [==============================] - 0s 10ms/step - loss: 0.5141 - accuracy: 0.9643\n"
          ]
        },
        {
          "output_type": "stream",
          "name": "stderr",
          "text": [
            "WARNING:absl:Found untraced functions such as _update_step_xla while saving (showing 1 of 1). These functions will not be directly callable after loading.\n",
            "\n",
            "                                                                                          \n",
            "100%|██████████| 328/328 [00:00<00:00,  6.53it/s]\u001b[A\n",
            "100%|██████████| 328/328 [00:00<00:00,  6.53it/s, iterations=328/328 Iterations Completed]\u001b[A"
          ]
        },
        {
          "output_type": "stream",
          "name": "stdout",
          "text": [
            "cleaned_data----------------------------------------- True\n",
            "1/1 [==============================] - 0s 15ms/step - loss: 0.4154 - accuracy: 0.9643\n"
          ]
        },
        {
          "output_type": "stream",
          "name": "stderr",
          "text": [
            "WARNING:absl:Found untraced functions such as _update_step_xla while saving (showing 1 of 1). These functions will not be directly callable after loading.\n",
            "100%|█████████▉| 328/329 [00:00<?, ?it/s]\n",
            "100%|██████████| 329/329 [00:00<00:00,  6.54it/s, iterations=329/329 Iterations Completed]"
          ]
        },
        {
          "output_type": "stream",
          "name": "stdout",
          "text": [
            "cleaned_data----------------------------------------- True\n",
            "1/1 [==============================] - 0s 12ms/step - loss: 0.6784 - accuracy: 1.0000\n"
          ]
        },
        {
          "output_type": "stream",
          "name": "stderr",
          "text": [
            "WARNING:absl:Found untraced functions such as _update_step_xla while saving (showing 1 of 1). These functions will not be directly callable after loading.\n",
            "\n",
            "                                                                                          \n",
            "100%|██████████| 330/330 [00:00<00:00,  5.40it/s]\u001b[A\n",
            "100%|██████████| 330/330 [00:00<00:00,  5.40it/s, iterations=330/330 Iterations Completed]\u001b[A"
          ]
        },
        {
          "output_type": "stream",
          "name": "stdout",
          "text": [
            "cleaned_data----------------------------------------- True\n",
            "1/1 [==============================] - 0s 10ms/step - loss: 1.0062 - accuracy: 1.0000\n"
          ]
        },
        {
          "output_type": "stream",
          "name": "stderr",
          "text": [
            "WARNING:absl:Found untraced functions such as _update_step_xla while saving (showing 1 of 1). These functions will not be directly callable after loading.\n",
            "100%|█████████▉| 330/331 [00:00<?, ?it/s]\n",
            "100%|██████████| 331/331 [00:00<00:00,  5.14it/s, iterations=331/331 Iterations Completed]"
          ]
        },
        {
          "output_type": "stream",
          "name": "stdout",
          "text": [
            "cleaned_data----------------------------------------- True\n",
            "1/1 [==============================] - 0s 11ms/step - loss: 1.0623 - accuracy: 1.0000\n"
          ]
        },
        {
          "output_type": "stream",
          "name": "stderr",
          "text": [
            "WARNING:absl:Found untraced functions such as _update_step_xla while saving (showing 1 of 1). These functions will not be directly callable after loading.\n",
            "\n",
            "                                                                                          \n",
            "100%|██████████| 332/332 [00:00<00:00,  5.25it/s]\u001b[A\n",
            "100%|██████████| 332/332 [00:00<00:00,  5.25it/s, iterations=332/332 Iterations Completed]\u001b[A"
          ]
        },
        {
          "output_type": "stream",
          "name": "stdout",
          "text": [
            "cleaned_data----------------------------------------- True\n",
            "1/1 [==============================] - 0s 11ms/step - loss: 1.0060 - accuracy: 1.0000\n"
          ]
        },
        {
          "output_type": "stream",
          "name": "stderr",
          "text": [
            "WARNING:absl:Found untraced functions such as _update_step_xla while saving (showing 1 of 1). These functions will not be directly callable after loading.\n",
            "100%|█████████▉| 332/333 [00:00<?, ?it/s]\n",
            "100%|██████████| 333/333 [00:00<00:00,  7.14it/s, iterations=333/333 Iterations Completed]"
          ]
        },
        {
          "output_type": "stream",
          "name": "stdout",
          "text": [
            "cleaned_data----------------------------------------- True\n",
            "1/1 [==============================] - 0s 11ms/step - loss: 1.0507 - accuracy: 1.0000\n"
          ]
        },
        {
          "output_type": "stream",
          "name": "stderr",
          "text": [
            "WARNING:absl:Found untraced functions such as _update_step_xla while saving (showing 1 of 1). These functions will not be directly callable after loading.\n",
            "\n",
            "                                                                                          \n",
            "100%|██████████| 334/334 [00:00<00:00,  7.52it/s]\u001b[A\n",
            "100%|██████████| 334/334 [00:00<00:00,  7.52it/s, iterations=334/334 Iterations Completed]\u001b[A"
          ]
        },
        {
          "output_type": "stream",
          "name": "stdout",
          "text": [
            "cleaned_data----------------------------------------- True\n",
            "1/1 [==============================] - 0s 13ms/step - loss: 1.1472 - accuracy: 1.0000\n"
          ]
        },
        {
          "output_type": "stream",
          "name": "stderr",
          "text": [
            "WARNING:absl:Found untraced functions such as _update_step_xla while saving (showing 1 of 1). These functions will not be directly callable after loading.\n",
            "100%|█████████▉| 334/335 [00:00<?, ?it/s]\n",
            "100%|██████████| 335/335 [00:00<00:00,  7.56it/s, iterations=335/335 Iterations Completed]"
          ]
        },
        {
          "output_type": "stream",
          "name": "stdout",
          "text": [
            "cleaned_data----------------------------------------- True\n",
            "1/1 [==============================] - 0s 15ms/step - loss: 1.1680 - accuracy: 1.0000\n"
          ]
        },
        {
          "output_type": "stream",
          "name": "stderr",
          "text": [
            "WARNING:absl:Found untraced functions such as _update_step_xla while saving (showing 1 of 1). These functions will not be directly callable after loading.\n",
            "\n",
            "                                                                                          \n",
            "100%|██████████| 336/336 [00:00<00:00,  7.01it/s]\u001b[A\n",
            "100%|██████████| 336/336 [00:00<00:00,  7.01it/s, iterations=336/336 Iterations Completed]\u001b[A"
          ]
        },
        {
          "output_type": "stream",
          "name": "stdout",
          "text": [
            "cleaned_data----------------------------------------- True\n",
            "1/1 [==============================] - 0s 13ms/step - loss: 1.4026 - accuracy: 1.0000\n"
          ]
        },
        {
          "output_type": "stream",
          "name": "stderr",
          "text": [
            "WARNING:absl:Found untraced functions such as _update_step_xla while saving (showing 1 of 1). These functions will not be directly callable after loading.\n",
            "100%|█████████▉| 336/337 [00:00<?, ?it/s]\n",
            "100%|██████████| 337/337 [00:00<00:00,  7.06it/s, iterations=337/337 Iterations Completed]"
          ]
        },
        {
          "output_type": "stream",
          "name": "stdout",
          "text": [
            "cleaned_data----------------------------------------- True\n",
            "1/1 [==============================] - 0s 10ms/step - loss: 1.3859 - accuracy: 1.0000\n"
          ]
        },
        {
          "output_type": "stream",
          "name": "stderr",
          "text": [
            "WARNING:absl:Found untraced functions such as _update_step_xla while saving (showing 1 of 1). These functions will not be directly callable after loading.\n",
            "\n",
            "                                                                                          \n",
            "100%|██████████| 338/338 [00:00<00:00,  6.09it/s]\u001b[A\n",
            "100%|██████████| 338/338 [00:00<00:00,  6.09it/s, iterations=338/338 Iterations Completed]\u001b[A"
          ]
        },
        {
          "output_type": "stream",
          "name": "stdout",
          "text": [
            "cleaned_data----------------------------------------- True\n",
            "1/1 [==============================] - 0s 11ms/step - loss: 1.3631 - accuracy: 1.0000\n"
          ]
        },
        {
          "output_type": "stream",
          "name": "stderr",
          "text": [
            "WARNING:absl:Found untraced functions such as _update_step_xla while saving (showing 1 of 1). These functions will not be directly callable after loading.\n",
            "100%|█████████▉| 338/339 [00:00<?, ?it/s]\n",
            "100%|██████████| 339/339 [00:00<00:00,  5.93it/s, iterations=339/339 Iterations Completed]"
          ]
        },
        {
          "output_type": "stream",
          "name": "stdout",
          "text": [
            "cleaned_data----------------------------------------- True\n",
            "1/1 [==============================] - 0s 12ms/step - loss: 1.1109 - accuracy: 1.0000\n"
          ]
        },
        {
          "output_type": "stream",
          "name": "stderr",
          "text": [
            "WARNING:absl:Found untraced functions such as _update_step_xla while saving (showing 1 of 1). These functions will not be directly callable after loading.\n",
            "\n",
            "                                                                                          \n",
            "100%|██████████| 340/340 [00:00<00:00,  6.31it/s]\u001b[A\n",
            "100%|██████████| 340/340 [00:00<00:00,  6.31it/s, iterations=340/340 Iterations Completed]\u001b[A"
          ]
        },
        {
          "output_type": "stream",
          "name": "stdout",
          "text": [
            "cleaned_data----------------------------------------- True\n",
            "1/1 [==============================] - 0s 12ms/step - loss: 1.1209 - accuracy: 1.0000\n"
          ]
        },
        {
          "output_type": "stream",
          "name": "stderr",
          "text": [
            "WARNING:absl:Found untraced functions such as _update_step_xla while saving (showing 1 of 1). These functions will not be directly callable after loading.\n",
            "100%|█████████▉| 340/341 [00:00<?, ?it/s]\n",
            "100%|██████████| 341/341 [00:00<00:00,  5.09it/s, iterations=341/341 Iterations Completed]"
          ]
        },
        {
          "output_type": "stream",
          "name": "stdout",
          "text": [
            "cleaned_data----------------------------------------- True\n",
            "1/1 [==============================] - 0s 14ms/step - loss: 1.2481 - accuracy: 1.0000\n"
          ]
        },
        {
          "output_type": "stream",
          "name": "stderr",
          "text": [
            "WARNING:absl:Found untraced functions such as _update_step_xla while saving (showing 1 of 1). These functions will not be directly callable after loading.\n",
            "\n",
            "\n",
            "100%|██████████| 342/342 [00:00<00:00,  4.99it/s]\u001b[A\n",
            "100%|██████████| 342/342 [00:00<00:00,  4.99it/s, iterations=342/342 Iterations Completed]\u001b[A"
          ]
        },
        {
          "output_type": "stream",
          "name": "stdout",
          "text": [
            "cleaned_data----------------------------------------- True\n",
            "1/1 [==============================] - 0s 27ms/step - loss: 1.1847 - accuracy: 1.0000\n"
          ]
        },
        {
          "output_type": "stream",
          "name": "stderr",
          "text": [
            "WARNING:absl:Found untraced functions such as _update_step_xla while saving (showing 1 of 1). These functions will not be directly callable after loading.\n",
            "100%|█████████▉| 342/343 [00:00<?, ?it/s]\n",
            "100%|██████████| 343/343 [00:00<00:00,  7.23it/s, iterations=343/343 Iterations Completed]"
          ]
        },
        {
          "output_type": "stream",
          "name": "stdout",
          "text": [
            "cleaned_data----------------------------------------- True\n",
            "1/1 [==============================] - 0s 12ms/step - loss: 1.2132 - accuracy: 1.0000\n"
          ]
        },
        {
          "output_type": "stream",
          "name": "stderr",
          "text": [
            "WARNING:absl:Found untraced functions such as _update_step_xla while saving (showing 1 of 1). These functions will not be directly callable after loading.\n",
            "\n",
            "                                                                                          \n",
            "100%|██████████| 344/344 [00:00<00:00,  6.99it/s]\u001b[A\n",
            "100%|██████████| 344/344 [00:00<00:00,  6.99it/s, iterations=344/344 Iterations Completed]\u001b[A"
          ]
        },
        {
          "output_type": "stream",
          "name": "stdout",
          "text": [
            "cleaned_data----------------------------------------- True\n",
            "1/1 [==============================] - 0s 11ms/step - loss: 1.0923 - accuracy: 1.0000\n"
          ]
        },
        {
          "output_type": "stream",
          "name": "stderr",
          "text": [
            "WARNING:absl:Found untraced functions such as _update_step_xla while saving (showing 1 of 1). These functions will not be directly callable after loading.\n",
            "100%|█████████▉| 344/345 [00:00<?, ?it/s]\n",
            "100%|██████████| 345/345 [00:00<00:00,  6.62it/s, iterations=345/345 Iterations Completed]"
          ]
        },
        {
          "output_type": "stream",
          "name": "stdout",
          "text": [
            "cleaned_data----------------------------------------- True\n",
            "1/1 [==============================] - 0s 11ms/step - loss: 1.0069 - accuracy: 1.0000\n"
          ]
        },
        {
          "output_type": "stream",
          "name": "stderr",
          "text": [
            "WARNING:absl:Found untraced functions such as _update_step_xla while saving (showing 1 of 1). These functions will not be directly callable after loading.\n",
            "\n",
            "                                                                                          \n",
            "100%|██████████| 346/346 [00:00<00:00,  7.44it/s]\u001b[A\n",
            "100%|██████████| 346/346 [00:00<00:00,  7.44it/s, iterations=346/346 Iterations Completed]\u001b[A"
          ]
        },
        {
          "output_type": "stream",
          "name": "stdout",
          "text": [
            "cleaned_data----------------------------------------- True\n",
            "1/1 [==============================] - 0s 13ms/step - loss: 0.9250 - accuracy: 1.0000\n"
          ]
        },
        {
          "output_type": "stream",
          "name": "stderr",
          "text": [
            "WARNING:absl:Found untraced functions such as _update_step_xla while saving (showing 1 of 1). These functions will not be directly callable after loading.\n",
            "100%|█████████▉| 346/347 [00:00<?, ?it/s]\n",
            "100%|██████████| 347/347 [00:00<00:00,  6.57it/s, iterations=347/347 Iterations Completed]"
          ]
        },
        {
          "output_type": "stream",
          "name": "stdout",
          "text": [
            "cleaned_data----------------------------------------- True\n",
            "1/1 [==============================] - 0s 10ms/step - loss: 0.7272 - accuracy: 1.0000\n"
          ]
        },
        {
          "output_type": "stream",
          "name": "stderr",
          "text": [
            "WARNING:absl:Found untraced functions such as _update_step_xla while saving (showing 1 of 1). These functions will not be directly callable after loading.\n",
            "\n",
            "                                                                                          \n",
            "100%|██████████| 348/348 [00:00<00:00,  6.23it/s]\u001b[A\n",
            "100%|██████████| 348/348 [00:00<00:00,  6.23it/s, iterations=348/348 Iterations Completed]\u001b[A"
          ]
        },
        {
          "output_type": "stream",
          "name": "stdout",
          "text": [
            "cleaned_data----------------------------------------- True\n",
            "1/1 [==============================] - 0s 10ms/step - loss: 0.7109 - accuracy: 1.0000\n"
          ]
        },
        {
          "output_type": "stream",
          "name": "stderr",
          "text": [
            "WARNING:absl:Found untraced functions such as _update_step_xla while saving (showing 1 of 1). These functions will not be directly callable after loading.\n",
            "100%|█████████▉| 348/349 [00:00<?, ?it/s]\n",
            "100%|██████████| 349/349 [00:00<00:00,  6.70it/s, iterations=349/349 Iterations Completed]"
          ]
        },
        {
          "output_type": "stream",
          "name": "stdout",
          "text": [
            "cleaned_data----------------------------------------- True\n",
            "1/1 [==============================] - 0s 10ms/step - loss: 0.7922 - accuracy: 1.0000\n"
          ]
        },
        {
          "output_type": "stream",
          "name": "stderr",
          "text": [
            "WARNING:absl:Found untraced functions such as _update_step_xla while saving (showing 1 of 1). These functions will not be directly callable after loading.\n",
            "\n",
            "                                                                                          \n",
            "100%|██████████| 350/350 [00:00<00:00,  6.60it/s]\u001b[A\n",
            "100%|██████████| 350/350 [00:00<00:00,  6.60it/s, iterations=350/350 Iterations Completed]\u001b[A"
          ]
        },
        {
          "output_type": "stream",
          "name": "stdout",
          "text": [
            "cleaned_data----------------------------------------- True\n",
            "1/1 [==============================] - 0s 13ms/step - loss: 0.8964 - accuracy: 1.0000\n"
          ]
        },
        {
          "output_type": "stream",
          "name": "stderr",
          "text": [
            "WARNING:absl:Found untraced functions such as _update_step_xla while saving (showing 1 of 1). These functions will not be directly callable after loading.\n",
            "100%|█████████▉| 350/351 [00:00<?, ?it/s]\n",
            "100%|██████████| 351/351 [00:00<00:00,  5.91it/s, iterations=351/351 Iterations Completed]"
          ]
        },
        {
          "output_type": "stream",
          "name": "stdout",
          "text": [
            "cleaned_data----------------------------------------- True\n",
            "1/1 [==============================] - 0s 10ms/step - loss: 0.8317 - accuracy: 1.0000\n"
          ]
        },
        {
          "output_type": "stream",
          "name": "stderr",
          "text": [
            "WARNING:absl:Found untraced functions such as _update_step_xla while saving (showing 1 of 1). These functions will not be directly callable after loading.\n",
            "\n",
            "\n",
            "100%|██████████| 352/352 [00:00<00:00,  4.76it/s]\u001b[A\n",
            "100%|██████████| 352/352 [00:00<00:00,  4.76it/s, iterations=352/352 Iterations Completed]\u001b[A"
          ]
        },
        {
          "output_type": "stream",
          "name": "stdout",
          "text": [
            "cleaned_data----------------------------------------- True\n",
            "1/1 [==============================] - 0s 24ms/step - loss: 0.6378 - accuracy: 1.0000\n"
          ]
        },
        {
          "output_type": "stream",
          "name": "stderr",
          "text": [
            "WARNING:absl:Found untraced functions such as _update_step_xla while saving (showing 1 of 1). These functions will not be directly callable after loading.\n",
            "100%|█████████▉| 352/353 [00:00<?, ?it/s]\n",
            "100%|██████████| 353/353 [00:00<00:00,  4.82it/s, iterations=353/353 Iterations Completed]"
          ]
        },
        {
          "output_type": "stream",
          "name": "stdout",
          "text": [
            "cleaned_data----------------------------------------- True\n",
            "1/1 [==============================] - 0s 14ms/step - loss: 0.7183 - accuracy: 1.0000\n"
          ]
        },
        {
          "output_type": "stream",
          "name": "stderr",
          "text": [
            "WARNING:absl:Found untraced functions such as _update_step_xla while saving (showing 1 of 1). These functions will not be directly callable after loading.\n",
            "\n",
            "                                                                                          \n",
            "100%|██████████| 354/354 [00:00<00:00,  6.51it/s]\u001b[A\n",
            "100%|██████████| 354/354 [00:00<00:00,  6.51it/s, iterations=354/354 Iterations Completed]\u001b[A"
          ]
        },
        {
          "output_type": "stream",
          "name": "stdout",
          "text": [
            "cleaned_data----------------------------------------- True\n",
            "1/1 [==============================] - 0s 10ms/step - loss: 0.5306 - accuracy: 1.0000\n"
          ]
        },
        {
          "output_type": "stream",
          "name": "stderr",
          "text": [
            "WARNING:absl:Found untraced functions such as _update_step_xla while saving (showing 1 of 1). These functions will not be directly callable after loading.\n",
            "100%|█████████▉| 354/355 [00:00<?, ?it/s]\n",
            "100%|██████████| 355/355 [00:00<00:00,  6.36it/s, iterations=355/355 Iterations Completed]"
          ]
        },
        {
          "output_type": "stream",
          "name": "stdout",
          "text": [
            "cleaned_data----------------------------------------- True\n",
            "1/1 [==============================] - 0s 10ms/step - loss: 0.3643 - accuracy: 1.0000\n"
          ]
        },
        {
          "output_type": "stream",
          "name": "stderr",
          "text": [
            "WARNING:absl:Found untraced functions such as _update_step_xla while saving (showing 1 of 1). These functions will not be directly callable after loading.\n",
            "\n",
            "                                                                                          \n",
            "100%|██████████| 356/356 [00:00<00:00,  7.11it/s]\u001b[A\n",
            "100%|██████████| 356/356 [00:00<00:00,  7.11it/s, iterations=356/356 Iterations Completed]\u001b[A"
          ]
        },
        {
          "output_type": "stream",
          "name": "stdout",
          "text": [
            "cleaned_data----------------------------------------- True\n",
            "1/1 [==============================] - 0s 10ms/step - loss: 0.4408 - accuracy: 1.0000\n"
          ]
        },
        {
          "output_type": "stream",
          "name": "stderr",
          "text": [
            "WARNING:absl:Found untraced functions such as _update_step_xla while saving (showing 1 of 1). These functions will not be directly callable after loading.\n",
            "100%|█████████▉| 356/357 [00:00<?, ?it/s]\n",
            "100%|██████████| 357/357 [00:00<00:00,  7.10it/s, iterations=357/357 Iterations Completed]"
          ]
        },
        {
          "output_type": "stream",
          "name": "stdout",
          "text": [
            "cleaned_data----------------------------------------- True\n",
            "1/1 [==============================] - 0s 10ms/step - loss: 0.3773 - accuracy: 1.0000\n"
          ]
        },
        {
          "output_type": "stream",
          "name": "stderr",
          "text": [
            "WARNING:absl:Found untraced functions such as _update_step_xla while saving (showing 1 of 1). These functions will not be directly callable after loading.\n",
            "\n",
            "                                                                                          \n",
            "100%|██████████| 358/358 [00:00<00:00,  6.93it/s]\u001b[A\n",
            "100%|██████████| 358/358 [00:00<00:00,  6.93it/s, iterations=358/358 Iterations Completed]\u001b[A"
          ]
        },
        {
          "output_type": "stream",
          "name": "stdout",
          "text": [
            "cleaned_data----------------------------------------- True\n",
            "1/1 [==============================] - 0s 9ms/step - loss: 0.5553 - accuracy: 0.7500\n"
          ]
        },
        {
          "output_type": "stream",
          "name": "stderr",
          "text": [
            "WARNING:absl:Found untraced functions such as _update_step_xla while saving (showing 1 of 1). These functions will not be directly callable after loading.\n",
            "100%|█████████▉| 358/359 [00:00<?, ?it/s]\n",
            "100%|██████████| 359/359 [00:00<00:00,  6.83it/s, iterations=359/359 Iterations Completed]"
          ]
        },
        {
          "output_type": "stream",
          "name": "stdout",
          "text": [
            "cleaned_data----------------------------------------- True\n",
            "1/1 [==============================] - 0s 13ms/step - loss: 0.6953 - accuracy: 0.5714\n"
          ]
        },
        {
          "output_type": "stream",
          "name": "stderr",
          "text": [
            "WARNING:absl:Found untraced functions such as _update_step_xla while saving (showing 1 of 1). These functions will not be directly callable after loading.\n",
            "\n",
            "                                                                                          \n",
            "100%|██████████| 360/360 [00:00<00:00,  7.26it/s]\u001b[A\n",
            "100%|██████████| 360/360 [00:00<00:00,  7.26it/s, iterations=360/360 Iterations Completed]\u001b[A"
          ]
        },
        {
          "output_type": "stream",
          "name": "stdout",
          "text": [
            "cleaned_data----------------------------------------- True\n",
            "1/1 [==============================] - 0s 12ms/step - loss: 0.7012 - accuracy: 0.6786\n"
          ]
        },
        {
          "output_type": "stream",
          "name": "stderr",
          "text": [
            "WARNING:absl:Found untraced functions such as _update_step_xla while saving (showing 1 of 1). These functions will not be directly callable after loading.\n",
            "100%|█████████▉| 360/361 [00:00<?, ?it/s]\n",
            "100%|██████████| 361/361 [00:00<00:00,  7.13it/s, iterations=361/361 Iterations Completed]"
          ]
        },
        {
          "output_type": "stream",
          "name": "stdout",
          "text": [
            "cleaned_data----------------------------------------- True\n",
            "1/1 [==============================] - 0s 12ms/step - loss: 0.6320 - accuracy: 0.6429\n"
          ]
        },
        {
          "output_type": "stream",
          "name": "stderr",
          "text": [
            "WARNING:absl:Found untraced functions such as _update_step_xla while saving (showing 1 of 1). These functions will not be directly callable after loading.\n",
            "\n",
            "                                                                                          \n",
            "100%|██████████| 362/362 [00:00<00:00,  7.62it/s]\u001b[A\n",
            "100%|██████████| 362/362 [00:00<00:00,  7.62it/s, iterations=362/362 Iterations Completed]\u001b[A"
          ]
        },
        {
          "output_type": "stream",
          "name": "stdout",
          "text": [
            "cleaned_data----------------------------------------- True\n",
            "1/1 [==============================] - 0s 10ms/step - loss: 0.5209 - accuracy: 0.8214\n"
          ]
        },
        {
          "output_type": "stream",
          "name": "stderr",
          "text": [
            "WARNING:absl:Found untraced functions such as _update_step_xla while saving (showing 1 of 1). These functions will not be directly callable after loading.\n",
            "100%|█████████▉| 362/363 [00:00<?, ?it/s]\n",
            "100%|██████████| 363/363 [00:00<00:00,  4.58it/s, iterations=363/363 Iterations Completed]"
          ]
        },
        {
          "output_type": "stream",
          "name": "stdout",
          "text": [
            "cleaned_data----------------------------------------- True\n",
            "1/1 [==============================] - 0s 11ms/step - loss: 0.4210 - accuracy: 0.9643\n"
          ]
        },
        {
          "output_type": "stream",
          "name": "stderr",
          "text": [
            "WARNING:absl:Found untraced functions such as _update_step_xla while saving (showing 1 of 1). These functions will not be directly callable after loading.\n",
            "\n",
            "\n",
            "100%|██████████| 364/364 [00:00<00:00,  3.83it/s]\u001b[A\n",
            "100%|██████████| 364/364 [00:00<00:00,  3.83it/s, iterations=364/364 Iterations Completed]\u001b[A"
          ]
        },
        {
          "output_type": "stream",
          "name": "stdout",
          "text": [
            "cleaned_data----------------------------------------- True\n",
            "1/1 [==============================] - 0s 21ms/step - loss: 0.4013 - accuracy: 0.8929\n"
          ]
        },
        {
          "output_type": "stream",
          "name": "stderr",
          "text": [
            "WARNING:absl:Found untraced functions such as _update_step_xla while saving (showing 1 of 1). These functions will not be directly callable after loading.\n",
            "100%|█████████▉| 364/365 [00:00<?, ?it/s]\n",
            "100%|██████████| 365/365 [00:00<00:00,  6.77it/s, iterations=365/365 Iterations Completed]"
          ]
        },
        {
          "output_type": "stream",
          "name": "stdout",
          "text": [
            "cleaned_data----------------------------------------- True\n",
            "1/1 [==============================] - 0s 10ms/step - loss: 0.3730 - accuracy: 0.9643\n"
          ]
        },
        {
          "output_type": "stream",
          "name": "stderr",
          "text": [
            "WARNING:absl:Found untraced functions such as _update_step_xla while saving (showing 1 of 1). These functions will not be directly callable after loading.\n",
            "\n",
            "                                                                                          \n",
            "100%|██████████| 366/366 [00:00<00:00,  7.46it/s]\u001b[A\n",
            "100%|██████████| 366/366 [00:00<00:00,  7.46it/s, iterations=366/366 Iterations Completed]\u001b[A"
          ]
        },
        {
          "output_type": "stream",
          "name": "stdout",
          "text": [
            "cleaned_data----------------------------------------- True\n",
            "1/1 [==============================] - 0s 18ms/step - loss: 0.4074 - accuracy: 0.9286\n"
          ]
        },
        {
          "output_type": "stream",
          "name": "stderr",
          "text": [
            "WARNING:absl:Found untraced functions such as _update_step_xla while saving (showing 1 of 1). These functions will not be directly callable after loading.\n",
            "100%|█████████▉| 366/367 [00:00<?, ?it/s]\n",
            "100%|██████████| 367/367 [00:00<00:00,  6.70it/s, iterations=367/367 Iterations Completed]"
          ]
        },
        {
          "output_type": "stream",
          "name": "stdout",
          "text": [
            "cleaned_data----------------------------------------- True\n",
            "1/1 [==============================] - 0s 11ms/step - loss: 0.4009 - accuracy: 0.9286\n"
          ]
        },
        {
          "output_type": "stream",
          "name": "stderr",
          "text": [
            "WARNING:absl:Found untraced functions such as _update_step_xla while saving (showing 1 of 1). These functions will not be directly callable after loading.\n",
            "\n",
            "                                                                                          \n",
            "100%|██████████| 368/368 [00:00<00:00,  7.21it/s]\u001b[A\n",
            "100%|██████████| 368/368 [00:00<00:00,  7.21it/s, iterations=368/368 Iterations Completed]\u001b[A"
          ]
        },
        {
          "output_type": "stream",
          "name": "stdout",
          "text": [
            "cleaned_data----------------------------------------- True\n",
            "1/1 [==============================] - 0s 8ms/step - loss: 0.4055 - accuracy: 0.9643\n"
          ]
        },
        {
          "output_type": "stream",
          "name": "stderr",
          "text": [
            "WARNING:absl:Found untraced functions such as _update_step_xla while saving (showing 1 of 1). These functions will not be directly callable after loading.\n",
            "100%|█████████▉| 368/369 [00:00<?, ?it/s]\n",
            "100%|██████████| 369/369 [00:00<00:00,  6.36it/s, iterations=369/369 Iterations Completed]"
          ]
        },
        {
          "output_type": "stream",
          "name": "stdout",
          "text": [
            "cleaned_data----------------------------------------- True\n",
            "1/1 [==============================] - 0s 9ms/step - loss: 0.4092 - accuracy: 1.0000\n"
          ]
        },
        {
          "output_type": "stream",
          "name": "stderr",
          "text": [
            "WARNING:absl:Found untraced functions such as _update_step_xla while saving (showing 1 of 1). These functions will not be directly callable after loading.\n",
            "\n",
            "                                                                                          \n",
            "100%|██████████| 370/370 [00:00<00:00,  6.99it/s]\u001b[A\n",
            "100%|██████████| 370/370 [00:00<00:00,  6.99it/s, iterations=370/370 Iterations Completed]\u001b[A"
          ]
        },
        {
          "output_type": "stream",
          "name": "stdout",
          "text": [
            "cleaned_data----------------------------------------- True\n",
            "1/1 [==============================] - 0s 11ms/step - loss: 0.4541 - accuracy: 0.9286\n"
          ]
        },
        {
          "output_type": "stream",
          "name": "stderr",
          "text": [
            "WARNING:absl:Found untraced functions such as _update_step_xla while saving (showing 1 of 1). These functions will not be directly callable after loading.\n",
            "100%|█████████▉| 370/371 [00:00<?, ?it/s]\n",
            "100%|██████████| 371/371 [00:00<00:00,  6.93it/s, iterations=371/371 Iterations Completed]"
          ]
        },
        {
          "output_type": "stream",
          "name": "stdout",
          "text": [
            "cleaned_data----------------------------------------- True\n",
            "1/1 [==============================] - 0s 10ms/step - loss: 0.7354 - accuracy: 1.0000\n"
          ]
        },
        {
          "output_type": "stream",
          "name": "stderr",
          "text": [
            "WARNING:absl:Found untraced functions such as _update_step_xla while saving (showing 1 of 1). These functions will not be directly callable after loading.\n",
            "\n",
            "                                                                                          \n",
            "100%|██████████| 372/372 [00:00<00:00,  7.28it/s]\u001b[A\n",
            "100%|██████████| 372/372 [00:00<00:00,  7.28it/s, iterations=372/372 Iterations Completed]\u001b[A"
          ]
        },
        {
          "output_type": "stream",
          "name": "stdout",
          "text": [
            "cleaned_data----------------------------------------- True\n",
            "1/1 [==============================] - 0s 13ms/step - loss: 0.6963 - accuracy: 1.0000\n"
          ]
        },
        {
          "output_type": "stream",
          "name": "stderr",
          "text": [
            "WARNING:absl:Found untraced functions such as _update_step_xla while saving (showing 1 of 1). These functions will not be directly callable after loading.\n",
            "100%|█████████▉| 372/373 [00:00<?, ?it/s]\n",
            "100%|██████████| 373/373 [00:00<00:00,  7.13it/s, iterations=373/373 Iterations Completed]"
          ]
        },
        {
          "output_type": "stream",
          "name": "stdout",
          "text": [
            "cleaned_data----------------------------------------- True\n",
            "1/1 [==============================] - 0s 9ms/step - loss: 0.6986 - accuracy: 1.0000\n"
          ]
        },
        {
          "output_type": "stream",
          "name": "stderr",
          "text": [
            "WARNING:absl:Found untraced functions such as _update_step_xla while saving (showing 1 of 1). These functions will not be directly callable after loading.\n",
            "\n",
            "\n",
            "100%|██████████| 374/374 [00:00<00:00,  4.56it/s]\u001b[A\n",
            "100%|██████████| 374/374 [00:00<00:00,  4.56it/s, iterations=374/374 Iterations Completed]\u001b[A"
          ]
        },
        {
          "output_type": "stream",
          "name": "stdout",
          "text": [
            "cleaned_data----------------------------------------- True\n",
            "1/1 [==============================] - 0s 24ms/step - loss: 0.7001 - accuracy: 1.0000\n"
          ]
        },
        {
          "output_type": "stream",
          "name": "stderr",
          "text": [
            "WARNING:absl:Found untraced functions such as _update_step_xla while saving (showing 1 of 1). These functions will not be directly callable after loading.\n",
            "100%|█████████▉| 374/375 [00:00<?, ?it/s]\n",
            "100%|██████████| 375/375 [00:00<00:00,  4.28it/s, iterations=375/375 Iterations Completed]"
          ]
        },
        {
          "output_type": "stream",
          "name": "stdout",
          "text": [
            "cleaned_data----------------------------------------- True\n",
            "1/1 [==============================] - 0s 13ms/step - loss: 0.6326 - accuracy: 1.0000\n"
          ]
        },
        {
          "output_type": "stream",
          "name": "stderr",
          "text": [
            "WARNING:absl:Found untraced functions such as _update_step_xla while saving (showing 1 of 1). These functions will not be directly callable after loading.\n",
            "\n",
            "                                                                                          \n",
            "100%|██████████| 376/376 [00:00<00:00,  6.97it/s]\u001b[A\n",
            "100%|██████████| 376/376 [00:00<00:00,  6.97it/s, iterations=376/376 Iterations Completed]\u001b[A"
          ]
        },
        {
          "output_type": "stream",
          "name": "stdout",
          "text": [
            "cleaned_data----------------------------------------- True\n",
            "1/1 [==============================] - 0s 9ms/step - loss: 0.6926 - accuracy: 1.0000\n"
          ]
        },
        {
          "output_type": "stream",
          "name": "stderr",
          "text": [
            "WARNING:absl:Found untraced functions such as _update_step_xla while saving (showing 1 of 1). These functions will not be directly callable after loading.\n",
            "100%|█████████▉| 376/377 [00:00<?, ?it/s]\n",
            "100%|██████████| 377/377 [00:00<00:00,  6.69it/s, iterations=377/377 Iterations Completed]"
          ]
        },
        {
          "output_type": "stream",
          "name": "stdout",
          "text": [
            "cleaned_data----------------------------------------- True\n",
            "1/1 [==============================] - 0s 13ms/step - loss: 0.6788 - accuracy: 1.0000\n"
          ]
        },
        {
          "output_type": "stream",
          "name": "stderr",
          "text": [
            "WARNING:absl:Found untraced functions such as _update_step_xla while saving (showing 1 of 1). These functions will not be directly callable after loading.\n",
            "\n",
            "                                                                                          \n",
            "100%|██████████| 378/378 [00:00<00:00,  6.96it/s]\u001b[A\n",
            "100%|██████████| 378/378 [00:00<00:00,  6.96it/s, iterations=378/378 Iterations Completed]\u001b[A"
          ]
        },
        {
          "output_type": "stream",
          "name": "stdout",
          "text": [
            "cleaned_data----------------------------------------- True\n",
            "1/1 [==============================] - 0s 10ms/step - loss: 0.7428 - accuracy: 1.0000\n"
          ]
        },
        {
          "output_type": "stream",
          "name": "stderr",
          "text": [
            "WARNING:absl:Found untraced functions such as _update_step_xla while saving (showing 1 of 1). These functions will not be directly callable after loading.\n",
            "100%|█████████▉| 378/379 [00:00<?, ?it/s]\n",
            "100%|██████████| 379/379 [00:00<00:00,  6.57it/s, iterations=379/379 Iterations Completed]"
          ]
        },
        {
          "output_type": "stream",
          "name": "stdout",
          "text": [
            "cleaned_data----------------------------------------- True\n",
            "1/1 [==============================] - 0s 20ms/step - loss: 0.6271 - accuracy: 1.0000\n"
          ]
        },
        {
          "output_type": "stream",
          "name": "stderr",
          "text": [
            "WARNING:absl:Found untraced functions such as _update_step_xla while saving (showing 1 of 1). These functions will not be directly callable after loading.\n",
            "\n",
            "                                                                                          \n",
            "100%|██████████| 380/380 [00:00<00:00,  7.30it/s]\u001b[A\n",
            "100%|██████████| 380/380 [00:00<00:00,  7.30it/s, iterations=380/380 Iterations Completed]\u001b[A"
          ]
        },
        {
          "output_type": "stream",
          "name": "stdout",
          "text": [
            "cleaned_data----------------------------------------- True\n",
            "1/1 [==============================] - 0s 10ms/step - loss: 0.5342 - accuracy: 1.0000\n"
          ]
        },
        {
          "output_type": "stream",
          "name": "stderr",
          "text": [
            "WARNING:absl:Found untraced functions such as _update_step_xla while saving (showing 1 of 1). These functions will not be directly callable after loading.\n",
            "100%|█████████▉| 380/381 [00:00<?, ?it/s]\n",
            "100%|██████████| 381/381 [00:00<00:00,  6.80it/s, iterations=381/381 Iterations Completed]"
          ]
        },
        {
          "output_type": "stream",
          "name": "stdout",
          "text": [
            "cleaned_data----------------------------------------- True\n",
            "1/1 [==============================] - 0s 12ms/step - loss: 0.5841 - accuracy: 1.0000\n"
          ]
        },
        {
          "output_type": "stream",
          "name": "stderr",
          "text": [
            "WARNING:absl:Found untraced functions such as _update_step_xla while saving (showing 1 of 1). These functions will not be directly callable after loading.\n",
            "\n",
            "                                                                                          \n",
            "100%|██████████| 382/382 [00:00<00:00,  7.38it/s]\u001b[A\n",
            "100%|██████████| 382/382 [00:00<00:00,  7.38it/s, iterations=382/382 Iterations Completed]\u001b[A"
          ]
        },
        {
          "output_type": "stream",
          "name": "stdout",
          "text": [
            "cleaned_data----------------------------------------- True\n",
            "1/1 [==============================] - 0s 11ms/step - loss: 0.5704 - accuracy: 1.0000\n"
          ]
        },
        {
          "output_type": "stream",
          "name": "stderr",
          "text": [
            "WARNING:absl:Found untraced functions such as _update_step_xla while saving (showing 1 of 1). These functions will not be directly callable after loading.\n",
            "100%|█████████▉| 382/383 [00:00<?, ?it/s]\n",
            "100%|██████████| 383/383 [00:00<00:00,  7.19it/s, iterations=383/383 Iterations Completed]"
          ]
        },
        {
          "output_type": "stream",
          "name": "stdout",
          "text": [
            "cleaned_data----------------------------------------- True\n",
            "1/1 [==============================] - 0s 9ms/step - loss: 0.6488 - accuracy: 1.0000\n"
          ]
        },
        {
          "output_type": "stream",
          "name": "stderr",
          "text": [
            "WARNING:absl:Found untraced functions such as _update_step_xla while saving (showing 1 of 1). These functions will not be directly callable after loading.\n",
            "\n",
            "                                                                                          \n",
            "100%|██████████| 384/384 [00:00<00:00,  7.74it/s]\u001b[A\n",
            "100%|██████████| 384/384 [00:00<00:00,  7.74it/s, iterations=384/384 Iterations Completed]\u001b[A"
          ]
        },
        {
          "output_type": "stream",
          "name": "stdout",
          "text": [
            "cleaned_data----------------------------------------- True\n",
            "1/1 [==============================] - 0s 11ms/step - loss: 0.5328 - accuracy: 1.0000\n"
          ]
        },
        {
          "output_type": "stream",
          "name": "stderr",
          "text": [
            "WARNING:absl:Found untraced functions such as _update_step_xla while saving (showing 1 of 1). These functions will not be directly callable after loading.\n",
            "100%|█████████▉| 384/385 [00:00<?, ?it/s]\n",
            "100%|██████████| 385/385 [00:00<00:00,  4.60it/s, iterations=385/385 Iterations Completed]"
          ]
        },
        {
          "output_type": "stream",
          "name": "stdout",
          "text": [
            "cleaned_data----------------------------------------- True\n",
            "1/1 [==============================] - 0s 11ms/step - loss: 0.3997 - accuracy: 1.0000\n"
          ]
        },
        {
          "output_type": "stream",
          "name": "stderr",
          "text": [
            "WARNING:absl:Found untraced functions such as _update_step_xla while saving (showing 1 of 1). These functions will not be directly callable after loading.\n",
            "\n",
            "                                                                                          \n",
            "100%|██████████| 386/386 [00:00<00:00,  5.31it/s]\u001b[A\n",
            "100%|██████████| 386/386 [00:00<00:00,  5.31it/s, iterations=386/386 Iterations Completed]\u001b[A"
          ]
        },
        {
          "output_type": "stream",
          "name": "stdout",
          "text": [
            "cleaned_data----------------------------------------- True\n",
            "1/1 [==============================] - 0s 9ms/step - loss: 0.4082 - accuracy: 0.8929\n"
          ]
        },
        {
          "output_type": "stream",
          "name": "stderr",
          "text": [
            "WARNING:absl:Found untraced functions such as _update_step_xla while saving (showing 1 of 1). These functions will not be directly callable after loading.\n",
            "100%|█████████▉| 386/387 [00:00<?, ?it/s]\n",
            "100%|██████████| 387/387 [00:00<00:00,  6.58it/s, iterations=387/387 Iterations Completed]"
          ]
        },
        {
          "output_type": "stream",
          "name": "stdout",
          "text": [
            "cleaned_data----------------------------------------- True\n",
            "1/1 [==============================] - 0s 9ms/step - loss: 0.3609 - accuracy: 1.0000\n"
          ]
        },
        {
          "output_type": "stream",
          "name": "stderr",
          "text": [
            "WARNING:absl:Found untraced functions such as _update_step_xla while saving (showing 1 of 1). These functions will not be directly callable after loading.\n",
            "\n",
            "                                                                                          \n",
            "100%|██████████| 388/388 [00:00<00:00,  6.71it/s]\u001b[A\n",
            "100%|██████████| 388/388 [00:00<00:00,  6.71it/s, iterations=388/388 Iterations Completed]\u001b[A"
          ]
        },
        {
          "output_type": "stream",
          "name": "stdout",
          "text": [
            "cleaned_data----------------------------------------- True\n",
            "1/1 [==============================] - 0s 12ms/step - loss: 0.5030 - accuracy: 0.8929\n"
          ]
        },
        {
          "output_type": "stream",
          "name": "stderr",
          "text": [
            "WARNING:absl:Found untraced functions such as _update_step_xla while saving (showing 1 of 1). These functions will not be directly callable after loading.\n",
            "100%|█████████▉| 388/389 [00:00<?, ?it/s]\n",
            "100%|██████████| 389/389 [00:00<00:00,  6.56it/s, iterations=389/389 Iterations Completed]"
          ]
        },
        {
          "output_type": "stream",
          "name": "stdout",
          "text": [
            "cleaned_data----------------------------------------- True\n",
            "1/1 [==============================] - 0s 11ms/step - loss: 0.4401 - accuracy: 0.8929\n"
          ]
        },
        {
          "output_type": "stream",
          "name": "stderr",
          "text": [
            "WARNING:absl:Found untraced functions such as _update_step_xla while saving (showing 1 of 1). These functions will not be directly callable after loading.\n",
            "\n",
            "                                                                                          \n",
            "100%|██████████| 390/390 [00:00<00:00,  6.63it/s]\u001b[A\n",
            "100%|██████████| 390/390 [00:00<00:00,  6.63it/s, iterations=390/390 Iterations Completed]\u001b[A"
          ]
        },
        {
          "output_type": "stream",
          "name": "stdout",
          "text": [
            "cleaned_data----------------------------------------- True\n",
            "1/1 [==============================] - 0s 10ms/step - loss: 0.6440 - accuracy: 0.8571\n"
          ]
        },
        {
          "output_type": "stream",
          "name": "stderr",
          "text": [
            "WARNING:absl:Found untraced functions such as _update_step_xla while saving (showing 1 of 1). These functions will not be directly callable after loading.\n",
            "100%|█████████▉| 390/391 [00:00<?, ?it/s]\n",
            "100%|██████████| 391/391 [00:00<00:00,  6.74it/s, iterations=391/391 Iterations Completed]"
          ]
        },
        {
          "output_type": "stream",
          "name": "stdout",
          "text": [
            "cleaned_data----------------------------------------- True\n",
            "1/1 [==============================] - 0s 11ms/step - loss: 0.7582 - accuracy: 0.6071\n"
          ]
        },
        {
          "output_type": "stream",
          "name": "stderr",
          "text": [
            "WARNING:absl:Found untraced functions such as _update_step_xla while saving (showing 1 of 1). These functions will not be directly callable after loading.\n",
            "\n",
            "                                                                                          \n",
            "100%|██████████| 392/392 [00:00<00:00,  6.61it/s]\u001b[A\n",
            "100%|██████████| 392/392 [00:00<00:00,  6.61it/s, iterations=392/392 Iterations Completed]\u001b[A"
          ]
        },
        {
          "output_type": "stream",
          "name": "stdout",
          "text": [
            "cleaned_data----------------------------------------- True\n",
            "1/1 [==============================] - 0s 11ms/step - loss: 0.8745 - accuracy: 0.3929\n"
          ]
        },
        {
          "output_type": "stream",
          "name": "stderr",
          "text": [
            "WARNING:absl:Found untraced functions such as _update_step_xla while saving (showing 1 of 1). These functions will not be directly callable after loading.\n",
            "100%|█████████▉| 392/393 [00:00<?, ?it/s]\n",
            "100%|██████████| 393/393 [00:00<00:00,  6.82it/s, iterations=393/393 Iterations Completed]"
          ]
        },
        {
          "output_type": "stream",
          "name": "stdout",
          "text": [
            "cleaned_data----------------------------------------- True\n",
            "1/1 [==============================] - 0s 17ms/step - loss: 0.4525 - accuracy: 0.8929\n"
          ]
        },
        {
          "output_type": "stream",
          "name": "stderr",
          "text": [
            "WARNING:absl:Found untraced functions such as _update_step_xla while saving (showing 1 of 1). These functions will not be directly callable after loading.\n",
            "\n",
            "                                                                                          \n",
            "100%|██████████| 394/394 [00:00<00:00,  7.41it/s]\u001b[A\n",
            "100%|██████████| 394/394 [00:00<00:00,  7.41it/s, iterations=394/394 Iterations Completed]\u001b[A"
          ]
        },
        {
          "output_type": "stream",
          "name": "stdout",
          "text": [
            "cleaned_data----------------------------------------- True\n",
            "1/1 [==============================] - 0s 9ms/step - loss: 0.4029 - accuracy: 0.9643\n"
          ]
        },
        {
          "output_type": "stream",
          "name": "stderr",
          "text": [
            "WARNING:absl:Found untraced functions such as _update_step_xla while saving (showing 1 of 1). These functions will not be directly callable after loading.\n",
            "100%|█████████▉| 394/395 [00:00<?, ?it/s]\n",
            "100%|██████████| 395/395 [00:00<00:00,  4.75it/s, iterations=395/395 Iterations Completed]"
          ]
        },
        {
          "output_type": "stream",
          "name": "stdout",
          "text": [
            "cleaned_data----------------------------------------- True\n",
            "1/1 [==============================] - 0s 11ms/step - loss: 0.3861 - accuracy: 0.9643\n"
          ]
        },
        {
          "output_type": "stream",
          "name": "stderr",
          "text": [
            "WARNING:absl:Found untraced functions such as _update_step_xla while saving (showing 1 of 1). These functions will not be directly callable after loading.\n",
            "\n",
            "                                                                                          \n",
            "100%|██████████| 396/396 [00:00<00:00,  5.94it/s]\u001b[A\n",
            "100%|██████████| 396/396 [00:00<00:00,  5.94it/s, iterations=396/396 Iterations Completed]\u001b[A"
          ]
        },
        {
          "output_type": "stream",
          "name": "stdout",
          "text": [
            "cleaned_data----------------------------------------- True\n",
            "1/1 [==============================] - 0s 11ms/step - loss: 0.3861 - accuracy: 1.0000\n"
          ]
        },
        {
          "output_type": "stream",
          "name": "stderr",
          "text": [
            "WARNING:absl:Found untraced functions such as _update_step_xla while saving (showing 1 of 1). These functions will not be directly callable after loading.\n",
            "100%|█████████▉| 396/397 [00:00<?, ?it/s]\n",
            "100%|██████████| 397/397 [00:00<00:00,  4.61it/s, iterations=397/397 Iterations Completed]"
          ]
        },
        {
          "output_type": "stream",
          "name": "stdout",
          "text": [
            "cleaned_data----------------------------------------- True\n",
            "1/1 [==============================] - 0s 12ms/step - loss: 0.4971 - accuracy: 1.0000\n"
          ]
        },
        {
          "output_type": "stream",
          "name": "stderr",
          "text": [
            "WARNING:absl:Found untraced functions such as _update_step_xla while saving (showing 1 of 1). These functions will not be directly callable after loading.\n",
            "\n",
            "                                                                                          \n",
            "100%|██████████| 398/398 [00:00<00:00,  6.35it/s]\u001b[A\n",
            "100%|██████████| 398/398 [00:00<00:00,  6.35it/s, iterations=398/398 Iterations Completed]\u001b[A"
          ]
        },
        {
          "output_type": "stream",
          "name": "stdout",
          "text": [
            "cleaned_data----------------------------------------- True\n",
            "1/1 [==============================] - 0s 13ms/step - loss: 0.5521 - accuracy: 1.0000\n"
          ]
        },
        {
          "output_type": "stream",
          "name": "stderr",
          "text": [
            "WARNING:absl:Found untraced functions such as _update_step_xla while saving (showing 1 of 1). These functions will not be directly callable after loading.\n",
            "100%|█████████▉| 398/399 [00:00<?, ?it/s]\n",
            "100%|██████████| 399/399 [00:00<00:00,  5.97it/s, iterations=399/399 Iterations Completed]"
          ]
        },
        {
          "output_type": "stream",
          "name": "stdout",
          "text": [
            "cleaned_data----------------------------------------- True\n",
            "1/1 [==============================] - 0s 10ms/step - loss: 0.4978 - accuracy: 1.0000\n"
          ]
        },
        {
          "output_type": "stream",
          "name": "stderr",
          "text": [
            "WARNING:absl:Found untraced functions such as _update_step_xla while saving (showing 1 of 1). These functions will not be directly callable after loading.\n",
            "\n",
            "                                                                                          \n",
            "100%|██████████| 400/400 [00:00<00:00,  7.19it/s]\u001b[A\n",
            "100%|██████████| 400/400 [00:00<00:00,  7.19it/s, iterations=400/400 Iterations Completed]\u001b[A"
          ]
        },
        {
          "output_type": "stream",
          "name": "stdout",
          "text": [
            "cleaned_data----------------------------------------- True\n",
            "1/1 [==============================] - 0s 9ms/step - loss: 0.5192 - accuracy: 1.0000\n"
          ]
        },
        {
          "output_type": "stream",
          "name": "stderr",
          "text": [
            "WARNING:absl:Found untraced functions such as _update_step_xla while saving (showing 1 of 1). These functions will not be directly callable after loading.\n",
            "100%|█████████▉| 400/401 [00:00<?, ?it/s]\n",
            "100%|██████████| 401/401 [00:00<00:00,  6.56it/s, iterations=401/401 Iterations Completed]"
          ]
        },
        {
          "output_type": "stream",
          "name": "stdout",
          "text": [
            "cleaned_data----------------------------------------- True\n",
            "1/1 [==============================] - 0s 23ms/step - loss: 0.5960 - accuracy: 1.0000\n"
          ]
        },
        {
          "output_type": "stream",
          "name": "stderr",
          "text": [
            "WARNING:absl:Found untraced functions such as _update_step_xla while saving (showing 1 of 1). These functions will not be directly callable after loading.\n",
            "\n",
            "                                                                                          \n",
            "100%|██████████| 402/402 [00:00<00:00,  6.14it/s]\u001b[A\n",
            "100%|██████████| 402/402 [00:00<00:00,  6.14it/s, iterations=402/402 Iterations Completed]\u001b[A"
          ]
        },
        {
          "output_type": "stream",
          "name": "stdout",
          "text": [
            "cleaned_data----------------------------------------- True\n",
            "1/1 [==============================] - 0s 17ms/step - loss: 0.7436 - accuracy: 1.0000\n"
          ]
        },
        {
          "output_type": "stream",
          "name": "stderr",
          "text": [
            "WARNING:absl:Found untraced functions such as _update_step_xla while saving (showing 1 of 1). These functions will not be directly callable after loading.\n",
            "100%|█████████▉| 402/403 [00:00<?, ?it/s]\n",
            "100%|██████████| 403/403 [00:00<00:00,  6.99it/s, iterations=403/403 Iterations Completed]"
          ]
        },
        {
          "output_type": "stream",
          "name": "stdout",
          "text": [
            "cleaned_data----------------------------------------- True\n",
            "1/1 [==============================] - 0s 16ms/step - loss: 0.6233 - accuracy: 1.0000\n"
          ]
        },
        {
          "output_type": "stream",
          "name": "stderr",
          "text": [
            "WARNING:absl:Found untraced functions such as _update_step_xla while saving (showing 1 of 1). These functions will not be directly callable after loading.\n",
            "\n",
            "                                                                                          \n",
            "100%|██████████| 404/404 [00:00<00:00,  7.11it/s]\u001b[A\n",
            "100%|██████████| 404/404 [00:00<00:00,  7.11it/s, iterations=404/404 Iterations Completed]\u001b[A"
          ]
        },
        {
          "output_type": "stream",
          "name": "stdout",
          "text": [
            "cleaned_data----------------------------------------- True\n",
            "1/1 [==============================] - 0s 11ms/step - loss: 0.7110 - accuracy: 1.0000\n"
          ]
        },
        {
          "output_type": "stream",
          "name": "stderr",
          "text": [
            "WARNING:absl:Found untraced functions such as _update_step_xla while saving (showing 1 of 1). These functions will not be directly callable after loading.\n",
            "100%|█████████▉| 404/405 [00:00<?, ?it/s]\n",
            "100%|██████████| 405/405 [00:00<00:00,  6.49it/s, iterations=405/405 Iterations Completed]"
          ]
        },
        {
          "output_type": "stream",
          "name": "stdout",
          "text": [
            "cleaned_data----------------------------------------- True\n",
            "1/1 [==============================] - 0s 9ms/step - loss: 0.5551 - accuracy: 1.0000\n"
          ]
        },
        {
          "output_type": "stream",
          "name": "stderr",
          "text": [
            "WARNING:absl:Found untraced functions such as _update_step_xla while saving (showing 1 of 1). These functions will not be directly callable after loading.\n",
            "\n",
            "\n",
            "100%|██████████| 406/406 [00:00<00:00,  4.76it/s]\u001b[A\n",
            "100%|██████████| 406/406 [00:00<00:00,  4.76it/s, iterations=406/406 Iterations Completed]\u001b[A"
          ]
        },
        {
          "output_type": "stream",
          "name": "stdout",
          "text": [
            "cleaned_data----------------------------------------- True\n",
            "1/1 [==============================] - 0s 27ms/step - loss: 0.6073 - accuracy: 1.0000\n"
          ]
        },
        {
          "output_type": "stream",
          "name": "stderr",
          "text": [
            "WARNING:absl:Found untraced functions such as _update_step_xla while saving (showing 1 of 1). These functions will not be directly callable after loading.\n",
            "100%|█████████▉| 406/407 [00:00<?, ?it/s]\n",
            "100%|██████████| 407/407 [00:00<00:00,  5.07it/s, iterations=407/407 Iterations Completed]"
          ]
        },
        {
          "output_type": "stream",
          "name": "stdout",
          "text": [
            "cleaned_data----------------------------------------- True\n",
            "1/1 [==============================] - 0s 14ms/step - loss: 0.7273 - accuracy: 1.0000\n"
          ]
        },
        {
          "output_type": "stream",
          "name": "stderr",
          "text": [
            "WARNING:absl:Found untraced functions such as _update_step_xla while saving (showing 1 of 1). These functions will not be directly callable after loading.\n",
            "\n",
            "                                                                                          \n",
            "100%|██████████| 408/408 [00:00<00:00,  6.77it/s]\u001b[A\n",
            "100%|██████████| 408/408 [00:00<00:00,  6.77it/s, iterations=408/408 Iterations Completed]\u001b[A"
          ]
        },
        {
          "output_type": "stream",
          "name": "stdout",
          "text": [
            "cleaned_data----------------------------------------- True\n",
            "1/1 [==============================] - 0s 10ms/step - loss: 0.6371 - accuracy: 1.0000\n"
          ]
        },
        {
          "output_type": "stream",
          "name": "stderr",
          "text": [
            "WARNING:absl:Found untraced functions such as _update_step_xla while saving (showing 1 of 1). These functions will not be directly callable after loading.\n",
            "100%|█████████▉| 408/409 [00:00<?, ?it/s]\n",
            "100%|██████████| 409/409 [00:00<00:00,  6.15it/s, iterations=409/409 Iterations Completed]"
          ]
        },
        {
          "output_type": "stream",
          "name": "stdout",
          "text": [
            "cleaned_data----------------------------------------- True\n",
            "1/1 [==============================] - 0s 9ms/step - loss: 0.5424 - accuracy: 1.0000\n"
          ]
        },
        {
          "output_type": "stream",
          "name": "stderr",
          "text": [
            "WARNING:absl:Found untraced functions such as _update_step_xla while saving (showing 1 of 1). These functions will not be directly callable after loading.\n",
            "\n",
            "                                                                                          \n",
            "100%|██████████| 410/410 [00:00<00:00,  6.61it/s]\u001b[A\n",
            "100%|██████████| 410/410 [00:00<00:00,  6.61it/s, iterations=410/410 Iterations Completed]\u001b[A"
          ]
        },
        {
          "output_type": "stream",
          "name": "stdout",
          "text": [
            "cleaned_data----------------------------------------- True\n",
            "1/1 [==============================] - 0s 9ms/step - loss: 0.5957 - accuracy: 1.0000\n"
          ]
        },
        {
          "output_type": "stream",
          "name": "stderr",
          "text": [
            "WARNING:absl:Found untraced functions such as _update_step_xla while saving (showing 1 of 1). These functions will not be directly callable after loading.\n",
            "100%|█████████▉| 410/411 [00:00<?, ?it/s]\n",
            "100%|██████████| 411/411 [00:00<00:00,  6.39it/s, iterations=411/411 Iterations Completed]"
          ]
        },
        {
          "output_type": "stream",
          "name": "stdout",
          "text": [
            "cleaned_data----------------------------------------- True\n",
            "1/1 [==============================] - 0s 13ms/step - loss: 0.6905 - accuracy: 1.0000\n"
          ]
        },
        {
          "output_type": "stream",
          "name": "stderr",
          "text": [
            "WARNING:absl:Found untraced functions such as _update_step_xla while saving (showing 1 of 1). These functions will not be directly callable after loading.\n",
            "\n",
            "                                                                                          \n",
            "100%|██████████| 412/412 [00:00<00:00,  6.06it/s]\u001b[A\n",
            "100%|██████████| 412/412 [00:00<00:00,  6.06it/s, iterations=412/412 Iterations Completed]\u001b[A"
          ]
        },
        {
          "output_type": "stream",
          "name": "stdout",
          "text": [
            "cleaned_data----------------------------------------- True\n",
            "1/1 [==============================] - 0s 13ms/step - loss: 0.5465 - accuracy: 1.0000\n"
          ]
        },
        {
          "output_type": "stream",
          "name": "stderr",
          "text": [
            "WARNING:absl:Found untraced functions such as _update_step_xla while saving (showing 1 of 1). These functions will not be directly callable after loading.\n",
            "100%|█████████▉| 412/413 [00:00<?, ?it/s]\n",
            "100%|██████████| 413/413 [00:00<00:00,  6.52it/s, iterations=413/413 Iterations Completed]"
          ]
        },
        {
          "output_type": "stream",
          "name": "stdout",
          "text": [
            "cleaned_data----------------------------------------- True\n",
            "1/1 [==============================] - 0s 9ms/step - loss: 0.5853 - accuracy: 1.0000\n"
          ]
        },
        {
          "output_type": "stream",
          "name": "stderr",
          "text": [
            "WARNING:absl:Found untraced functions such as _update_step_xla while saving (showing 1 of 1). These functions will not be directly callable after loading.\n",
            "\n",
            "                                                                                          \n",
            "100%|██████████| 414/414 [00:00<00:00,  7.12it/s]\u001b[A\n",
            "100%|██████████| 414/414 [00:00<00:00,  7.12it/s, iterations=414/414 Iterations Completed]\u001b[A"
          ]
        },
        {
          "output_type": "stream",
          "name": "stdout",
          "text": [
            "cleaned_data----------------------------------------- True\n",
            "1/1 [==============================] - 0s 9ms/step - loss: 0.6424 - accuracy: 1.0000\n"
          ]
        },
        {
          "output_type": "stream",
          "name": "stderr",
          "text": [
            "WARNING:absl:Found untraced functions such as _update_step_xla while saving (showing 1 of 1). These functions will not be directly callable after loading.\n",
            "100%|█████████▉| 414/415 [00:00<?, ?it/s]\n",
            "100%|██████████| 415/415 [00:00<00:00,  6.30it/s, iterations=415/415 Iterations Completed]"
          ]
        },
        {
          "output_type": "stream",
          "name": "stdout",
          "text": [
            "cleaned_data----------------------------------------- True\n",
            "1/1 [==============================] - 0s 14ms/step - loss: 0.5155 - accuracy: 1.0000\n"
          ]
        },
        {
          "output_type": "stream",
          "name": "stderr",
          "text": [
            "WARNING:absl:Found untraced functions such as _update_step_xla while saving (showing 1 of 1). These functions will not be directly callable after loading.\n",
            "\n",
            "                                                                                          \n",
            "100%|██████████| 416/416 [00:00<00:00,  5.20it/s]\u001b[A\n",
            "100%|██████████| 416/416 [00:00<00:00,  5.20it/s, iterations=416/416 Iterations Completed]\u001b[A"
          ]
        },
        {
          "output_type": "stream",
          "name": "stdout",
          "text": [
            "cleaned_data----------------------------------------- True\n",
            "1/1 [==============================] - 0s 17ms/step - loss: 0.4139 - accuracy: 0.9286\n"
          ]
        },
        {
          "output_type": "stream",
          "name": "stderr",
          "text": [
            "WARNING:absl:Found untraced functions such as _update_step_xla while saving (showing 1 of 1). These functions will not be directly callable after loading.\n",
            "100%|█████████▉| 416/417 [00:00<?, ?it/s]\n",
            "100%|██████████| 417/417 [00:00<00:00,  5.83it/s, iterations=417/417 Iterations Completed]"
          ]
        },
        {
          "output_type": "stream",
          "name": "stdout",
          "text": [
            "cleaned_data----------------------------------------- True\n",
            "1/1 [==============================] - 0s 11ms/step - loss: 0.3669 - accuracy: 1.0000\n"
          ]
        },
        {
          "output_type": "stream",
          "name": "stderr",
          "text": [
            "WARNING:absl:Found untraced functions such as _update_step_xla while saving (showing 1 of 1). These functions will not be directly callable after loading.\n",
            "\n",
            "                                                                                          \n",
            "100%|██████████| 418/418 [00:00<00:00,  5.38it/s]\u001b[A\n",
            "100%|██████████| 418/418 [00:00<00:00,  5.38it/s, iterations=418/418 Iterations Completed]\u001b[A"
          ]
        },
        {
          "output_type": "stream",
          "name": "stdout",
          "text": [
            "cleaned_data----------------------------------------- True\n",
            "1/1 [==============================] - 0s 15ms/step - loss: 0.8028 - accuracy: 0.5714\n"
          ]
        },
        {
          "output_type": "stream",
          "name": "stderr",
          "text": [
            "WARNING:absl:Found untraced functions such as _update_step_xla while saving (showing 1 of 1). These functions will not be directly callable after loading.\n",
            "100%|█████████▉| 418/419 [00:00<?, ?it/s]\n",
            "100%|██████████| 419/419 [00:00<00:00,  6.57it/s, iterations=419/419 Iterations Completed]"
          ]
        },
        {
          "output_type": "stream",
          "name": "stdout",
          "text": [
            "cleaned_data----------------------------------------- True\n",
            "1/1 [==============================] - 0s 10ms/step - loss: 0.5864 - accuracy: 0.7143\n"
          ]
        },
        {
          "output_type": "stream",
          "name": "stderr",
          "text": [
            "WARNING:absl:Found untraced functions such as _update_step_xla while saving (showing 1 of 1). These functions will not be directly callable after loading.\n",
            "\n",
            "                                                                                          \n",
            "100%|██████████| 420/420 [00:00<00:00,  6.69it/s]\u001b[A\n",
            "100%|██████████| 420/420 [00:00<00:00,  6.69it/s, iterations=420/420 Iterations Completed]\u001b[A"
          ]
        },
        {
          "output_type": "stream",
          "name": "stdout",
          "text": [
            "cleaned_data----------------------------------------- True\n",
            "1/1 [==============================] - 0s 10ms/step - loss: 0.5746 - accuracy: 0.7500\n"
          ]
        },
        {
          "output_type": "stream",
          "name": "stderr",
          "text": [
            "WARNING:absl:Found untraced functions such as _update_step_xla while saving (showing 1 of 1). These functions will not be directly callable after loading.\n",
            "100%|█████████▉| 420/421 [00:00<?, ?it/s]\n",
            "100%|██████████| 421/421 [00:00<00:00,  6.28it/s, iterations=421/421 Iterations Completed]"
          ]
        },
        {
          "output_type": "stream",
          "name": "stdout",
          "text": [
            "cleaned_data----------------------------------------- True\n",
            "1/1 [==============================] - 0s 12ms/step - loss: 0.4596 - accuracy: 0.8929\n"
          ]
        },
        {
          "output_type": "stream",
          "name": "stderr",
          "text": [
            "WARNING:absl:Found untraced functions such as _update_step_xla while saving (showing 1 of 1). These functions will not be directly callable after loading.\n",
            "\n",
            "                                                                                          \n",
            "100%|██████████| 422/422 [00:00<00:00,  6.74it/s]\u001b[A\n",
            "100%|██████████| 422/422 [00:00<00:00,  6.74it/s, iterations=422/422 Iterations Completed]\u001b[A"
          ]
        },
        {
          "output_type": "stream",
          "name": "stdout",
          "text": [
            "cleaned_data----------------------------------------- True\n",
            "1/1 [==============================] - 0s 18ms/step - loss: 0.4518 - accuracy: 0.9286\n"
          ]
        },
        {
          "output_type": "stream",
          "name": "stderr",
          "text": [
            "WARNING:absl:Found untraced functions such as _update_step_xla while saving (showing 1 of 1). These functions will not be directly callable after loading.\n",
            "100%|█████████▉| 422/423 [00:00<?, ?it/s]\n",
            "100%|██████████| 423/423 [00:00<00:00,  6.63it/s, iterations=423/423 Iterations Completed]"
          ]
        },
        {
          "output_type": "stream",
          "name": "stdout",
          "text": [
            "cleaned_data----------------------------------------- True\n",
            "1/1 [==============================] - 0s 9ms/step - loss: 0.4152 - accuracy: 1.0000\n"
          ]
        },
        {
          "output_type": "stream",
          "name": "stderr",
          "text": [
            "WARNING:absl:Found untraced functions such as _update_step_xla while saving (showing 1 of 1). These functions will not be directly callable after loading.\n",
            "\n",
            "                                                                                          \n",
            "100%|██████████| 424/424 [00:00<00:00,  6.32it/s]\u001b[A\n",
            "100%|██████████| 424/424 [00:00<00:00,  6.32it/s, iterations=424/424 Iterations Completed]\u001b[A"
          ]
        },
        {
          "output_type": "stream",
          "name": "stdout",
          "text": [
            "cleaned_data----------------------------------------- True\n",
            "1/1 [==============================] - 0s 13ms/step - loss: 0.3688 - accuracy: 1.0000\n"
          ]
        },
        {
          "output_type": "stream",
          "name": "stderr",
          "text": [
            "WARNING:absl:Found untraced functions such as _update_step_xla while saving (showing 1 of 1). These functions will not be directly callable after loading.\n",
            "100%|█████████▉| 424/425 [00:00<?, ?it/s]\n",
            "100%|██████████| 425/425 [00:00<00:00,  5.52it/s, iterations=425/425 Iterations Completed]"
          ]
        },
        {
          "output_type": "stream",
          "name": "stdout",
          "text": [
            "cleaned_data----------------------------------------- True\n",
            "1/1 [==============================] - 0s 9ms/step - loss: 0.3605 - accuracy: 1.0000\n"
          ]
        },
        {
          "output_type": "stream",
          "name": "stderr",
          "text": [
            "WARNING:absl:Found untraced functions such as _update_step_xla while saving (showing 1 of 1). These functions will not be directly callable after loading.\n",
            "\n",
            "                                                                                          \n",
            "100%|██████████| 426/426 [00:00<00:00,  6.69it/s]\u001b[A\n",
            "100%|██████████| 426/426 [00:00<00:00,  6.69it/s, iterations=426/426 Iterations Completed]\u001b[A"
          ]
        },
        {
          "output_type": "stream",
          "name": "stdout",
          "text": [
            "cleaned_data----------------------------------------- True\n",
            "1/1 [==============================] - 0s 9ms/step - loss: 0.4009 - accuracy: 1.0000\n"
          ]
        },
        {
          "output_type": "stream",
          "name": "stderr",
          "text": [
            "WARNING:absl:Found untraced functions such as _update_step_xla while saving (showing 1 of 1). These functions will not be directly callable after loading.\n",
            "100%|█████████▉| 426/427 [00:00<?, ?it/s]\n",
            "100%|██████████| 427/427 [00:00<00:00,  4.65it/s, iterations=427/427 Iterations Completed]"
          ]
        },
        {
          "output_type": "stream",
          "name": "stdout",
          "text": [
            "cleaned_data----------------------------------------- True\n",
            "1/1 [==============================] - 0s 10ms/step - loss: 0.4478 - accuracy: 1.0000\n"
          ]
        },
        {
          "output_type": "stream",
          "name": "stderr",
          "text": [
            "WARNING:absl:Found untraced functions such as _update_step_xla while saving (showing 1 of 1). These functions will not be directly callable after loading.\n",
            "\n",
            "\n",
            "100%|██████████| 428/428 [00:00<00:00,  3.66it/s]\u001b[A\n",
            "100%|██████████| 428/428 [00:00<00:00,  3.66it/s, iterations=428/428 Iterations Completed]\u001b[A"
          ]
        },
        {
          "output_type": "stream",
          "name": "stdout",
          "text": [
            "cleaned_data----------------------------------------- True\n",
            "1/1 [==============================] - 0s 13ms/step - loss: 0.5604 - accuracy: 1.0000\n"
          ]
        },
        {
          "output_type": "stream",
          "name": "stderr",
          "text": [
            "WARNING:absl:Found untraced functions such as _update_step_xla while saving (showing 1 of 1). These functions will not be directly callable after loading.\n",
            "100%|█████████▉| 428/429 [00:00<?, ?it/s]\n",
            "100%|██████████| 429/429 [00:00<00:00,  6.02it/s, iterations=429/429 Iterations Completed]"
          ]
        },
        {
          "output_type": "stream",
          "name": "stdout",
          "text": [
            "cleaned_data----------------------------------------- True\n",
            "1/1 [==============================] - 0s 11ms/step - loss: 0.4826 - accuracy: 1.0000\n"
          ]
        },
        {
          "output_type": "stream",
          "name": "stderr",
          "text": [
            "WARNING:absl:Found untraced functions such as _update_step_xla while saving (showing 1 of 1). These functions will not be directly callable after loading.\n",
            "\n",
            "                                                                                          \n",
            "100%|██████████| 430/430 [00:00<00:00,  6.73it/s]\u001b[A\n",
            "100%|██████████| 430/430 [00:00<00:00,  6.73it/s, iterations=430/430 Iterations Completed]\u001b[A"
          ]
        },
        {
          "output_type": "stream",
          "name": "stdout",
          "text": [
            "cleaned_data----------------------------------------- True\n",
            "1/1 [==============================] - 0s 9ms/step - loss: 0.5839 - accuracy: 1.0000\n"
          ]
        },
        {
          "output_type": "stream",
          "name": "stderr",
          "text": [
            "WARNING:absl:Found untraced functions such as _update_step_xla while saving (showing 1 of 1). These functions will not be directly callable after loading.\n",
            "100%|█████████▉| 430/431 [00:00<?, ?it/s]\n",
            "100%|██████████| 431/431 [00:00<00:00,  6.30it/s, iterations=431/431 Iterations Completed]"
          ]
        },
        {
          "output_type": "stream",
          "name": "stdout",
          "text": [
            "cleaned_data----------------------------------------- True\n",
            "1/1 [==============================] - 0s 12ms/step - loss: 0.4978 - accuracy: 1.0000\n"
          ]
        },
        {
          "output_type": "stream",
          "name": "stderr",
          "text": [
            "WARNING:absl:Found untraced functions such as _update_step_xla while saving (showing 1 of 1). These functions will not be directly callable after loading.\n",
            "\n",
            "                                                                                          \n",
            "100%|██████████| 432/432 [00:00<00:00,  6.86it/s]\u001b[A\n",
            "100%|██████████| 432/432 [00:00<00:00,  6.86it/s, iterations=432/432 Iterations Completed]\u001b[A"
          ]
        },
        {
          "output_type": "stream",
          "name": "stdout",
          "text": [
            "cleaned_data----------------------------------------- True\n",
            "1/1 [==============================] - 0s 10ms/step - loss: 0.5756 - accuracy: 1.0000\n"
          ]
        },
        {
          "output_type": "stream",
          "name": "stderr",
          "text": [
            "WARNING:absl:Found untraced functions such as _update_step_xla while saving (showing 1 of 1). These functions will not be directly callable after loading.\n",
            "100%|█████████▉| 432/433 [00:00<?, ?it/s]\n",
            "100%|██████████| 433/433 [00:00<00:00,  6.85it/s, iterations=433/433 Iterations Completed]"
          ]
        },
        {
          "output_type": "stream",
          "name": "stdout",
          "text": [
            "cleaned_data----------------------------------------- True\n",
            "1/1 [==============================] - 0s 8ms/step - loss: 0.6491 - accuracy: 1.0000\n"
          ]
        },
        {
          "output_type": "stream",
          "name": "stderr",
          "text": [
            "WARNING:absl:Found untraced functions such as _update_step_xla while saving (showing 1 of 1). These functions will not be directly callable after loading.\n",
            "\n",
            "                                                                                          \n",
            "100%|██████████| 434/434 [00:00<00:00,  6.56it/s]\u001b[A\n",
            "100%|██████████| 434/434 [00:00<00:00,  6.56it/s, iterations=434/434 Iterations Completed]\u001b[A"
          ]
        },
        {
          "output_type": "stream",
          "name": "stdout",
          "text": [
            "cleaned_data----------------------------------------- True\n",
            "1/1 [==============================] - 0s 11ms/step - loss: 0.7171 - accuracy: 1.0000\n"
          ]
        },
        {
          "output_type": "stream",
          "name": "stderr",
          "text": [
            "WARNING:absl:Found untraced functions such as _update_step_xla while saving (showing 1 of 1). These functions will not be directly callable after loading.\n",
            "100%|█████████▉| 434/435 [00:00<?, ?it/s]\n",
            "100%|██████████| 435/435 [00:00<00:00,  7.12it/s, iterations=435/435 Iterations Completed]"
          ]
        },
        {
          "output_type": "stream",
          "name": "stdout",
          "text": [
            "cleaned_data----------------------------------------- True\n",
            "1/1 [==============================] - 0s 9ms/step - loss: 0.6118 - accuracy: 1.0000\n"
          ]
        },
        {
          "output_type": "stream",
          "name": "stderr",
          "text": [
            "WARNING:absl:Found untraced functions such as _update_step_xla while saving (showing 1 of 1). These functions will not be directly callable after loading.\n",
            "\n",
            "                                                                                          \n",
            "100%|██████████| 436/436 [00:00<00:00,  6.25it/s]\u001b[A\n",
            "100%|██████████| 436/436 [00:00<00:00,  6.25it/s, iterations=436/436 Iterations Completed]\u001b[A"
          ]
        },
        {
          "output_type": "stream",
          "name": "stdout",
          "text": [
            "cleaned_data----------------------------------------- True\n",
            "1/1 [==============================] - 0s 9ms/step - loss: 0.4510 - accuracy: 1.0000\n"
          ]
        },
        {
          "output_type": "stream",
          "name": "stderr",
          "text": [
            "WARNING:absl:Found untraced functions such as _update_step_xla while saving (showing 1 of 1). These functions will not be directly callable after loading.\n",
            "100%|█████████▉| 436/437 [00:00<?, ?it/s]\n",
            "100%|██████████| 437/437 [00:00<00:00,  6.15it/s, iterations=437/437 Iterations Completed]"
          ]
        },
        {
          "output_type": "stream",
          "name": "stdout",
          "text": [
            "cleaned_data----------------------------------------- True\n",
            "1/1 [==============================] - 0s 13ms/step - loss: 0.5328 - accuracy: 1.0000\n"
          ]
        },
        {
          "output_type": "stream",
          "name": "stderr",
          "text": [
            "WARNING:absl:Found untraced functions such as _update_step_xla while saving (showing 1 of 1). These functions will not be directly callable after loading.\n",
            "\n",
            "                                                                                          \n",
            "100%|██████████| 438/438 [00:00<00:00,  5.46it/s]\u001b[A\n",
            "100%|██████████| 438/438 [00:00<00:00,  5.46it/s, iterations=438/438 Iterations Completed]\u001b[A"
          ]
        },
        {
          "output_type": "stream",
          "name": "stdout",
          "text": [
            "cleaned_data----------------------------------------- True\n",
            "1/1 [==============================] - 0s 14ms/step - loss: 0.4188 - accuracy: 1.0000\n"
          ]
        },
        {
          "output_type": "stream",
          "name": "stderr",
          "text": [
            "WARNING:absl:Found untraced functions such as _update_step_xla while saving (showing 1 of 1). These functions will not be directly callable after loading.\n",
            "100%|█████████▉| 438/439 [00:00<?, ?it/s]\n",
            "100%|██████████| 439/439 [00:00<00:00,  5.10it/s, iterations=439/439 Iterations Completed]"
          ]
        },
        {
          "output_type": "stream",
          "name": "stdout",
          "text": [
            "cleaned_data----------------------------------------- True\n",
            "1/1 [==============================] - 0s 15ms/step - loss: 0.4787 - accuracy: 1.0000\n"
          ]
        },
        {
          "output_type": "stream",
          "name": "stderr",
          "text": [
            "WARNING:absl:Found untraced functions such as _update_step_xla while saving (showing 1 of 1). These functions will not be directly callable after loading.\n",
            "\n",
            "                                                                                          \n",
            "100%|██████████| 440/440 [00:00<00:00,  7.08it/s]\u001b[A\n",
            "100%|██████████| 440/440 [00:00<00:00,  7.08it/s, iterations=440/440 Iterations Completed]\u001b[A"
          ]
        },
        {
          "output_type": "stream",
          "name": "stdout",
          "text": [
            "cleaned_data----------------------------------------- True\n",
            "1/1 [==============================] - 0s 10ms/step - loss: 0.3660 - accuracy: 1.0000\n"
          ]
        },
        {
          "output_type": "stream",
          "name": "stderr",
          "text": [
            "WARNING:absl:Found untraced functions such as _update_step_xla while saving (showing 1 of 1). These functions will not be directly callable after loading.\n",
            "100%|█████████▉| 440/441 [00:00<?, ?it/s]\n",
            "100%|██████████| 441/441 [00:00<00:00,  5.59it/s, iterations=441/441 Iterations Completed]"
          ]
        },
        {
          "output_type": "stream",
          "name": "stdout",
          "text": [
            "cleaned_data----------------------------------------- True\n",
            "1/1 [==============================] - 0s 13ms/step - loss: 0.3391 - accuracy: 1.0000\n"
          ]
        },
        {
          "output_type": "stream",
          "name": "stderr",
          "text": [
            "WARNING:absl:Found untraced functions such as _update_step_xla while saving (showing 1 of 1). These functions will not be directly callable after loading.\n",
            "\n",
            "                                                                                          \n",
            "100%|██████████| 442/442 [00:00<00:00,  7.28it/s]\u001b[A\n",
            "100%|██████████| 442/442 [00:00<00:00,  7.28it/s, iterations=442/442 Iterations Completed]\u001b[A"
          ]
        },
        {
          "output_type": "stream",
          "name": "stdout",
          "text": [
            "cleaned_data----------------------------------------- True\n",
            "1/1 [==============================] - 0s 20ms/step - loss: 0.3585 - accuracy: 1.0000\n"
          ]
        },
        {
          "output_type": "stream",
          "name": "stderr",
          "text": [
            "WARNING:absl:Found untraced functions such as _update_step_xla while saving (showing 1 of 1). These functions will not be directly callable after loading.\n",
            "100%|█████████▉| 442/443 [00:00<?, ?it/s]\n",
            "100%|██████████| 443/443 [00:00<00:00,  6.82it/s, iterations=443/443 Iterations Completed]"
          ]
        },
        {
          "output_type": "stream",
          "name": "stdout",
          "text": [
            "cleaned_data----------------------------------------- True\n",
            "1/1 [==============================] - 0s 15ms/step - loss: 0.4235 - accuracy: 1.0000\n"
          ]
        },
        {
          "output_type": "stream",
          "name": "stderr",
          "text": [
            "WARNING:absl:Found untraced functions such as _update_step_xla while saving (showing 1 of 1). These functions will not be directly callable after loading.\n",
            "\n",
            "                                                                                          \n",
            "100%|██████████| 444/444 [00:00<00:00,  6.66it/s]\u001b[A\n",
            "100%|██████████| 444/444 [00:00<00:00,  6.66it/s, iterations=444/444 Iterations Completed]\u001b[A"
          ]
        },
        {
          "output_type": "stream",
          "name": "stdout",
          "text": [
            "cleaned_data----------------------------------------- True\n",
            "1/1 [==============================] - 0s 12ms/step - loss: 0.7237 - accuracy: 0.6786\n"
          ]
        },
        {
          "output_type": "stream",
          "name": "stderr",
          "text": [
            "WARNING:absl:Found untraced functions such as _update_step_xla while saving (showing 1 of 1). These functions will not be directly callable after loading.\n",
            "100%|█████████▉| 444/445 [00:00<?, ?it/s]\n",
            "100%|██████████| 445/445 [00:00<00:00,  6.27it/s, iterations=445/445 Iterations Completed]"
          ]
        },
        {
          "output_type": "stream",
          "name": "stdout",
          "text": [
            "cleaned_data----------------------------------------- True\n",
            "1/1 [==============================] - 0s 13ms/step - loss: 0.7850 - accuracy: 0.5000\n"
          ]
        },
        {
          "output_type": "stream",
          "name": "stderr",
          "text": [
            "WARNING:absl:Found untraced functions such as _update_step_xla while saving (showing 1 of 1). These functions will not be directly callable after loading.\n",
            "\n",
            "                                                                                          \n",
            "100%|██████████| 446/446 [00:00<00:00,  6.75it/s]\u001b[A\n",
            "100%|██████████| 446/446 [00:00<00:00,  6.75it/s, iterations=446/446 Iterations Completed]\u001b[A"
          ]
        },
        {
          "output_type": "stream",
          "name": "stdout",
          "text": [
            "cleaned_data----------------------------------------- True\n",
            "1/1 [==============================] - 0s 11ms/step - loss: 0.4548 - accuracy: 0.9286\n"
          ]
        },
        {
          "output_type": "stream",
          "name": "stderr",
          "text": [
            "WARNING:absl:Found untraced functions such as _update_step_xla while saving (showing 1 of 1). These functions will not be directly callable after loading.\n",
            "100%|█████████▉| 446/447 [00:00<?, ?it/s]\n",
            "100%|██████████| 447/447 [00:00<00:00,  6.51it/s, iterations=447/447 Iterations Completed]"
          ]
        },
        {
          "output_type": "stream",
          "name": "stdout",
          "text": [
            "cleaned_data----------------------------------------- True\n",
            "1/1 [==============================] - 0s 10ms/step - loss: 0.4014 - accuracy: 0.9643\n"
          ]
        },
        {
          "output_type": "stream",
          "name": "stderr",
          "text": [
            "WARNING:absl:Found untraced functions such as _update_step_xla while saving (showing 1 of 1). These functions will not be directly callable after loading.\n",
            "\n",
            "\n",
            "100%|██████████| 448/448 [00:00<00:00,  4.59it/s]\u001b[A\n",
            "100%|██████████| 448/448 [00:00<00:00,  4.59it/s, iterations=448/448 Iterations Completed]\u001b[A"
          ]
        },
        {
          "output_type": "stream",
          "name": "stdout",
          "text": [
            "cleaned_data----------------------------------------- True\n",
            "1/1 [==============================] - 0s 21ms/step - loss: 0.3624 - accuracy: 1.0000\n"
          ]
        },
        {
          "output_type": "stream",
          "name": "stderr",
          "text": [
            "WARNING:absl:Found untraced functions such as _update_step_xla while saving (showing 1 of 1). These functions will not be directly callable after loading.\n",
            "100%|█████████▉| 448/449 [00:00<?, ?it/s]\n",
            "100%|██████████| 449/449 [00:00<00:00,  4.04it/s, iterations=449/449 Iterations Completed]"
          ]
        },
        {
          "output_type": "stream",
          "name": "stdout",
          "text": [
            "cleaned_data----------------------------------------- True\n",
            "1/1 [==============================] - 0s 13ms/step - loss: 0.3405 - accuracy: 1.0000\n"
          ]
        },
        {
          "output_type": "stream",
          "name": "stderr",
          "text": [
            "WARNING:absl:Found untraced functions such as _update_step_xla while saving (showing 1 of 1). These functions will not be directly callable after loading.\n",
            "\n",
            "                                                                                          \n",
            "100%|██████████| 450/450 [00:00<00:00,  5.28it/s]\u001b[A\n",
            "100%|██████████| 450/450 [00:00<00:00,  5.28it/s, iterations=450/450 Iterations Completed]\u001b[A"
          ]
        },
        {
          "output_type": "stream",
          "name": "stdout",
          "text": [
            "cleaned_data----------------------------------------- True\n",
            "1/1 [==============================] - 0s 10ms/step - loss: 0.3759 - accuracy: 1.0000\n"
          ]
        },
        {
          "output_type": "stream",
          "name": "stderr",
          "text": [
            "WARNING:absl:Found untraced functions such as _update_step_xla while saving (showing 1 of 1). These functions will not be directly callable after loading.\n",
            "100%|█████████▉| 450/451 [00:00<?, ?it/s]\n",
            "100%|██████████| 451/451 [00:00<00:00,  6.75it/s, iterations=451/451 Iterations Completed]"
          ]
        },
        {
          "output_type": "stream",
          "name": "stdout",
          "text": [
            "cleaned_data----------------------------------------- True\n",
            "1/1 [==============================] - 0s 10ms/step - loss: 0.3578 - accuracy: 1.0000\n"
          ]
        },
        {
          "output_type": "stream",
          "name": "stderr",
          "text": [
            "WARNING:absl:Found untraced functions such as _update_step_xla while saving (showing 1 of 1). These functions will not be directly callable after loading.\n",
            "\n",
            "                                                                                          \n",
            "100%|██████████| 452/452 [00:00<00:00,  7.08it/s]\u001b[A\n",
            "100%|██████████| 452/452 [00:00<00:00,  7.08it/s, iterations=452/452 Iterations Completed]\u001b[A"
          ]
        },
        {
          "output_type": "stream",
          "name": "stdout",
          "text": [
            "cleaned_data----------------------------------------- True\n",
            "1/1 [==============================] - 0s 10ms/step - loss: 0.3828 - accuracy: 1.0000\n"
          ]
        },
        {
          "output_type": "stream",
          "name": "stderr",
          "text": [
            "WARNING:absl:Found untraced functions such as _update_step_xla while saving (showing 1 of 1). These functions will not be directly callable after loading.\n",
            "100%|█████████▉| 452/453 [00:00<?, ?it/s]\n",
            "100%|██████████| 453/453 [00:00<00:00,  6.98it/s, iterations=453/453 Iterations Completed]"
          ]
        },
        {
          "output_type": "stream",
          "name": "stdout",
          "text": [
            "cleaned_data----------------------------------------- True\n",
            "1/1 [==============================] - 0s 12ms/step - loss: 0.5005 - accuracy: 1.0000\n"
          ]
        },
        {
          "output_type": "stream",
          "name": "stderr",
          "text": [
            "WARNING:absl:Found untraced functions such as _update_step_xla while saving (showing 1 of 1). These functions will not be directly callable after loading.\n",
            "\n",
            "                                                                                          \n",
            "100%|██████████| 454/454 [00:00<00:00,  7.30it/s]\u001b[A\n",
            "100%|██████████| 454/454 [00:00<00:00,  7.30it/s, iterations=454/454 Iterations Completed]\u001b[A"
          ]
        },
        {
          "output_type": "stream",
          "name": "stdout",
          "text": [
            "cleaned_data----------------------------------------- True\n",
            "1/1 [==============================] - 0s 10ms/step - loss: 0.5258 - accuracy: 1.0000\n"
          ]
        },
        {
          "output_type": "stream",
          "name": "stderr",
          "text": [
            "WARNING:absl:Found untraced functions such as _update_step_xla while saving (showing 1 of 1). These functions will not be directly callable after loading.\n",
            "100%|█████████▉| 454/455 [00:00<?, ?it/s]\n",
            "100%|██████████| 455/455 [00:00<00:00,  6.50it/s, iterations=455/455 Iterations Completed]"
          ]
        },
        {
          "output_type": "stream",
          "name": "stdout",
          "text": [
            "cleaned_data----------------------------------------- True\n",
            "1/1 [==============================] - 0s 10ms/step - loss: 0.4660 - accuracy: 1.0000\n"
          ]
        },
        {
          "output_type": "stream",
          "name": "stderr",
          "text": [
            "WARNING:absl:Found untraced functions such as _update_step_xla while saving (showing 1 of 1). These functions will not be directly callable after loading.\n",
            "\n",
            "                                                                                          \n",
            "100%|██████████| 456/456 [00:00<00:00,  6.67it/s]\u001b[A\n",
            "100%|██████████| 456/456 [00:00<00:00,  6.67it/s, iterations=456/456 Iterations Completed]\u001b[A"
          ]
        },
        {
          "output_type": "stream",
          "name": "stdout",
          "text": [
            "cleaned_data----------------------------------------- True\n",
            "1/1 [==============================] - 0s 11ms/step - loss: 0.4738 - accuracy: 1.0000\n"
          ]
        },
        {
          "output_type": "stream",
          "name": "stderr",
          "text": [
            "WARNING:absl:Found untraced functions such as _update_step_xla while saving (showing 1 of 1). These functions will not be directly callable after loading.\n",
            "100%|█████████▉| 456/457 [00:00<?, ?it/s]\n",
            "100%|██████████| 457/457 [00:00<00:00,  6.17it/s, iterations=457/457 Iterations Completed]"
          ]
        },
        {
          "output_type": "stream",
          "name": "stdout",
          "text": [
            "cleaned_data----------------------------------------- True\n",
            "1/1 [==============================] - 0s 9ms/step - loss: 0.4203 - accuracy: 1.0000\n"
          ]
        },
        {
          "output_type": "stream",
          "name": "stderr",
          "text": [
            "WARNING:absl:Found untraced functions such as _update_step_xla while saving (showing 1 of 1). These functions will not be directly callable after loading.\n",
            "\n",
            "                                                                                          \n",
            "100%|██████████| 458/458 [00:00<00:00,  7.49it/s]\u001b[A\n",
            "100%|██████████| 458/458 [00:00<00:00,  7.49it/s, iterations=458/458 Iterations Completed]\u001b[A"
          ]
        },
        {
          "output_type": "stream",
          "name": "stdout",
          "text": [
            "cleaned_data----------------------------------------- True\n",
            "1/1 [==============================] - 0s 10ms/step - loss: 0.3718 - accuracy: 1.0000\n"
          ]
        },
        {
          "output_type": "stream",
          "name": "stderr",
          "text": [
            "WARNING:absl:Found untraced functions such as _update_step_xla while saving (showing 1 of 1). These functions will not be directly callable after loading.\n",
            "100%|█████████▉| 458/459 [00:00<?, ?it/s]\n",
            "100%|██████████| 459/459 [00:00<00:00,  6.41it/s, iterations=459/459 Iterations Completed]"
          ]
        },
        {
          "output_type": "stream",
          "name": "stdout",
          "text": [
            "cleaned_data----------------------------------------- True\n",
            "1/1 [==============================] - 0s 16ms/step - loss: 0.4193 - accuracy: 1.0000\n"
          ]
        },
        {
          "output_type": "stream",
          "name": "stderr",
          "text": [
            "WARNING:absl:Found untraced functions such as _update_step_xla while saving (showing 1 of 1). These functions will not be directly callable after loading.\n",
            "\n",
            "                                                                                          \n",
            "100%|██████████| 460/460 [00:00<00:00,  5.36it/s]\u001b[A\n",
            "100%|██████████| 460/460 [00:00<00:00,  5.36it/s, iterations=460/460 Iterations Completed]\u001b[A"
          ]
        },
        {
          "output_type": "stream",
          "name": "stdout",
          "text": [
            "cleaned_data----------------------------------------- True\n",
            "1/1 [==============================] - 0s 23ms/step - loss: 0.4452 - accuracy: 1.0000\n"
          ]
        },
        {
          "output_type": "stream",
          "name": "stderr",
          "text": [
            "WARNING:absl:Found untraced functions such as _update_step_xla while saving (showing 1 of 1). These functions will not be directly callable after loading.\n",
            "100%|█████████▉| 460/461 [00:00<?, ?it/s]\n",
            "100%|██████████| 461/461 [00:00<00:00,  6.09it/s, iterations=461/461 Iterations Completed]"
          ]
        },
        {
          "output_type": "stream",
          "name": "stdout",
          "text": [
            "cleaned_data----------------------------------------- True\n",
            "1/1 [==============================] - 0s 9ms/step - loss: 0.4516 - accuracy: 1.0000\n"
          ]
        },
        {
          "output_type": "stream",
          "name": "stderr",
          "text": [
            "WARNING:absl:Found untraced functions such as _update_step_xla while saving (showing 1 of 1). These functions will not be directly callable after loading.\n",
            "\n",
            "                                                                                          \n",
            "100%|██████████| 462/462 [00:00<00:00,  6.72it/s]\u001b[A\n",
            "100%|██████████| 462/462 [00:00<00:00,  6.72it/s, iterations=462/462 Iterations Completed]\u001b[A"
          ]
        },
        {
          "output_type": "stream",
          "name": "stdout",
          "text": [
            "cleaned_data----------------------------------------- True\n",
            "1/1 [==============================] - 0s 14ms/step - loss: 0.4228 - accuracy: 1.0000\n"
          ]
        },
        {
          "output_type": "stream",
          "name": "stderr",
          "text": [
            "WARNING:absl:Found untraced functions such as _update_step_xla while saving (showing 1 of 1). These functions will not be directly callable after loading.\n",
            "100%|█████████▉| 462/463 [00:00<?, ?it/s]\n",
            "100%|██████████| 463/463 [00:00<00:00,  6.31it/s, iterations=463/463 Iterations Completed]"
          ]
        },
        {
          "output_type": "stream",
          "name": "stdout",
          "text": [
            "cleaned_data----------------------------------------- True\n",
            "1/1 [==============================] - 0s 10ms/step - loss: 0.4738 - accuracy: 1.0000\n"
          ]
        },
        {
          "output_type": "stream",
          "name": "stderr",
          "text": [
            "WARNING:absl:Found untraced functions such as _update_step_xla while saving (showing 1 of 1). These functions will not be directly callable after loading.\n",
            "\n",
            "                                                                                          \n",
            "100%|██████████| 464/464 [00:00<00:00,  7.16it/s]\u001b[A\n",
            "100%|██████████| 464/464 [00:00<00:00,  7.16it/s, iterations=464/464 Iterations Completed]\u001b[A"
          ]
        },
        {
          "output_type": "stream",
          "name": "stdout",
          "text": [
            "cleaned_data----------------------------------------- True\n",
            "1/1 [==============================] - 0s 11ms/step - loss: 0.4113 - accuracy: 1.0000\n"
          ]
        },
        {
          "output_type": "stream",
          "name": "stderr",
          "text": [
            "WARNING:absl:Found untraced functions such as _update_step_xla while saving (showing 1 of 1). These functions will not be directly callable after loading.\n",
            "100%|█████████▉| 464/465 [00:00<?, ?it/s]\n",
            "100%|██████████| 465/465 [00:00<00:00,  6.55it/s, iterations=465/465 Iterations Completed]"
          ]
        },
        {
          "output_type": "stream",
          "name": "stdout",
          "text": [
            "cleaned_data----------------------------------------- True\n",
            "1/1 [==============================] - 0s 9ms/step - loss: 0.4377 - accuracy: 1.0000\n"
          ]
        },
        {
          "output_type": "stream",
          "name": "stderr",
          "text": [
            "WARNING:absl:Found untraced functions such as _update_step_xla while saving (showing 1 of 1). These functions will not be directly callable after loading.\n",
            "\n",
            "                                                                                          \n",
            "100%|██████████| 466/466 [00:00<00:00,  6.63it/s]\u001b[A\n",
            "100%|██████████| 466/466 [00:00<00:00,  6.63it/s, iterations=466/466 Iterations Completed]\u001b[A"
          ]
        },
        {
          "output_type": "stream",
          "name": "stdout",
          "text": [
            "cleaned_data----------------------------------------- True\n",
            "1/1 [==============================] - 0s 16ms/step - loss: 0.3589 - accuracy: 1.0000\n"
          ]
        },
        {
          "output_type": "stream",
          "name": "stderr",
          "text": [
            "WARNING:absl:Found untraced functions such as _update_step_xla while saving (showing 1 of 1). These functions will not be directly callable after loading.\n",
            "100%|█████████▉| 466/467 [00:00<?, ?it/s]\n",
            "100%|██████████| 467/467 [00:00<00:00,  6.60it/s, iterations=467/467 Iterations Completed]"
          ]
        },
        {
          "output_type": "stream",
          "name": "stdout",
          "text": [
            "cleaned_data----------------------------------------- True\n",
            "1/1 [==============================] - 0s 9ms/step - loss: 0.3728 - accuracy: 1.0000\n"
          ]
        },
        {
          "output_type": "stream",
          "name": "stderr",
          "text": [
            "WARNING:absl:Found untraced functions such as _update_step_xla while saving (showing 1 of 1). These functions will not be directly callable after loading.\n",
            "\n",
            "                                                                                          \n",
            "100%|██████████| 468/468 [00:00<00:00,  6.37it/s]\u001b[A\n",
            "100%|██████████| 468/468 [00:00<00:00,  6.37it/s, iterations=468/468 Iterations Completed]\u001b[A"
          ]
        },
        {
          "output_type": "stream",
          "name": "stdout",
          "text": [
            "cleaned_data----------------------------------------- True\n",
            "1/1 [==============================] - 0s 9ms/step - loss: 0.4085 - accuracy: 1.0000\n"
          ]
        },
        {
          "output_type": "stream",
          "name": "stderr",
          "text": [
            "WARNING:absl:Found untraced functions such as _update_step_xla while saving (showing 1 of 1). These functions will not be directly callable after loading.\n",
            "100%|█████████▉| 468/469 [00:00<?, ?it/s]\n",
            "100%|██████████| 469/469 [00:00<00:00,  6.67it/s, iterations=469/469 Iterations Completed]"
          ]
        },
        {
          "output_type": "stream",
          "name": "stdout",
          "text": [
            "cleaned_data----------------------------------------- True\n",
            "1/1 [==============================] - 0s 12ms/step - loss: 0.3635 - accuracy: 1.0000\n"
          ]
        },
        {
          "output_type": "stream",
          "name": "stderr",
          "text": [
            "WARNING:absl:Found untraced functions such as _update_step_xla while saving (showing 1 of 1). These functions will not be directly callable after loading.\n",
            "\n",
            "\n",
            "100%|██████████| 470/470 [00:00<00:00,  5.16it/s]\u001b[A\n",
            "100%|██████████| 470/470 [00:00<00:00,  5.16it/s, iterations=470/470 Iterations Completed]\u001b[A"
          ]
        },
        {
          "output_type": "stream",
          "name": "stdout",
          "text": [
            "cleaned_data----------------------------------------- True\n",
            "1/1 [==============================] - 0s 22ms/step - loss: 0.3733 - accuracy: 1.0000\n"
          ]
        },
        {
          "output_type": "stream",
          "name": "stderr",
          "text": [
            "WARNING:absl:Found untraced functions such as _update_step_xla while saving (showing 1 of 1). These functions will not be directly callable after loading.\n",
            "100%|█████████▉| 470/471 [00:00<?, ?it/s]\n",
            "100%|██████████| 471/471 [00:00<00:00,  4.29it/s, iterations=471/471 Iterations Completed]"
          ]
        },
        {
          "output_type": "stream",
          "name": "stdout",
          "text": [
            "cleaned_data----------------------------------------- True\n",
            "1/1 [==============================] - 0s 17ms/step - loss: 0.5402 - accuracy: 0.8214\n"
          ]
        },
        {
          "output_type": "stream",
          "name": "stderr",
          "text": [
            "WARNING:absl:Found untraced functions such as _update_step_xla while saving (showing 1 of 1). These functions will not be directly callable after loading.\n",
            "\n",
            "                                                                                          \n",
            "100%|██████████| 472/472 [00:00<00:00,  6.49it/s]\u001b[A\n",
            "100%|██████████| 472/472 [00:00<00:00,  6.49it/s, iterations=472/472 Iterations Completed]\u001b[A"
          ]
        },
        {
          "output_type": "stream",
          "name": "stdout",
          "text": [
            "cleaned_data----------------------------------------- True\n",
            "1/1 [==============================] - 0s 11ms/step - loss: 0.4775 - accuracy: 0.8929\n"
          ]
        },
        {
          "output_type": "stream",
          "name": "stderr",
          "text": [
            "WARNING:absl:Found untraced functions such as _update_step_xla while saving (showing 1 of 1). These functions will not be directly callable after loading.\n",
            "100%|█████████▉| 472/473 [00:00<?, ?it/s]\n",
            "100%|██████████| 473/473 [00:00<00:00,  6.37it/s, iterations=473/473 Iterations Completed]"
          ]
        },
        {
          "output_type": "stream",
          "name": "stdout",
          "text": [
            "cleaned_data----------------------------------------- True\n",
            "1/1 [==============================] - 0s 10ms/step - loss: 0.6566 - accuracy: 0.7857\n"
          ]
        },
        {
          "output_type": "stream",
          "name": "stderr",
          "text": [
            "WARNING:absl:Found untraced functions such as _update_step_xla while saving (showing 1 of 1). These functions will not be directly callable after loading.\n",
            "\n",
            "                                                                                          \n",
            "100%|██████████| 474/474 [00:00<00:00,  6.82it/s]\u001b[A\n",
            "100%|██████████| 474/474 [00:00<00:00,  6.82it/s, iterations=474/474 Iterations Completed]\u001b[A"
          ]
        },
        {
          "output_type": "stream",
          "name": "stdout",
          "text": [
            "cleaned_data----------------------------------------- True\n",
            "1/1 [==============================] - 0s 11ms/step - loss: 0.9812 - accuracy: 0.2857\n"
          ]
        },
        {
          "output_type": "stream",
          "name": "stderr",
          "text": [
            "WARNING:absl:Found untraced functions such as _update_step_xla while saving (showing 1 of 1). These functions will not be directly callable after loading.\n",
            "100%|█████████▉| 474/475 [00:00<?, ?it/s]\n",
            "100%|██████████| 475/475 [00:00<00:00,  6.34it/s, iterations=475/475 Iterations Completed]"
          ]
        },
        {
          "output_type": "stream",
          "name": "stdout",
          "text": [
            "cleaned_data----------------------------------------- True\n",
            "1/1 [==============================] - 0s 13ms/step - loss: 0.6098 - accuracy: 0.7857\n"
          ]
        },
        {
          "output_type": "stream",
          "name": "stderr",
          "text": [
            "WARNING:absl:Found untraced functions such as _update_step_xla while saving (showing 1 of 1). These functions will not be directly callable after loading.\n",
            "\n",
            "                                                                                          \n",
            "100%|██████████| 476/476 [00:00<00:00,  6.87it/s]\u001b[A\n",
            "100%|██████████| 476/476 [00:00<00:00,  6.87it/s, iterations=476/476 Iterations Completed]\u001b[A"
          ]
        },
        {
          "output_type": "stream",
          "name": "stdout",
          "text": [
            "cleaned_data----------------------------------------- True\n",
            "1/1 [==============================] - 0s 8ms/step - loss: 0.4131 - accuracy: 0.8929\n"
          ]
        },
        {
          "output_type": "stream",
          "name": "stderr",
          "text": [
            "WARNING:absl:Found untraced functions such as _update_step_xla while saving (showing 1 of 1). These functions will not be directly callable after loading.\n",
            "100%|█████████▉| 476/477 [00:00<?, ?it/s]\n",
            "100%|██████████| 477/477 [00:00<00:00,  6.80it/s, iterations=477/477 Iterations Completed]"
          ]
        },
        {
          "output_type": "stream",
          "name": "stdout",
          "text": [
            "cleaned_data----------------------------------------- True\n",
            "1/1 [==============================] - 0s 23ms/step - loss: 0.3671 - accuracy: 1.0000\n"
          ]
        },
        {
          "output_type": "stream",
          "name": "stderr",
          "text": [
            "WARNING:absl:Found untraced functions such as _update_step_xla while saving (showing 1 of 1). These functions will not be directly callable after loading.\n",
            "\n",
            "                                                                                          \n",
            "100%|██████████| 478/478 [00:00<00:00,  6.47it/s]\u001b[A\n",
            "100%|██████████| 478/478 [00:00<00:00,  6.47it/s, iterations=478/478 Iterations Completed]\u001b[A"
          ]
        },
        {
          "output_type": "stream",
          "name": "stdout",
          "text": [
            "cleaned_data----------------------------------------- True\n",
            "1/1 [==============================] - 0s 12ms/step - loss: 0.4239 - accuracy: 1.0000\n"
          ]
        },
        {
          "output_type": "stream",
          "name": "stderr",
          "text": [
            "WARNING:absl:Found untraced functions such as _update_step_xla while saving (showing 1 of 1). These functions will not be directly callable after loading.\n",
            "100%|█████████▉| 478/479 [00:00<?, ?it/s]\n",
            "100%|██████████| 479/479 [00:00<00:00,  6.34it/s, iterations=479/479 Iterations Completed]"
          ]
        },
        {
          "output_type": "stream",
          "name": "stdout",
          "text": [
            "cleaned_data----------------------------------------- True\n",
            "1/1 [==============================] - 0s 14ms/step - loss: 0.4434 - accuracy: 1.0000\n"
          ]
        },
        {
          "output_type": "stream",
          "name": "stderr",
          "text": [
            "WARNING:absl:Found untraced functions such as _update_step_xla while saving (showing 1 of 1). These functions will not be directly callable after loading.\n",
            "\n",
            "                                                                                          \n",
            "100%|██████████| 480/480 [00:00<00:00,  5.93it/s]\u001b[A\n",
            "100%|██████████| 480/480 [00:00<00:00,  5.93it/s, iterations=480/480 Iterations Completed]\u001b[A"
          ]
        },
        {
          "output_type": "stream",
          "name": "stdout",
          "text": [
            "cleaned_data----------------------------------------- True\n",
            "1/1 [==============================] - 0s 10ms/step - loss: 0.4878 - accuracy: 1.0000\n"
          ]
        },
        {
          "output_type": "stream",
          "name": "stderr",
          "text": [
            "WARNING:absl:Found untraced functions such as _update_step_xla while saving (showing 1 of 1). These functions will not be directly callable after loading.\n",
            "100%|█████████▉| 480/481 [00:00<?, ?it/s]\n",
            "100%|██████████| 481/481 [00:00<00:00,  4.23it/s, iterations=481/481 Iterations Completed]"
          ]
        },
        {
          "output_type": "stream",
          "name": "stdout",
          "text": [
            "cleaned_data----------------------------------------- True\n",
            "1/1 [==============================] - 0s 15ms/step - loss: 0.5029 - accuracy: 1.0000\n"
          ]
        },
        {
          "output_type": "stream",
          "name": "stderr",
          "text": [
            "WARNING:absl:Found untraced functions such as _update_step_xla while saving (showing 1 of 1). These functions will not be directly callable after loading.\n",
            "\n",
            "\n",
            "100%|██████████| 482/482 [00:00<00:00,  4.91it/s]\u001b[A\n",
            "100%|██████████| 482/482 [00:00<00:00,  4.91it/s, iterations=482/482 Iterations Completed]\u001b[A"
          ]
        },
        {
          "output_type": "stream",
          "name": "stdout",
          "text": [
            "cleaned_data----------------------------------------- True\n",
            "1/1 [==============================] - 0s 33ms/step - loss: 0.5713 - accuracy: 1.0000\n"
          ]
        },
        {
          "output_type": "stream",
          "name": "stderr",
          "text": [
            "WARNING:absl:Found untraced functions such as _update_step_xla while saving (showing 1 of 1). These functions will not be directly callable after loading.\n",
            "100%|█████████▉| 482/483 [00:00<?, ?it/s]\n",
            "100%|██████████| 483/483 [00:00<00:00,  6.81it/s, iterations=483/483 Iterations Completed]"
          ]
        },
        {
          "output_type": "stream",
          "name": "stdout",
          "text": [
            "cleaned_data----------------------------------------- True\n",
            "1/1 [==============================] - 0s 11ms/step - loss: 0.5389 - accuracy: 1.0000\n"
          ]
        },
        {
          "output_type": "stream",
          "name": "stderr",
          "text": [
            "WARNING:absl:Found untraced functions such as _update_step_xla while saving (showing 1 of 1). These functions will not be directly callable after loading.\n",
            "\n",
            "                                                                                          \n",
            "100%|██████████| 484/484 [00:00<00:00,  7.39it/s]\u001b[A\n",
            "100%|██████████| 484/484 [00:00<00:00,  7.39it/s, iterations=484/484 Iterations Completed]\u001b[A"
          ]
        },
        {
          "output_type": "stream",
          "name": "stdout",
          "text": [
            "cleaned_data----------------------------------------- True\n",
            "1/1 [==============================] - 0s 14ms/step - loss: 0.5460 - accuracy: 1.0000\n"
          ]
        },
        {
          "output_type": "stream",
          "name": "stderr",
          "text": [
            "WARNING:absl:Found untraced functions such as _update_step_xla while saving (showing 1 of 1). These functions will not be directly callable after loading.\n",
            "100%|█████████▉| 484/485 [00:00<?, ?it/s]\n",
            "100%|██████████| 485/485 [00:00<00:00,  6.10it/s, iterations=485/485 Iterations Completed]"
          ]
        },
        {
          "output_type": "stream",
          "name": "stdout",
          "text": [
            "cleaned_data----------------------------------------- True\n",
            "1/1 [==============================] - 0s 12ms/step - loss: 0.6137 - accuracy: 1.0000\n"
          ]
        },
        {
          "output_type": "stream",
          "name": "stderr",
          "text": [
            "WARNING:absl:Found untraced functions such as _update_step_xla while saving (showing 1 of 1). These functions will not be directly callable after loading.\n",
            "\n",
            "                                                                                          \n",
            "100%|██████████| 486/486 [00:00<00:00,  6.68it/s]\u001b[A\n",
            "100%|██████████| 486/486 [00:00<00:00,  6.68it/s, iterations=486/486 Iterations Completed]\u001b[A"
          ]
        },
        {
          "output_type": "stream",
          "name": "stdout",
          "text": [
            "cleaned_data----------------------------------------- True\n",
            "1/1 [==============================] - 0s 9ms/step - loss: 0.6130 - accuracy: 1.0000\n"
          ]
        },
        {
          "output_type": "stream",
          "name": "stderr",
          "text": [
            "WARNING:absl:Found untraced functions such as _update_step_xla while saving (showing 1 of 1). These functions will not be directly callable after loading.\n",
            "100%|█████████▉| 486/487 [00:00<?, ?it/s]\n",
            "100%|██████████| 487/487 [00:00<00:00,  6.26it/s, iterations=487/487 Iterations Completed]"
          ]
        },
        {
          "output_type": "stream",
          "name": "stdout",
          "text": [
            "cleaned_data----------------------------------------- True\n",
            "1/1 [==============================] - 0s 10ms/step - loss: 0.5376 - accuracy: 1.0000\n"
          ]
        },
        {
          "output_type": "stream",
          "name": "stderr",
          "text": [
            "WARNING:absl:Found untraced functions such as _update_step_xla while saving (showing 1 of 1). These functions will not be directly callable after loading.\n",
            "\n",
            "                                                                                          \n",
            "100%|██████████| 488/488 [00:00<00:00,  7.18it/s]\u001b[A\n",
            "100%|██████████| 488/488 [00:00<00:00,  7.18it/s, iterations=488/488 Iterations Completed]\u001b[A"
          ]
        },
        {
          "output_type": "stream",
          "name": "stdout",
          "text": [
            "cleaned_data----------------------------------------- True\n",
            "1/1 [==============================] - 0s 14ms/step - loss: 0.4810 - accuracy: 1.0000\n"
          ]
        },
        {
          "output_type": "stream",
          "name": "stderr",
          "text": [
            "WARNING:absl:Found untraced functions such as _update_step_xla while saving (showing 1 of 1). These functions will not be directly callable after loading.\n",
            "100%|█████████▉| 488/489 [00:00<?, ?it/s]\n",
            "100%|██████████| 489/489 [00:00<00:00,  6.81it/s, iterations=489/489 Iterations Completed]"
          ]
        },
        {
          "output_type": "stream",
          "name": "stdout",
          "text": [
            "cleaned_data----------------------------------------- True\n",
            "1/1 [==============================] - 0s 10ms/step - loss: 0.4582 - accuracy: 1.0000\n"
          ]
        },
        {
          "output_type": "stream",
          "name": "stderr",
          "text": [
            "WARNING:absl:Found untraced functions such as _update_step_xla while saving (showing 1 of 1). These functions will not be directly callable after loading.\n",
            "\n",
            "                                                                                          \n",
            "100%|██████████| 490/490 [00:00<00:00,  6.65it/s]\u001b[A\n",
            "100%|██████████| 490/490 [00:00<00:00,  6.65it/s, iterations=490/490 Iterations Completed]\u001b[A"
          ]
        },
        {
          "output_type": "stream",
          "name": "stdout",
          "text": [
            "cleaned_data----------------------------------------- True\n",
            "1/1 [==============================] - 0s 13ms/step - loss: 0.4300 - accuracy: 1.0000\n"
          ]
        },
        {
          "output_type": "stream",
          "name": "stderr",
          "text": [
            "WARNING:absl:Found untraced functions such as _update_step_xla while saving (showing 1 of 1). These functions will not be directly callable after loading.\n",
            "100%|█████████▉| 490/491 [00:00<?, ?it/s]\n",
            "100%|██████████| 491/491 [00:00<00:00,  6.49it/s, iterations=491/491 Iterations Completed]"
          ]
        },
        {
          "output_type": "stream",
          "name": "stdout",
          "text": [
            "cleaned_data----------------------------------------- True\n",
            "1/1 [==============================] - 0s 11ms/step - loss: 0.4578 - accuracy: 1.0000\n"
          ]
        },
        {
          "output_type": "stream",
          "name": "stderr",
          "text": [
            "WARNING:absl:Found untraced functions such as _update_step_xla while saving (showing 1 of 1). These functions will not be directly callable after loading.\n",
            "\n",
            "\n",
            "100%|██████████| 492/492 [00:00<00:00,  4.43it/s]\u001b[A\n",
            "100%|██████████| 492/492 [00:00<00:00,  4.43it/s, iterations=492/492 Iterations Completed]\u001b[A"
          ]
        },
        {
          "output_type": "stream",
          "name": "stdout",
          "text": [
            "cleaned_data----------------------------------------- True\n",
            "1/1 [==============================] - 0s 21ms/step - loss: 0.4371 - accuracy: 1.0000\n"
          ]
        },
        {
          "output_type": "stream",
          "name": "stderr",
          "text": [
            "WARNING:absl:Found untraced functions such as _update_step_xla while saving (showing 1 of 1). These functions will not be directly callable after loading.\n",
            "100%|█████████▉| 492/493 [00:00<?, ?it/s]\n",
            "100%|██████████| 493/493 [00:00<00:00,  4.46it/s, iterations=493/493 Iterations Completed]"
          ]
        },
        {
          "output_type": "stream",
          "name": "stdout",
          "text": [
            "cleaned_data----------------------------------------- True\n",
            "1/1 [==============================] - 0s 12ms/step - loss: 0.4329 - accuracy: 1.0000\n"
          ]
        },
        {
          "output_type": "stream",
          "name": "stderr",
          "text": [
            "WARNING:absl:Found untraced functions such as _update_step_xla while saving (showing 1 of 1). These functions will not be directly callable after loading.\n",
            "\n",
            "                                                                                          \n",
            "100%|██████████| 494/494 [00:00<00:00,  5.55it/s]\u001b[A\n",
            "100%|██████████| 494/494 [00:00<00:00,  5.55it/s, iterations=494/494 Iterations Completed]\u001b[A"
          ]
        },
        {
          "output_type": "stream",
          "name": "stdout",
          "text": [
            "cleaned_data----------------------------------------- True\n",
            "1/1 [==============================] - 0s 9ms/step - loss: 0.3743 - accuracy: 1.0000\n"
          ]
        },
        {
          "output_type": "stream",
          "name": "stderr",
          "text": [
            "WARNING:absl:Found untraced functions such as _update_step_xla while saving (showing 1 of 1). These functions will not be directly callable after loading.\n",
            "100%|█████████▉| 494/495 [00:00<?, ?it/s]\n",
            "100%|██████████| 495/495 [00:00<00:00,  6.89it/s, iterations=495/495 Iterations Completed]"
          ]
        },
        {
          "output_type": "stream",
          "name": "stdout",
          "text": [
            "cleaned_data----------------------------------------- True\n",
            "1/1 [==============================] - 0s 9ms/step - loss: 0.3470 - accuracy: 1.0000\n"
          ]
        },
        {
          "output_type": "stream",
          "name": "stderr",
          "text": [
            "WARNING:absl:Found untraced functions such as _update_step_xla while saving (showing 1 of 1). These functions will not be directly callable after loading.\n",
            "\n",
            "                                                                                          \n",
            "100%|██████████| 496/496 [00:00<00:00,  6.17it/s]\u001b[A\n",
            "100%|██████████| 496/496 [00:00<00:00,  6.17it/s, iterations=496/496 Iterations Completed]\u001b[A"
          ]
        },
        {
          "output_type": "stream",
          "name": "stdout",
          "text": [
            "cleaned_data----------------------------------------- True\n",
            "1/1 [==============================] - 0s 10ms/step - loss: 0.3433 - accuracy: 1.0000\n"
          ]
        },
        {
          "output_type": "stream",
          "name": "stderr",
          "text": [
            "WARNING:absl:Found untraced functions such as _update_step_xla while saving (showing 1 of 1). These functions will not be directly callable after loading.\n",
            "100%|█████████▉| 496/497 [00:00<?, ?it/s]\n",
            "100%|██████████| 497/497 [00:00<00:00,  5.65it/s, iterations=497/497 Iterations Completed]"
          ]
        },
        {
          "output_type": "stream",
          "name": "stdout",
          "text": [
            "cleaned_data----------------------------------------- True\n",
            "1/1 [==============================] - 0s 9ms/step - loss: 0.3501 - accuracy: 1.0000\n"
          ]
        },
        {
          "output_type": "stream",
          "name": "stderr",
          "text": [
            "WARNING:absl:Found untraced functions such as _update_step_xla while saving (showing 1 of 1). These functions will not be directly callable after loading.\n",
            "\n",
            "                                                                                          \n",
            "100%|██████████| 498/498 [00:00<00:00,  6.73it/s]\u001b[A\n",
            "100%|██████████| 498/498 [00:00<00:00,  6.73it/s, iterations=498/498 Iterations Completed]\u001b[A"
          ]
        },
        {
          "output_type": "stream",
          "name": "stdout",
          "text": [
            "cleaned_data----------------------------------------- True\n",
            "1/1 [==============================] - 0s 12ms/step - loss: 0.3543 - accuracy: 1.0000\n"
          ]
        },
        {
          "output_type": "stream",
          "name": "stderr",
          "text": [
            "WARNING:absl:Found untraced functions such as _update_step_xla while saving (showing 1 of 1). These functions will not be directly callable after loading.\n",
            "100%|█████████▉| 498/499 [00:00<?, ?it/s]\n",
            "100%|██████████| 499/499 [00:00<00:00,  6.25it/s, iterations=499/499 Iterations Completed]"
          ]
        },
        {
          "output_type": "stream",
          "name": "stdout",
          "text": [
            "cleaned_data----------------------------------------- True\n",
            "1/1 [==============================] - 0s 12ms/step - loss: 0.3446 - accuracy: 1.0000\n"
          ]
        },
        {
          "output_type": "stream",
          "name": "stderr",
          "text": [
            "WARNING:absl:Found untraced functions such as _update_step_xla while saving (showing 1 of 1). These functions will not be directly callable after loading.\n",
            "\n",
            "                                                                                          \n",
            "100%|██████████| 500/500 [00:00<00:00,  6.70it/s]\u001b[A\n",
            "100%|██████████| 500/500 [00:00<00:00,  6.70it/s, iterations=500/500 Iterations Completed]\u001b[A"
          ]
        },
        {
          "output_type": "stream",
          "name": "stdout",
          "text": [
            "cleaned_data----------------------------------------- True\n",
            "1/1 [==============================] - 0s 10ms/step - loss: 0.4195 - accuracy: 0.9286\n"
          ]
        },
        {
          "output_type": "stream",
          "name": "stderr",
          "text": [
            "WARNING:absl:Found untraced functions such as _update_step_xla while saving (showing 1 of 1). These functions will not be directly callable after loading.\n",
            "100%|█████████▉| 500/501 [00:00<?, ?it/s]\n",
            "100%|██████████| 501/501 [00:00<00:00,  6.87it/s, iterations=501/501 Iterations Completed]"
          ]
        },
        {
          "output_type": "stream",
          "name": "stdout",
          "text": [
            "cleaned_data----------------------------------------- True\n",
            "1/1 [==============================] - 0s 10ms/step - loss: 0.3697 - accuracy: 1.0000\n"
          ]
        },
        {
          "output_type": "stream",
          "name": "stderr",
          "text": [
            "WARNING:absl:Found untraced functions such as _update_step_xla while saving (showing 1 of 1). These functions will not be directly callable after loading.\n",
            "\n",
            "                                                                                          \n",
            "100%|██████████| 502/502 [00:00<00:00,  5.45it/s]\u001b[A\n",
            "100%|██████████| 502/502 [00:00<00:00,  5.45it/s, iterations=502/502 Iterations Completed]\u001b[A"
          ]
        },
        {
          "output_type": "stream",
          "name": "stdout",
          "text": [
            "cleaned_data----------------------------------------- True\n",
            "1/1 [==============================] - 0s 17ms/step - loss: 0.3931 - accuracy: 1.0000\n"
          ]
        },
        {
          "output_type": "stream",
          "name": "stderr",
          "text": [
            "WARNING:absl:Found untraced functions such as _update_step_xla while saving (showing 1 of 1). These functions will not be directly callable after loading.\n",
            "100%|█████████▉| 502/503 [00:00<?, ?it/s]\n",
            "100%|██████████| 503/503 [00:00<00:00,  5.17it/s, iterations=503/503 Iterations Completed]"
          ]
        },
        {
          "output_type": "stream",
          "name": "stdout",
          "text": [
            "cleaned_data----------------------------------------- True\n",
            "1/1 [==============================] - 0s 12ms/step - loss: 0.3600 - accuracy: 1.0000\n"
          ]
        },
        {
          "output_type": "stream",
          "name": "stderr",
          "text": [
            "WARNING:absl:Found untraced functions such as _update_step_xla while saving (showing 1 of 1). These functions will not be directly callable after loading.\n",
            "\n",
            "                                                                                          \n",
            "100%|██████████| 504/504 [00:00<00:00,  5.27it/s]\u001b[A\n",
            "100%|██████████| 504/504 [00:00<00:00,  5.27it/s, iterations=504/504 Iterations Completed]\u001b[A"
          ]
        },
        {
          "output_type": "stream",
          "name": "stdout",
          "text": [
            "cleaned_data----------------------------------------- True\n",
            "1/1 [==============================] - 0s 44ms/step - loss: 0.4335 - accuracy: 0.9286\n"
          ]
        },
        {
          "output_type": "stream",
          "name": "stderr",
          "text": [
            "WARNING:absl:Found untraced functions such as _update_step_xla while saving (showing 1 of 1). These functions will not be directly callable after loading.\n",
            "100%|█████████▉| 504/505 [00:00<?, ?it/s]\n",
            "100%|██████████| 505/505 [00:00<00:00,  6.75it/s, iterations=505/505 Iterations Completed]"
          ]
        },
        {
          "output_type": "stream",
          "name": "stdout",
          "text": [
            "cleaned_data----------------------------------------- True\n",
            "1/1 [==============================] - 0s 11ms/step - loss: 0.4844 - accuracy: 0.8571\n"
          ]
        },
        {
          "output_type": "stream",
          "name": "stderr",
          "text": [
            "WARNING:absl:Found untraced functions such as _update_step_xla while saving (showing 1 of 1). These functions will not be directly callable after loading.\n",
            "\n",
            "                                                                                          \n",
            "100%|██████████| 506/506 [00:00<00:00,  6.77it/s]\u001b[A\n",
            "100%|██████████| 506/506 [00:00<00:00,  6.77it/s, iterations=506/506 Iterations Completed]\u001b[A"
          ]
        },
        {
          "output_type": "stream",
          "name": "stdout",
          "text": [
            "cleaned_data----------------------------------------- True\n",
            "1/1 [==============================] - 0s 12ms/step - loss: 0.5227 - accuracy: 0.8929\n"
          ]
        },
        {
          "output_type": "stream",
          "name": "stderr",
          "text": [
            "WARNING:absl:Found untraced functions such as _update_step_xla while saving (showing 1 of 1). These functions will not be directly callable after loading.\n",
            "100%|█████████▉| 506/507 [00:00<?, ?it/s]\n",
            "100%|██████████| 507/507 [00:00<00:00,  6.62it/s, iterations=507/507 Iterations Completed]"
          ]
        },
        {
          "output_type": "stream",
          "name": "stdout",
          "text": [
            "cleaned_data----------------------------------------- True\n",
            "1/1 [==============================] - 0s 11ms/step - loss: 0.5233 - accuracy: 0.9286\n"
          ]
        },
        {
          "output_type": "stream",
          "name": "stderr",
          "text": [
            "WARNING:absl:Found untraced functions such as _update_step_xla while saving (showing 1 of 1). These functions will not be directly callable after loading.\n",
            "\n",
            "                                                                                          \n",
            "100%|██████████| 508/508 [00:00<00:00,  6.42it/s]\u001b[A\n",
            "100%|██████████| 508/508 [00:00<00:00,  6.42it/s, iterations=508/508 Iterations Completed]\u001b[A"
          ]
        },
        {
          "output_type": "stream",
          "name": "stdout",
          "text": [
            "cleaned_data----------------------------------------- True\n",
            "1/1 [==============================] - 0s 9ms/step - loss: 0.4338 - accuracy: 0.9286\n"
          ]
        },
        {
          "output_type": "stream",
          "name": "stderr",
          "text": [
            "WARNING:absl:Found untraced functions such as _update_step_xla while saving (showing 1 of 1). These functions will not be directly callable after loading.\n",
            "100%|█████████▉| 508/509 [00:00<?, ?it/s]\n",
            "100%|██████████| 509/509 [00:00<00:00,  6.25it/s, iterations=509/509 Iterations Completed]"
          ]
        },
        {
          "output_type": "stream",
          "name": "stdout",
          "text": [
            "cleaned_data----------------------------------------- True\n",
            "1/1 [==============================] - 0s 10ms/step - loss: 0.4308 - accuracy: 0.9286\n"
          ]
        },
        {
          "output_type": "stream",
          "name": "stderr",
          "text": [
            "WARNING:absl:Found untraced functions such as _update_step_xla while saving (showing 1 of 1). These functions will not be directly callable after loading.\n",
            "\n",
            "                                                                                          \n",
            "100%|██████████| 510/510 [00:00<00:00,  6.06it/s]\u001b[A\n",
            "100%|██████████| 510/510 [00:00<00:00,  6.06it/s, iterations=510/510 Iterations Completed]\u001b[A"
          ]
        },
        {
          "output_type": "stream",
          "name": "stdout",
          "text": [
            "cleaned_data----------------------------------------- True\n",
            "1/1 [==============================] - 0s 9ms/step - loss: 0.3692 - accuracy: 1.0000\n"
          ]
        },
        {
          "output_type": "stream",
          "name": "stderr",
          "text": [
            "WARNING:absl:Found untraced functions such as _update_step_xla while saving (showing 1 of 1). These functions will not be directly callable after loading.\n",
            "100%|█████████▉| 510/511 [00:00<?, ?it/s]\n",
            "100%|██████████| 511/511 [00:00<00:00,  6.07it/s, iterations=511/511 Iterations Completed]"
          ]
        },
        {
          "output_type": "stream",
          "name": "stdout",
          "text": [
            "cleaned_data----------------------------------------- True\n",
            "1/1 [==============================] - 0s 12ms/step - loss: 0.3850 - accuracy: 1.0000\n"
          ]
        },
        {
          "output_type": "stream",
          "name": "stderr",
          "text": [
            "WARNING:absl:Found untraced functions such as _update_step_xla while saving (showing 1 of 1). These functions will not be directly callable after loading.\n",
            "\n",
            "                                                                                          \n",
            "100%|██████████| 512/512 [00:00<00:00,  6.26it/s]\u001b[A\n",
            "100%|██████████| 512/512 [00:00<00:00,  6.26it/s, iterations=512/512 Iterations Completed]\u001b[A"
          ]
        },
        {
          "output_type": "stream",
          "name": "stdout",
          "text": [
            "cleaned_data----------------------------------------- True\n",
            "1/1 [==============================] - 0s 11ms/step - loss: 0.5525 - accuracy: 1.0000\n"
          ]
        },
        {
          "output_type": "stream",
          "name": "stderr",
          "text": [
            "WARNING:absl:Found untraced functions such as _update_step_xla while saving (showing 1 of 1). These functions will not be directly callable after loading.\n",
            "100%|█████████▉| 512/513 [00:00<?, ?it/s]\n",
            "100%|██████████| 513/513 [00:00<00:00,  5.74it/s, iterations=513/513 Iterations Completed]"
          ]
        },
        {
          "output_type": "stream",
          "name": "stdout",
          "text": [
            "cleaned_data----------------------------------------- True\n",
            "1/1 [==============================] - 0s 18ms/step - loss: 0.6559 - accuracy: 1.0000\n"
          ]
        },
        {
          "output_type": "stream",
          "name": "stderr",
          "text": [
            "WARNING:absl:Found untraced functions such as _update_step_xla while saving (showing 1 of 1). These functions will not be directly callable after loading.\n",
            "\n",
            "\n",
            "100%|██████████| 514/514 [00:00<00:00,  4.78it/s]\u001b[A\n",
            "100%|██████████| 514/514 [00:00<00:00,  4.78it/s, iterations=514/514 Iterations Completed]\u001b[A"
          ]
        },
        {
          "output_type": "stream",
          "name": "stdout",
          "text": [
            "cleaned_data----------------------------------------- True\n",
            "1/1 [==============================] - 0s 17ms/step - loss: 0.5810 - accuracy: 1.0000\n"
          ]
        },
        {
          "output_type": "stream",
          "name": "stderr",
          "text": [
            "WARNING:absl:Found untraced functions such as _update_step_xla while saving (showing 1 of 1). These functions will not be directly callable after loading.\n",
            "100%|█████████▉| 514/515 [00:00<?, ?it/s]\n",
            "100%|██████████| 515/515 [00:00<00:00,  5.74it/s, iterations=515/515 Iterations Completed]"
          ]
        },
        {
          "output_type": "stream",
          "name": "stdout",
          "text": [
            "cleaned_data----------------------------------------- True\n",
            "1/1 [==============================] - 0s 14ms/step - loss: 0.5775 - accuracy: 1.0000\n"
          ]
        },
        {
          "output_type": "stream",
          "name": "stderr",
          "text": [
            "WARNING:absl:Found untraced functions such as _update_step_xla while saving (showing 1 of 1). These functions will not be directly callable after loading.\n",
            "\n",
            "                                                                                          \n",
            "100%|██████████| 516/516 [00:00<00:00,  7.02it/s]\u001b[A\n",
            "100%|██████████| 516/516 [00:00<00:00,  7.02it/s, iterations=516/516 Iterations Completed]\u001b[A"
          ]
        },
        {
          "output_type": "stream",
          "name": "stdout",
          "text": [
            "cleaned_data----------------------------------------- True\n",
            "1/1 [==============================] - 0s 9ms/step - loss: 0.5983 - accuracy: 1.0000\n"
          ]
        },
        {
          "output_type": "stream",
          "name": "stderr",
          "text": [
            "WARNING:absl:Found untraced functions such as _update_step_xla while saving (showing 1 of 1). These functions will not be directly callable after loading.\n",
            "100%|█████████▉| 516/517 [00:00<?, ?it/s]\n",
            "100%|██████████| 517/517 [00:00<00:00,  6.30it/s, iterations=517/517 Iterations Completed]"
          ]
        },
        {
          "output_type": "stream",
          "name": "stdout",
          "text": [
            "cleaned_data----------------------------------------- True\n",
            "1/1 [==============================] - 0s 9ms/step - loss: 0.5814 - accuracy: 1.0000\n"
          ]
        },
        {
          "output_type": "stream",
          "name": "stderr",
          "text": [
            "WARNING:absl:Found untraced functions such as _update_step_xla while saving (showing 1 of 1). These functions will not be directly callable after loading.\n",
            "\n",
            "                                                                                          \n",
            "100%|██████████| 518/518 [00:00<00:00,  7.22it/s]\u001b[A\n",
            "100%|██████████| 518/518 [00:00<00:00,  7.22it/s, iterations=518/518 Iterations Completed]\u001b[A"
          ]
        },
        {
          "output_type": "stream",
          "name": "stdout",
          "text": [
            "cleaned_data----------------------------------------- True\n",
            "1/1 [==============================] - 0s 10ms/step - loss: 0.6665 - accuracy: 1.0000\n"
          ]
        },
        {
          "output_type": "stream",
          "name": "stderr",
          "text": [
            "WARNING:absl:Found untraced functions such as _update_step_xla while saving (showing 1 of 1). These functions will not be directly callable after loading.\n",
            "100%|█████████▉| 518/519 [00:00<?, ?it/s]\n",
            "100%|██████████| 519/519 [00:00<00:00,  5.77it/s, iterations=519/519 Iterations Completed]"
          ]
        },
        {
          "output_type": "stream",
          "name": "stdout",
          "text": [
            "cleaned_data----------------------------------------- True\n",
            "1/1 [==============================] - 0s 10ms/step - loss: 0.5399 - accuracy: 1.0000\n"
          ]
        },
        {
          "output_type": "stream",
          "name": "stderr",
          "text": [
            "WARNING:absl:Found untraced functions such as _update_step_xla while saving (showing 1 of 1). These functions will not be directly callable after loading.\n",
            "\n",
            "                                                                                          \n",
            "100%|██████████| 520/520 [00:00<00:00,  6.75it/s]\u001b[A\n",
            "100%|██████████| 520/520 [00:00<00:00,  6.75it/s, iterations=520/520 Iterations Completed]\u001b[A"
          ]
        },
        {
          "output_type": "stream",
          "name": "stdout",
          "text": [
            "cleaned_data----------------------------------------- True\n",
            "1/1 [==============================] - 0s 8ms/step - loss: 0.4954 - accuracy: 1.0000\n"
          ]
        },
        {
          "output_type": "stream",
          "name": "stderr",
          "text": [
            "WARNING:absl:Found untraced functions such as _update_step_xla while saving (showing 1 of 1). These functions will not be directly callable after loading.\n",
            "100%|█████████▉| 520/521 [00:00<?, ?it/s]\n",
            "100%|██████████| 521/521 [00:00<00:00,  5.38it/s, iterations=521/521 Iterations Completed]"
          ]
        },
        {
          "output_type": "stream",
          "name": "stdout",
          "text": [
            "cleaned_data----------------------------------------- True\n",
            "1/1 [==============================] - 0s 12ms/step - loss: 0.4724 - accuracy: 1.0000\n"
          ]
        },
        {
          "output_type": "stream",
          "name": "stderr",
          "text": [
            "WARNING:absl:Found untraced functions such as _update_step_xla while saving (showing 1 of 1). These functions will not be directly callable after loading.\n",
            "\n",
            "\n",
            "100%|██████████| 522/522 [00:00<00:00,  5.41it/s]\u001b[A\n",
            "100%|██████████| 522/522 [00:00<00:00,  5.41it/s, iterations=522/522 Iterations Completed]\u001b[A"
          ]
        },
        {
          "output_type": "stream",
          "name": "stdout",
          "text": [
            "cleaned_data----------------------------------------- True\n",
            "1/1 [==============================] - 0s 10ms/step - loss: 0.4278 - accuracy: 1.0000\n"
          ]
        },
        {
          "output_type": "stream",
          "name": "stderr",
          "text": [
            "WARNING:absl:Found untraced functions such as _update_step_xla while saving (showing 1 of 1). These functions will not be directly callable after loading.\n",
            "100%|█████████▉| 522/523 [00:00<?, ?it/s]\n",
            "100%|██████████| 523/523 [00:00<00:00,  5.77it/s, iterations=523/523 Iterations Completed]"
          ]
        },
        {
          "output_type": "stream",
          "name": "stdout",
          "text": [
            "cleaned_data----------------------------------------- True\n",
            "1/1 [==============================] - 0s 9ms/step - loss: 0.3540 - accuracy: 1.0000\n"
          ]
        },
        {
          "output_type": "stream",
          "name": "stderr",
          "text": [
            "WARNING:absl:Found untraced functions such as _update_step_xla while saving (showing 1 of 1). These functions will not be directly callable after loading.\n",
            "\n",
            "\n",
            "100%|██████████| 524/524 [00:00<00:00,  3.92it/s]\u001b[A\n",
            "100%|██████████| 524/524 [00:00<00:00,  3.92it/s, iterations=524/524 Iterations Completed]\u001b[A"
          ]
        },
        {
          "output_type": "stream",
          "name": "stdout",
          "text": [
            "cleaned_data----------------------------------------- True\n",
            "1/1 [==============================] - 0s 17ms/step - loss: 0.3688 - accuracy: 1.0000\n"
          ]
        },
        {
          "output_type": "stream",
          "name": "stderr",
          "text": [
            "WARNING:absl:Found untraced functions such as _update_step_xla while saving (showing 1 of 1). These functions will not be directly callable after loading.\n",
            "100%|█████████▉| 524/525 [00:00<?, ?it/s]\n",
            "100%|██████████| 525/525 [00:00<00:00,  4.49it/s, iterations=525/525 Iterations Completed]"
          ]
        },
        {
          "output_type": "stream",
          "name": "stdout",
          "text": [
            "cleaned_data----------------------------------------- True\n",
            "1/1 [==============================] - 0s 13ms/step - loss: 0.3486 - accuracy: 1.0000\n"
          ]
        },
        {
          "output_type": "stream",
          "name": "stderr",
          "text": [
            "WARNING:absl:Found untraced functions such as _update_step_xla while saving (showing 1 of 1). These functions will not be directly callable after loading.\n",
            "\n",
            "                                                                                          \n",
            "100%|██████████| 526/526 [00:00<00:00,  7.03it/s]\u001b[A\n",
            "100%|██████████| 526/526 [00:00<00:00,  7.03it/s, iterations=526/526 Iterations Completed]\u001b[A"
          ]
        },
        {
          "output_type": "stream",
          "name": "stdout",
          "text": [
            "cleaned_data----------------------------------------- True\n",
            "1/1 [==============================] - 0s 10ms/step - loss: 0.3368 - accuracy: 1.0000\n"
          ]
        },
        {
          "output_type": "stream",
          "name": "stderr",
          "text": [
            "WARNING:absl:Found untraced functions such as _update_step_xla while saving (showing 1 of 1). These functions will not be directly callable after loading.\n",
            "100%|█████████▉| 526/527 [00:00<?, ?it/s]\n",
            "100%|██████████| 527/527 [00:00<00:00,  5.59it/s, iterations=527/527 Iterations Completed]"
          ]
        },
        {
          "output_type": "stream",
          "name": "stdout",
          "text": [
            "cleaned_data----------------------------------------- True\n",
            "1/1 [==============================] - 0s 10ms/step - loss: 0.3391 - accuracy: 1.0000\n"
          ]
        },
        {
          "output_type": "stream",
          "name": "stderr",
          "text": [
            "WARNING:absl:Found untraced functions such as _update_step_xla while saving (showing 1 of 1). These functions will not be directly callable after loading.\n",
            "\n",
            "                                                                                          \n",
            "100%|██████████| 528/528 [00:00<00:00,  6.54it/s]\u001b[A\n",
            "100%|██████████| 528/528 [00:00<00:00,  6.54it/s, iterations=528/528 Iterations Completed]\u001b[A"
          ]
        },
        {
          "output_type": "stream",
          "name": "stdout",
          "text": [
            "cleaned_data----------------------------------------- True\n",
            "1/1 [==============================] - 0s 12ms/step - loss: 0.3392 - accuracy: 1.0000\n"
          ]
        },
        {
          "output_type": "stream",
          "name": "stderr",
          "text": [
            "WARNING:absl:Found untraced functions such as _update_step_xla while saving (showing 1 of 1). These functions will not be directly callable after loading.\n",
            "100%|█████████▉| 528/529 [00:00<?, ?it/s]\n",
            "100%|██████████| 529/529 [00:00<00:00,  6.66it/s, iterations=529/529 Iterations Completed]"
          ]
        },
        {
          "output_type": "stream",
          "name": "stdout",
          "text": [
            "cleaned_data----------------------------------------- True\n",
            "1/1 [==============================] - 0s 13ms/step - loss: 0.3684 - accuracy: 1.0000\n"
          ]
        },
        {
          "output_type": "stream",
          "name": "stderr",
          "text": [
            "WARNING:absl:Found untraced functions such as _update_step_xla while saving (showing 1 of 1). These functions will not be directly callable after loading.\n",
            "\n",
            "                                                                                          \n",
            "100%|██████████| 530/530 [00:00<00:00,  6.94it/s]\u001b[A\n",
            "100%|██████████| 530/530 [00:00<00:00,  6.94it/s, iterations=530/530 Iterations Completed]\u001b[A"
          ]
        },
        {
          "output_type": "stream",
          "name": "stdout",
          "text": [
            "cleaned_data----------------------------------------- True\n",
            "1/1 [==============================] - 0s 12ms/step - loss: 0.3385 - accuracy: 1.0000\n"
          ]
        },
        {
          "output_type": "stream",
          "name": "stderr",
          "text": [
            "WARNING:absl:Found untraced functions such as _update_step_xla while saving (showing 1 of 1). These functions will not be directly callable after loading.\n",
            "100%|█████████▉| 530/531 [00:00<?, ?it/s]\n",
            "100%|██████████| 531/531 [00:00<00:00,  6.45it/s, iterations=531/531 Iterations Completed]"
          ]
        },
        {
          "output_type": "stream",
          "name": "stdout",
          "text": [
            "cleaned_data----------------------------------------- True\n",
            "1/1 [==============================] - 0s 13ms/step - loss: 0.3589 - accuracy: 1.0000\n"
          ]
        },
        {
          "output_type": "stream",
          "name": "stderr",
          "text": [
            "WARNING:absl:Found untraced functions such as _update_step_xla while saving (showing 1 of 1). These functions will not be directly callable after loading.\n",
            "\n",
            "                                                                                          \n",
            "100%|██████████| 532/532 [00:00<00:00,  6.90it/s]\u001b[A\n",
            "100%|██████████| 532/532 [00:00<00:00,  6.90it/s, iterations=532/532 Iterations Completed]\u001b[A"
          ]
        },
        {
          "output_type": "stream",
          "name": "stdout",
          "text": [
            "cleaned_data----------------------------------------- True\n",
            "1/1 [==============================] - 0s 10ms/step - loss: 0.3744 - accuracy: 1.0000\n"
          ]
        },
        {
          "output_type": "stream",
          "name": "stderr",
          "text": [
            "WARNING:absl:Found untraced functions such as _update_step_xla while saving (showing 1 of 1). These functions will not be directly callable after loading.\n",
            "100%|█████████▉| 532/533 [00:00<?, ?it/s]\n",
            "100%|██████████| 533/533 [00:00<00:00,  7.09it/s, iterations=533/533 Iterations Completed]"
          ]
        },
        {
          "output_type": "stream",
          "name": "stdout",
          "text": [
            "cleaned_data----------------------------------------- True\n",
            "1/1 [==============================] - 0s 9ms/step - loss: 0.4033 - accuracy: 0.9643\n"
          ]
        },
        {
          "output_type": "stream",
          "name": "stderr",
          "text": [
            "WARNING:absl:Found untraced functions such as _update_step_xla while saving (showing 1 of 1). These functions will not be directly callable after loading.\n",
            "\n",
            "\n",
            "100%|██████████| 534/534 [00:00<00:00,  4.82it/s]\u001b[A\n",
            "100%|██████████| 534/534 [00:00<00:00,  4.82it/s, iterations=534/534 Iterations Completed]\u001b[A"
          ]
        },
        {
          "output_type": "stream",
          "name": "stdout",
          "text": [
            "cleaned_data----------------------------------------- True\n",
            "1/1 [==============================] - 0s 17ms/step - loss: 0.3586 - accuracy: 1.0000\n"
          ]
        },
        {
          "output_type": "stream",
          "name": "stderr",
          "text": [
            "WARNING:absl:Found untraced functions such as _update_step_xla while saving (showing 1 of 1). These functions will not be directly callable after loading.\n",
            "100%|█████████▉| 534/535 [00:00<?, ?it/s]\n",
            "100%|██████████| 535/535 [00:00<00:00,  4.79it/s, iterations=535/535 Iterations Completed]"
          ]
        },
        {
          "output_type": "stream",
          "name": "stdout",
          "text": [
            "cleaned_data----------------------------------------- True\n",
            "1/1 [==============================] - 0s 14ms/step - loss: 0.3741 - accuracy: 1.0000\n"
          ]
        },
        {
          "output_type": "stream",
          "name": "stderr",
          "text": [
            "WARNING:absl:Found untraced functions such as _update_step_xla while saving (showing 1 of 1). These functions will not be directly callable after loading.\n",
            "\n",
            "\n",
            "100%|██████████| 536/536 [00:00<00:00,  4.02it/s]\u001b[A\n",
            "100%|██████████| 536/536 [00:00<00:00,  4.02it/s, iterations=536/536 Iterations Completed]\u001b[A"
          ]
        },
        {
          "output_type": "stream",
          "name": "stdout",
          "text": [
            "cleaned_data----------------------------------------- True\n",
            "1/1 [==============================] - 0s 9ms/step - loss: 0.4047 - accuracy: 1.0000\n"
          ]
        },
        {
          "output_type": "stream",
          "name": "stderr",
          "text": [
            "WARNING:absl:Found untraced functions such as _update_step_xla while saving (showing 1 of 1). These functions will not be directly callable after loading.\n",
            "100%|█████████▉| 536/537 [00:00<?, ?it/s]\n",
            "100%|██████████| 537/537 [00:00<00:00,  6.32it/s, iterations=537/537 Iterations Completed]"
          ]
        },
        {
          "output_type": "stream",
          "name": "stdout",
          "text": [
            "cleaned_data----------------------------------------- True\n",
            "1/1 [==============================] - 0s 10ms/step - loss: 0.3374 - accuracy: 1.0000\n"
          ]
        },
        {
          "output_type": "stream",
          "name": "stderr",
          "text": [
            "WARNING:absl:Found untraced functions such as _update_step_xla while saving (showing 1 of 1). These functions will not be directly callable after loading.\n",
            "\n",
            "                                                                                          \n",
            "100%|██████████| 538/538 [00:00<00:00,  6.55it/s]\u001b[A\n",
            "100%|██████████| 538/538 [00:00<00:00,  6.55it/s, iterations=538/538 Iterations Completed]\u001b[A"
          ]
        },
        {
          "output_type": "stream",
          "name": "stdout",
          "text": [
            "cleaned_data----------------------------------------- True\n",
            "1/1 [==============================] - 0s 10ms/step - loss: 0.3597 - accuracy: 1.0000\n"
          ]
        },
        {
          "output_type": "stream",
          "name": "stderr",
          "text": [
            "WARNING:absl:Found untraced functions such as _update_step_xla while saving (showing 1 of 1). These functions will not be directly callable after loading.\n",
            "100%|█████████▉| 538/539 [00:00<?, ?it/s]\n",
            "100%|██████████| 539/539 [00:00<00:00,  6.04it/s, iterations=539/539 Iterations Completed]"
          ]
        },
        {
          "output_type": "stream",
          "name": "stdout",
          "text": [
            "cleaned_data----------------------------------------- True\n",
            "1/1 [==============================] - 0s 10ms/step - loss: 0.3507 - accuracy: 1.0000\n"
          ]
        },
        {
          "output_type": "stream",
          "name": "stderr",
          "text": [
            "WARNING:absl:Found untraced functions such as _update_step_xla while saving (showing 1 of 1). These functions will not be directly callable after loading.\n",
            "\n",
            "                                                                                          \n",
            "100%|██████████| 540/540 [00:00<00:00,  7.07it/s]\u001b[A\n",
            "100%|██████████| 540/540 [00:00<00:00,  7.07it/s, iterations=540/540 Iterations Completed]\u001b[A"
          ]
        },
        {
          "output_type": "stream",
          "name": "stdout",
          "text": [
            "cleaned_data----------------------------------------- True\n",
            "1/1 [==============================] - 0s 17ms/step - loss: 0.4515 - accuracy: 1.0000\n"
          ]
        },
        {
          "output_type": "stream",
          "name": "stderr",
          "text": [
            "WARNING:absl:Found untraced functions such as _update_step_xla while saving (showing 1 of 1). These functions will not be directly callable after loading.\n",
            "100%|█████████▉| 540/541 [00:00<?, ?it/s]\n",
            "100%|██████████| 541/541 [00:00<00:00,  6.34it/s, iterations=541/541 Iterations Completed]"
          ]
        },
        {
          "output_type": "stream",
          "name": "stdout",
          "text": [
            "cleaned_data----------------------------------------- True\n",
            "1/1 [==============================] - 0s 10ms/step - loss: 0.4093 - accuracy: 1.0000\n"
          ]
        },
        {
          "output_type": "stream",
          "name": "stderr",
          "text": [
            "WARNING:absl:Found untraced functions such as _update_step_xla while saving (showing 1 of 1). These functions will not be directly callable after loading.\n",
            "\n",
            "                                                                                          \n",
            "100%|██████████| 542/542 [00:00<00:00,  6.80it/s]\u001b[A\n",
            "100%|██████████| 542/542 [00:00<00:00,  6.80it/s, iterations=542/542 Iterations Completed]\u001b[A"
          ]
        },
        {
          "output_type": "stream",
          "name": "stdout",
          "text": [
            "cleaned_data----------------------------------------- True\n",
            "1/1 [==============================] - 0s 11ms/step - loss: 0.4416 - accuracy: 1.0000\n"
          ]
        },
        {
          "output_type": "stream",
          "name": "stderr",
          "text": [
            "WARNING:absl:Found untraced functions such as _update_step_xla while saving (showing 1 of 1). These functions will not be directly callable after loading.\n",
            "100%|█████████▉| 542/543 [00:00<?, ?it/s]\n",
            "100%|██████████| 543/543 [00:00<00:00,  6.41it/s, iterations=543/543 Iterations Completed]"
          ]
        },
        {
          "output_type": "stream",
          "name": "stdout",
          "text": [
            "cleaned_data----------------------------------------- True\n",
            "1/1 [==============================] - 0s 10ms/step - loss: 0.4541 - accuracy: 1.0000\n"
          ]
        },
        {
          "output_type": "stream",
          "name": "stderr",
          "text": [
            "WARNING:absl:Found untraced functions such as _update_step_xla while saving (showing 1 of 1). These functions will not be directly callable after loading.\n",
            "\n",
            "                                                                                          \n",
            "100%|██████████| 544/544 [00:00<00:00,  6.79it/s]\u001b[A\n",
            "100%|██████████| 544/544 [00:00<00:00,  6.79it/s, iterations=544/544 Iterations Completed]\u001b[A"
          ]
        },
        {
          "output_type": "stream",
          "name": "stdout",
          "text": [
            "cleaned_data----------------------------------------- True\n",
            "1/1 [==============================] - 0s 11ms/step - loss: 0.5013 - accuracy: 1.0000\n"
          ]
        },
        {
          "output_type": "stream",
          "name": "stderr",
          "text": [
            "WARNING:absl:Found untraced functions such as _update_step_xla while saving (showing 1 of 1). These functions will not be directly callable after loading.\n",
            "100%|█████████▉| 544/545 [00:00<?, ?it/s]\n",
            "100%|██████████| 545/545 [00:00<00:00,  5.03it/s, iterations=545/545 Iterations Completed]"
          ]
        },
        {
          "output_type": "stream",
          "name": "stdout",
          "text": [
            "cleaned_data----------------------------------------- True\n",
            "1/1 [==============================] - 0s 26ms/step - loss: 0.4826 - accuracy: 1.0000\n"
          ]
        },
        {
          "output_type": "stream",
          "name": "stderr",
          "text": [
            "WARNING:absl:Found untraced functions such as _update_step_xla while saving (showing 1 of 1). These functions will not be directly callable after loading.\n",
            "\n",
            "\n",
            "100%|██████████| 546/546 [00:00<00:00,  4.19it/s]\u001b[A\n",
            "100%|██████████| 546/546 [00:00<00:00,  4.19it/s, iterations=546/546 Iterations Completed]\u001b[A"
          ]
        },
        {
          "output_type": "stream",
          "name": "stdout",
          "text": [
            "cleaned_data----------------------------------------- True\n",
            "1/1 [==============================] - 0s 12ms/step - loss: 0.4002 - accuracy: 1.0000\n"
          ]
        },
        {
          "output_type": "stream",
          "name": "stderr",
          "text": [
            "WARNING:absl:Found untraced functions such as _update_step_xla while saving (showing 1 of 1). These functions will not be directly callable after loading.\n",
            "100%|█████████▉| 546/547 [00:00<?, ?it/s]\n",
            "100%|██████████| 547/547 [00:00<00:00,  5.46it/s, iterations=547/547 Iterations Completed]"
          ]
        },
        {
          "output_type": "stream",
          "name": "stdout",
          "text": [
            "cleaned_data----------------------------------------- True\n",
            "1/1 [==============================] - 0s 10ms/step - loss: 0.3471 - accuracy: 1.0000\n"
          ]
        },
        {
          "output_type": "stream",
          "name": "stderr",
          "text": [
            "WARNING:absl:Found untraced functions such as _update_step_xla while saving (showing 1 of 1). These functions will not be directly callable after loading.\n",
            "\n",
            "                                                                                          \n",
            "100%|██████████| 548/548 [00:00<00:00,  7.06it/s]\u001b[A\n",
            "100%|██████████| 548/548 [00:00<00:00,  7.06it/s, iterations=548/548 Iterations Completed]\u001b[A"
          ]
        },
        {
          "output_type": "stream",
          "name": "stdout",
          "text": [
            "cleaned_data----------------------------------------- True\n",
            "1/1 [==============================] - 0s 15ms/step - loss: 0.3772 - accuracy: 1.0000\n"
          ]
        },
        {
          "output_type": "stream",
          "name": "stderr",
          "text": [
            "WARNING:absl:Found untraced functions such as _update_step_xla while saving (showing 1 of 1). These functions will not be directly callable after loading.\n",
            "100%|█████████▉| 548/549 [00:00<?, ?it/s]\n",
            "100%|██████████| 549/549 [00:00<00:00,  5.48it/s, iterations=549/549 Iterations Completed]"
          ]
        },
        {
          "output_type": "stream",
          "name": "stdout",
          "text": [
            "cleaned_data----------------------------------------- True\n",
            "1/1 [==============================] - 0s 10ms/step - loss: 0.4059 - accuracy: 1.0000\n"
          ]
        },
        {
          "output_type": "stream",
          "name": "stderr",
          "text": [
            "WARNING:absl:Found untraced functions such as _update_step_xla while saving (showing 1 of 1). These functions will not be directly callable after loading.\n",
            "\n",
            "                                                                                          \n",
            "100%|██████████| 550/550 [00:00<00:00,  6.81it/s]\u001b[A\n",
            "100%|██████████| 550/550 [00:00<00:00,  6.81it/s, iterations=550/550 Iterations Completed]\u001b[A"
          ]
        },
        {
          "output_type": "stream",
          "name": "stdout",
          "text": [
            "cleaned_data----------------------------------------- True\n",
            "1/1 [==============================] - 0s 14ms/step - loss: 0.4601 - accuracy: 1.0000\n"
          ]
        },
        {
          "output_type": "stream",
          "name": "stderr",
          "text": [
            "WARNING:absl:Found untraced functions such as _update_step_xla while saving (showing 1 of 1). These functions will not be directly callable after loading.\n",
            "100%|█████████▉| 550/551 [00:00<?, ?it/s]\n",
            "100%|██████████| 551/551 [00:00<00:00,  6.52it/s, iterations=551/551 Iterations Completed]"
          ]
        },
        {
          "output_type": "stream",
          "name": "stdout",
          "text": [
            "cleaned_data----------------------------------------- True\n",
            "1/1 [==============================] - 0s 13ms/step - loss: 0.3782 - accuracy: 1.0000\n"
          ]
        },
        {
          "output_type": "stream",
          "name": "stderr",
          "text": [
            "WARNING:absl:Found untraced functions such as _update_step_xla while saving (showing 1 of 1). These functions will not be directly callable after loading.\n",
            "\n",
            "                                                                                          \n",
            "100%|██████████| 552/552 [00:00<00:00,  6.86it/s]\u001b[A\n",
            "100%|██████████| 552/552 [00:00<00:00,  6.86it/s, iterations=552/552 Iterations Completed]\u001b[A"
          ]
        },
        {
          "output_type": "stream",
          "name": "stdout",
          "text": [
            "cleaned_data----------------------------------------- True\n",
            "1/1 [==============================] - 0s 9ms/step - loss: 0.3513 - accuracy: 1.0000\n"
          ]
        },
        {
          "output_type": "stream",
          "name": "stderr",
          "text": [
            "WARNING:absl:Found untraced functions such as _update_step_xla while saving (showing 1 of 1). These functions will not be directly callable after loading.\n",
            "100%|█████████▉| 552/553 [00:00<?, ?it/s]\n",
            "100%|██████████| 553/553 [00:00<00:00,  6.33it/s, iterations=553/553 Iterations Completed]"
          ]
        },
        {
          "output_type": "stream",
          "name": "stdout",
          "text": [
            "cleaned_data----------------------------------------- True\n",
            "1/1 [==============================] - 0s 10ms/step - loss: 0.5125 - accuracy: 0.8571\n"
          ]
        },
        {
          "output_type": "stream",
          "name": "stderr",
          "text": [
            "WARNING:absl:Found untraced functions such as _update_step_xla while saving (showing 1 of 1). These functions will not be directly callable after loading.\n",
            "\n",
            "                                                                                          \n",
            "100%|██████████| 554/554 [00:00<00:00,  7.33it/s]\u001b[A\n",
            "100%|██████████| 554/554 [00:00<00:00,  7.33it/s, iterations=554/554 Iterations Completed]\u001b[A"
          ]
        },
        {
          "output_type": "stream",
          "name": "stdout",
          "text": [
            "cleaned_data----------------------------------------- True\n",
            "1/1 [==============================] - 0s 10ms/step - loss: 0.4526 - accuracy: 0.9643\n"
          ]
        },
        {
          "output_type": "stream",
          "name": "stderr",
          "text": [
            "WARNING:absl:Found untraced functions such as _update_step_xla while saving (showing 1 of 1). These functions will not be directly callable after loading.\n",
            "100%|█████████▉| 554/555 [00:00<?, ?it/s]\n",
            "100%|██████████| 555/555 [00:00<00:00,  6.86it/s, iterations=555/555 Iterations Completed]"
          ]
        },
        {
          "output_type": "stream",
          "name": "stdout",
          "text": [
            "cleaned_data----------------------------------------- True\n",
            "1/1 [==============================] - 0s 14ms/step - loss: 0.4013 - accuracy: 1.0000\n"
          ]
        },
        {
          "output_type": "stream",
          "name": "stderr",
          "text": [
            "WARNING:absl:Found untraced functions such as _update_step_xla while saving (showing 1 of 1). These functions will not be directly callable after loading.\n",
            "\n",
            "\n",
            "100%|██████████| 556/556 [00:00<00:00,  4.02it/s]\u001b[A\n",
            "100%|██████████| 556/556 [00:00<00:00,  4.02it/s, iterations=556/556 Iterations Completed]\u001b[A"
          ]
        },
        {
          "output_type": "stream",
          "name": "stdout",
          "text": [
            "cleaned_data----------------------------------------- True\n",
            "1/1 [==============================] - 0s 48ms/step - loss: 0.4041 - accuracy: 1.0000\n"
          ]
        },
        {
          "output_type": "stream",
          "name": "stderr",
          "text": [
            "WARNING:absl:Found untraced functions such as _update_step_xla while saving (showing 1 of 1). These functions will not be directly callable after loading.\n",
            "100%|█████████▉| 556/557 [00:00<?, ?it/s]\n",
            "100%|██████████| 557/557 [00:00<00:00,  4.42it/s, iterations=557/557 Iterations Completed]"
          ]
        },
        {
          "output_type": "stream",
          "name": "stdout",
          "text": [
            "cleaned_data----------------------------------------- True\n",
            "1/1 [==============================] - 0s 15ms/step - loss: 0.3546 - accuracy: 1.0000\n"
          ]
        },
        {
          "output_type": "stream",
          "name": "stderr",
          "text": [
            "WARNING:absl:Found untraced functions such as _update_step_xla while saving (showing 1 of 1). These functions will not be directly callable after loading.\n",
            "\n",
            "                                                                                          \n",
            "100%|██████████| 558/558 [00:00<00:00,  5.71it/s]\u001b[A\n",
            "100%|██████████| 558/558 [00:00<00:00,  5.71it/s, iterations=558/558 Iterations Completed]\u001b[A"
          ]
        },
        {
          "output_type": "stream",
          "name": "stdout",
          "text": [
            "cleaned_data----------------------------------------- True\n",
            "1/1 [==============================] - 0s 10ms/step - loss: 0.3457 - accuracy: 1.0000\n"
          ]
        },
        {
          "output_type": "stream",
          "name": "stderr",
          "text": [
            "WARNING:absl:Found untraced functions such as _update_step_xla while saving (showing 1 of 1). These functions will not be directly callable after loading.\n",
            "100%|█████████▉| 558/559 [00:00<?, ?it/s]\n",
            "100%|██████████| 559/559 [00:00<00:00,  5.78it/s, iterations=559/559 Iterations Completed]"
          ]
        },
        {
          "output_type": "stream",
          "name": "stdout",
          "text": [
            "cleaned_data----------------------------------------- True\n",
            "1/1 [==============================] - 0s 10ms/step - loss: 0.3649 - accuracy: 1.0000\n"
          ]
        },
        {
          "output_type": "stream",
          "name": "stderr",
          "text": [
            "WARNING:absl:Found untraced functions such as _update_step_xla while saving (showing 1 of 1). These functions will not be directly callable after loading.\n",
            "\n",
            "                                                                                          \n",
            "100%|██████████| 560/560 [00:00<00:00,  6.98it/s]\u001b[A\n",
            "100%|██████████| 560/560 [00:00<00:00,  6.98it/s, iterations=560/560 Iterations Completed]\u001b[A"
          ]
        },
        {
          "output_type": "stream",
          "name": "stdout",
          "text": [
            "cleaned_data----------------------------------------- True\n",
            "1/1 [==============================] - 0s 8ms/step - loss: 0.3908 - accuracy: 1.0000\n"
          ]
        },
        {
          "output_type": "stream",
          "name": "stderr",
          "text": [
            "WARNING:absl:Found untraced functions such as _update_step_xla while saving (showing 1 of 1). These functions will not be directly callable after loading.\n",
            "100%|█████████▉| 560/561 [00:00<?, ?it/s]\n",
            "100%|██████████| 561/561 [00:00<00:00,  5.70it/s, iterations=561/561 Iterations Completed]"
          ]
        },
        {
          "output_type": "stream",
          "name": "stdout",
          "text": [
            "cleaned_data----------------------------------------- True\n",
            "1/1 [==============================] - 0s 10ms/step - loss: 0.3799 - accuracy: 1.0000\n"
          ]
        },
        {
          "output_type": "stream",
          "name": "stderr",
          "text": [
            "WARNING:absl:Found untraced functions such as _update_step_xla while saving (showing 1 of 1). These functions will not be directly callable after loading.\n",
            "\n",
            "                                                                                          \n",
            "100%|██████████| 562/562 [00:00<00:00,  7.46it/s]\u001b[A\n",
            "100%|██████████| 562/562 [00:00<00:00,  7.46it/s, iterations=562/562 Iterations Completed]\u001b[A"
          ]
        },
        {
          "output_type": "stream",
          "name": "stdout",
          "text": [
            "cleaned_data----------------------------------------- True\n",
            "1/1 [==============================] - 0s 9ms/step - loss: 0.3917 - accuracy: 1.0000\n"
          ]
        },
        {
          "output_type": "stream",
          "name": "stderr",
          "text": [
            "WARNING:absl:Found untraced functions such as _update_step_xla while saving (showing 1 of 1). These functions will not be directly callable after loading.\n",
            "100%|█████████▉| 562/563 [00:00<?, ?it/s]\n",
            "100%|██████████| 563/563 [00:00<00:00,  6.81it/s, iterations=563/563 Iterations Completed]"
          ]
        },
        {
          "output_type": "stream",
          "name": "stdout",
          "text": [
            "cleaned_data----------------------------------------- True\n",
            "1/1 [==============================] - 0s 17ms/step - loss: 0.3830 - accuracy: 1.0000\n"
          ]
        },
        {
          "output_type": "stream",
          "name": "stderr",
          "text": [
            "WARNING:absl:Found untraced functions such as _update_step_xla while saving (showing 1 of 1). These functions will not be directly callable after loading.\n",
            "\n",
            "                                                                                          \n",
            "100%|██████████| 564/564 [00:00<00:00,  6.56it/s]\u001b[A\n",
            "100%|██████████| 564/564 [00:00<00:00,  6.56it/s, iterations=564/564 Iterations Completed]\u001b[A"
          ]
        },
        {
          "output_type": "stream",
          "name": "stdout",
          "text": [
            "cleaned_data----------------------------------------- True\n",
            "1/1 [==============================] - 0s 11ms/step - loss: 0.4164 - accuracy: 1.0000\n"
          ]
        },
        {
          "output_type": "stream",
          "name": "stderr",
          "text": [
            "WARNING:absl:Found untraced functions such as _update_step_xla while saving (showing 1 of 1). These functions will not be directly callable after loading.\n",
            "100%|█████████▉| 564/565 [00:00<?, ?it/s]\n",
            "100%|██████████| 565/565 [00:00<00:00,  6.82it/s, iterations=565/565 Iterations Completed]"
          ]
        },
        {
          "output_type": "stream",
          "name": "stdout",
          "text": [
            "cleaned_data----------------------------------------- True\n",
            "1/1 [==============================] - 0s 10ms/step - loss: 0.3633 - accuracy: 1.0000\n"
          ]
        },
        {
          "output_type": "stream",
          "name": "stderr",
          "text": [
            "WARNING:absl:Found untraced functions such as _update_step_xla while saving (showing 1 of 1). These functions will not be directly callable after loading.\n",
            "\n",
            "\n",
            "100%|██████████| 566/566 [00:00<00:00,  4.05it/s]\u001b[A\n",
            "100%|██████████| 566/566 [00:00<00:00,  4.05it/s, iterations=566/566 Iterations Completed]\u001b[A"
          ]
        },
        {
          "output_type": "stream",
          "name": "stdout",
          "text": [
            "cleaned_data----------------------------------------- True\n",
            "1/1 [==============================] - 0s 27ms/step - loss: 0.3546 - accuracy: 1.0000\n"
          ]
        },
        {
          "output_type": "stream",
          "name": "stderr",
          "text": [
            "WARNING:absl:Found untraced functions such as _update_step_xla while saving (showing 1 of 1). These functions will not be directly callable after loading.\n",
            "100%|█████████▉| 566/567 [00:00<?, ?it/s]\n",
            "100%|██████████| 567/567 [00:00<00:00,  4.74it/s, iterations=567/567 Iterations Completed]"
          ]
        },
        {
          "output_type": "stream",
          "name": "stdout",
          "text": [
            "cleaned_data----------------------------------------- True\n",
            "1/1 [==============================] - 0s 11ms/step - loss: 0.3378 - accuracy: 1.0000\n"
          ]
        },
        {
          "output_type": "stream",
          "name": "stderr",
          "text": [
            "WARNING:absl:Found untraced functions such as _update_step_xla while saving (showing 1 of 1). These functions will not be directly callable after loading.\n",
            "\n",
            "\n",
            "100%|██████████| 568/568 [00:00<00:00,  4.46it/s]\u001b[A\n",
            "100%|██████████| 568/568 [00:00<00:00,  4.46it/s, iterations=568/568 Iterations Completed]\u001b[A"
          ]
        },
        {
          "output_type": "stream",
          "name": "stdout",
          "text": [
            "cleaned_data----------------------------------------- True\n",
            "1/1 [==============================] - 0s 15ms/step - loss: 0.3519 - accuracy: 1.0000\n"
          ]
        },
        {
          "output_type": "stream",
          "name": "stderr",
          "text": [
            "WARNING:absl:Found untraced functions such as _update_step_xla while saving (showing 1 of 1). These functions will not be directly callable after loading.\n",
            "100%|█████████▉| 568/569 [00:00<?, ?it/s]\n",
            "100%|██████████| 569/569 [00:00<00:00,  5.93it/s, iterations=569/569 Iterations Completed]"
          ]
        },
        {
          "output_type": "stream",
          "name": "stdout",
          "text": [
            "cleaned_data----------------------------------------- True\n",
            "1/1 [==============================] - 0s 11ms/step - loss: 0.3470 - accuracy: 1.0000\n"
          ]
        },
        {
          "output_type": "stream",
          "name": "stderr",
          "text": [
            "WARNING:absl:Found untraced functions such as _update_step_xla while saving (showing 1 of 1). These functions will not be directly callable after loading.\n",
            "\n",
            "                                                                                          \n",
            "100%|██████████| 570/570 [00:00<00:00,  7.04it/s]\u001b[A\n",
            "100%|██████████| 570/570 [00:00<00:00,  7.04it/s, iterations=570/570 Iterations Completed]\u001b[A"
          ]
        },
        {
          "output_type": "stream",
          "name": "stdout",
          "text": [
            "cleaned_data----------------------------------------- True\n",
            "1/1 [==============================] - 0s 14ms/step - loss: 0.3339 - accuracy: 1.0000\n"
          ]
        },
        {
          "output_type": "stream",
          "name": "stderr",
          "text": [
            "WARNING:absl:Found untraced functions such as _update_step_xla while saving (showing 1 of 1). These functions will not be directly callable after loading.\n",
            "100%|█████████▉| 570/571 [00:00<?, ?it/s]\n",
            "100%|██████████| 571/571 [00:00<00:00,  5.62it/s, iterations=571/571 Iterations Completed]"
          ]
        },
        {
          "output_type": "stream",
          "name": "stdout",
          "text": [
            "cleaned_data----------------------------------------- True\n",
            "1/1 [==============================] - 0s 9ms/step - loss: 0.3305 - accuracy: 1.0000\n"
          ]
        },
        {
          "output_type": "stream",
          "name": "stderr",
          "text": [
            "WARNING:absl:Found untraced functions such as _update_step_xla while saving (showing 1 of 1). These functions will not be directly callable after loading.\n",
            "\n",
            "                                                                                          \n",
            "100%|██████████| 572/572 [00:00<00:00,  6.42it/s]\u001b[A\n",
            "100%|██████████| 572/572 [00:00<00:00,  6.42it/s, iterations=572/572 Iterations Completed]\u001b[A"
          ]
        },
        {
          "output_type": "stream",
          "name": "stdout",
          "text": [
            "cleaned_data----------------------------------------- True\n",
            "1/1 [==============================] - 0s 10ms/step - loss: 0.3288 - accuracy: 1.0000\n"
          ]
        },
        {
          "output_type": "stream",
          "name": "stderr",
          "text": [
            "WARNING:absl:Found untraced functions such as _update_step_xla while saving (showing 1 of 1). These functions will not be directly callable after loading.\n",
            "100%|█████████▉| 572/573 [00:00<?, ?it/s]\n",
            "100%|██████████| 573/573 [00:00<00:00,  6.81it/s, iterations=573/573 Iterations Completed]"
          ]
        },
        {
          "output_type": "stream",
          "name": "stdout",
          "text": [
            "cleaned_data----------------------------------------- True\n",
            "1/1 [==============================] - 0s 8ms/step - loss: 0.3500 - accuracy: 1.0000\n"
          ]
        },
        {
          "output_type": "stream",
          "name": "stderr",
          "text": [
            "WARNING:absl:Found untraced functions such as _update_step_xla while saving (showing 1 of 1). These functions will not be directly callable after loading.\n",
            "\n",
            "                                                                                          \n",
            "100%|██████████| 574/574 [00:00<00:00,  6.48it/s]\u001b[A\n",
            "100%|██████████| 574/574 [00:00<00:00,  6.48it/s, iterations=574/574 Iterations Completed]\u001b[A"
          ]
        },
        {
          "output_type": "stream",
          "name": "stdout",
          "text": [
            "cleaned_data----------------------------------------- True\n",
            "1/1 [==============================] - 0s 10ms/step - loss: 0.3545 - accuracy: 1.0000\n"
          ]
        },
        {
          "output_type": "stream",
          "name": "stderr",
          "text": [
            "WARNING:absl:Found untraced functions such as _update_step_xla while saving (showing 1 of 1). These functions will not be directly callable after loading.\n",
            "100%|█████████▉| 574/575 [00:00<?, ?it/s]\n",
            "100%|██████████| 575/575 [00:00<00:00,  6.90it/s, iterations=575/575 Iterations Completed]"
          ]
        },
        {
          "output_type": "stream",
          "name": "stdout",
          "text": [
            "cleaned_data----------------------------------------- True\n",
            "1/1 [==============================] - 0s 10ms/step - loss: 0.3985 - accuracy: 1.0000\n"
          ]
        },
        {
          "output_type": "stream",
          "name": "stderr",
          "text": [
            "WARNING:absl:Found untraced functions such as _update_step_xla while saving (showing 1 of 1). These functions will not be directly callable after loading.\n",
            "\n",
            "                                                                                          \n",
            "100%|██████████| 576/576 [00:00<00:00,  6.89it/s]\u001b[A\n",
            "100%|██████████| 576/576 [00:00<00:00,  6.89it/s, iterations=576/576 Iterations Completed]\u001b[A"
          ]
        },
        {
          "output_type": "stream",
          "name": "stdout",
          "text": [
            "cleaned_data----------------------------------------- True\n",
            "1/1 [==============================] - 0s 12ms/step - loss: 0.3333 - accuracy: 1.0000\n"
          ]
        },
        {
          "output_type": "stream",
          "name": "stderr",
          "text": [
            "WARNING:absl:Found untraced functions such as _update_step_xla while saving (showing 1 of 1). These functions will not be directly callable after loading.\n",
            "100%|█████████▉| 576/577 [00:00<?, ?it/s]\n",
            "100%|██████████| 577/577 [00:00<00:00,  4.85it/s, iterations=577/577 Iterations Completed]"
          ]
        },
        {
          "output_type": "stream",
          "name": "stdout",
          "text": [
            "cleaned_data----------------------------------------- True\n",
            "1/1 [==============================] - 0s 11ms/step - loss: 0.3432 - accuracy: 1.0000\n"
          ]
        },
        {
          "output_type": "stream",
          "name": "stderr",
          "text": [
            "WARNING:absl:Found untraced functions such as _update_step_xla while saving (showing 1 of 1). These functions will not be directly callable after loading.\n",
            "\n",
            "                                                                                          \n",
            "100%|██████████| 578/578 [00:00<00:00,  5.82it/s]\u001b[A\n",
            "100%|██████████| 578/578 [00:00<00:00,  5.82it/s, iterations=578/578 Iterations Completed]\u001b[A"
          ]
        },
        {
          "output_type": "stream",
          "name": "stdout",
          "text": [
            "cleaned_data----------------------------------------- True\n",
            "1/1 [==============================] - 0s 29ms/step - loss: 0.3303 - accuracy: 1.0000\n"
          ]
        },
        {
          "output_type": "stream",
          "name": "stderr",
          "text": [
            "WARNING:absl:Found untraced functions such as _update_step_xla while saving (showing 1 of 1). These functions will not be directly callable after loading.\n",
            "100%|█████████▉| 578/579 [00:00<?, ?it/s]\n",
            "100%|██████████| 579/579 [00:00<00:00,  4.23it/s, iterations=579/579 Iterations Completed]"
          ]
        },
        {
          "output_type": "stream",
          "name": "stdout",
          "text": [
            "cleaned_data----------------------------------------- True\n",
            "1/1 [==============================] - 0s 18ms/step - loss: 0.3293 - accuracy: 1.0000\n"
          ]
        },
        {
          "output_type": "stream",
          "name": "stderr",
          "text": [
            "WARNING:absl:Found untraced functions such as _update_step_xla while saving (showing 1 of 1). These functions will not be directly callable after loading.\n",
            "\n",
            "                                                                                          \n",
            "100%|██████████| 580/580 [00:00<00:00,  6.53it/s]\u001b[A\n",
            "100%|██████████| 580/580 [00:00<00:00,  6.53it/s, iterations=580/580 Iterations Completed]\u001b[A"
          ]
        },
        {
          "output_type": "stream",
          "name": "stdout",
          "text": [
            "cleaned_data----------------------------------------- True\n",
            "1/1 [==============================] - 0s 11ms/step - loss: 0.3290 - accuracy: 1.0000\n"
          ]
        },
        {
          "output_type": "stream",
          "name": "stderr",
          "text": [
            "WARNING:absl:Found untraced functions such as _update_step_xla while saving (showing 1 of 1). These functions will not be directly callable after loading.\n",
            "100%|█████████▉| 580/581 [00:00<?, ?it/s]\n",
            "100%|██████████| 581/581 [00:00<00:00,  5.49it/s, iterations=581/581 Iterations Completed]"
          ]
        },
        {
          "output_type": "stream",
          "name": "stdout",
          "text": [
            "cleaned_data----------------------------------------- True\n",
            "1/1 [==============================] - 0s 17ms/step - loss: 0.3302 - accuracy: 1.0000\n"
          ]
        },
        {
          "output_type": "stream",
          "name": "stderr",
          "text": [
            "WARNING:absl:Found untraced functions such as _update_step_xla while saving (showing 1 of 1). These functions will not be directly callable after loading.\n",
            "\n",
            "                                                                                          \n",
            "100%|██████████| 582/582 [00:00<00:00,  6.33it/s]\u001b[A\n",
            "100%|██████████| 582/582 [00:00<00:00,  6.33it/s, iterations=582/582 Iterations Completed]\u001b[A"
          ]
        },
        {
          "output_type": "stream",
          "name": "stdout",
          "text": [
            "cleaned_data----------------------------------------- True\n",
            "1/1 [==============================] - 0s 19ms/step - loss: 0.3282 - accuracy: 1.0000\n"
          ]
        },
        {
          "output_type": "stream",
          "name": "stderr",
          "text": [
            "WARNING:absl:Found untraced functions such as _update_step_xla while saving (showing 1 of 1). These functions will not be directly callable after loading.\n",
            "100%|█████████▉| 582/583 [00:00<?, ?it/s]\n",
            "100%|██████████| 583/583 [00:00<00:00,  5.52it/s, iterations=583/583 Iterations Completed]"
          ]
        },
        {
          "output_type": "stream",
          "name": "stdout",
          "text": [
            "cleaned_data----------------------------------------- True\n",
            "1/1 [==============================] - 0s 10ms/step - loss: 0.3343 - accuracy: 1.0000\n"
          ]
        },
        {
          "output_type": "stream",
          "name": "stderr",
          "text": [
            "WARNING:absl:Found untraced functions such as _update_step_xla while saving (showing 1 of 1). These functions will not be directly callable after loading.\n",
            "\n",
            "                                                                                          \n",
            "100%|██████████| 584/584 [00:00<00:00,  6.29it/s]\u001b[A\n",
            "100%|██████████| 584/584 [00:00<00:00,  6.29it/s, iterations=584/584 Iterations Completed]\u001b[A"
          ]
        },
        {
          "output_type": "stream",
          "name": "stdout",
          "text": [
            "cleaned_data----------------------------------------- True\n",
            "1/1 [==============================] - 0s 15ms/step - loss: 0.3361 - accuracy: 1.0000\n"
          ]
        },
        {
          "output_type": "stream",
          "name": "stderr",
          "text": [
            "WARNING:absl:Found untraced functions such as _update_step_xla while saving (showing 1 of 1). These functions will not be directly callable after loading.\n",
            "100%|█████████▉| 584/585 [00:00<?, ?it/s]\n",
            "100%|██████████| 585/585 [00:00<00:00,  6.63it/s, iterations=585/585 Iterations Completed]"
          ]
        },
        {
          "output_type": "stream",
          "name": "stdout",
          "text": [
            "cleaned_data----------------------------------------- True\n",
            "1/1 [==============================] - 0s 10ms/step - loss: 0.3296 - accuracy: 1.0000\n"
          ]
        },
        {
          "output_type": "stream",
          "name": "stderr",
          "text": [
            "WARNING:absl:Found untraced functions such as _update_step_xla while saving (showing 1 of 1). These functions will not be directly callable after loading.\n",
            "\n",
            "                                                                                          \n",
            "100%|██████████| 586/586 [00:00<00:00,  7.18it/s]\u001b[A\n",
            "100%|██████████| 586/586 [00:00<00:00,  7.18it/s, iterations=586/586 Iterations Completed]\u001b[A"
          ]
        },
        {
          "output_type": "stream",
          "name": "stdout",
          "text": [
            "cleaned_data----------------------------------------- True\n",
            "1/1 [==============================] - 0s 11ms/step - loss: 0.3432 - accuracy: 1.0000\n"
          ]
        },
        {
          "output_type": "stream",
          "name": "stderr",
          "text": [
            "WARNING:absl:Found untraced functions such as _update_step_xla while saving (showing 1 of 1). These functions will not be directly callable after loading.\n",
            "100%|█████████▉| 586/587 [00:00<?, ?it/s]\n",
            "100%|██████████| 587/587 [00:00<00:00,  6.50it/s, iterations=587/587 Iterations Completed]"
          ]
        },
        {
          "output_type": "stream",
          "name": "stdout",
          "text": [
            "cleaned_data----------------------------------------- True\n",
            "1/1 [==============================] - 0s 15ms/step - loss: 0.3572 - accuracy: 1.0000\n"
          ]
        },
        {
          "output_type": "stream",
          "name": "stderr",
          "text": [
            "WARNING:absl:Found untraced functions such as _update_step_xla while saving (showing 1 of 1). These functions will not be directly callable after loading.\n",
            "\n",
            "\n",
            "100%|██████████| 588/588 [00:00<00:00,  4.97it/s]\u001b[A\n",
            "100%|██████████| 588/588 [00:00<00:00,  4.97it/s, iterations=588/588 Iterations Completed]\u001b[A"
          ]
        },
        {
          "output_type": "stream",
          "name": "stdout",
          "text": [
            "cleaned_data----------------------------------------- True\n",
            "1/1 [==============================] - 0s 24ms/step - loss: 0.3483 - accuracy: 1.0000\n"
          ]
        },
        {
          "output_type": "stream",
          "name": "stderr",
          "text": [
            "WARNING:absl:Found untraced functions such as _update_step_xla while saving (showing 1 of 1). These functions will not be directly callable after loading.\n",
            "100%|█████████▉| 588/589 [00:00<?, ?it/s]\n",
            "100%|██████████| 589/589 [00:00<00:00,  5.58it/s, iterations=589/589 Iterations Completed]"
          ]
        },
        {
          "output_type": "stream",
          "name": "stdout",
          "text": [
            "cleaned_data----------------------------------------- True\n",
            "1/1 [==============================] - 0s 10ms/step - loss: 0.3371 - accuracy: 1.0000\n"
          ]
        },
        {
          "output_type": "stream",
          "name": "stderr",
          "text": [
            "WARNING:absl:Found untraced functions such as _update_step_xla while saving (showing 1 of 1). These functions will not be directly callable after loading.\n",
            "\n",
            "                                                                                          \n",
            "100%|██████████| 590/590 [00:00<00:00,  5.53it/s]\u001b[A\n",
            "100%|██████████| 590/590 [00:00<00:00,  5.53it/s, iterations=590/590 Iterations Completed]\u001b[A"
          ]
        },
        {
          "output_type": "stream",
          "name": "stdout",
          "text": [
            "cleaned_data----------------------------------------- True\n",
            "1/1 [==============================] - 0s 10ms/step - loss: 0.3391 - accuracy: 1.0000\n"
          ]
        },
        {
          "output_type": "stream",
          "name": "stderr",
          "text": [
            "WARNING:absl:Found untraced functions such as _update_step_xla while saving (showing 1 of 1). These functions will not be directly callable after loading.\n",
            "100%|█████████▉| 590/591 [00:00<?, ?it/s]\n",
            "100%|██████████| 591/591 [00:00<00:00,  6.66it/s, iterations=591/591 Iterations Completed]"
          ]
        },
        {
          "output_type": "stream",
          "name": "stdout",
          "text": [
            "cleaned_data----------------------------------------- True\n",
            "1/1 [==============================] - 0s 11ms/step - loss: 0.3372 - accuracy: 1.0000\n"
          ]
        },
        {
          "output_type": "stream",
          "name": "stderr",
          "text": [
            "WARNING:absl:Found untraced functions such as _update_step_xla while saving (showing 1 of 1). These functions will not be directly callable after loading.\n",
            "\n",
            "                                                                                          \n",
            "100%|██████████| 592/592 [00:00<00:00,  6.89it/s]\u001b[A\n",
            "100%|██████████| 592/592 [00:00<00:00,  6.89it/s, iterations=592/592 Iterations Completed]\u001b[A"
          ]
        },
        {
          "output_type": "stream",
          "name": "stdout",
          "text": [
            "cleaned_data----------------------------------------- True\n",
            "1/1 [==============================] - 0s 19ms/step - loss: 0.3593 - accuracy: 1.0000\n"
          ]
        },
        {
          "output_type": "stream",
          "name": "stderr",
          "text": [
            "WARNING:absl:Found untraced functions such as _update_step_xla while saving (showing 1 of 1). These functions will not be directly callable after loading.\n",
            "100%|█████████▉| 592/593 [00:00<?, ?it/s]\n",
            "100%|██████████| 593/593 [00:00<00:00,  6.46it/s, iterations=593/593 Iterations Completed]"
          ]
        },
        {
          "output_type": "stream",
          "name": "stdout",
          "text": [
            "cleaned_data----------------------------------------- True\n",
            "1/1 [==============================] - 0s 11ms/step - loss: 0.3312 - accuracy: 1.0000\n"
          ]
        },
        {
          "output_type": "stream",
          "name": "stderr",
          "text": [
            "WARNING:absl:Found untraced functions such as _update_step_xla while saving (showing 1 of 1). These functions will not be directly callable after loading.\n",
            "\n",
            "                                                                                          \n",
            "100%|██████████| 594/594 [00:00<00:00,  6.22it/s]\u001b[A\n",
            "100%|██████████| 594/594 [00:00<00:00,  6.22it/s, iterations=594/594 Iterations Completed]\u001b[A"
          ]
        },
        {
          "output_type": "stream",
          "name": "stdout",
          "text": [
            "cleaned_data----------------------------------------- True\n",
            "1/1 [==============================] - 0s 14ms/step - loss: 0.3294 - accuracy: 1.0000\n"
          ]
        },
        {
          "output_type": "stream",
          "name": "stderr",
          "text": [
            "WARNING:absl:Found untraced functions such as _update_step_xla while saving (showing 1 of 1). These functions will not be directly callable after loading.\n",
            "100%|█████████▉| 594/595 [00:00<?, ?it/s]\n",
            "100%|██████████| 595/595 [00:00<00:00,  5.34it/s, iterations=595/595 Iterations Completed]"
          ]
        },
        {
          "output_type": "stream",
          "name": "stdout",
          "text": [
            "cleaned_data----------------------------------------- True\n",
            "1/1 [==============================] - 0s 10ms/step - loss: 0.3596 - accuracy: 1.0000\n"
          ]
        },
        {
          "output_type": "stream",
          "name": "stderr",
          "text": [
            "WARNING:absl:Found untraced functions such as _update_step_xla while saving (showing 1 of 1). These functions will not be directly callable after loading.\n",
            "\n",
            "                                                                                          \n",
            "100%|██████████| 596/596 [00:00<00:00,  6.65it/s]\u001b[A\n",
            "100%|██████████| 596/596 [00:00<00:00,  6.65it/s, iterations=596/596 Iterations Completed]\u001b[A"
          ]
        },
        {
          "output_type": "stream",
          "name": "stdout",
          "text": [
            "cleaned_data----------------------------------------- True\n",
            "1/1 [==============================] - 0s 11ms/step - loss: 0.3476 - accuracy: 1.0000\n"
          ]
        },
        {
          "output_type": "stream",
          "name": "stderr",
          "text": [
            "WARNING:absl:Found untraced functions such as _update_step_xla while saving (showing 1 of 1). These functions will not be directly callable after loading.\n",
            "100%|█████████▉| 596/597 [00:00<?, ?it/s]\n",
            "100%|██████████| 597/597 [00:00<00:00,  6.35it/s, iterations=597/597 Iterations Completed]"
          ]
        },
        {
          "output_type": "stream",
          "name": "stdout",
          "text": [
            "cleaned_data----------------------------------------- True\n",
            "1/1 [==============================] - 0s 10ms/step - loss: 0.3753 - accuracy: 1.0000\n"
          ]
        },
        {
          "output_type": "stream",
          "name": "stderr",
          "text": [
            "WARNING:absl:Found untraced functions such as _update_step_xla while saving (showing 1 of 1). These functions will not be directly callable after loading.\n",
            "\n",
            "                                                                                          \n",
            "100%|██████████| 598/598 [00:00<00:00,  5.44it/s]\u001b[A\n",
            "100%|██████████| 598/598 [00:00<00:00,  5.44it/s, iterations=598/598 Iterations Completed]\u001b[A"
          ]
        },
        {
          "output_type": "stream",
          "name": "stdout",
          "text": [
            "cleaned_data----------------------------------------- True\n",
            "1/1 [==============================] - 0s 19ms/step - loss: 0.3661 - accuracy: 1.0000\n"
          ]
        },
        {
          "output_type": "stream",
          "name": "stderr",
          "text": [
            "WARNING:absl:Found untraced functions such as _update_step_xla while saving (showing 1 of 1). These functions will not be directly callable after loading.\n",
            "100%|█████████▉| 598/599 [00:00<?, ?it/s]\n",
            "100%|██████████| 599/599 [00:00<00:00,  5.21it/s, iterations=599/599 Iterations Completed]"
          ]
        },
        {
          "output_type": "stream",
          "name": "stdout",
          "text": [
            "cleaned_data----------------------------------------- True\n",
            "1/1 [==============================] - 0s 17ms/step - loss: 0.3595 - accuracy: 1.0000\n"
          ]
        },
        {
          "output_type": "stream",
          "name": "stderr",
          "text": [
            "WARNING:absl:Found untraced functions such as _update_step_xla while saving (showing 1 of 1). These functions will not be directly callable after loading.\n",
            "\n",
            "\n",
            "100%|██████████| 600/600 [00:00<00:00,  4.76it/s]\u001b[A\n",
            "100%|██████████| 600/600 [00:00<00:00,  4.76it/s, iterations=600/600 Iterations Completed]\u001b[A"
          ]
        },
        {
          "output_type": "stream",
          "name": "stdout",
          "text": [
            "cleaned_data----------------------------------------- True\n",
            "1/1 [==============================] - 0s 21ms/step - loss: 0.3340 - accuracy: 1.0000\n"
          ]
        },
        {
          "output_type": "stream",
          "name": "stderr",
          "text": [
            "WARNING:absl:Found untraced functions such as _update_step_xla while saving (showing 1 of 1). These functions will not be directly callable after loading.\n",
            "100%|█████████▉| 600/601 [00:00<?, ?it/s]\n",
            "100%|██████████| 601/601 [00:00<00:00,  6.64it/s, iterations=601/601 Iterations Completed]"
          ]
        },
        {
          "output_type": "stream",
          "name": "stdout",
          "text": [
            "cleaned_data----------------------------------------- True\n",
            "1/1 [==============================] - 0s 9ms/step - loss: 0.3320 - accuracy: 1.0000\n"
          ]
        },
        {
          "output_type": "stream",
          "name": "stderr",
          "text": [
            "WARNING:absl:Found untraced functions such as _update_step_xla while saving (showing 1 of 1). These functions will not be directly callable after loading.\n",
            "\n",
            "                                                                                          \n",
            "100%|██████████| 602/602 [00:00<00:00,  6.19it/s]\u001b[A\n",
            "100%|██████████| 602/602 [00:00<00:00,  6.19it/s, iterations=602/602 Iterations Completed]\u001b[A"
          ]
        },
        {
          "output_type": "stream",
          "name": "stdout",
          "text": [
            "cleaned_data----------------------------------------- True\n",
            "1/1 [==============================] - 0s 9ms/step - loss: 0.3398 - accuracy: 1.0000\n"
          ]
        },
        {
          "output_type": "stream",
          "name": "stderr",
          "text": [
            "WARNING:absl:Found untraced functions such as _update_step_xla while saving (showing 1 of 1). These functions will not be directly callable after loading.\n",
            "100%|█████████▉| 602/603 [00:00<?, ?it/s]\n",
            "100%|██████████| 603/603 [00:00<00:00,  5.95it/s, iterations=603/603 Iterations Completed]"
          ]
        },
        {
          "output_type": "stream",
          "name": "stdout",
          "text": [
            "cleaned_data----------------------------------------- True\n",
            "1/1 [==============================] - 0s 12ms/step - loss: 0.3652 - accuracy: 1.0000\n"
          ]
        },
        {
          "output_type": "stream",
          "name": "stderr",
          "text": [
            "WARNING:absl:Found untraced functions such as _update_step_xla while saving (showing 1 of 1). These functions will not be directly callable after loading.\n",
            "\n",
            "                                                                                          \n",
            "100%|██████████| 604/604 [00:00<00:00,  6.35it/s]\u001b[A\n",
            "100%|██████████| 604/604 [00:00<00:00,  6.35it/s, iterations=604/604 Iterations Completed]\u001b[A"
          ]
        },
        {
          "output_type": "stream",
          "name": "stdout",
          "text": [
            "cleaned_data----------------------------------------- True\n",
            "1/1 [==============================] - 0s 12ms/step - loss: 0.3533 - accuracy: 1.0000\n"
          ]
        },
        {
          "output_type": "stream",
          "name": "stderr",
          "text": [
            "WARNING:absl:Found untraced functions such as _update_step_xla while saving (showing 1 of 1). These functions will not be directly callable after loading.\n",
            "100%|█████████▉| 604/605 [00:00<?, ?it/s]\n",
            "100%|██████████| 605/605 [00:00<00:00,  6.43it/s, iterations=605/605 Iterations Completed]"
          ]
        },
        {
          "output_type": "stream",
          "name": "stdout",
          "text": [
            "cleaned_data----------------------------------------- True\n",
            "1/1 [==============================] - 0s 8ms/step - loss: 0.3545 - accuracy: 1.0000\n"
          ]
        },
        {
          "output_type": "stream",
          "name": "stderr",
          "text": [
            "WARNING:absl:Found untraced functions such as _update_step_xla while saving (showing 1 of 1). These functions will not be directly callable after loading.\n",
            "\n",
            "                                                                                          \n",
            "100%|██████████| 606/606 [00:00<00:00,  6.89it/s]\u001b[A\n",
            "100%|██████████| 606/606 [00:00<00:00,  6.89it/s, iterations=606/606 Iterations Completed]\u001b[A"
          ]
        },
        {
          "output_type": "stream",
          "name": "stdout",
          "text": [
            "cleaned_data----------------------------------------- True\n",
            "1/1 [==============================] - 0s 15ms/step - loss: 0.3519 - accuracy: 1.0000\n"
          ]
        },
        {
          "output_type": "stream",
          "name": "stderr",
          "text": [
            "WARNING:absl:Found untraced functions such as _update_step_xla while saving (showing 1 of 1). These functions will not be directly callable after loading.\n",
            "100%|█████████▉| 606/607 [00:00<?, ?it/s]\n",
            "100%|██████████| 607/607 [00:00<00:00,  5.58it/s, iterations=607/607 Iterations Completed]"
          ]
        },
        {
          "output_type": "stream",
          "name": "stdout",
          "text": [
            "cleaned_data----------------------------------------- True\n",
            "1/1 [==============================] - 0s 12ms/step - loss: 0.3559 - accuracy: 1.0000\n"
          ]
        },
        {
          "output_type": "stream",
          "name": "stderr",
          "text": [
            "WARNING:absl:Found untraced functions such as _update_step_xla while saving (showing 1 of 1). These functions will not be directly callable after loading.\n",
            "\n",
            "                                                                                          \n",
            "100%|██████████| 608/608 [00:00<00:00,  6.20it/s]\u001b[A\n",
            "100%|██████████| 608/608 [00:00<00:00,  6.20it/s, iterations=608/608 Iterations Completed]\u001b[A"
          ]
        },
        {
          "output_type": "stream",
          "name": "stdout",
          "text": [
            "cleaned_data----------------------------------------- True\n",
            "1/1 [==============================] - 0s 9ms/step - loss: 0.3383 - accuracy: 1.0000\n"
          ]
        },
        {
          "output_type": "stream",
          "name": "stderr",
          "text": [
            "WARNING:absl:Found untraced functions such as _update_step_xla while saving (showing 1 of 1). These functions will not be directly callable after loading.\n",
            "100%|█████████▉| 608/609 [00:00<?, ?it/s]\n",
            "100%|██████████| 609/609 [00:00<00:00,  5.42it/s, iterations=609/609 Iterations Completed]"
          ]
        },
        {
          "output_type": "stream",
          "name": "stdout",
          "text": [
            "cleaned_data----------------------------------------- True\n",
            "1/1 [==============================] - 0s 21ms/step - loss: 0.3462 - accuracy: 1.0000\n"
          ]
        },
        {
          "output_type": "stream",
          "name": "stderr",
          "text": [
            "WARNING:absl:Found untraced functions such as _update_step_xla while saving (showing 1 of 1). These functions will not be directly callable after loading.\n",
            "\n",
            "\n",
            "100%|██████████| 610/610 [00:00<00:00,  5.23it/s]\u001b[A\n",
            "100%|██████████| 610/610 [00:00<00:00,  5.23it/s, iterations=610/610 Iterations Completed]\u001b[A"
          ]
        },
        {
          "output_type": "stream",
          "name": "stdout",
          "text": [
            "cleaned_data----------------------------------------- True\n",
            "1/1 [==============================] - 0s 26ms/step - loss: 0.3482 - accuracy: 1.0000\n"
          ]
        },
        {
          "output_type": "stream",
          "name": "stderr",
          "text": [
            "WARNING:absl:Found untraced functions such as _update_step_xla while saving (showing 1 of 1). These functions will not be directly callable after loading.\n",
            "100%|█████████▉| 610/611 [00:00<?, ?it/s]\n",
            "100%|██████████| 611/611 [00:00<00:00,  4.71it/s, iterations=611/611 Iterations Completed]"
          ]
        },
        {
          "output_type": "stream",
          "name": "stdout",
          "text": [
            "cleaned_data----------------------------------------- True\n",
            "1/1 [==============================] - 0s 10ms/step - loss: 0.3389 - accuracy: 1.0000\n"
          ]
        },
        {
          "output_type": "stream",
          "name": "stderr",
          "text": [
            "WARNING:absl:Found untraced functions such as _update_step_xla while saving (showing 1 of 1). These functions will not be directly callable after loading.\n",
            "\n",
            "                                                                                          \n",
            "100%|██████████| 612/612 [00:00<00:00,  6.67it/s]\u001b[A\n",
            "100%|██████████| 612/612 [00:00<00:00,  6.67it/s, iterations=612/612 Iterations Completed]\u001b[A"
          ]
        },
        {
          "output_type": "stream",
          "name": "stdout",
          "text": [
            "cleaned_data----------------------------------------- True\n",
            "1/1 [==============================] - 0s 10ms/step - loss: 0.3469 - accuracy: 1.0000\n"
          ]
        },
        {
          "output_type": "stream",
          "name": "stderr",
          "text": [
            "WARNING:absl:Found untraced functions such as _update_step_xla while saving (showing 1 of 1). These functions will not be directly callable after loading.\n",
            "100%|█████████▉| 612/613 [00:00<?, ?it/s]\n",
            "100%|██████████| 613/613 [00:00<00:00,  5.91it/s, iterations=613/613 Iterations Completed]"
          ]
        },
        {
          "output_type": "stream",
          "name": "stdout",
          "text": [
            "cleaned_data----------------------------------------- True\n",
            "1/1 [==============================] - 0s 10ms/step - loss: 0.3318 - accuracy: 1.0000\n"
          ]
        },
        {
          "output_type": "stream",
          "name": "stderr",
          "text": [
            "WARNING:absl:Found untraced functions such as _update_step_xla while saving (showing 1 of 1). These functions will not be directly callable after loading.\n",
            "\n",
            "                                                                                          \n",
            "100%|██████████| 614/614 [00:00<00:00,  6.48it/s]\u001b[A\n",
            "100%|██████████| 614/614 [00:00<00:00,  6.48it/s, iterations=614/614 Iterations Completed]\u001b[A"
          ]
        },
        {
          "output_type": "stream",
          "name": "stdout",
          "text": [
            "cleaned_data----------------------------------------- True\n",
            "1/1 [==============================] - 0s 20ms/step - loss: 0.3339 - accuracy: 1.0000\n"
          ]
        },
        {
          "output_type": "stream",
          "name": "stderr",
          "text": [
            "WARNING:absl:Found untraced functions such as _update_step_xla while saving (showing 1 of 1). These functions will not be directly callable after loading.\n",
            "100%|█████████▉| 614/615 [00:00<?, ?it/s]\n",
            "100%|██████████| 615/615 [00:00<00:00,  6.61it/s, iterations=615/615 Iterations Completed]"
          ]
        },
        {
          "output_type": "stream",
          "name": "stdout",
          "text": [
            "cleaned_data----------------------------------------- True\n",
            "1/1 [==============================] - 0s 10ms/step - loss: 0.3322 - accuracy: 1.0000\n"
          ]
        },
        {
          "output_type": "stream",
          "name": "stderr",
          "text": [
            "WARNING:absl:Found untraced functions such as _update_step_xla while saving (showing 1 of 1). These functions will not be directly callable after loading.\n",
            "\n",
            "                                                                                          \n",
            "100%|██████████| 616/616 [00:00<00:00,  6.67it/s]\u001b[A\n",
            "100%|██████████| 616/616 [00:00<00:00,  6.67it/s, iterations=616/616 Iterations Completed]\u001b[A"
          ]
        },
        {
          "output_type": "stream",
          "name": "stdout",
          "text": [
            "cleaned_data----------------------------------------- True\n",
            "1/1 [==============================] - 0s 16ms/step - loss: 0.3318 - accuracy: 1.0000\n"
          ]
        },
        {
          "output_type": "stream",
          "name": "stderr",
          "text": [
            "WARNING:absl:Found untraced functions such as _update_step_xla while saving (showing 1 of 1). These functions will not be directly callable after loading.\n",
            "100%|█████████▉| 616/617 [00:00<?, ?it/s]\n",
            "100%|██████████| 617/617 [00:00<00:00,  6.19it/s, iterations=617/617 Iterations Completed]"
          ]
        },
        {
          "output_type": "stream",
          "name": "stdout",
          "text": [
            "cleaned_data----------------------------------------- True\n",
            "1/1 [==============================] - 0s 14ms/step - loss: 0.3549 - accuracy: 1.0000\n"
          ]
        },
        {
          "output_type": "stream",
          "name": "stderr",
          "text": [
            "WARNING:absl:Found untraced functions such as _update_step_xla while saving (showing 1 of 1). These functions will not be directly callable after loading.\n",
            "\n",
            "                                                                                          \n",
            "100%|██████████| 618/618 [00:00<00:00,  6.98it/s]\u001b[A\n",
            "100%|██████████| 618/618 [00:00<00:00,  6.98it/s, iterations=618/618 Iterations Completed]\u001b[A"
          ]
        },
        {
          "output_type": "stream",
          "name": "stdout",
          "text": [
            "cleaned_data----------------------------------------- True\n",
            "1/1 [==============================] - 0s 12ms/step - loss: 0.3324 - accuracy: 1.0000\n"
          ]
        },
        {
          "output_type": "stream",
          "name": "stderr",
          "text": [
            "WARNING:absl:Found untraced functions such as _update_step_xla while saving (showing 1 of 1). These functions will not be directly callable after loading.\n",
            "100%|█████████▉| 618/619 [00:00<?, ?it/s]\n",
            "100%|██████████| 619/619 [00:00<00:00,  5.49it/s, iterations=619/619 Iterations Completed]"
          ]
        },
        {
          "output_type": "stream",
          "name": "stdout",
          "text": [
            "cleaned_data----------------------------------------- True\n",
            "1/1 [==============================] - 0s 9ms/step - loss: 0.3301 - accuracy: 1.0000\n"
          ]
        },
        {
          "output_type": "stream",
          "name": "stderr",
          "text": [
            "WARNING:absl:Found untraced functions such as _update_step_xla while saving (showing 1 of 1). These functions will not be directly callable after loading.\n",
            "\n",
            "\n",
            "100%|██████████| 620/620 [00:00<00:00,  4.54it/s]\u001b[A\n",
            "100%|██████████| 620/620 [00:00<00:00,  4.54it/s, iterations=620/620 Iterations Completed]\u001b[A"
          ]
        },
        {
          "output_type": "stream",
          "name": "stdout",
          "text": [
            "cleaned_data----------------------------------------- True\n",
            "1/1 [==============================] - 0s 11ms/step - loss: 0.3329 - accuracy: 1.0000\n"
          ]
        },
        {
          "output_type": "stream",
          "name": "stderr",
          "text": [
            "WARNING:absl:Found untraced functions such as _update_step_xla while saving (showing 1 of 1). These functions will not be directly callable after loading.\n",
            "100%|█████████▉| 620/621 [00:00<?, ?it/s]\n",
            "100%|██████████| 621/621 [00:00<00:00,  4.46it/s, iterations=621/621 Iterations Completed]"
          ]
        },
        {
          "output_type": "stream",
          "name": "stdout",
          "text": [
            "cleaned_data----------------------------------------- True\n",
            "1/1 [==============================] - 0s 24ms/step - loss: 0.3320 - accuracy: 1.0000\n"
          ]
        },
        {
          "output_type": "stream",
          "name": "stderr",
          "text": [
            "WARNING:absl:Found untraced functions such as _update_step_xla while saving (showing 1 of 1). These functions will not be directly callable after loading.\n",
            "\n",
            "                                                                                          \n",
            "100%|██████████| 622/622 [00:00<00:00,  6.34it/s]\u001b[A\n",
            "100%|██████████| 622/622 [00:00<00:00,  6.34it/s, iterations=622/622 Iterations Completed]\u001b[A"
          ]
        },
        {
          "output_type": "stream",
          "name": "stdout",
          "text": [
            "cleaned_data----------------------------------------- True\n",
            "1/1 [==============================] - 0s 23ms/step - loss: 0.3648 - accuracy: 1.0000\n"
          ]
        },
        {
          "output_type": "stream",
          "name": "stderr",
          "text": [
            "WARNING:absl:Found untraced functions such as _update_step_xla while saving (showing 1 of 1). These functions will not be directly callable after loading.\n",
            "100%|█████████▉| 622/623 [00:00<?, ?it/s]\n",
            "100%|██████████| 623/623 [00:00<00:00,  6.27it/s, iterations=623/623 Iterations Completed]"
          ]
        },
        {
          "output_type": "stream",
          "name": "stdout",
          "text": [
            "cleaned_data----------------------------------------- True\n",
            "1/1 [==============================] - 0s 14ms/step - loss: 0.4705 - accuracy: 0.9643\n"
          ]
        },
        {
          "output_type": "stream",
          "name": "stderr",
          "text": [
            "WARNING:absl:Found untraced functions such as _update_step_xla while saving (showing 1 of 1). These functions will not be directly callable after loading.\n",
            "\n",
            "                                                                                          \n",
            "100%|██████████| 624/624 [00:00<00:00,  6.39it/s]\u001b[A\n",
            "100%|██████████| 624/624 [00:00<00:00,  6.39it/s, iterations=624/624 Iterations Completed]\u001b[A"
          ]
        },
        {
          "output_type": "stream",
          "name": "stdout",
          "text": [
            "cleaned_data----------------------------------------- True\n",
            "1/1 [==============================] - 0s 14ms/step - loss: 0.4824 - accuracy: 0.8214\n"
          ]
        },
        {
          "output_type": "stream",
          "name": "stderr",
          "text": [
            "WARNING:absl:Found untraced functions such as _update_step_xla while saving (showing 1 of 1). These functions will not be directly callable after loading.\n",
            "100%|█████████▉| 624/625 [00:00<?, ?it/s]\n",
            "100%|██████████| 625/625 [00:00<00:00,  6.69it/s, iterations=625/625 Iterations Completed]"
          ]
        },
        {
          "output_type": "stream",
          "name": "stdout",
          "text": [
            "cleaned_data----------------------------------------- True\n",
            "1/1 [==============================] - 0s 12ms/step - loss: 0.4771 - accuracy: 0.9286\n"
          ]
        },
        {
          "output_type": "stream",
          "name": "stderr",
          "text": [
            "WARNING:absl:Found untraced functions such as _update_step_xla while saving (showing 1 of 1). These functions will not be directly callable after loading.\n",
            "\n",
            "                                                                                          \n",
            "100%|██████████| 626/626 [00:00<00:00,  6.75it/s]\u001b[A\n",
            "100%|██████████| 626/626 [00:00<00:00,  6.75it/s, iterations=626/626 Iterations Completed]\u001b[A"
          ]
        },
        {
          "output_type": "stream",
          "name": "stdout",
          "text": [
            "cleaned_data----------------------------------------- True\n",
            "1/1 [==============================] - 0s 11ms/step - loss: 0.4899 - accuracy: 1.0000\n"
          ]
        },
        {
          "output_type": "stream",
          "name": "stderr",
          "text": [
            "WARNING:absl:Found untraced functions such as _update_step_xla while saving (showing 1 of 1). These functions will not be directly callable after loading.\n",
            "100%|█████████▉| 626/627 [00:00<?, ?it/s]\n",
            "100%|██████████| 627/627 [00:00<00:00,  6.33it/s, iterations=627/627 Iterations Completed]"
          ]
        },
        {
          "output_type": "stream",
          "name": "stdout",
          "text": [
            "cleaned_data----------------------------------------- True\n",
            "1/1 [==============================] - 0s 12ms/step - loss: 0.3643 - accuracy: 1.0000\n"
          ]
        },
        {
          "output_type": "stream",
          "name": "stderr",
          "text": [
            "WARNING:absl:Found untraced functions such as _update_step_xla while saving (showing 1 of 1). These functions will not be directly callable after loading.\n",
            "\n",
            "                                                                                          \n",
            "100%|██████████| 628/628 [00:00<00:00,  6.94it/s]\u001b[A\n",
            "100%|██████████| 628/628 [00:00<00:00,  6.94it/s, iterations=628/628 Iterations Completed]\u001b[A"
          ]
        },
        {
          "output_type": "stream",
          "name": "stdout",
          "text": [
            "cleaned_data----------------------------------------- True\n",
            "1/1 [==============================] - 0s 14ms/step - loss: 0.3536 - accuracy: 1.0000\n"
          ]
        },
        {
          "output_type": "stream",
          "name": "stderr",
          "text": [
            "WARNING:absl:Found untraced functions such as _update_step_xla while saving (showing 1 of 1). These functions will not be directly callable after loading.\n",
            "100%|█████████▉| 628/629 [00:00<?, ?it/s]\n",
            "100%|██████████| 629/629 [00:00<00:00,  6.57it/s, iterations=629/629 Iterations Completed]"
          ]
        },
        {
          "output_type": "stream",
          "name": "stdout",
          "text": [
            "cleaned_data----------------------------------------- True\n",
            "1/1 [==============================] - 0s 12ms/step - loss: 0.3851 - accuracy: 1.0000\n"
          ]
        },
        {
          "output_type": "stream",
          "name": "stderr",
          "text": [
            "WARNING:absl:Found untraced functions such as _update_step_xla while saving (showing 1 of 1). These functions will not be directly callable after loading.\n",
            "\n",
            "                                                                                          \n",
            "100%|██████████| 630/630 [00:00<00:00,  6.77it/s]\u001b[A\n",
            "100%|██████████| 630/630 [00:00<00:00,  6.77it/s, iterations=630/630 Iterations Completed]\u001b[A"
          ]
        },
        {
          "output_type": "stream",
          "name": "stdout",
          "text": [
            "cleaned_data----------------------------------------- True\n",
            "1/1 [==============================] - 0s 23ms/step - loss: 0.4122 - accuracy: 1.0000\n"
          ]
        },
        {
          "output_type": "stream",
          "name": "stderr",
          "text": [
            "WARNING:absl:Found untraced functions such as _update_step_xla while saving (showing 1 of 1). These functions will not be directly callable after loading.\n",
            "100%|█████████▉| 630/631 [00:00<?, ?it/s]\n",
            "100%|██████████| 631/631 [00:00<00:00,  3.58it/s, iterations=631/631 Iterations Completed]"
          ]
        },
        {
          "output_type": "stream",
          "name": "stdout",
          "text": [
            "cleaned_data----------------------------------------- True\n",
            "1/1 [==============================] - 0s 12ms/step - loss: 0.4231 - accuracy: 1.0000\n"
          ]
        },
        {
          "output_type": "stream",
          "name": "stderr",
          "text": [
            "WARNING:absl:Found untraced functions such as _update_step_xla while saving (showing 1 of 1). These functions will not be directly callable after loading.\n",
            "\n",
            "                                                                                          \n",
            "100%|██████████| 632/632 [00:00<00:00,  5.39it/s]\u001b[A\n",
            "100%|██████████| 632/632 [00:00<00:00,  5.39it/s, iterations=632/632 Iterations Completed]\u001b[A"
          ]
        },
        {
          "output_type": "stream",
          "name": "stdout",
          "text": [
            "cleaned_data----------------------------------------- True\n",
            "1/1 [==============================] - 0s 10ms/step - loss: 0.4166 - accuracy: 1.0000\n"
          ]
        },
        {
          "output_type": "stream",
          "name": "stderr",
          "text": [
            "WARNING:absl:Found untraced functions such as _update_step_xla while saving (showing 1 of 1). These functions will not be directly callable after loading.\n",
            "100%|█████████▉| 632/633 [00:00<?, ?it/s]\n",
            "100%|██████████| 633/633 [00:00<00:00,  5.83it/s, iterations=633/633 Iterations Completed]"
          ]
        },
        {
          "output_type": "stream",
          "name": "stdout",
          "text": [
            "cleaned_data----------------------------------------- True\n",
            "1/1 [==============================] - 0s 12ms/step - loss: 0.4139 - accuracy: 1.0000\n"
          ]
        },
        {
          "output_type": "stream",
          "name": "stderr",
          "text": [
            "WARNING:absl:Found untraced functions such as _update_step_xla while saving (showing 1 of 1). These functions will not be directly callable after loading.\n",
            "\n",
            "                                                                                          \n",
            "100%|██████████| 634/634 [00:00<00:00,  6.60it/s]\u001b[A\n",
            "100%|██████████| 634/634 [00:00<00:00,  6.60it/s, iterations=634/634 Iterations Completed]\u001b[A"
          ]
        },
        {
          "output_type": "stream",
          "name": "stdout",
          "text": [
            "cleaned_data----------------------------------------- True\n",
            "1/1 [==============================] - 0s 13ms/step - loss: 0.4589 - accuracy: 1.0000\n"
          ]
        },
        {
          "output_type": "stream",
          "name": "stderr",
          "text": [
            "WARNING:absl:Found untraced functions such as _update_step_xla while saving (showing 1 of 1). These functions will not be directly callable after loading.\n",
            "100%|█████████▉| 634/635 [00:00<?, ?it/s]\n",
            "100%|██████████| 635/635 [00:00<00:00,  6.76it/s, iterations=635/635 Iterations Completed]"
          ]
        },
        {
          "output_type": "stream",
          "name": "stdout",
          "text": [
            "cleaned_data----------------------------------------- True\n",
            "1/1 [==============================] - 0s 12ms/step - loss: 0.4274 - accuracy: 1.0000\n"
          ]
        },
        {
          "output_type": "stream",
          "name": "stderr",
          "text": [
            "WARNING:absl:Found untraced functions such as _update_step_xla while saving (showing 1 of 1). These functions will not be directly callable after loading.\n",
            "\n",
            "                                                                                          \n",
            "100%|██████████| 636/636 [00:00<00:00,  6.76it/s]\u001b[A\n",
            "100%|██████████| 636/636 [00:00<00:00,  6.76it/s, iterations=636/636 Iterations Completed]\u001b[A"
          ]
        },
        {
          "output_type": "stream",
          "name": "stdout",
          "text": [
            "cleaned_data----------------------------------------- True\n",
            "1/1 [==============================] - 0s 10ms/step - loss: 0.4298 - accuracy: 1.0000\n"
          ]
        },
        {
          "output_type": "stream",
          "name": "stderr",
          "text": [
            "WARNING:absl:Found untraced functions such as _update_step_xla while saving (showing 1 of 1). These functions will not be directly callable after loading.\n",
            "100%|█████████▉| 636/637 [00:00<?, ?it/s]\n",
            "100%|██████████| 637/637 [00:00<00:00,  5.58it/s, iterations=637/637 Iterations Completed]"
          ]
        },
        {
          "output_type": "stream",
          "name": "stdout",
          "text": [
            "cleaned_data----------------------------------------- True\n",
            "1/1 [==============================] - 0s 9ms/step - loss: 0.4326 - accuracy: 1.0000\n"
          ]
        },
        {
          "output_type": "stream",
          "name": "stderr",
          "text": [
            "WARNING:absl:Found untraced functions such as _update_step_xla while saving (showing 1 of 1). These functions will not be directly callable after loading.\n",
            "\n",
            "                                                                                          \n",
            "100%|██████████| 638/638 [00:00<00:00,  6.52it/s]\u001b[A\n",
            "100%|██████████| 638/638 [00:00<00:00,  6.52it/s, iterations=638/638 Iterations Completed]\u001b[A"
          ]
        },
        {
          "output_type": "stream",
          "name": "stdout",
          "text": [
            "cleaned_data----------------------------------------- True\n",
            "1/1 [==============================] - 0s 10ms/step - loss: 0.4245 - accuracy: 1.0000\n"
          ]
        },
        {
          "output_type": "stream",
          "name": "stderr",
          "text": [
            "WARNING:absl:Found untraced functions such as _update_step_xla while saving (showing 1 of 1). These functions will not be directly callable after loading.\n",
            "100%|█████████▉| 638/639 [00:00<?, ?it/s]\n",
            "100%|██████████| 639/639 [00:00<00:00,  6.00it/s, iterations=639/639 Iterations Completed]"
          ]
        },
        {
          "output_type": "stream",
          "name": "stdout",
          "text": [
            "cleaned_data----------------------------------------- True\n",
            "1/1 [==============================] - 0s 10ms/step - loss: 0.3998 - accuracy: 1.0000\n"
          ]
        },
        {
          "output_type": "stream",
          "name": "stderr",
          "text": [
            "WARNING:absl:Found untraced functions such as _update_step_xla while saving (showing 1 of 1). These functions will not be directly callable after loading.\n",
            "\n",
            "                                                                                          \n",
            "100%|██████████| 640/640 [00:00<00:00,  6.22it/s]\u001b[A\n",
            "100%|██████████| 640/640 [00:00<00:00,  6.22it/s, iterations=640/640 Iterations Completed]\u001b[A"
          ]
        },
        {
          "output_type": "stream",
          "name": "stdout",
          "text": [
            "cleaned_data----------------------------------------- True\n",
            "1/1 [==============================] - 0s 11ms/step - loss: 0.3804 - accuracy: 1.0000\n"
          ]
        },
        {
          "output_type": "stream",
          "name": "stderr",
          "text": [
            "WARNING:absl:Found untraced functions such as _update_step_xla while saving (showing 1 of 1). These functions will not be directly callable after loading.\n",
            "100%|█████████▉| 640/641 [00:00<?, ?it/s]\n",
            "100%|██████████| 641/641 [00:00<00:00,  5.26it/s, iterations=641/641 Iterations Completed]"
          ]
        },
        {
          "output_type": "stream",
          "name": "stdout",
          "text": [
            "cleaned_data----------------------------------------- True\n",
            "1/1 [==============================] - 0s 26ms/step - loss: 0.3611 - accuracy: 1.0000\n"
          ]
        },
        {
          "output_type": "stream",
          "name": "stderr",
          "text": [
            "WARNING:absl:Found untraced functions such as _update_step_xla while saving (showing 1 of 1). These functions will not be directly callable after loading.\n",
            "\n",
            "\n",
            "100%|██████████| 642/642 [00:00<00:00,  4.13it/s]\u001b[A\n",
            "100%|██████████| 642/642 [00:00<00:00,  4.13it/s, iterations=642/642 Iterations Completed]\u001b[A"
          ]
        },
        {
          "output_type": "stream",
          "name": "stdout",
          "text": [
            "cleaned_data----------------------------------------- True\n",
            "1/1 [==============================] - 0s 19ms/step - loss: 0.3593 - accuracy: 1.0000\n"
          ]
        },
        {
          "output_type": "stream",
          "name": "stderr",
          "text": [
            "WARNING:absl:Found untraced functions such as _update_step_xla while saving (showing 1 of 1). These functions will not be directly callable after loading.\n",
            "100%|█████████▉| 642/643 [00:00<?, ?it/s]\n",
            "100%|██████████| 643/643 [00:00<00:00,  6.04it/s, iterations=643/643 Iterations Completed]"
          ]
        },
        {
          "output_type": "stream",
          "name": "stdout",
          "text": [
            "cleaned_data----------------------------------------- True\n",
            "1/1 [==============================] - 0s 11ms/step - loss: 0.3333 - accuracy: 1.0000\n"
          ]
        },
        {
          "output_type": "stream",
          "name": "stderr",
          "text": [
            "WARNING:absl:Found untraced functions such as _update_step_xla while saving (showing 1 of 1). These functions will not be directly callable after loading.\n",
            "\n",
            "                                                                                          \n",
            "100%|██████████| 644/644 [00:00<00:00,  6.53it/s]\u001b[A\n",
            "100%|██████████| 644/644 [00:00<00:00,  6.53it/s, iterations=644/644 Iterations Completed]\u001b[A"
          ]
        },
        {
          "output_type": "stream",
          "name": "stdout",
          "text": [
            "cleaned_data----------------------------------------- True\n",
            "1/1 [==============================] - 0s 10ms/step - loss: 0.3440 - accuracy: 1.0000\n"
          ]
        },
        {
          "output_type": "stream",
          "name": "stderr",
          "text": [
            "WARNING:absl:Found untraced functions such as _update_step_xla while saving (showing 1 of 1). These functions will not be directly callable after loading.\n",
            "100%|█████████▉| 644/645 [00:00<?, ?it/s]\n",
            "100%|██████████| 645/645 [00:00<00:00,  6.25it/s, iterations=645/645 Iterations Completed]"
          ]
        },
        {
          "output_type": "stream",
          "name": "stdout",
          "text": [
            "cleaned_data----------------------------------------- True\n",
            "1/1 [==============================] - 0s 10ms/step - loss: 0.3494 - accuracy: 1.0000\n"
          ]
        },
        {
          "output_type": "stream",
          "name": "stderr",
          "text": [
            "WARNING:absl:Found untraced functions such as _update_step_xla while saving (showing 1 of 1). These functions will not be directly callable after loading.\n",
            "\n",
            "                                                                                          \n",
            "100%|██████████| 646/646 [00:00<00:00,  6.98it/s]\u001b[A\n",
            "100%|██████████| 646/646 [00:00<00:00,  6.98it/s, iterations=646/646 Iterations Completed]\u001b[A"
          ]
        },
        {
          "output_type": "stream",
          "name": "stdout",
          "text": [
            "cleaned_data----------------------------------------- True\n",
            "1/1 [==============================] - 0s 18ms/step - loss: 0.3812 - accuracy: 1.0000\n"
          ]
        },
        {
          "output_type": "stream",
          "name": "stderr",
          "text": [
            "WARNING:absl:Found untraced functions such as _update_step_xla while saving (showing 1 of 1). These functions will not be directly callable after loading.\n",
            "100%|█████████▉| 646/647 [00:00<?, ?it/s]\n",
            "100%|██████████| 647/647 [00:00<00:00,  6.28it/s, iterations=647/647 Iterations Completed]"
          ]
        },
        {
          "output_type": "stream",
          "name": "stdout",
          "text": [
            "cleaned_data----------------------------------------- True\n",
            "1/1 [==============================] - 0s 10ms/step - loss: 0.3778 - accuracy: 1.0000\n"
          ]
        },
        {
          "output_type": "stream",
          "name": "stderr",
          "text": [
            "WARNING:absl:Found untraced functions such as _update_step_xla while saving (showing 1 of 1). These functions will not be directly callable after loading.\n",
            "\n",
            "                                                                                          \n",
            "100%|██████████| 648/648 [00:00<00:00,  6.55it/s]\u001b[A\n",
            "100%|██████████| 648/648 [00:00<00:00,  6.55it/s, iterations=648/648 Iterations Completed]\u001b[A"
          ]
        },
        {
          "output_type": "stream",
          "name": "stdout",
          "text": [
            "cleaned_data----------------------------------------- True\n",
            "1/1 [==============================] - 0s 11ms/step - loss: 0.3762 - accuracy: 1.0000\n"
          ]
        },
        {
          "output_type": "stream",
          "name": "stderr",
          "text": [
            "WARNING:absl:Found untraced functions such as _update_step_xla while saving (showing 1 of 1). These functions will not be directly callable after loading.\n",
            "100%|█████████▉| 648/649 [00:00<?, ?it/s]\n",
            "100%|██████████| 649/649 [00:00<00:00,  6.24it/s, iterations=649/649 Iterations Completed]"
          ]
        },
        {
          "output_type": "stream",
          "name": "stdout",
          "text": [
            "cleaned_data----------------------------------------- True\n",
            "1/1 [==============================] - 0s 10ms/step - loss: 0.3689 - accuracy: 1.0000\n"
          ]
        },
        {
          "output_type": "stream",
          "name": "stderr",
          "text": [
            "WARNING:absl:Found untraced functions such as _update_step_xla while saving (showing 1 of 1). These functions will not be directly callable after loading.\n",
            "\n",
            "                                                                                          \n",
            "100%|██████████| 650/650 [00:00<00:00,  6.93it/s]\u001b[A\n",
            "100%|██████████| 650/650 [00:00<00:00,  6.93it/s, iterations=650/650 Iterations Completed]\u001b[A"
          ]
        },
        {
          "output_type": "stream",
          "name": "stdout",
          "text": [
            "cleaned_data----------------------------------------- True\n",
            "1/1 [==============================] - 0s 20ms/step - loss: 0.3873 - accuracy: 1.0000\n"
          ]
        },
        {
          "output_type": "stream",
          "name": "stderr",
          "text": [
            "WARNING:absl:Found untraced functions such as _update_step_xla while saving (showing 1 of 1). These functions will not be directly callable after loading.\n",
            "100%|█████████▉| 650/651 [00:00<?, ?it/s]\n",
            "100%|██████████| 651/651 [00:00<00:00,  6.34it/s, iterations=651/651 Iterations Completed]"
          ]
        },
        {
          "output_type": "stream",
          "name": "stdout",
          "text": [
            "cleaned_data----------------------------------------- True\n",
            "1/1 [==============================] - 0s 18ms/step - loss: 0.3519 - accuracy: 1.0000\n"
          ]
        },
        {
          "output_type": "stream",
          "name": "stderr",
          "text": [
            "WARNING:absl:Found untraced functions such as _update_step_xla while saving (showing 1 of 1). These functions will not be directly callable after loading.\n",
            "\n",
            "\n",
            "100%|██████████| 652/652 [00:00<00:00,  5.05it/s]\u001b[A\n",
            "100%|██████████| 652/652 [00:00<00:00,  5.05it/s, iterations=652/652 Iterations Completed]\u001b[A"
          ]
        },
        {
          "output_type": "stream",
          "name": "stdout",
          "text": [
            "cleaned_data----------------------------------------- True\n",
            "1/1 [==============================] - 0s 21ms/step - loss: 0.3491 - accuracy: 1.0000\n"
          ]
        },
        {
          "output_type": "stream",
          "name": "stderr",
          "text": [
            "WARNING:absl:Found untraced functions such as _update_step_xla while saving (showing 1 of 1). These functions will not be directly callable after loading.\n",
            "100%|█████████▉| 652/653 [00:00<?, ?it/s]\n",
            "100%|██████████| 653/653 [00:00<00:00,  4.77it/s, iterations=653/653 Iterations Completed]"
          ]
        },
        {
          "output_type": "stream",
          "name": "stdout",
          "text": [
            "cleaned_data----------------------------------------- True\n",
            "1/1 [==============================] - 0s 12ms/step - loss: 0.3348 - accuracy: 1.0000\n"
          ]
        },
        {
          "output_type": "stream",
          "name": "stderr",
          "text": [
            "WARNING:absl:Found untraced functions such as _update_step_xla while saving (showing 1 of 1). These functions will not be directly callable after loading.\n",
            "\n",
            "\n",
            "100%|██████████| 654/654 [00:00<00:00,  4.81it/s]\u001b[A\n",
            "100%|██████████| 654/654 [00:00<00:00,  4.81it/s, iterations=654/654 Iterations Completed]\u001b[A"
          ]
        },
        {
          "output_type": "stream",
          "name": "stdout",
          "text": [
            "cleaned_data----------------------------------------- True\n",
            "1/1 [==============================] - 0s 17ms/step - loss: 0.3406 - accuracy: 1.0000\n"
          ]
        },
        {
          "output_type": "stream",
          "name": "stderr",
          "text": [
            "WARNING:absl:Found untraced functions such as _update_step_xla while saving (showing 1 of 1). These functions will not be directly callable after loading.\n",
            "100%|█████████▉| 654/655 [00:00<?, ?it/s]\n",
            "100%|██████████| 655/655 [00:00<00:00,  5.76it/s, iterations=655/655 Iterations Completed]"
          ]
        },
        {
          "output_type": "stream",
          "name": "stdout",
          "text": [
            "cleaned_data----------------------------------------- True\n",
            "1/1 [==============================] - 0s 15ms/step - loss: 0.3464 - accuracy: 1.0000\n"
          ]
        },
        {
          "output_type": "stream",
          "name": "stderr",
          "text": [
            "WARNING:absl:Found untraced functions such as _update_step_xla while saving (showing 1 of 1). These functions will not be directly callable after loading.\n",
            "\n",
            "                                                                                          \n",
            "100%|██████████| 656/656 [00:00<00:00,  5.71it/s]\u001b[A\n",
            "100%|██████████| 656/656 [00:00<00:00,  5.71it/s, iterations=656/656 Iterations Completed]\u001b[A"
          ]
        },
        {
          "output_type": "stream",
          "name": "stdout",
          "text": [
            "cleaned_data----------------------------------------- True\n",
            "1/1 [==============================] - 0s 10ms/step - loss: 0.3541 - accuracy: 1.0000\n"
          ]
        },
        {
          "output_type": "stream",
          "name": "stderr",
          "text": [
            "WARNING:absl:Found untraced functions such as _update_step_xla while saving (showing 1 of 1). These functions will not be directly callable after loading.\n",
            "100%|█████████▉| 656/657 [00:00<?, ?it/s]\n",
            "100%|██████████| 657/657 [00:00<00:00,  6.13it/s, iterations=657/657 Iterations Completed]"
          ]
        },
        {
          "output_type": "stream",
          "name": "stdout",
          "text": [
            "cleaned_data----------------------------------------- True\n",
            "1/1 [==============================] - 0s 9ms/step - loss: 0.3707 - accuracy: 1.0000\n"
          ]
        },
        {
          "output_type": "stream",
          "name": "stderr",
          "text": [
            "WARNING:absl:Found untraced functions such as _update_step_xla while saving (showing 1 of 1). These functions will not be directly callable after loading.\n",
            "\n",
            "                                                                                          \n",
            "100%|██████████| 658/658 [00:00<00:00,  6.19it/s]\u001b[A\n",
            "100%|██████████| 658/658 [00:00<00:00,  6.19it/s, iterations=658/658 Iterations Completed]\u001b[A"
          ]
        },
        {
          "output_type": "stream",
          "name": "stdout",
          "text": [
            "cleaned_data----------------------------------------- True\n",
            "1/1 [==============================] - 0s 16ms/step - loss: 0.3513 - accuracy: 1.0000\n"
          ]
        },
        {
          "output_type": "stream",
          "name": "stderr",
          "text": [
            "WARNING:absl:Found untraced functions such as _update_step_xla while saving (showing 1 of 1). These functions will not be directly callable after loading.\n",
            "100%|█████████▉| 658/659 [00:00<?, ?it/s]\n",
            "100%|██████████| 659/659 [00:00<00:00,  6.53it/s, iterations=659/659 Iterations Completed]"
          ]
        },
        {
          "output_type": "stream",
          "name": "stdout",
          "text": [
            "cleaned_data----------------------------------------- True\n",
            "1/1 [==============================] - 0s 10ms/step - loss: 0.3602 - accuracy: 1.0000\n"
          ]
        },
        {
          "output_type": "stream",
          "name": "stderr",
          "text": [
            "WARNING:absl:Found untraced functions such as _update_step_xla while saving (showing 1 of 1). These functions will not be directly callable after loading.\n",
            "\n",
            "                                                                                          \n",
            "100%|██████████| 660/660 [00:00<00:00,  6.82it/s]\u001b[A\n",
            "100%|██████████| 660/660 [00:00<00:00,  6.82it/s, iterations=660/660 Iterations Completed]\u001b[A"
          ]
        },
        {
          "output_type": "stream",
          "name": "stdout",
          "text": [
            "cleaned_data----------------------------------------- True\n",
            "1/1 [==============================] - 0s 14ms/step - loss: 0.3630 - accuracy: 1.0000\n"
          ]
        },
        {
          "output_type": "stream",
          "name": "stderr",
          "text": [
            "WARNING:absl:Found untraced functions such as _update_step_xla while saving (showing 1 of 1). These functions will not be directly callable after loading.\n",
            "100%|█████████▉| 660/661 [00:00<?, ?it/s]\n",
            "100%|██████████| 661/661 [00:00<00:00,  6.69it/s, iterations=661/661 Iterations Completed]"
          ]
        },
        {
          "output_type": "stream",
          "name": "stdout",
          "text": [
            "cleaned_data----------------------------------------- True\n",
            "1/1 [==============================] - 0s 9ms/step - loss: 0.3595 - accuracy: 1.0000\n"
          ]
        },
        {
          "output_type": "stream",
          "name": "stderr",
          "text": [
            "WARNING:absl:Found untraced functions such as _update_step_xla while saving (showing 1 of 1). These functions will not be directly callable after loading.\n",
            "\n",
            "                                                                                          \n",
            "100%|██████████| 662/662 [00:00<00:00,  6.33it/s]\u001b[A\n",
            "100%|██████████| 662/662 [00:00<00:00,  6.33it/s, iterations=662/662 Iterations Completed]\u001b[A"
          ]
        },
        {
          "output_type": "stream",
          "name": "stdout",
          "text": [
            "cleaned_data----------------------------------------- True\n",
            "1/1 [==============================] - 0s 17ms/step - loss: 0.3620 - accuracy: 1.0000\n"
          ]
        },
        {
          "output_type": "stream",
          "name": "stderr",
          "text": [
            "WARNING:absl:Found untraced functions such as _update_step_xla while saving (showing 1 of 1). These functions will not be directly callable after loading.\n",
            "100%|█████████▉| 662/663 [00:00<?, ?it/s]\n",
            "100%|██████████| 663/663 [00:00<00:00,  4.91it/s, iterations=663/663 Iterations Completed]"
          ]
        },
        {
          "output_type": "stream",
          "name": "stdout",
          "text": [
            "cleaned_data----------------------------------------- True\n",
            "1/1 [==============================] - 0s 12ms/step - loss: 0.3478 - accuracy: 1.0000\n"
          ]
        },
        {
          "output_type": "stream",
          "name": "stderr",
          "text": [
            "WARNING:absl:Found untraced functions such as _update_step_xla while saving (showing 1 of 1). These functions will not be directly callable after loading.\n",
            "\n",
            "\n",
            "100%|██████████| 664/664 [00:00<00:00,  4.24it/s]\u001b[A\n",
            "100%|██████████| 664/664 [00:00<00:00,  4.24it/s, iterations=664/664 Iterations Completed]\u001b[A"
          ]
        },
        {
          "output_type": "stream",
          "name": "stdout",
          "text": [
            "cleaned_data----------------------------------------- True\n",
            "1/1 [==============================] - 0s 16ms/step - loss: 0.3416 - accuracy: 1.0000\n"
          ]
        },
        {
          "output_type": "stream",
          "name": "stderr",
          "text": [
            "WARNING:absl:Found untraced functions such as _update_step_xla while saving (showing 1 of 1). These functions will not be directly callable after loading.\n",
            "100%|█████████▉| 664/665 [00:00<?, ?it/s]\n",
            "100%|██████████| 665/665 [00:00<00:00,  5.91it/s, iterations=665/665 Iterations Completed]"
          ]
        },
        {
          "output_type": "stream",
          "name": "stdout",
          "text": [
            "cleaned_data----------------------------------------- True\n",
            "1/1 [==============================] - 0s 10ms/step - loss: 0.3462 - accuracy: 1.0000\n"
          ]
        },
        {
          "output_type": "stream",
          "name": "stderr",
          "text": [
            "WARNING:absl:Found untraced functions such as _update_step_xla while saving (showing 1 of 1). These functions will not be directly callable after loading.\n",
            "\n",
            "                                                                                          \n",
            "100%|██████████| 666/666 [00:00<00:00,  6.39it/s]\u001b[A\n",
            "100%|██████████| 666/666 [00:00<00:00,  6.39it/s, iterations=666/666 Iterations Completed]\u001b[A"
          ]
        },
        {
          "output_type": "stream",
          "name": "stdout",
          "text": [
            "cleaned_data----------------------------------------- True\n",
            "1/1 [==============================] - 0s 11ms/step - loss: 0.3331 - accuracy: 1.0000\n"
          ]
        },
        {
          "output_type": "stream",
          "name": "stderr",
          "text": [
            "WARNING:absl:Found untraced functions such as _update_step_xla while saving (showing 1 of 1). These functions will not be directly callable after loading.\n",
            "100%|█████████▉| 666/667 [00:00<?, ?it/s]\n",
            "100%|██████████| 667/667 [00:00<00:00,  6.16it/s, iterations=667/667 Iterations Completed]"
          ]
        },
        {
          "output_type": "stream",
          "name": "stdout",
          "text": [
            "cleaned_data----------------------------------------- True\n",
            "1/1 [==============================] - 0s 10ms/step - loss: 0.3314 - accuracy: 1.0000\n"
          ]
        },
        {
          "output_type": "stream",
          "name": "stderr",
          "text": [
            "WARNING:absl:Found untraced functions such as _update_step_xla while saving (showing 1 of 1). These functions will not be directly callable after loading.\n",
            "\n",
            "                                                                                          \n",
            "100%|██████████| 668/668 [00:00<00:00,  5.81it/s]\u001b[A\n",
            "100%|██████████| 668/668 [00:00<00:00,  5.81it/s, iterations=668/668 Iterations Completed]\u001b[A"
          ]
        },
        {
          "output_type": "stream",
          "name": "stdout",
          "text": [
            "cleaned_data----------------------------------------- True\n",
            "1/1 [==============================] - 0s 13ms/step - loss: 0.3725 - accuracy: 1.0000\n"
          ]
        },
        {
          "output_type": "stream",
          "name": "stderr",
          "text": [
            "WARNING:absl:Found untraced functions such as _update_step_xla while saving (showing 1 of 1). These functions will not be directly callable after loading.\n",
            "100%|█████████▉| 668/669 [00:00<?, ?it/s]\n",
            "100%|██████████| 669/669 [00:00<00:00,  6.23it/s, iterations=669/669 Iterations Completed]"
          ]
        },
        {
          "output_type": "stream",
          "name": "stdout",
          "text": [
            "cleaned_data----------------------------------------- True\n",
            "1/1 [==============================] - 0s 10ms/step - loss: 0.3752 - accuracy: 1.0000\n"
          ]
        },
        {
          "output_type": "stream",
          "name": "stderr",
          "text": [
            "WARNING:absl:Found untraced functions such as _update_step_xla while saving (showing 1 of 1). These functions will not be directly callable after loading.\n",
            "\n",
            "                                                                                          \n",
            "100%|██████████| 670/670 [00:00<00:00,  6.58it/s]\u001b[A\n",
            "100%|██████████| 670/670 [00:00<00:00,  6.58it/s, iterations=670/670 Iterations Completed]\u001b[A"
          ]
        },
        {
          "output_type": "stream",
          "name": "stdout",
          "text": [
            "cleaned_data----------------------------------------- True\n",
            "1/1 [==============================] - 0s 11ms/step - loss: 0.3512 - accuracy: 1.0000\n"
          ]
        },
        {
          "output_type": "stream",
          "name": "stderr",
          "text": [
            "WARNING:absl:Found untraced functions such as _update_step_xla while saving (showing 1 of 1). These functions will not be directly callable after loading.\n",
            "100%|█████████▉| 670/671 [00:00<?, ?it/s]\n",
            "100%|██████████| 671/671 [00:00<00:00,  6.48it/s, iterations=671/671 Iterations Completed]"
          ]
        },
        {
          "output_type": "stream",
          "name": "stdout",
          "text": [
            "cleaned_data----------------------------------------- True\n",
            "1/1 [==============================] - 0s 10ms/step - loss: 0.3620 - accuracy: 1.0000\n"
          ]
        },
        {
          "output_type": "stream",
          "name": "stderr",
          "text": [
            "WARNING:absl:Found untraced functions such as _update_step_xla while saving (showing 1 of 1). These functions will not be directly callable after loading.\n",
            "\n",
            "                                                                                          \n",
            "100%|██████████| 672/672 [00:00<00:00,  6.85it/s]\u001b[A\n",
            "100%|██████████| 672/672 [00:00<00:00,  6.85it/s, iterations=672/672 Iterations Completed]\u001b[A"
          ]
        },
        {
          "output_type": "stream",
          "name": "stdout",
          "text": [
            "cleaned_data----------------------------------------- True\n",
            "1/1 [==============================] - 0s 15ms/step - loss: 0.3508 - accuracy: 1.0000\n"
          ]
        },
        {
          "output_type": "stream",
          "name": "stderr",
          "text": [
            "WARNING:absl:Found untraced functions such as _update_step_xla while saving (showing 1 of 1). These functions will not be directly callable after loading.\n",
            "100%|█████████▉| 672/673 [00:00<?, ?it/s]\n",
            "100%|██████████| 673/673 [00:00<00:00,  5.25it/s, iterations=673/673 Iterations Completed]"
          ]
        },
        {
          "output_type": "stream",
          "name": "stdout",
          "text": [
            "cleaned_data----------------------------------------- True\n",
            "1/1 [==============================] - 0s 20ms/step - loss: 0.3297 - accuracy: 1.0000\n"
          ]
        },
        {
          "output_type": "stream",
          "name": "stderr",
          "text": [
            "WARNING:absl:Found untraced functions such as _update_step_xla while saving (showing 1 of 1). These functions will not be directly callable after loading.\n",
            "\n",
            "\n",
            "100%|██████████| 674/674 [00:00<00:00,  4.67it/s]\u001b[A\n",
            "100%|██████████| 674/674 [00:00<00:00,  4.67it/s, iterations=674/674 Iterations Completed]\u001b[A"
          ]
        },
        {
          "output_type": "stream",
          "name": "stdout",
          "text": [
            "cleaned_data----------------------------------------- True\n",
            "1/1 [==============================] - 0s 28ms/step - loss: 0.3335 - accuracy: 1.0000\n"
          ]
        },
        {
          "output_type": "stream",
          "name": "stderr",
          "text": [
            "WARNING:absl:Found untraced functions such as _update_step_xla while saving (showing 1 of 1). These functions will not be directly callable after loading.\n",
            "100%|█████████▉| 674/675 [00:00<?, ?it/s]\n",
            "100%|██████████| 675/675 [00:00<00:00,  4.21it/s, iterations=675/675 Iterations Completed]"
          ]
        },
        {
          "output_type": "stream",
          "name": "stdout",
          "text": [
            "cleaned_data----------------------------------------- True\n",
            "1/1 [==============================] - 0s 20ms/step - loss: 0.3333 - accuracy: 1.0000\n"
          ]
        },
        {
          "output_type": "stream",
          "name": "stderr",
          "text": [
            "WARNING:absl:Found untraced functions such as _update_step_xla while saving (showing 1 of 1). These functions will not be directly callable after loading.\n",
            "\n",
            "                                                                                          \n",
            "100%|██████████| 676/676 [00:00<00:00,  6.32it/s]\u001b[A\n",
            "100%|██████████| 676/676 [00:00<00:00,  6.32it/s, iterations=676/676 Iterations Completed]\u001b[A"
          ]
        },
        {
          "output_type": "stream",
          "name": "stdout",
          "text": [
            "cleaned_data----------------------------------------- True\n",
            "1/1 [==============================] - 0s 19ms/step - loss: 0.3336 - accuracy: 1.0000\n"
          ]
        },
        {
          "output_type": "stream",
          "name": "stderr",
          "text": [
            "WARNING:absl:Found untraced functions such as _update_step_xla while saving (showing 1 of 1). These functions will not be directly callable after loading.\n",
            "100%|█████████▉| 676/677 [00:00<?, ?it/s]\n",
            "100%|██████████| 677/677 [00:00<00:00,  6.30it/s, iterations=677/677 Iterations Completed]"
          ]
        },
        {
          "output_type": "stream",
          "name": "stdout",
          "text": [
            "cleaned_data----------------------------------------- True\n",
            "1/1 [==============================] - 0s 10ms/step - loss: 0.3304 - accuracy: 1.0000\n"
          ]
        },
        {
          "output_type": "stream",
          "name": "stderr",
          "text": [
            "WARNING:absl:Found untraced functions such as _update_step_xla while saving (showing 1 of 1). These functions will not be directly callable after loading.\n",
            "\n",
            "                                                                                          \n",
            "100%|██████████| 678/678 [00:00<00:00,  6.51it/s]\u001b[A\n",
            "100%|██████████| 678/678 [00:00<00:00,  6.51it/s, iterations=678/678 Iterations Completed]\u001b[A"
          ]
        },
        {
          "output_type": "stream",
          "name": "stdout",
          "text": [
            "cleaned_data----------------------------------------- True\n",
            "1/1 [==============================] - 0s 27ms/step - loss: 0.3297 - accuracy: 1.0000\n"
          ]
        },
        {
          "output_type": "stream",
          "name": "stderr",
          "text": [
            "WARNING:absl:Found untraced functions such as _update_step_xla while saving (showing 1 of 1). These functions will not be directly callable after loading.\n",
            "100%|█████████▉| 678/679 [00:00<?, ?it/s]\n",
            "100%|██████████| 679/679 [00:00<00:00,  5.71it/s, iterations=679/679 Iterations Completed]"
          ]
        },
        {
          "output_type": "stream",
          "name": "stdout",
          "text": [
            "cleaned_data----------------------------------------- True\n",
            "1/1 [==============================] - 0s 9ms/step - loss: 0.3335 - accuracy: 1.0000\n"
          ]
        },
        {
          "output_type": "stream",
          "name": "stderr",
          "text": [
            "WARNING:absl:Found untraced functions such as _update_step_xla while saving (showing 1 of 1). These functions will not be directly callable after loading.\n",
            "\n",
            "                                                                                          \n",
            "100%|██████████| 680/680 [00:00<00:00,  6.12it/s]\u001b[A\n",
            "100%|██████████| 680/680 [00:00<00:00,  6.12it/s, iterations=680/680 Iterations Completed]\u001b[A"
          ]
        },
        {
          "output_type": "stream",
          "name": "stdout",
          "text": [
            "cleaned_data----------------------------------------- True\n",
            "1/1 [==============================] - 0s 10ms/step - loss: 0.3495 - accuracy: 1.0000\n"
          ]
        },
        {
          "output_type": "stream",
          "name": "stderr",
          "text": [
            "WARNING:absl:Found untraced functions such as _update_step_xla while saving (showing 1 of 1). These functions will not be directly callable after loading.\n",
            "100%|█████████▉| 680/681 [00:00<?, ?it/s]\n",
            "100%|██████████| 681/681 [00:00<00:00,  6.22it/s, iterations=681/681 Iterations Completed]"
          ]
        },
        {
          "output_type": "stream",
          "name": "stdout",
          "text": [
            "cleaned_data----------------------------------------- True\n",
            "1/1 [==============================] - 0s 15ms/step - loss: 0.3514 - accuracy: 1.0000\n"
          ]
        },
        {
          "output_type": "stream",
          "name": "stderr",
          "text": [
            "WARNING:absl:Found untraced functions such as _update_step_xla while saving (showing 1 of 1). These functions will not be directly callable after loading.\n",
            "\n",
            "                                                                                          \n",
            "100%|██████████| 682/682 [00:00<00:00,  6.40it/s]\u001b[A\n",
            "100%|██████████| 682/682 [00:00<00:00,  6.40it/s, iterations=682/682 Iterations Completed]\u001b[A"
          ]
        },
        {
          "output_type": "stream",
          "name": "stdout",
          "text": [
            "cleaned_data----------------------------------------- True\n",
            "1/1 [==============================] - 0s 10ms/step - loss: 0.3450 - accuracy: 1.0000\n"
          ]
        },
        {
          "output_type": "stream",
          "name": "stderr",
          "text": [
            "WARNING:absl:Found untraced functions such as _update_step_xla while saving (showing 1 of 1). These functions will not be directly callable after loading.\n",
            "100%|█████████▉| 682/683 [00:00<?, ?it/s]\n",
            "100%|██████████| 683/683 [00:00<00:00,  6.17it/s, iterations=683/683 Iterations Completed]"
          ]
        },
        {
          "output_type": "stream",
          "name": "stdout",
          "text": [
            "cleaned_data----------------------------------------- True\n",
            "1/1 [==============================] - 0s 10ms/step - loss: 0.3376 - accuracy: 1.0000\n"
          ]
        },
        {
          "output_type": "stream",
          "name": "stderr",
          "text": [
            "WARNING:absl:Found untraced functions such as _update_step_xla while saving (showing 1 of 1). These functions will not be directly callable after loading.\n",
            "\n",
            "                                                                                          \n",
            "100%|██████████| 684/684 [00:00<00:00,  5.71it/s]\u001b[A\n",
            "100%|██████████| 684/684 [00:00<00:00,  5.71it/s, iterations=684/684 Iterations Completed]\u001b[A"
          ]
        },
        {
          "output_type": "stream",
          "name": "stdout",
          "text": [
            "cleaned_data----------------------------------------- True\n",
            "1/1 [==============================] - 0s 26ms/step - loss: 0.3528 - accuracy: 1.0000\n"
          ]
        },
        {
          "output_type": "stream",
          "name": "stderr",
          "text": [
            "WARNING:absl:Found untraced functions such as _update_step_xla while saving (showing 1 of 1). These functions will not be directly callable after loading.\n",
            "100%|█████████▉| 684/685 [00:00<?, ?it/s]\n",
            "100%|██████████| 685/685 [00:00<00:00,  5.18it/s, iterations=685/685 Iterations Completed]"
          ]
        },
        {
          "output_type": "stream",
          "name": "stdout",
          "text": [
            "cleaned_data----------------------------------------- True\n",
            "1/1 [==============================] - 0s 12ms/step - loss: 0.3406 - accuracy: 1.0000\n"
          ]
        },
        {
          "output_type": "stream",
          "name": "stderr",
          "text": [
            "WARNING:absl:Found untraced functions such as _update_step_xla while saving (showing 1 of 1). These functions will not be directly callable after loading.\n",
            "\n",
            "\n",
            "100%|██████████| 686/686 [00:00<00:00,  4.60it/s]\u001b[A\n",
            "100%|██████████| 686/686 [00:00<00:00,  4.60it/s, iterations=686/686 Iterations Completed]\u001b[A"
          ]
        },
        {
          "output_type": "stream",
          "name": "stdout",
          "text": [
            "cleaned_data----------------------------------------- True\n",
            "1/1 [==============================] - 0s 19ms/step - loss: 0.3434 - accuracy: 1.0000\n"
          ]
        },
        {
          "output_type": "stream",
          "name": "stderr",
          "text": [
            "WARNING:absl:Found untraced functions such as _update_step_xla while saving (showing 1 of 1). These functions will not be directly callable after loading.\n",
            "100%|█████████▉| 686/687 [00:00<?, ?it/s]\n",
            "100%|██████████| 687/687 [00:00<00:00,  5.66it/s, iterations=687/687 Iterations Completed]"
          ]
        },
        {
          "output_type": "stream",
          "name": "stdout",
          "text": [
            "cleaned_data----------------------------------------- True\n",
            "1/1 [==============================] - 0s 10ms/step - loss: 0.3412 - accuracy: 1.0000\n"
          ]
        },
        {
          "output_type": "stream",
          "name": "stderr",
          "text": [
            "WARNING:absl:Found untraced functions such as _update_step_xla while saving (showing 1 of 1). These functions will not be directly callable after loading.\n",
            "\n",
            "                                                                                          \n",
            "100%|██████████| 688/688 [00:00<00:00,  6.22it/s]\u001b[A\n",
            "100%|██████████| 688/688 [00:00<00:00,  6.22it/s, iterations=688/688 Iterations Completed]\u001b[A"
          ]
        },
        {
          "output_type": "stream",
          "name": "stdout",
          "text": [
            "cleaned_data----------------------------------------- True\n",
            "1/1 [==============================] - 0s 16ms/step - loss: 0.3351 - accuracy: 1.0000\n"
          ]
        },
        {
          "output_type": "stream",
          "name": "stderr",
          "text": [
            "WARNING:absl:Found untraced functions such as _update_step_xla while saving (showing 1 of 1). These functions will not be directly callable after loading.\n",
            "100%|█████████▉| 688/689 [00:00<?, ?it/s]\n",
            "100%|██████████| 689/689 [00:00<00:00,  6.73it/s, iterations=689/689 Iterations Completed]"
          ]
        },
        {
          "output_type": "stream",
          "name": "stdout",
          "text": [
            "cleaned_data----------------------------------------- True\n",
            "1/1 [==============================] - 0s 9ms/step - loss: 0.3399 - accuracy: 1.0000\n"
          ]
        },
        {
          "output_type": "stream",
          "name": "stderr",
          "text": [
            "WARNING:absl:Found untraced functions such as _update_step_xla while saving (showing 1 of 1). These functions will not be directly callable after loading.\n",
            "\n",
            "                                                                                          \n",
            "100%|██████████| 690/690 [00:00<00:00,  6.58it/s]\u001b[A\n",
            "100%|██████████| 690/690 [00:00<00:00,  6.58it/s, iterations=690/690 Iterations Completed]\u001b[A"
          ]
        },
        {
          "output_type": "stream",
          "name": "stdout",
          "text": [
            "cleaned_data----------------------------------------- True\n",
            "1/1 [==============================] - 0s 10ms/step - loss: 0.3372 - accuracy: 1.0000\n"
          ]
        },
        {
          "output_type": "stream",
          "name": "stderr",
          "text": [
            "WARNING:absl:Found untraced functions such as _update_step_xla while saving (showing 1 of 1). These functions will not be directly callable after loading.\n",
            "100%|█████████▉| 690/691 [00:00<?, ?it/s]\n",
            "100%|██████████| 691/691 [00:00<00:00,  5.10it/s, iterations=691/691 Iterations Completed]"
          ]
        },
        {
          "output_type": "stream",
          "name": "stdout",
          "text": [
            "cleaned_data----------------------------------------- True\n",
            "1/1 [==============================] - 0s 10ms/step - loss: 0.3394 - accuracy: 1.0000\n"
          ]
        },
        {
          "output_type": "stream",
          "name": "stderr",
          "text": [
            "WARNING:absl:Found untraced functions such as _update_step_xla while saving (showing 1 of 1). These functions will not be directly callable after loading.\n",
            "\n",
            "                                                                                          \n",
            "100%|██████████| 692/692 [00:00<00:00,  6.33it/s]\u001b[A\n",
            "100%|██████████| 692/692 [00:00<00:00,  6.33it/s, iterations=692/692 Iterations Completed]\u001b[A"
          ]
        },
        {
          "output_type": "stream",
          "name": "stdout",
          "text": [
            "cleaned_data----------------------------------------- True\n",
            "1/1 [==============================] - 0s 9ms/step - loss: 0.3302 - accuracy: 1.0000\n"
          ]
        },
        {
          "output_type": "stream",
          "name": "stderr",
          "text": [
            "WARNING:absl:Found untraced functions such as _update_step_xla while saving (showing 1 of 1). These functions will not be directly callable after loading.\n",
            "100%|█████████▉| 692/693 [00:00<?, ?it/s]\n",
            "100%|██████████| 693/693 [00:00<00:00,  6.16it/s, iterations=693/693 Iterations Completed]"
          ]
        },
        {
          "output_type": "stream",
          "name": "stdout",
          "text": [
            "cleaned_data----------------------------------------- True\n",
            "1/1 [==============================] - 0s 8ms/step - loss: 0.3508 - accuracy: 1.0000\n"
          ]
        },
        {
          "output_type": "stream",
          "name": "stderr",
          "text": [
            "WARNING:absl:Found untraced functions such as _update_step_xla while saving (showing 1 of 1). These functions will not be directly callable after loading.\n",
            "\n",
            "                                                                                          \n",
            "100%|██████████| 694/694 [00:00<00:00,  6.51it/s]\u001b[A\n",
            "100%|██████████| 694/694 [00:00<00:00,  6.51it/s, iterations=694/694 Iterations Completed]\u001b[A"
          ]
        },
        {
          "output_type": "stream",
          "name": "stdout",
          "text": [
            "cleaned_data----------------------------------------- True\n",
            "1/1 [==============================] - 0s 11ms/step - loss: 0.3510 - accuracy: 1.0000\n"
          ]
        },
        {
          "output_type": "stream",
          "name": "stderr",
          "text": [
            "WARNING:absl:Found untraced functions such as _update_step_xla while saving (showing 1 of 1). These functions will not be directly callable after loading.\n",
            "100%|█████████▉| 694/695 [00:00<?, ?it/s]\n",
            "100%|██████████| 695/695 [00:00<00:00,  4.85it/s, iterations=695/695 Iterations Completed]"
          ]
        },
        {
          "output_type": "stream",
          "name": "stdout",
          "text": [
            "cleaned_data----------------------------------------- True\n",
            "1/1 [==============================] - 0s 11ms/step - loss: 0.3932 - accuracy: 1.0000\n"
          ]
        },
        {
          "output_type": "stream",
          "name": "stderr",
          "text": [
            "WARNING:absl:Found untraced functions such as _update_step_xla while saving (showing 1 of 1). These functions will not be directly callable after loading.\n",
            "\n",
            "\n",
            "100%|██████████| 696/696 [00:00<00:00,  4.68it/s]\u001b[A\n",
            "100%|██████████| 696/696 [00:00<00:00,  4.68it/s, iterations=696/696 Iterations Completed]\u001b[A"
          ]
        },
        {
          "output_type": "stream",
          "name": "stdout",
          "text": [
            "cleaned_data----------------------------------------- True\n",
            "1/1 [==============================] - 0s 21ms/step - loss: 0.4353 - accuracy: 0.9643\n"
          ]
        },
        {
          "output_type": "stream",
          "name": "stderr",
          "text": [
            "WARNING:absl:Found untraced functions such as _update_step_xla while saving (showing 1 of 1). These functions will not be directly callable after loading.\n",
            "100%|█████████▉| 696/697 [00:00<?, ?it/s]\n",
            "100%|██████████| 697/697 [00:00<00:00,  5.96it/s, iterations=697/697 Iterations Completed]"
          ]
        },
        {
          "output_type": "stream",
          "name": "stdout",
          "text": [
            "cleaned_data----------------------------------------- True\n",
            "1/1 [==============================] - 0s 12ms/step - loss: 0.5167 - accuracy: 0.9286\n"
          ]
        },
        {
          "output_type": "stream",
          "name": "stderr",
          "text": [
            "WARNING:absl:Found untraced functions such as _update_step_xla while saving (showing 1 of 1). These functions will not be directly callable after loading.\n",
            "\n",
            "                                                                                          \n",
            "100%|██████████| 698/698 [00:00<00:00,  6.19it/s]\u001b[A\n",
            "100%|██████████| 698/698 [00:00<00:00,  6.19it/s, iterations=698/698 Iterations Completed]\u001b[A"
          ]
        },
        {
          "output_type": "stream",
          "name": "stdout",
          "text": [
            "cleaned_data----------------------------------------- True\n",
            "1/1 [==============================] - 0s 15ms/step - loss: 0.4454 - accuracy: 0.9286\n"
          ]
        },
        {
          "output_type": "stream",
          "name": "stderr",
          "text": [
            "WARNING:absl:Found untraced functions such as _update_step_xla while saving (showing 1 of 1). These functions will not be directly callable after loading.\n",
            "100%|█████████▉| 698/699 [00:00<?, ?it/s]\n",
            "100%|██████████| 699/699 [00:00<00:00,  6.33it/s, iterations=699/699 Iterations Completed]"
          ]
        },
        {
          "output_type": "stream",
          "name": "stdout",
          "text": [
            "cleaned_data----------------------------------------- True\n",
            "1/1 [==============================] - 0s 15ms/step - loss: 0.4208 - accuracy: 1.0000\n"
          ]
        },
        {
          "output_type": "stream",
          "name": "stderr",
          "text": [
            "WARNING:absl:Found untraced functions such as _update_step_xla while saving (showing 1 of 1). These functions will not be directly callable after loading.\n",
            "\n",
            "                                                                                          \n",
            "100%|██████████| 700/700 [00:00<00:00,  6.78it/s]\u001b[A\n",
            "100%|██████████| 700/700 [00:00<00:00,  6.78it/s, iterations=700/700 Iterations Completed]\u001b[A"
          ]
        },
        {
          "output_type": "stream",
          "name": "stdout",
          "text": [
            "cleaned_data----------------------------------------- True\n",
            "1/1 [==============================] - 0s 11ms/step - loss: 0.3690 - accuracy: 1.0000\n"
          ]
        },
        {
          "output_type": "stream",
          "name": "stderr",
          "text": [
            "WARNING:absl:Found untraced functions such as _update_step_xla while saving (showing 1 of 1). These functions will not be directly callable after loading.\n",
            "100%|█████████▉| 700/701 [00:00<?, ?it/s]\n",
            "100%|██████████| 701/701 [00:00<00:00,  6.13it/s, iterations=701/701 Iterations Completed]"
          ]
        },
        {
          "output_type": "stream",
          "name": "stdout",
          "text": [
            "cleaned_data----------------------------------------- True\n",
            "1/1 [==============================] - 0s 10ms/step - loss: 0.3448 - accuracy: 1.0000\n"
          ]
        },
        {
          "output_type": "stream",
          "name": "stderr",
          "text": [
            "WARNING:absl:Found untraced functions such as _update_step_xla while saving (showing 1 of 1). These functions will not be directly callable after loading.\n",
            "\n",
            "                                                                                          \n",
            "100%|██████████| 702/702 [00:00<00:00,  6.61it/s]\u001b[A\n",
            "100%|██████████| 702/702 [00:00<00:00,  6.61it/s, iterations=702/702 Iterations Completed]\u001b[A"
          ]
        },
        {
          "output_type": "stream",
          "name": "stdout",
          "text": [
            "cleaned_data----------------------------------------- True\n",
            "1/1 [==============================] - 0s 13ms/step - loss: 0.3355 - accuracy: 1.0000\n"
          ]
        },
        {
          "output_type": "stream",
          "name": "stderr",
          "text": [
            "WARNING:absl:Found untraced functions such as _update_step_xla while saving (showing 1 of 1). These functions will not be directly callable after loading.\n",
            "100%|█████████▉| 702/703 [00:00<?, ?it/s]\n",
            "100%|██████████| 703/703 [00:00<00:00,  5.83it/s, iterations=703/703 Iterations Completed]"
          ]
        },
        {
          "output_type": "stream",
          "name": "stdout",
          "text": [
            "cleaned_data----------------------------------------- True\n",
            "1/1 [==============================] - 0s 9ms/step - loss: 0.3952 - accuracy: 1.0000\n"
          ]
        },
        {
          "output_type": "stream",
          "name": "stderr",
          "text": [
            "WARNING:absl:Found untraced functions such as _update_step_xla while saving (showing 1 of 1). These functions will not be directly callable after loading.\n",
            "\n",
            "                                                                                          \n",
            "100%|██████████| 704/704 [00:00<00:00,  6.33it/s]\u001b[A\n",
            "100%|██████████| 704/704 [00:00<00:00,  6.33it/s, iterations=704/704 Iterations Completed]\u001b[A"
          ]
        },
        {
          "output_type": "stream",
          "name": "stdout",
          "text": [
            "cleaned_data----------------------------------------- True\n",
            "1/1 [==============================] - 0s 11ms/step - loss: 0.4829 - accuracy: 1.0000\n"
          ]
        },
        {
          "output_type": "stream",
          "name": "stderr",
          "text": [
            "WARNING:absl:Found untraced functions such as _update_step_xla while saving (showing 1 of 1). These functions will not be directly callable after loading.\n",
            "100%|█████████▉| 704/705 [00:00<?, ?it/s]\n",
            "100%|██████████| 705/705 [00:00<00:00,  3.66it/s, iterations=705/705 Iterations Completed]"
          ]
        },
        {
          "output_type": "stream",
          "name": "stdout",
          "text": [
            "cleaned_data----------------------------------------- True\n",
            "1/1 [==============================] - 0s 18ms/step - loss: 0.5927 - accuracy: 1.0000\n"
          ]
        },
        {
          "output_type": "stream",
          "name": "stderr",
          "text": [
            "WARNING:absl:Found untraced functions such as _update_step_xla while saving (showing 1 of 1). These functions will not be directly callable after loading.\n",
            "\n",
            "\n",
            "100%|██████████| 706/706 [00:00<00:00,  3.76it/s]\u001b[A\n",
            "100%|██████████| 706/706 [00:00<00:00,  3.76it/s, iterations=706/706 Iterations Completed]\u001b[A"
          ]
        },
        {
          "output_type": "stream",
          "name": "stdout",
          "text": [
            "cleaned_data----------------------------------------- True\n",
            "1/1 [==============================] - 0s 21ms/step - loss: 0.5504 - accuracy: 1.0000\n"
          ]
        },
        {
          "output_type": "stream",
          "name": "stderr",
          "text": [
            "WARNING:absl:Found untraced functions such as _update_step_xla while saving (showing 1 of 1). These functions will not be directly callable after loading.\n",
            "100%|█████████▉| 706/707 [00:00<?, ?it/s]\n",
            "100%|██████████| 707/707 [00:00<00:00,  5.16it/s, iterations=707/707 Iterations Completed]"
          ]
        },
        {
          "output_type": "stream",
          "name": "stdout",
          "text": [
            "cleaned_data----------------------------------------- True\n",
            "1/1 [==============================] - 0s 12ms/step - loss: 0.5640 - accuracy: 1.0000\n"
          ]
        },
        {
          "output_type": "stream",
          "name": "stderr",
          "text": [
            "WARNING:absl:Found untraced functions such as _update_step_xla while saving (showing 1 of 1). These functions will not be directly callable after loading.\n",
            "\n",
            "                                                                                          \n",
            "100%|██████████| 708/708 [00:00<00:00,  6.75it/s]\u001b[A\n",
            "100%|██████████| 708/708 [00:00<00:00,  6.75it/s, iterations=708/708 Iterations Completed]\u001b[A"
          ]
        },
        {
          "output_type": "stream",
          "name": "stdout",
          "text": [
            "cleaned_data----------------------------------------- True\n",
            "1/1 [==============================] - 0s 17ms/step - loss: 0.5587 - accuracy: 1.0000\n"
          ]
        },
        {
          "output_type": "stream",
          "name": "stderr",
          "text": [
            "WARNING:absl:Found untraced functions such as _update_step_xla while saving (showing 1 of 1). These functions will not be directly callable after loading.\n",
            "100%|█████████▉| 708/709 [00:00<?, ?it/s]\n",
            "100%|██████████| 709/709 [00:00<00:00,  6.40it/s, iterations=709/709 Iterations Completed]"
          ]
        },
        {
          "output_type": "stream",
          "name": "stdout",
          "text": [
            "cleaned_data----------------------------------------- True\n",
            "1/1 [==============================] - 0s 10ms/step - loss: 0.4379 - accuracy: 1.0000\n"
          ]
        },
        {
          "output_type": "stream",
          "name": "stderr",
          "text": [
            "WARNING:absl:Found untraced functions such as _update_step_xla while saving (showing 1 of 1). These functions will not be directly callable after loading.\n",
            "\n",
            "                                                                                          \n",
            "100%|██████████| 710/710 [00:00<00:00,  6.85it/s]\u001b[A\n",
            "100%|██████████| 710/710 [00:00<00:00,  6.85it/s, iterations=710/710 Iterations Completed]\u001b[A"
          ]
        },
        {
          "output_type": "stream",
          "name": "stdout",
          "text": [
            "cleaned_data----------------------------------------- True\n",
            "1/1 [==============================] - 0s 11ms/step - loss: 0.4848 - accuracy: 1.0000\n"
          ]
        },
        {
          "output_type": "stream",
          "name": "stderr",
          "text": [
            "WARNING:absl:Found untraced functions such as _update_step_xla while saving (showing 1 of 1). These functions will not be directly callable after loading.\n",
            "100%|█████████▉| 710/711 [00:00<?, ?it/s]\n",
            "100%|██████████| 711/711 [00:00<00:00,  6.20it/s, iterations=711/711 Iterations Completed]"
          ]
        },
        {
          "output_type": "stream",
          "name": "stdout",
          "text": [
            "cleaned_data----------------------------------------- True\n",
            "1/1 [==============================] - 0s 10ms/step - loss: 0.5283 - accuracy: 1.0000\n"
          ]
        },
        {
          "output_type": "stream",
          "name": "stderr",
          "text": [
            "WARNING:absl:Found untraced functions such as _update_step_xla while saving (showing 1 of 1). These functions will not be directly callable after loading.\n",
            "\n",
            "                                                                                          \n",
            "100%|██████████| 712/712 [00:00<00:00,  6.78it/s]\u001b[A\n",
            "100%|██████████| 712/712 [00:00<00:00,  6.78it/s, iterations=712/712 Iterations Completed]\u001b[A"
          ]
        },
        {
          "output_type": "stream",
          "name": "stdout",
          "text": [
            "cleaned_data----------------------------------------- True\n",
            "1/1 [==============================] - 0s 14ms/step - loss: 0.4533 - accuracy: 1.0000\n"
          ]
        },
        {
          "output_type": "stream",
          "name": "stderr",
          "text": [
            "WARNING:absl:Found untraced functions such as _update_step_xla while saving (showing 1 of 1). These functions will not be directly callable after loading.\n",
            "100%|█████████▉| 712/713 [00:00<?, ?it/s]\n",
            "100%|██████████| 713/713 [00:00<00:00,  6.03it/s, iterations=713/713 Iterations Completed]"
          ]
        },
        {
          "output_type": "stream",
          "name": "stdout",
          "text": [
            "cleaned_data----------------------------------------- True\n",
            "1/1 [==============================] - 0s 9ms/step - loss: 0.4778 - accuracy: 1.0000\n"
          ]
        },
        {
          "output_type": "stream",
          "name": "stderr",
          "text": [
            "WARNING:absl:Found untraced functions such as _update_step_xla while saving (showing 1 of 1). These functions will not be directly callable after loading.\n",
            "\n",
            "                                                                                          \n",
            "100%|██████████| 714/714 [00:00<00:00,  6.26it/s]\u001b[A\n",
            "100%|██████████| 714/714 [00:00<00:00,  6.26it/s, iterations=714/714 Iterations Completed]\u001b[A"
          ]
        },
        {
          "output_type": "stream",
          "name": "stdout",
          "text": [
            "cleaned_data----------------------------------------- True\n",
            "1/1 [==============================] - 0s 17ms/step - loss: 0.4777 - accuracy: 1.0000\n"
          ]
        },
        {
          "output_type": "stream",
          "name": "stderr",
          "text": [
            "WARNING:absl:Found untraced functions such as _update_step_xla while saving (showing 1 of 1). These functions will not be directly callable after loading.\n",
            "100%|█████████▉| 714/715 [00:00<?, ?it/s]\n",
            "100%|██████████| 715/715 [00:00<00:00,  6.32it/s, iterations=715/715 Iterations Completed]"
          ]
        },
        {
          "output_type": "stream",
          "name": "stdout",
          "text": [
            "cleaned_data----------------------------------------- True\n",
            "1/1 [==============================] - 0s 9ms/step - loss: 0.4208 - accuracy: 1.0000\n"
          ]
        },
        {
          "output_type": "stream",
          "name": "stderr",
          "text": [
            "WARNING:absl:Found untraced functions such as _update_step_xla while saving (showing 1 of 1). These functions will not be directly callable after loading.\n",
            "\n",
            "\n",
            "100%|██████████| 716/716 [00:00<00:00,  4.38it/s]\u001b[A\n",
            "100%|██████████| 716/716 [00:00<00:00,  4.38it/s, iterations=716/716 Iterations Completed]\u001b[A"
          ]
        },
        {
          "output_type": "stream",
          "name": "stdout",
          "text": [
            "cleaned_data----------------------------------------- True\n",
            "1/1 [==============================] - 0s 11ms/step - loss: 0.4497 - accuracy: 1.0000\n"
          ]
        },
        {
          "output_type": "stream",
          "name": "stderr",
          "text": [
            "WARNING:absl:Found untraced functions such as _update_step_xla while saving (showing 1 of 1). These functions will not be directly callable after loading.\n",
            "100%|█████████▉| 716/717 [00:00<?, ?it/s]\n",
            "100%|██████████| 717/717 [00:00<00:00,  3.84it/s, iterations=717/717 Iterations Completed]"
          ]
        },
        {
          "output_type": "stream",
          "name": "stdout",
          "text": [
            "cleaned_data----------------------------------------- True\n",
            "1/1 [==============================] - 0s 17ms/step - loss: 0.4832 - accuracy: 1.0000\n"
          ]
        },
        {
          "output_type": "stream",
          "name": "stderr",
          "text": [
            "WARNING:absl:Found untraced functions such as _update_step_xla while saving (showing 1 of 1). These functions will not be directly callable after loading.\n",
            "\n",
            "                                                                                          \n",
            "100%|██████████| 718/718 [00:00<00:00,  5.84it/s]\u001b[A\n",
            "100%|██████████| 718/718 [00:00<00:00,  5.84it/s, iterations=718/718 Iterations Completed]\u001b[A"
          ]
        },
        {
          "output_type": "stream",
          "name": "stdout",
          "text": [
            "cleaned_data----------------------------------------- True\n",
            "1/1 [==============================] - 0s 18ms/step - loss: 0.3922 - accuracy: 1.0000\n"
          ]
        },
        {
          "output_type": "stream",
          "name": "stderr",
          "text": [
            "WARNING:absl:Found untraced functions such as _update_step_xla while saving (showing 1 of 1). These functions will not be directly callable after loading.\n",
            "100%|█████████▉| 718/719 [00:00<?, ?it/s]\n",
            "100%|██████████| 719/719 [00:00<00:00,  6.33it/s, iterations=719/719 Iterations Completed]"
          ]
        },
        {
          "output_type": "stream",
          "name": "stdout",
          "text": [
            "cleaned_data----------------------------------------- True\n",
            "1/1 [==============================] - 0s 11ms/step - loss: 0.3378 - accuracy: 1.0000\n"
          ]
        },
        {
          "output_type": "stream",
          "name": "stderr",
          "text": [
            "WARNING:absl:Found untraced functions such as _update_step_xla while saving (showing 1 of 1). These functions will not be directly callable after loading.\n",
            "\n",
            "                                                                                          \n",
            "100%|██████████| 720/720 [00:00<00:00,  6.99it/s]\u001b[A\n",
            "100%|██████████| 720/720 [00:00<00:00,  6.99it/s, iterations=720/720 Iterations Completed]\u001b[A"
          ]
        },
        {
          "output_type": "stream",
          "name": "stdout",
          "text": [
            "cleaned_data----------------------------------------- True\n",
            "1/1 [==============================] - 0s 12ms/step - loss: 0.3651 - accuracy: 0.9643\n"
          ]
        },
        {
          "output_type": "stream",
          "name": "stderr",
          "text": [
            "WARNING:absl:Found untraced functions such as _update_step_xla while saving (showing 1 of 1). These functions will not be directly callable after loading.\n",
            "100%|█████████▉| 720/721 [00:00<?, ?it/s]\n",
            "100%|██████████| 721/721 [00:00<00:00,  6.04it/s, iterations=721/721 Iterations Completed]"
          ]
        },
        {
          "output_type": "stream",
          "name": "stdout",
          "text": [
            "cleaned_data----------------------------------------- True\n",
            "1/1 [==============================] - 0s 15ms/step - loss: 0.4103 - accuracy: 1.0000\n"
          ]
        },
        {
          "output_type": "stream",
          "name": "stderr",
          "text": [
            "WARNING:absl:Found untraced functions such as _update_step_xla while saving (showing 1 of 1). These functions will not be directly callable after loading.\n",
            "\n",
            "                                                                                          \n",
            "100%|██████████| 722/722 [00:00<00:00,  6.88it/s]\u001b[A\n",
            "100%|██████████| 722/722 [00:00<00:00,  6.88it/s, iterations=722/722 Iterations Completed]\u001b[A"
          ]
        },
        {
          "output_type": "stream",
          "name": "stdout",
          "text": [
            "cleaned_data----------------------------------------- True\n",
            "1/1 [==============================] - 0s 13ms/step - loss: 0.4617 - accuracy: 0.9643\n"
          ]
        },
        {
          "output_type": "stream",
          "name": "stderr",
          "text": [
            "WARNING:absl:Found untraced functions such as _update_step_xla while saving (showing 1 of 1). These functions will not be directly callable after loading.\n",
            "100%|█████████▉| 722/723 [00:00<?, ?it/s]\n",
            "100%|██████████| 723/723 [00:00<00:00,  6.65it/s, iterations=723/723 Iterations Completed]"
          ]
        },
        {
          "output_type": "stream",
          "name": "stdout",
          "text": [
            "cleaned_data----------------------------------------- True\n",
            "1/1 [==============================] - 0s 10ms/step - loss: 0.3915 - accuracy: 0.9643\n"
          ]
        },
        {
          "output_type": "stream",
          "name": "stderr",
          "text": [
            "WARNING:absl:Found untraced functions such as _update_step_xla while saving (showing 1 of 1). These functions will not be directly callable after loading.\n",
            "\n",
            "                                                                                          \n",
            "100%|██████████| 724/724 [00:00<00:00,  6.15it/s]\u001b[A\n",
            "100%|██████████| 724/724 [00:00<00:00,  6.15it/s, iterations=724/724 Iterations Completed]\u001b[A"
          ]
        },
        {
          "output_type": "stream",
          "name": "stdout",
          "text": [
            "cleaned_data----------------------------------------- True\n",
            "1/1 [==============================] - 0s 11ms/step - loss: 0.4145 - accuracy: 0.9643\n"
          ]
        },
        {
          "output_type": "stream",
          "name": "stderr",
          "text": [
            "WARNING:absl:Found untraced functions such as _update_step_xla while saving (showing 1 of 1). These functions will not be directly callable after loading.\n",
            "100%|█████████▉| 724/725 [00:00<?, ?it/s]\n",
            "100%|██████████| 725/725 [00:00<00:00,  5.27it/s, iterations=725/725 Iterations Completed]"
          ]
        },
        {
          "output_type": "stream",
          "name": "stdout",
          "text": [
            "cleaned_data----------------------------------------- True\n",
            "1/1 [==============================] - 0s 13ms/step - loss: 0.3575 - accuracy: 1.0000\n"
          ]
        },
        {
          "output_type": "stream",
          "name": "stderr",
          "text": [
            "WARNING:absl:Found untraced functions such as _update_step_xla while saving (showing 1 of 1). These functions will not be directly callable after loading.\n",
            "\n",
            "                                                                                          \n",
            "100%|██████████| 726/726 [00:00<00:00,  6.78it/s]\u001b[A\n",
            "100%|██████████| 726/726 [00:00<00:00,  6.78it/s, iterations=726/726 Iterations Completed]\u001b[A"
          ]
        },
        {
          "output_type": "stream",
          "name": "stdout",
          "text": [
            "cleaned_data----------------------------------------- True\n",
            "1/1 [==============================] - 0s 11ms/step - loss: 0.4351 - accuracy: 1.0000\n"
          ]
        },
        {
          "output_type": "stream",
          "name": "stderr",
          "text": [
            "WARNING:absl:Found untraced functions such as _update_step_xla while saving (showing 1 of 1). These functions will not be directly callable after loading.\n",
            "100%|█████████▉| 726/727 [00:00<?, ?it/s]\n",
            "100%|██████████| 727/727 [00:00<00:00,  4.25it/s, iterations=727/727 Iterations Completed]"
          ]
        },
        {
          "output_type": "stream",
          "name": "stdout",
          "text": [
            "cleaned_data----------------------------------------- True\n",
            "1/1 [==============================] - 0s 11ms/step - loss: 0.3760 - accuracy: 1.0000\n"
          ]
        },
        {
          "output_type": "stream",
          "name": "stderr",
          "text": [
            "WARNING:absl:Found untraced functions such as _update_step_xla while saving (showing 1 of 1). These functions will not be directly callable after loading.\n",
            "\n",
            "                                                                                          \n",
            "100%|██████████| 728/728 [00:00<00:00,  5.59it/s]\u001b[A\n",
            "100%|██████████| 728/728 [00:00<00:00,  5.59it/s, iterations=728/728 Iterations Completed]\u001b[A"
          ]
        },
        {
          "output_type": "stream",
          "name": "stdout",
          "text": [
            "cleaned_data----------------------------------------- True\n",
            "1/1 [==============================] - 0s 11ms/step - loss: 0.3556 - accuracy: 1.0000\n"
          ]
        },
        {
          "output_type": "stream",
          "name": "stderr",
          "text": [
            "WARNING:absl:Found untraced functions such as _update_step_xla while saving (showing 1 of 1). These functions will not be directly callable after loading.\n",
            "100%|█████████▉| 728/729 [00:00<?, ?it/s]\n",
            "100%|██████████| 729/729 [00:00<00:00,  6.12it/s, iterations=729/729 Iterations Completed]"
          ]
        },
        {
          "output_type": "stream",
          "name": "stdout",
          "text": [
            "cleaned_data----------------------------------------- True\n",
            "1/1 [==============================] - 0s 10ms/step - loss: 0.3624 - accuracy: 1.0000\n"
          ]
        },
        {
          "output_type": "stream",
          "name": "stderr",
          "text": [
            "WARNING:absl:Found untraced functions such as _update_step_xla while saving (showing 1 of 1). These functions will not be directly callable after loading.\n",
            "\n",
            "                                                                                          \n",
            "100%|██████████| 730/730 [00:00<00:00,  5.96it/s]\u001b[A\n",
            "100%|██████████| 730/730 [00:00<00:00,  5.96it/s, iterations=730/730 Iterations Completed]\u001b[A"
          ]
        },
        {
          "output_type": "stream",
          "name": "stdout",
          "text": [
            "cleaned_data----------------------------------------- True\n",
            "1/1 [==============================] - 0s 10ms/step - loss: 0.3977 - accuracy: 1.0000\n"
          ]
        },
        {
          "output_type": "stream",
          "name": "stderr",
          "text": [
            "WARNING:absl:Found untraced functions such as _update_step_xla while saving (showing 1 of 1). These functions will not be directly callable after loading.\n",
            "100%|█████████▉| 730/731 [00:00<?, ?it/s]\n",
            "100%|██████████| 731/731 [00:00<00:00,  6.26it/s, iterations=731/731 Iterations Completed]"
          ]
        },
        {
          "output_type": "stream",
          "name": "stdout",
          "text": [
            "cleaned_data----------------------------------------- True\n",
            "1/1 [==============================] - 0s 12ms/step - loss: 0.4070 - accuracy: 1.0000\n"
          ]
        },
        {
          "output_type": "stream",
          "name": "stderr",
          "text": [
            "WARNING:absl:Found untraced functions such as _update_step_xla while saving (showing 1 of 1). These functions will not be directly callable after loading.\n",
            "\n",
            "                                                                                          \n",
            "100%|██████████| 732/732 [00:00<00:00,  6.19it/s]\u001b[A\n",
            "100%|██████████| 732/732 [00:00<00:00,  6.19it/s, iterations=732/732 Iterations Completed]\u001b[A"
          ]
        },
        {
          "output_type": "stream",
          "name": "stdout",
          "text": [
            "cleaned_data----------------------------------------- True\n",
            "1/1 [==============================] - 0s 12ms/step - loss: 0.4374 - accuracy: 1.0000\n"
          ]
        },
        {
          "output_type": "stream",
          "name": "stderr",
          "text": [
            "WARNING:absl:Found untraced functions such as _update_step_xla while saving (showing 1 of 1). These functions will not be directly callable after loading.\n",
            "100%|█████████▉| 732/733 [00:00<?, ?it/s]\n",
            "100%|██████████| 733/733 [00:00<00:00,  6.39it/s, iterations=733/733 Iterations Completed]"
          ]
        },
        {
          "output_type": "stream",
          "name": "stdout",
          "text": [
            "cleaned_data----------------------------------------- True\n",
            "1/1 [==============================] - 0s 10ms/step - loss: 0.4347 - accuracy: 1.0000\n"
          ]
        },
        {
          "output_type": "stream",
          "name": "stderr",
          "text": [
            "WARNING:absl:Found untraced functions such as _update_step_xla while saving (showing 1 of 1). These functions will not be directly callable after loading.\n",
            "\n",
            "                                                                                          \n",
            "100%|██████████| 734/734 [00:00<00:00,  6.43it/s]\u001b[A\n",
            "100%|██████████| 734/734 [00:00<00:00,  6.43it/s, iterations=734/734 Iterations Completed]\u001b[A"
          ]
        },
        {
          "output_type": "stream",
          "name": "stdout",
          "text": [
            "cleaned_data----------------------------------------- True\n",
            "1/1 [==============================] - 0s 11ms/step - loss: 0.4325 - accuracy: 1.0000\n"
          ]
        },
        {
          "output_type": "stream",
          "name": "stderr",
          "text": [
            "WARNING:absl:Found untraced functions such as _update_step_xla while saving (showing 1 of 1). These functions will not be directly callable after loading.\n",
            "100%|█████████▉| 734/735 [00:00<?, ?it/s]\n",
            "100%|██████████| 735/735 [00:00<00:00,  5.73it/s, iterations=735/735 Iterations Completed]"
          ]
        },
        {
          "output_type": "stream",
          "name": "stdout",
          "text": [
            "cleaned_data----------------------------------------- True\n",
            "1/1 [==============================] - 0s 10ms/step - loss: 0.4327 - accuracy: 1.0000\n"
          ]
        },
        {
          "output_type": "stream",
          "name": "stderr",
          "text": [
            "WARNING:absl:Found untraced functions such as _update_step_xla while saving (showing 1 of 1). These functions will not be directly callable after loading.\n",
            "\n",
            "                                                                                          \n",
            "100%|██████████| 736/736 [00:00<00:00,  6.36it/s]\u001b[A\n",
            "100%|██████████| 736/736 [00:00<00:00,  6.36it/s, iterations=736/736 Iterations Completed]\u001b[A"
          ]
        },
        {
          "output_type": "stream",
          "name": "stdout",
          "text": [
            "cleaned_data----------------------------------------- True\n",
            "1/1 [==============================] - 0s 11ms/step - loss: 0.3913 - accuracy: 1.0000\n"
          ]
        },
        {
          "output_type": "stream",
          "name": "stderr",
          "text": [
            "WARNING:absl:Found untraced functions such as _update_step_xla while saving (showing 1 of 1). These functions will not be directly callable after loading.\n",
            "100%|█████████▉| 736/737 [00:00<?, ?it/s]\n",
            "100%|██████████| 737/737 [00:00<00:00,  4.54it/s, iterations=737/737 Iterations Completed]"
          ]
        },
        {
          "output_type": "stream",
          "name": "stdout",
          "text": [
            "cleaned_data----------------------------------------- True\n",
            "1/1 [==============================] - 0s 10ms/step - loss: 0.4001 - accuracy: 1.0000\n"
          ]
        },
        {
          "output_type": "stream",
          "name": "stderr",
          "text": [
            "WARNING:absl:Found untraced functions such as _update_step_xla while saving (showing 1 of 1). These functions will not be directly callable after loading.\n",
            "\n",
            "\n",
            "100%|██████████| 738/738 [00:00<00:00,  4.55it/s]\u001b[A\n",
            "100%|██████████| 738/738 [00:00<00:00,  4.55it/s, iterations=738/738 Iterations Completed]\u001b[A"
          ]
        },
        {
          "output_type": "stream",
          "name": "stdout",
          "text": [
            "cleaned_data----------------------------------------- True\n",
            "1/1 [==============================] - 0s 20ms/step - loss: 0.3796 - accuracy: 1.0000\n"
          ]
        },
        {
          "output_type": "stream",
          "name": "stderr",
          "text": [
            "WARNING:absl:Found untraced functions such as _update_step_xla while saving (showing 1 of 1). These functions will not be directly callable after loading.\n",
            "100%|█████████▉| 738/739 [00:00<?, ?it/s]\n",
            "100%|██████████| 739/739 [00:00<00:00,  6.45it/s, iterations=739/739 Iterations Completed]"
          ]
        },
        {
          "output_type": "stream",
          "name": "stdout",
          "text": [
            "cleaned_data----------------------------------------- True\n",
            "1/1 [==============================] - 0s 15ms/step - loss: 0.3631 - accuracy: 1.0000\n"
          ]
        },
        {
          "output_type": "stream",
          "name": "stderr",
          "text": [
            "WARNING:absl:Found untraced functions such as _update_step_xla while saving (showing 1 of 1). These functions will not be directly callable after loading.\n",
            "\n",
            "\n",
            "100%|██████████| 740/740 [00:00<00:00,  1.19it/s]\u001b[A\n",
            "100%|██████████| 740/740 [00:00<00:00,  1.19it/s, iterations=740/740 Iterations Completed]\u001b[A"
          ]
        },
        {
          "output_type": "stream",
          "name": "stdout",
          "text": [
            "cleaned_data----------------------------------------- True\n",
            "1/1 [==============================] - 0s 13ms/step - loss: 0.3657 - accuracy: 1.0000\n"
          ]
        },
        {
          "output_type": "stream",
          "name": "stderr",
          "text": [
            "WARNING:absl:Found untraced functions such as _update_step_xla while saving (showing 1 of 1). These functions will not be directly callable after loading.\n",
            "100%|█████████▉| 740/741 [00:00<?, ?it/s]\n",
            "100%|██████████| 741/741 [00:00<00:00,  5.59it/s, iterations=741/741 Iterations Completed]"
          ]
        },
        {
          "output_type": "stream",
          "name": "stdout",
          "text": [
            "cleaned_data----------------------------------------- True\n",
            "1/1 [==============================] - 0s 12ms/step - loss: 0.3728 - accuracy: 1.0000\n"
          ]
        },
        {
          "output_type": "stream",
          "name": "stderr",
          "text": [
            "WARNING:absl:Found untraced functions such as _update_step_xla while saving (showing 1 of 1). These functions will not be directly callable after loading.\n",
            "\n",
            "                                                                                          \n",
            "100%|██████████| 742/742 [00:00<00:00,  6.18it/s]\u001b[A\n",
            "100%|██████████| 742/742 [00:00<00:00,  6.18it/s, iterations=742/742 Iterations Completed]\u001b[A"
          ]
        },
        {
          "output_type": "stream",
          "name": "stdout",
          "text": [
            "cleaned_data----------------------------------------- True\n",
            "1/1 [==============================] - 0s 18ms/step - loss: 0.3320 - accuracy: 1.0000\n"
          ]
        },
        {
          "output_type": "stream",
          "name": "stderr",
          "text": [
            "WARNING:absl:Found untraced functions such as _update_step_xla while saving (showing 1 of 1). These functions will not be directly callable after loading.\n",
            "100%|█████████▉| 742/743 [00:00<?, ?it/s]\n",
            "100%|██████████| 743/743 [00:00<00:00,  6.26it/s, iterations=743/743 Iterations Completed]"
          ]
        },
        {
          "output_type": "stream",
          "name": "stdout",
          "text": [
            "cleaned_data----------------------------------------- True\n",
            "1/1 [==============================] - 0s 15ms/step - loss: 0.3498 - accuracy: 1.0000\n"
          ]
        },
        {
          "output_type": "stream",
          "name": "stderr",
          "text": [
            "WARNING:absl:Found untraced functions such as _update_step_xla while saving (showing 1 of 1). These functions will not be directly callable after loading.\n",
            "\n",
            "                                                                                          \n",
            "100%|██████████| 744/744 [00:00<00:00,  6.52it/s]\u001b[A\n",
            "100%|██████████| 744/744 [00:00<00:00,  6.52it/s, iterations=744/744 Iterations Completed]\u001b[A"
          ]
        },
        {
          "output_type": "stream",
          "name": "stdout",
          "text": [
            "cleaned_data----------------------------------------- True\n",
            "1/1 [==============================] - 0s 10ms/step - loss: 0.3499 - accuracy: 1.0000\n"
          ]
        },
        {
          "output_type": "stream",
          "name": "stderr",
          "text": [
            "WARNING:absl:Found untraced functions such as _update_step_xla while saving (showing 1 of 1). These functions will not be directly callable after loading.\n",
            "100%|█████████▉| 744/745 [00:00<?, ?it/s]\n",
            "100%|██████████| 745/745 [00:00<00:00,  5.95it/s, iterations=745/745 Iterations Completed]"
          ]
        },
        {
          "output_type": "stream",
          "name": "stdout",
          "text": [
            "cleaned_data----------------------------------------- True\n",
            "1/1 [==============================] - 0s 9ms/step - loss: 0.4844 - accuracy: 1.0000\n"
          ]
        },
        {
          "output_type": "stream",
          "name": "stderr",
          "text": [
            "WARNING:absl:Found untraced functions such as _update_step_xla while saving (showing 1 of 1). These functions will not be directly callable after loading.\n",
            "\n",
            "                                                                                          \n",
            "100%|██████████| 746/746 [00:00<00:00,  5.94it/s]\u001b[A\n",
            "100%|██████████| 746/746 [00:00<00:00,  5.94it/s, iterations=746/746 Iterations Completed]\u001b[A"
          ]
        },
        {
          "output_type": "stream",
          "name": "stdout",
          "text": [
            "cleaned_data----------------------------------------- True\n",
            "1/1 [==============================] - 0s 13ms/step - loss: 0.4213 - accuracy: 0.9643\n"
          ]
        },
        {
          "output_type": "stream",
          "name": "stderr",
          "text": [
            "WARNING:absl:Found untraced functions such as _update_step_xla while saving (showing 1 of 1). These functions will not be directly callable after loading.\n",
            "100%|█████████▉| 746/747 [00:00<?, ?it/s]\n",
            "100%|██████████| 747/747 [00:00<00:00,  4.46it/s, iterations=747/747 Iterations Completed]"
          ]
        },
        {
          "output_type": "stream",
          "name": "stdout",
          "text": [
            "cleaned_data----------------------------------------- True\n",
            "1/1 [==============================] - 0s 11ms/step - loss: 0.3846 - accuracy: 1.0000\n"
          ]
        },
        {
          "output_type": "stream",
          "name": "stderr",
          "text": [
            "WARNING:absl:Found untraced functions such as _update_step_xla while saving (showing 1 of 1). These functions will not be directly callable after loading.\n",
            "\n",
            "\n",
            "100%|██████████| 748/748 [00:00<00:00,  4.98it/s]\u001b[A\n",
            "100%|██████████| 748/748 [00:00<00:00,  4.98it/s, iterations=748/748 Iterations Completed]\u001b[A"
          ]
        },
        {
          "output_type": "stream",
          "name": "stdout",
          "text": [
            "cleaned_data----------------------------------------- True\n",
            "1/1 [==============================] - 0s 13ms/step - loss: 0.3429 - accuracy: 1.0000\n"
          ]
        },
        {
          "output_type": "stream",
          "name": "stderr",
          "text": [
            "WARNING:absl:Found untraced functions such as _update_step_xla while saving (showing 1 of 1). These functions will not be directly callable after loading.\n",
            "100%|█████████▉| 748/749 [00:00<?, ?it/s]\n",
            "100%|██████████| 749/749 [00:00<00:00,  4.98it/s, iterations=749/749 Iterations Completed]"
          ]
        },
        {
          "output_type": "stream",
          "name": "stdout",
          "text": [
            "cleaned_data----------------------------------------- True\n",
            "1/1 [==============================] - 0s 12ms/step - loss: 0.3789 - accuracy: 1.0000\n"
          ]
        },
        {
          "output_type": "stream",
          "name": "stderr",
          "text": [
            "WARNING:absl:Found untraced functions such as _update_step_xla while saving (showing 1 of 1). These functions will not be directly callable after loading.\n",
            "\n",
            "                                                                                          \n",
            "100%|██████████| 750/750 [00:00<00:00,  5.97it/s]\u001b[A\n",
            "100%|██████████| 750/750 [00:00<00:00,  5.97it/s, iterations=750/750 Iterations Completed]\u001b[A"
          ]
        },
        {
          "output_type": "stream",
          "name": "stdout",
          "text": [
            "cleaned_data----------------------------------------- True\n",
            "1/1 [==============================] - 0s 14ms/step - loss: 0.3505 - accuracy: 1.0000\n"
          ]
        },
        {
          "output_type": "stream",
          "name": "stderr",
          "text": [
            "WARNING:absl:Found untraced functions such as _update_step_xla while saving (showing 1 of 1). These functions will not be directly callable after loading.\n",
            "100%|█████████▉| 750/751 [00:00<?, ?it/s]\n",
            "100%|██████████| 751/751 [00:00<00:00,  6.71it/s, iterations=751/751 Iterations Completed]"
          ]
        },
        {
          "output_type": "stream",
          "name": "stdout",
          "text": [
            "cleaned_data----------------------------------------- True\n",
            "1/1 [==============================] - 0s 11ms/step - loss: 0.3546 - accuracy: 1.0000\n"
          ]
        },
        {
          "output_type": "stream",
          "name": "stderr",
          "text": [
            "WARNING:absl:Found untraced functions such as _update_step_xla while saving (showing 1 of 1). These functions will not be directly callable after loading.\n",
            "\n",
            "                                                                                          \n",
            "100%|██████████| 752/752 [00:00<00:00,  5.88it/s]\u001b[A\n",
            "100%|██████████| 752/752 [00:00<00:00,  5.88it/s, iterations=752/752 Iterations Completed]\u001b[A"
          ]
        },
        {
          "output_type": "stream",
          "name": "stdout",
          "text": [
            "cleaned_data----------------------------------------- True\n",
            "1/1 [==============================] - 0s 10ms/step - loss: 0.3671 - accuracy: 1.0000\n"
          ]
        },
        {
          "output_type": "stream",
          "name": "stderr",
          "text": [
            "WARNING:absl:Found untraced functions such as _update_step_xla while saving (showing 1 of 1). These functions will not be directly callable after loading.\n",
            "100%|█████████▉| 752/753 [00:00<?, ?it/s]\n",
            "100%|██████████| 753/753 [00:00<00:00,  5.22it/s, iterations=753/753 Iterations Completed]"
          ]
        },
        {
          "output_type": "stream",
          "name": "stdout",
          "text": [
            "cleaned_data----------------------------------------- True\n",
            "1/1 [==============================] - 0s 10ms/step - loss: 0.4198 - accuracy: 1.0000\n"
          ]
        },
        {
          "output_type": "stream",
          "name": "stderr",
          "text": [
            "WARNING:absl:Found untraced functions such as _update_step_xla while saving (showing 1 of 1). These functions will not be directly callable after loading.\n",
            "\n",
            "                                                                                          \n",
            "100%|██████████| 754/754 [00:00<00:00,  6.27it/s]\u001b[A\n",
            "100%|██████████| 754/754 [00:00<00:00,  6.27it/s, iterations=754/754 Iterations Completed]\u001b[A"
          ]
        },
        {
          "output_type": "stream",
          "name": "stdout",
          "text": [
            "cleaned_data----------------------------------------- True\n",
            "1/1 [==============================] - 0s 11ms/step - loss: 0.5255 - accuracy: 1.0000\n"
          ]
        },
        {
          "output_type": "stream",
          "name": "stderr",
          "text": [
            "WARNING:absl:Found untraced functions such as _update_step_xla while saving (showing 1 of 1). These functions will not be directly callable after loading.\n",
            "100%|█████████▉| 754/755 [00:00<?, ?it/s]\n",
            "100%|██████████| 755/755 [00:00<00:00,  5.82it/s, iterations=755/755 Iterations Completed]"
          ]
        },
        {
          "output_type": "stream",
          "name": "stdout",
          "text": [
            "cleaned_data----------------------------------------- True\n",
            "1/1 [==============================] - 0s 13ms/step - loss: 0.4727 - accuracy: 1.0000\n"
          ]
        },
        {
          "output_type": "stream",
          "name": "stderr",
          "text": [
            "WARNING:absl:Found untraced functions such as _update_step_xla while saving (showing 1 of 1). These functions will not be directly callable after loading.\n",
            "\n",
            "                                                                                          \n",
            "100%|██████████| 756/756 [00:00<00:00,  6.20it/s]\u001b[A\n",
            "100%|██████████| 756/756 [00:00<00:00,  6.20it/s, iterations=756/756 Iterations Completed]\u001b[A"
          ]
        },
        {
          "output_type": "stream",
          "name": "stdout",
          "text": [
            "cleaned_data----------------------------------------- True\n",
            "1/1 [==============================] - 0s 11ms/step - loss: 0.5576 - accuracy: 1.0000\n"
          ]
        },
        {
          "output_type": "stream",
          "name": "stderr",
          "text": [
            "WARNING:absl:Found untraced functions such as _update_step_xla while saving (showing 1 of 1). These functions will not be directly callable after loading.\n",
            "100%|█████████▉| 756/757 [00:00<?, ?it/s]\n",
            "100%|██████████| 757/757 [00:00<00:00,  6.48it/s, iterations=757/757 Iterations Completed]"
          ]
        },
        {
          "output_type": "stream",
          "name": "stdout",
          "text": [
            "cleaned_data----------------------------------------- True\n",
            "1/1 [==============================] - 0s 11ms/step - loss: 0.4856 - accuracy: 1.0000\n"
          ]
        },
        {
          "output_type": "stream",
          "name": "stderr",
          "text": [
            "WARNING:absl:Found untraced functions such as _update_step_xla while saving (showing 1 of 1). These functions will not be directly callable after loading.\n",
            "\n",
            "                                                                                          \n",
            "100%|██████████| 758/758 [00:00<00:00,  5.50it/s]\u001b[A\n",
            "100%|██████████| 758/758 [00:00<00:00,  5.50it/s, iterations=758/758 Iterations Completed]\u001b[A"
          ]
        },
        {
          "output_type": "stream",
          "name": "stdout",
          "text": [
            "cleaned_data----------------------------------------- True\n",
            "1/1 [==============================] - 0s 25ms/step - loss: 0.5363 - accuracy: 1.0000\n"
          ]
        },
        {
          "output_type": "stream",
          "name": "stderr",
          "text": [
            "WARNING:absl:Found untraced functions such as _update_step_xla while saving (showing 1 of 1). These functions will not be directly callable after loading.\n",
            "100%|█████████▉| 758/759 [00:00<?, ?it/s]\n",
            "100%|██████████| 759/759 [00:00<00:00,  4.51it/s, iterations=759/759 Iterations Completed]"
          ]
        },
        {
          "output_type": "stream",
          "name": "stdout",
          "text": [
            "cleaned_data----------------------------------------- True\n",
            "1/1 [==============================] - 0s 13ms/step - loss: 0.5819 - accuracy: 1.0000\n"
          ]
        },
        {
          "output_type": "stream",
          "name": "stderr",
          "text": [
            "WARNING:absl:Found untraced functions such as _update_step_xla while saving (showing 1 of 1). These functions will not be directly callable after loading.\n",
            "\n",
            "\n",
            "100%|██████████| 760/760 [00:00<00:00,  4.89it/s]\u001b[A\n",
            "100%|██████████| 760/760 [00:00<00:00,  4.89it/s, iterations=760/760 Iterations Completed]\u001b[A"
          ]
        },
        {
          "output_type": "stream",
          "name": "stdout",
          "text": [
            "cleaned_data----------------------------------------- True\n",
            "1/1 [==============================] - 0s 16ms/step - loss: 0.4874 - accuracy: 1.0000\n"
          ]
        },
        {
          "output_type": "stream",
          "name": "stderr",
          "text": [
            "WARNING:absl:Found untraced functions such as _update_step_xla while saving (showing 1 of 1). These functions will not be directly callable after loading.\n",
            "100%|█████████▉| 760/761 [00:00<?, ?it/s]\n",
            "100%|██████████| 761/761 [00:00<00:00,  6.59it/s, iterations=761/761 Iterations Completed]"
          ]
        },
        {
          "output_type": "stream",
          "name": "stdout",
          "text": [
            "cleaned_data----------------------------------------- True\n",
            "1/1 [==============================] - 0s 10ms/step - loss: 0.4110 - accuracy: 1.0000\n"
          ]
        },
        {
          "output_type": "stream",
          "name": "stderr",
          "text": [
            "WARNING:absl:Found untraced functions such as _update_step_xla while saving (showing 1 of 1). These functions will not be directly callable after loading.\n",
            "\n",
            "                                                                                          \n",
            "100%|██████████| 762/762 [00:00<00:00,  6.67it/s]\u001b[A\n",
            "100%|██████████| 762/762 [00:00<00:00,  6.67it/s, iterations=762/762 Iterations Completed]\u001b[A"
          ]
        },
        {
          "output_type": "stream",
          "name": "stdout",
          "text": [
            "cleaned_data----------------------------------------- True\n",
            "1/1 [==============================] - 0s 10ms/step - loss: 0.4613 - accuracy: 1.0000\n"
          ]
        },
        {
          "output_type": "stream",
          "name": "stderr",
          "text": [
            "WARNING:absl:Found untraced functions such as _update_step_xla while saving (showing 1 of 1). These functions will not be directly callable after loading.\n",
            "100%|█████████▉| 762/763 [00:00<?, ?it/s]\n",
            "100%|██████████| 763/763 [00:00<00:00,  6.41it/s, iterations=763/763 Iterations Completed]"
          ]
        },
        {
          "output_type": "stream",
          "name": "stdout",
          "text": [
            "cleaned_data----------------------------------------- True\n",
            "1/1 [==============================] - 0s 11ms/step - loss: 0.3632 - accuracy: 1.0000\n"
          ]
        },
        {
          "output_type": "stream",
          "name": "stderr",
          "text": [
            "WARNING:absl:Found untraced functions such as _update_step_xla while saving (showing 1 of 1). These functions will not be directly callable after loading.\n",
            "\n",
            "                                                                                          \n",
            "100%|██████████| 764/764 [00:00<00:00,  5.78it/s]\u001b[A\n",
            "100%|██████████| 764/764 [00:00<00:00,  5.78it/s, iterations=764/764 Iterations Completed]\u001b[A"
          ]
        },
        {
          "output_type": "stream",
          "name": "stdout",
          "text": [
            "cleaned_data----------------------------------------- True\n",
            "1/1 [==============================] - 0s 13ms/step - loss: 0.3438 - accuracy: 1.0000\n"
          ]
        },
        {
          "output_type": "stream",
          "name": "stderr",
          "text": [
            "WARNING:absl:Found untraced functions such as _update_step_xla while saving (showing 1 of 1). These functions will not be directly callable after loading.\n",
            "100%|█████████▉| 764/765 [00:00<?, ?it/s]\n",
            "100%|██████████| 765/765 [00:00<00:00,  6.06it/s, iterations=765/765 Iterations Completed]"
          ]
        },
        {
          "output_type": "stream",
          "name": "stdout",
          "text": [
            "cleaned_data----------------------------------------- True\n",
            "1/1 [==============================] - 0s 12ms/step - loss: 0.3519 - accuracy: 1.0000\n"
          ]
        },
        {
          "output_type": "stream",
          "name": "stderr",
          "text": [
            "WARNING:absl:Found untraced functions such as _update_step_xla while saving (showing 1 of 1). These functions will not be directly callable after loading.\n",
            "\n",
            "                                                                                          \n",
            "100%|██████████| 766/766 [00:00<00:00,  6.27it/s]\u001b[A\n",
            "100%|██████████| 766/766 [00:00<00:00,  6.27it/s, iterations=766/766 Iterations Completed]\u001b[A"
          ]
        },
        {
          "output_type": "stream",
          "name": "stdout",
          "text": [
            "cleaned_data----------------------------------------- True\n",
            "1/1 [==============================] - 0s 12ms/step - loss: 0.3876 - accuracy: 1.0000\n"
          ]
        },
        {
          "output_type": "stream",
          "name": "stderr",
          "text": [
            "WARNING:absl:Found untraced functions such as _update_step_xla while saving (showing 1 of 1). These functions will not be directly callable after loading.\n",
            "100%|█████████▉| 766/767 [00:00<?, ?it/s]\n",
            "100%|██████████| 767/767 [00:00<00:00,  6.13it/s, iterations=767/767 Iterations Completed]"
          ]
        },
        {
          "output_type": "stream",
          "name": "stdout",
          "text": [
            "cleaned_data----------------------------------------- True\n",
            "1/1 [==============================] - 0s 14ms/step - loss: 0.4373 - accuracy: 0.9643\n"
          ]
        },
        {
          "output_type": "stream",
          "name": "stderr",
          "text": [
            "WARNING:absl:Found untraced functions such as _update_step_xla while saving (showing 1 of 1). These functions will not be directly callable after loading.\n",
            "\n",
            "                                                                                          \n",
            "100%|██████████| 768/768 [00:00<00:00,  6.44it/s]\u001b[A\n",
            "100%|██████████| 768/768 [00:00<00:00,  6.44it/s, iterations=768/768 Iterations Completed]\u001b[A"
          ]
        },
        {
          "output_type": "stream",
          "name": "stdout",
          "text": [
            "cleaned_data----------------------------------------- True\n",
            "1/1 [==============================] - 0s 10ms/step - loss: 0.3810 - accuracy: 1.0000\n"
          ]
        },
        {
          "output_type": "stream",
          "name": "stderr",
          "text": [
            "WARNING:absl:Found untraced functions such as _update_step_xla while saving (showing 1 of 1). These functions will not be directly callable after loading.\n",
            "100%|█████████▉| 768/769 [00:00<?, ?it/s]\n",
            "100%|██████████| 769/769 [00:00<00:00,  5.72it/s, iterations=769/769 Iterations Completed]"
          ]
        },
        {
          "output_type": "stream",
          "name": "stdout",
          "text": [
            "cleaned_data----------------------------------------- True\n",
            "1/1 [==============================] - 0s 29ms/step - loss: 0.4177 - accuracy: 0.8929\n"
          ]
        },
        {
          "output_type": "stream",
          "name": "stderr",
          "text": [
            "WARNING:absl:Found untraced functions such as _update_step_xla while saving (showing 1 of 1). These functions will not be directly callable after loading.\n",
            "\n",
            "\n",
            "100%|██████████| 770/770 [00:00<00:00,  4.20it/s]\u001b[A\n",
            "100%|██████████| 770/770 [00:00<00:00,  4.20it/s, iterations=770/770 Iterations Completed]\u001b[A"
          ]
        },
        {
          "output_type": "stream",
          "name": "stdout",
          "text": [
            "cleaned_data----------------------------------------- True\n",
            "1/1 [==============================] - 0s 18ms/step - loss: 0.4755 - accuracy: 1.0000\n"
          ]
        },
        {
          "output_type": "stream",
          "name": "stderr",
          "text": [
            "WARNING:absl:Found untraced functions such as _update_step_xla while saving (showing 1 of 1). These functions will not be directly callable after loading.\n",
            "100%|█████████▉| 770/771 [00:00<?, ?it/s]\n",
            "100%|██████████| 771/771 [00:00<00:00,  6.57it/s, iterations=771/771 Iterations Completed]"
          ]
        },
        {
          "output_type": "stream",
          "name": "stdout",
          "text": [
            "cleaned_data----------------------------------------- True\n",
            "1/1 [==============================] - 0s 11ms/step - loss: 0.4167 - accuracy: 1.0000\n"
          ]
        },
        {
          "output_type": "stream",
          "name": "stderr",
          "text": [
            "WARNING:absl:Found untraced functions such as _update_step_xla while saving (showing 1 of 1). These functions will not be directly callable after loading.\n",
            "\n",
            "                                                                                          \n",
            "100%|██████████| 772/772 [00:00<00:00,  6.53it/s]\u001b[A\n",
            "100%|██████████| 772/772 [00:00<00:00,  6.53it/s, iterations=772/772 Iterations Completed]\u001b[A"
          ]
        },
        {
          "output_type": "stream",
          "name": "stdout",
          "text": [
            "cleaned_data----------------------------------------- True\n",
            "1/1 [==============================] - 0s 16ms/step - loss: 0.3324 - accuracy: 1.0000\n"
          ]
        },
        {
          "output_type": "stream",
          "name": "stderr",
          "text": [
            "WARNING:absl:Found untraced functions such as _update_step_xla while saving (showing 1 of 1). These functions will not be directly callable after loading.\n",
            "100%|█████████▉| 772/773 [00:00<?, ?it/s]\n",
            "100%|██████████| 773/773 [00:00<00:00,  6.00it/s, iterations=773/773 Iterations Completed]"
          ]
        },
        {
          "output_type": "stream",
          "name": "stdout",
          "text": [
            "cleaned_data----------------------------------------- True\n",
            "1/1 [==============================] - 0s 24ms/step - loss: 0.3594 - accuracy: 1.0000\n"
          ]
        },
        {
          "output_type": "stream",
          "name": "stderr",
          "text": [
            "WARNING:absl:Found untraced functions such as _update_step_xla while saving (showing 1 of 1). These functions will not be directly callable after loading.\n",
            "\n",
            "                                                                                          \n",
            "100%|██████████| 774/774 [00:00<00:00,  5.39it/s]\u001b[A\n",
            "100%|██████████| 774/774 [00:00<00:00,  5.39it/s, iterations=774/774 Iterations Completed]\u001b[A"
          ]
        },
        {
          "output_type": "stream",
          "name": "stdout",
          "text": [
            "cleaned_data----------------------------------------- True\n",
            "1/1 [==============================] - 0s 10ms/step - loss: 0.3645 - accuracy: 1.0000\n"
          ]
        },
        {
          "output_type": "stream",
          "name": "stderr",
          "text": [
            "WARNING:absl:Found untraced functions such as _update_step_xla while saving (showing 1 of 1). These functions will not be directly callable after loading.\n",
            "100%|█████████▉| 774/775 [00:00<?, ?it/s]\n",
            "100%|██████████| 775/775 [00:00<00:00,  5.91it/s, iterations=775/775 Iterations Completed]"
          ]
        },
        {
          "output_type": "stream",
          "name": "stdout",
          "text": [
            "cleaned_data----------------------------------------- True\n",
            "1/1 [==============================] - 0s 18ms/step - loss: 0.4162 - accuracy: 1.0000\n"
          ]
        },
        {
          "output_type": "stream",
          "name": "stderr",
          "text": [
            "WARNING:absl:Found untraced functions such as _update_step_xla while saving (showing 1 of 1). These functions will not be directly callable after loading.\n",
            "\n",
            "                                                                                          \n",
            "100%|██████████| 776/776 [00:00<00:00,  5.88it/s]\u001b[A\n",
            "100%|██████████| 776/776 [00:00<00:00,  5.88it/s, iterations=776/776 Iterations Completed]\u001b[A"
          ]
        },
        {
          "output_type": "stream",
          "name": "stdout",
          "text": [
            "cleaned_data----------------------------------------- True\n",
            "1/1 [==============================] - 0s 16ms/step - loss: 0.4306 - accuracy: 1.0000\n"
          ]
        },
        {
          "output_type": "stream",
          "name": "stderr",
          "text": [
            "WARNING:absl:Found untraced functions such as _update_step_xla while saving (showing 1 of 1). These functions will not be directly callable after loading.\n",
            "100%|█████████▉| 776/777 [00:00<?, ?it/s]\n",
            "100%|██████████| 777/777 [00:00<00:00,  5.27it/s, iterations=777/777 Iterations Completed]"
          ]
        },
        {
          "output_type": "stream",
          "name": "stdout",
          "text": [
            "cleaned_data----------------------------------------- True\n",
            "1/1 [==============================] - 0s 13ms/step - loss: 0.5436 - accuracy: 1.0000\n"
          ]
        },
        {
          "output_type": "stream",
          "name": "stderr",
          "text": [
            "WARNING:absl:Found untraced functions such as _update_step_xla while saving (showing 1 of 1). These functions will not be directly callable after loading.\n",
            "\n",
            "                                                                                          \n",
            "100%|██████████| 778/778 [00:00<00:00,  6.58it/s]\u001b[A\n",
            "100%|██████████| 778/778 [00:00<00:00,  6.58it/s, iterations=778/778 Iterations Completed]\u001b[A"
          ]
        },
        {
          "output_type": "stream",
          "name": "stdout",
          "text": [
            "cleaned_data----------------------------------------- True\n",
            "1/1 [==============================] - 0s 14ms/step - loss: 0.5183 - accuracy: 1.0000\n"
          ]
        },
        {
          "output_type": "stream",
          "name": "stderr",
          "text": [
            "WARNING:absl:Found untraced functions such as _update_step_xla while saving (showing 1 of 1). These functions will not be directly callable after loading.\n",
            "100%|█████████▉| 778/779 [00:00<?, ?it/s]\n",
            "100%|██████████| 779/779 [00:00<00:00,  5.35it/s, iterations=779/779 Iterations Completed]"
          ]
        },
        {
          "output_type": "stream",
          "name": "stdout",
          "text": [
            "cleaned_data----------------------------------------- True\n",
            "1/1 [==============================] - 0s 11ms/step - loss: 0.5082 - accuracy: 1.0000\n"
          ]
        },
        {
          "output_type": "stream",
          "name": "stderr",
          "text": [
            "WARNING:absl:Found untraced functions such as _update_step_xla while saving (showing 1 of 1). These functions will not be directly callable after loading.\n",
            "\n",
            "\n",
            "100%|██████████| 780/780 [00:00<00:00,  4.92it/s]\u001b[A\n",
            "100%|██████████| 780/780 [00:00<00:00,  4.92it/s, iterations=780/780 Iterations Completed]\u001b[A"
          ]
        },
        {
          "output_type": "stream",
          "name": "stdout",
          "text": [
            "cleaned_data----------------------------------------- True\n",
            "1/1 [==============================] - 0s 17ms/step - loss: 0.5422 - accuracy: 1.0000\n"
          ]
        },
        {
          "output_type": "stream",
          "name": "stderr",
          "text": [
            "WARNING:absl:Found untraced functions such as _update_step_xla while saving (showing 1 of 1). These functions will not be directly callable after loading.\n",
            "100%|█████████▉| 780/781 [00:00<?, ?it/s]\n",
            "100%|██████████| 781/781 [00:00<00:00,  4.16it/s, iterations=781/781 Iterations Completed]"
          ]
        },
        {
          "output_type": "stream",
          "name": "stdout",
          "text": [
            "cleaned_data----------------------------------------- True\n",
            "1/1 [==============================] - 0s 12ms/step - loss: 0.5043 - accuracy: 1.0000\n"
          ]
        },
        {
          "output_type": "stream",
          "name": "stderr",
          "text": [
            "WARNING:absl:Found untraced functions such as _update_step_xla while saving (showing 1 of 1). These functions will not be directly callable after loading.\n",
            "\n",
            "                                                                                          \n",
            "100%|██████████| 782/782 [00:00<00:00,  6.56it/s]\u001b[A\n",
            "100%|██████████| 782/782 [00:00<00:00,  6.56it/s, iterations=782/782 Iterations Completed]\u001b[A"
          ]
        },
        {
          "output_type": "stream",
          "name": "stdout",
          "text": [
            "cleaned_data----------------------------------------- True\n",
            "1/1 [==============================] - 0s 12ms/step - loss: 0.4327 - accuracy: 1.0000\n"
          ]
        },
        {
          "output_type": "stream",
          "name": "stderr",
          "text": [
            "WARNING:absl:Found untraced functions such as _update_step_xla while saving (showing 1 of 1). These functions will not be directly callable after loading.\n",
            "100%|█████████▉| 782/783 [00:00<?, ?it/s]\n",
            "100%|██████████| 783/783 [00:00<00:00,  6.61it/s, iterations=783/783 Iterations Completed]"
          ]
        },
        {
          "output_type": "stream",
          "name": "stdout",
          "text": [
            "cleaned_data----------------------------------------- True\n",
            "1/1 [==============================] - 0s 13ms/step - loss: 0.4441 - accuracy: 1.0000\n"
          ]
        },
        {
          "output_type": "stream",
          "name": "stderr",
          "text": [
            "WARNING:absl:Found untraced functions such as _update_step_xla while saving (showing 1 of 1). These functions will not be directly callable after loading.\n",
            "\n",
            "                                                                                          \n",
            "100%|██████████| 784/784 [00:00<00:00,  6.34it/s]\u001b[A\n",
            "100%|██████████| 784/784 [00:00<00:00,  6.34it/s, iterations=784/784 Iterations Completed]\u001b[A"
          ]
        },
        {
          "output_type": "stream",
          "name": "stdout",
          "text": [
            "cleaned_data----------------------------------------- True\n",
            "1/1 [==============================] - 0s 12ms/step - loss: 0.4009 - accuracy: 1.0000\n"
          ]
        },
        {
          "output_type": "stream",
          "name": "stderr",
          "text": [
            "WARNING:absl:Found untraced functions such as _update_step_xla while saving (showing 1 of 1). These functions will not be directly callable after loading.\n",
            "100%|█████████▉| 784/785 [00:00<?, ?it/s]\n",
            "100%|██████████| 785/785 [00:00<00:00,  5.72it/s, iterations=785/785 Iterations Completed]"
          ]
        },
        {
          "output_type": "stream",
          "name": "stdout",
          "text": [
            "cleaned_data----------------------------------------- True\n",
            "1/1 [==============================] - 0s 9ms/step - loss: 0.4049 - accuracy: 1.0000\n"
          ]
        },
        {
          "output_type": "stream",
          "name": "stderr",
          "text": [
            "WARNING:absl:Found untraced functions such as _update_step_xla while saving (showing 1 of 1). These functions will not be directly callable after loading.\n",
            "\n",
            "                                                                                          \n",
            "100%|██████████| 786/786 [00:00<00:00,  6.01it/s]\u001b[A\n",
            "100%|██████████| 786/786 [00:00<00:00,  6.01it/s, iterations=786/786 Iterations Completed]\u001b[A"
          ]
        },
        {
          "output_type": "stream",
          "name": "stdout",
          "text": [
            "cleaned_data----------------------------------------- True\n",
            "1/1 [==============================] - 0s 11ms/step - loss: 0.3371 - accuracy: 1.0000\n"
          ]
        },
        {
          "output_type": "stream",
          "name": "stderr",
          "text": [
            "WARNING:absl:Found untraced functions such as _update_step_xla while saving (showing 1 of 1). These functions will not be directly callable after loading.\n",
            "100%|█████████▉| 786/787 [00:00<?, ?it/s]\n",
            "100%|██████████| 787/787 [00:00<00:00,  6.07it/s, iterations=787/787 Iterations Completed]"
          ]
        },
        {
          "output_type": "stream",
          "name": "stdout",
          "text": [
            "cleaned_data----------------------------------------- True\n",
            "1/1 [==============================] - 0s 11ms/step - loss: 0.3459 - accuracy: 1.0000\n"
          ]
        },
        {
          "output_type": "stream",
          "name": "stderr",
          "text": [
            "WARNING:absl:Found untraced functions such as _update_step_xla while saving (showing 1 of 1). These functions will not be directly callable after loading.\n",
            "\n",
            "                                                                                          \n",
            "100%|██████████| 788/788 [00:00<00:00,  6.01it/s]\u001b[A\n",
            "100%|██████████| 788/788 [00:00<00:00,  6.01it/s, iterations=788/788 Iterations Completed]\u001b[A"
          ]
        },
        {
          "output_type": "stream",
          "name": "stdout",
          "text": [
            "cleaned_data----------------------------------------- True\n",
            "1/1 [==============================] - 0s 12ms/step - loss: 0.3441 - accuracy: 1.0000\n"
          ]
        },
        {
          "output_type": "stream",
          "name": "stderr",
          "text": [
            "WARNING:absl:Found untraced functions such as _update_step_xla while saving (showing 1 of 1). These functions will not be directly callable after loading.\n",
            "100%|█████████▉| 788/789 [00:00<?, ?it/s]\n",
            "100%|██████████| 789/789 [00:00<00:00,  5.59it/s, iterations=789/789 Iterations Completed]"
          ]
        },
        {
          "output_type": "stream",
          "name": "stdout",
          "text": [
            "cleaned_data----------------------------------------- True\n",
            "1/1 [==============================] - 0s 13ms/step - loss: 0.3380 - accuracy: 1.0000\n"
          ]
        },
        {
          "output_type": "stream",
          "name": "stderr",
          "text": [
            "WARNING:absl:Found untraced functions such as _update_step_xla while saving (showing 1 of 1). These functions will not be directly callable after loading.\n",
            "\n",
            "\n",
            "100%|██████████| 790/790 [00:00<00:00,  4.78it/s]\u001b[A\n",
            "100%|██████████| 790/790 [00:00<00:00,  4.78it/s, iterations=790/790 Iterations Completed]\u001b[A"
          ]
        },
        {
          "output_type": "stream",
          "name": "stdout",
          "text": [
            "cleaned_data----------------------------------------- True\n",
            "1/1 [==============================] - 0s 13ms/step - loss: 0.3376 - accuracy: 1.0000\n"
          ]
        },
        {
          "output_type": "stream",
          "name": "stderr",
          "text": [
            "WARNING:absl:Found untraced functions such as _update_step_xla while saving (showing 1 of 1). These functions will not be directly callable after loading.\n",
            "100%|█████████▉| 790/791 [00:00<?, ?it/s]\n",
            "100%|██████████| 791/791 [00:00<00:00,  3.85it/s, iterations=791/791 Iterations Completed]"
          ]
        },
        {
          "output_type": "stream",
          "name": "stdout",
          "text": [
            "cleaned_data----------------------------------------- True\n",
            "1/1 [==============================] - 0s 24ms/step - loss: 0.3420 - accuracy: 1.0000\n"
          ]
        },
        {
          "output_type": "stream",
          "name": "stderr",
          "text": [
            "WARNING:absl:Found untraced functions such as _update_step_xla while saving (showing 1 of 1). These functions will not be directly callable after loading.\n",
            "\n",
            "                                                                                          \n",
            "100%|██████████| 792/792 [00:00<00:00,  6.53it/s]\u001b[A\n",
            "100%|██████████| 792/792 [00:00<00:00,  6.53it/s, iterations=792/792 Iterations Completed]\u001b[A"
          ]
        },
        {
          "output_type": "stream",
          "name": "stdout",
          "text": [
            "cleaned_data----------------------------------------- True\n",
            "1/1 [==============================] - 0s 11ms/step - loss: 0.3695 - accuracy: 1.0000\n"
          ]
        },
        {
          "output_type": "stream",
          "name": "stderr",
          "text": [
            "WARNING:absl:Found untraced functions such as _update_step_xla while saving (showing 1 of 1). These functions will not be directly callable after loading.\n",
            "100%|█████████▉| 792/793 [00:00<?, ?it/s]\n",
            "100%|██████████| 793/793 [00:00<00:00,  5.78it/s, iterations=793/793 Iterations Completed]"
          ]
        },
        {
          "output_type": "stream",
          "name": "stdout",
          "text": [
            "cleaned_data----------------------------------------- True\n",
            "1/1 [==============================] - 0s 14ms/step - loss: 0.3407 - accuracy: 1.0000\n"
          ]
        },
        {
          "output_type": "stream",
          "name": "stderr",
          "text": [
            "WARNING:absl:Found untraced functions such as _update_step_xla while saving (showing 1 of 1). These functions will not be directly callable after loading.\n",
            "\n",
            "                                                                                          \n",
            "100%|██████████| 794/794 [00:00<00:00,  5.70it/s]\u001b[A\n",
            "100%|██████████| 794/794 [00:00<00:00,  5.70it/s, iterations=794/794 Iterations Completed]\u001b[A"
          ]
        },
        {
          "output_type": "stream",
          "name": "stdout",
          "text": [
            "cleaned_data----------------------------------------- True\n",
            "1/1 [==============================] - 0s 12ms/step - loss: 0.3743 - accuracy: 1.0000\n"
          ]
        },
        {
          "output_type": "stream",
          "name": "stderr",
          "text": [
            "WARNING:absl:Found untraced functions such as _update_step_xla while saving (showing 1 of 1). These functions will not be directly callable after loading.\n",
            "100%|█████████▉| 794/795 [00:00<?, ?it/s]\n",
            "100%|██████████| 795/795 [00:00<00:00,  5.64it/s, iterations=795/795 Iterations Completed]"
          ]
        },
        {
          "output_type": "stream",
          "name": "stdout",
          "text": [
            "cleaned_data----------------------------------------- True\n",
            "1/1 [==============================] - 0s 11ms/step - loss: 0.3700 - accuracy: 1.0000\n"
          ]
        },
        {
          "output_type": "stream",
          "name": "stderr",
          "text": [
            "WARNING:absl:Found untraced functions such as _update_step_xla while saving (showing 1 of 1). These functions will not be directly callable after loading.\n",
            "\n",
            "                                                                                          \n",
            "100%|██████████| 796/796 [00:00<00:00,  6.49it/s]\u001b[A\n",
            "100%|██████████| 796/796 [00:00<00:00,  6.49it/s, iterations=796/796 Iterations Completed]\u001b[A"
          ]
        },
        {
          "output_type": "stream",
          "name": "stdout",
          "text": [
            "cleaned_data----------------------------------------- True\n",
            "1/1 [==============================] - 0s 18ms/step - loss: 0.3671 - accuracy: 1.0000\n"
          ]
        },
        {
          "output_type": "stream",
          "name": "stderr",
          "text": [
            "WARNING:absl:Found untraced functions such as _update_step_xla while saving (showing 1 of 1). These functions will not be directly callable after loading.\n",
            "100%|█████████▉| 796/797 [00:00<?, ?it/s]\n",
            "100%|██████████| 797/797 [00:00<00:00,  6.47it/s, iterations=797/797 Iterations Completed]"
          ]
        },
        {
          "output_type": "stream",
          "name": "stdout",
          "text": [
            "cleaned_data----------------------------------------- True\n",
            "1/1 [==============================] - 0s 14ms/step - loss: 0.3986 - accuracy: 1.0000\n"
          ]
        },
        {
          "output_type": "stream",
          "name": "stderr",
          "text": [
            "WARNING:absl:Found untraced functions such as _update_step_xla while saving (showing 1 of 1). These functions will not be directly callable after loading.\n",
            "\n",
            "                                                                                          \n",
            "100%|██████████| 798/798 [00:00<00:00,  6.65it/s]\u001b[A\n",
            "100%|██████████| 798/798 [00:00<00:00,  6.65it/s, iterations=798/798 Iterations Completed]\u001b[A"
          ]
        },
        {
          "output_type": "stream",
          "name": "stdout",
          "text": [
            "cleaned_data----------------------------------------- True\n",
            "1/1 [==============================] - 0s 11ms/step - loss: 0.3505 - accuracy: 1.0000\n"
          ]
        },
        {
          "output_type": "stream",
          "name": "stderr",
          "text": [
            "WARNING:absl:Found untraced functions such as _update_step_xla while saving (showing 1 of 1). These functions will not be directly callable after loading.\n",
            "100%|█████████▉| 798/799 [00:00<?, ?it/s]\n",
            "100%|██████████| 799/799 [00:00<00:00,  6.28it/s, iterations=799/799 Iterations Completed]"
          ]
        },
        {
          "output_type": "stream",
          "name": "stdout",
          "text": [
            "cleaned_data----------------------------------------- True\n",
            "1/1 [==============================] - 0s 8ms/step - loss: 0.3573 - accuracy: 1.0000\n"
          ]
        },
        {
          "output_type": "stream",
          "name": "stderr",
          "text": [
            "WARNING:absl:Found untraced functions such as _update_step_xla while saving (showing 1 of 1). These functions will not be directly callable after loading.\n",
            "\n",
            "                                                                                          \n",
            "100%|██████████| 800/800 [00:00<00:00,  6.19it/s]\u001b[A\n",
            "100%|██████████| 800/800 [00:00<00:00,  6.19it/s, iterations=800/800 Iterations Completed]\u001b[A"
          ]
        },
        {
          "output_type": "stream",
          "name": "stdout",
          "text": [
            "cleaned_data----------------------------------------- True\n",
            "1/1 [==============================] - 0s 16ms/step - loss: 0.3321 - accuracy: 1.0000\n"
          ]
        },
        {
          "output_type": "stream",
          "name": "stderr",
          "text": [
            "WARNING:absl:Found untraced functions such as _update_step_xla while saving (showing 1 of 1). These functions will not be directly callable after loading.\n",
            "100%|█████████▉| 800/801 [00:00<?, ?it/s]\n",
            "100%|██████████| 801/801 [00:00<00:00,  4.56it/s, iterations=801/801 Iterations Completed]"
          ]
        },
        {
          "output_type": "stream",
          "name": "stdout",
          "text": [
            "cleaned_data----------------------------------------- True\n",
            "1/1 [==============================] - 0s 15ms/step - loss: 0.3549 - accuracy: 1.0000\n"
          ]
        },
        {
          "output_type": "stream",
          "name": "stderr",
          "text": [
            "WARNING:absl:Found untraced functions such as _update_step_xla while saving (showing 1 of 1). These functions will not be directly callable after loading.\n",
            "\n",
            "\n",
            "100%|██████████| 802/802 [00:00<00:00,  4.30it/s]\u001b[A\n",
            "100%|██████████| 802/802 [00:00<00:00,  4.30it/s, iterations=802/802 Iterations Completed]\u001b[A"
          ]
        },
        {
          "output_type": "stream",
          "name": "stdout",
          "text": [
            "cleaned_data----------------------------------------- True\n",
            "1/1 [==============================] - 0s 12ms/step - loss: 0.3532 - accuracy: 1.0000\n"
          ]
        },
        {
          "output_type": "stream",
          "name": "stderr",
          "text": [
            "WARNING:absl:Found untraced functions such as _update_step_xla while saving (showing 1 of 1). These functions will not be directly callable after loading.\n",
            "100%|█████████▉| 802/803 [00:00<?, ?it/s]\n",
            "100%|██████████| 803/803 [00:00<00:00,  5.96it/s, iterations=803/803 Iterations Completed]"
          ]
        },
        {
          "output_type": "stream",
          "name": "stdout",
          "text": [
            "cleaned_data----------------------------------------- True\n",
            "1/1 [==============================] - 0s 13ms/step - loss: 0.4047 - accuracy: 1.0000\n"
          ]
        },
        {
          "output_type": "stream",
          "name": "stderr",
          "text": [
            "WARNING:absl:Found untraced functions such as _update_step_xla while saving (showing 1 of 1). These functions will not be directly callable after loading.\n",
            "\n",
            "                                                                                          \n",
            "100%|██████████| 804/804 [00:00<00:00,  6.03it/s]\u001b[A\n",
            "100%|██████████| 804/804 [00:00<00:00,  6.03it/s, iterations=804/804 Iterations Completed]\u001b[A"
          ]
        },
        {
          "output_type": "stream",
          "name": "stdout",
          "text": [
            "cleaned_data----------------------------------------- True\n",
            "1/1 [==============================] - 0s 14ms/step - loss: 0.3802 - accuracy: 1.0000\n"
          ]
        },
        {
          "output_type": "stream",
          "name": "stderr",
          "text": [
            "WARNING:absl:Found untraced functions such as _update_step_xla while saving (showing 1 of 1). These functions will not be directly callable after loading.\n",
            "100%|█████████▉| 804/805 [00:00<?, ?it/s]\n",
            "100%|██████████| 805/805 [00:00<00:00,  5.88it/s, iterations=805/805 Iterations Completed]"
          ]
        },
        {
          "output_type": "stream",
          "name": "stdout",
          "text": [
            "cleaned_data----------------------------------------- True\n",
            "1/1 [==============================] - 0s 11ms/step - loss: 0.3960 - accuracy: 1.0000\n"
          ]
        },
        {
          "output_type": "stream",
          "name": "stderr",
          "text": [
            "WARNING:absl:Found untraced functions such as _update_step_xla while saving (showing 1 of 1). These functions will not be directly callable after loading.\n",
            "\n",
            "                                                                                          \n",
            "100%|██████████| 806/806 [00:00<00:00,  6.91it/s]\u001b[A\n",
            "100%|██████████| 806/806 [00:00<00:00,  6.91it/s, iterations=806/806 Iterations Completed]\u001b[A"
          ]
        },
        {
          "output_type": "stream",
          "name": "stdout",
          "text": [
            "cleaned_data----------------------------------------- True\n",
            "1/1 [==============================] - 0s 14ms/step - loss: 0.4205 - accuracy: 1.0000\n"
          ]
        },
        {
          "output_type": "stream",
          "name": "stderr",
          "text": [
            "WARNING:absl:Found untraced functions such as _update_step_xla while saving (showing 1 of 1). These functions will not be directly callable after loading.\n",
            "100%|█████████▉| 806/807 [00:00<?, ?it/s]\n",
            "100%|██████████| 807/807 [00:00<00:00,  6.05it/s, iterations=807/807 Iterations Completed]"
          ]
        },
        {
          "output_type": "stream",
          "name": "stdout",
          "text": [
            "cleaned_data----------------------------------------- True\n",
            "1/1 [==============================] - 0s 14ms/step - loss: 0.4655 - accuracy: 1.0000\n"
          ]
        },
        {
          "output_type": "stream",
          "name": "stderr",
          "text": [
            "WARNING:absl:Found untraced functions such as _update_step_xla while saving (showing 1 of 1). These functions will not be directly callable after loading.\n",
            "\n",
            "                                                                                          \n",
            "100%|██████████| 808/808 [00:00<00:00,  6.51it/s]\u001b[A\n",
            "100%|██████████| 808/808 [00:00<00:00,  6.51it/s, iterations=808/808 Iterations Completed]\u001b[A"
          ]
        },
        {
          "output_type": "stream",
          "name": "stdout",
          "text": [
            "cleaned_data----------------------------------------- True\n",
            "1/1 [==============================] - 0s 15ms/step - loss: 0.4182 - accuracy: 1.0000\n"
          ]
        },
        {
          "output_type": "stream",
          "name": "stderr",
          "text": [
            "WARNING:absl:Found untraced functions such as _update_step_xla while saving (showing 1 of 1). These functions will not be directly callable after loading.\n",
            "100%|█████████▉| 808/809 [00:00<?, ?it/s]\n",
            "100%|██████████| 809/809 [00:00<00:00,  5.64it/s, iterations=809/809 Iterations Completed]"
          ]
        },
        {
          "output_type": "stream",
          "name": "stdout",
          "text": [
            "cleaned_data----------------------------------------- True\n",
            "1/1 [==============================] - 0s 11ms/step - loss: 0.3998 - accuracy: 1.0000\n"
          ]
        },
        {
          "output_type": "stream",
          "name": "stderr",
          "text": [
            "WARNING:absl:Found untraced functions such as _update_step_xla while saving (showing 1 of 1). These functions will not be directly callable after loading.\n",
            "\n",
            "                                                                                          \n",
            "100%|██████████| 810/810 [00:00<00:00,  6.37it/s]\u001b[A\n",
            "100%|██████████| 810/810 [00:00<00:00,  6.37it/s, iterations=810/810 Iterations Completed]\u001b[A"
          ]
        },
        {
          "output_type": "stream",
          "name": "stdout",
          "text": [
            "cleaned_data----------------------------------------- True\n",
            "1/1 [==============================] - 0s 11ms/step - loss: 0.3471 - accuracy: 1.0000\n"
          ]
        },
        {
          "output_type": "stream",
          "name": "stderr",
          "text": [
            "WARNING:absl:Found untraced functions such as _update_step_xla while saving (showing 1 of 1). These functions will not be directly callable after loading.\n",
            "100%|█████████▉| 810/811 [00:00<?, ?it/s]\n",
            "100%|██████████| 811/811 [00:00<00:00,  4.19it/s, iterations=811/811 Iterations Completed]"
          ]
        },
        {
          "output_type": "stream",
          "name": "stdout",
          "text": [
            "cleaned_data----------------------------------------- True\n",
            "1/1 [==============================] - 0s 12ms/step - loss: 0.3681 - accuracy: 1.0000\n"
          ]
        },
        {
          "output_type": "stream",
          "name": "stderr",
          "text": [
            "WARNING:absl:Found untraced functions such as _update_step_xla while saving (showing 1 of 1). These functions will not be directly callable after loading.\n",
            "\n",
            "\n",
            "100%|██████████| 812/812 [00:01<00:00,  1.05s/it]\u001b[A\n",
            "100%|██████████| 812/812 [00:01<00:00,  1.05s/it, iterations=812/812 Iterations Completed]\u001b[A"
          ]
        },
        {
          "output_type": "stream",
          "name": "stdout",
          "text": [
            "cleaned_data----------------------------------------- True\n",
            "1/1 [==============================] - 0s 16ms/step - loss: 0.3466 - accuracy: 1.0000\n"
          ]
        },
        {
          "output_type": "stream",
          "name": "stderr",
          "text": [
            "WARNING:absl:Found untraced functions such as _update_step_xla while saving (showing 1 of 1). These functions will not be directly callable after loading.\n",
            "100%|█████████▉| 812/813 [00:00<?, ?it/s]\n",
            "100%|██████████| 813/813 [00:00<00:00,  5.78it/s, iterations=813/813 Iterations Completed]"
          ]
        },
        {
          "output_type": "stream",
          "name": "stdout",
          "text": [
            "cleaned_data----------------------------------------- True\n",
            "1/1 [==============================] - 0s 13ms/step - loss: 0.3307 - accuracy: 1.0000\n"
          ]
        },
        {
          "output_type": "stream",
          "name": "stderr",
          "text": [
            "WARNING:absl:Found untraced functions such as _update_step_xla while saving (showing 1 of 1). These functions will not be directly callable after loading.\n",
            "\n",
            "                                                                                          \n",
            "100%|██████████| 814/814 [00:00<00:00,  6.02it/s]\u001b[A\n",
            "100%|██████████| 814/814 [00:00<00:00,  6.02it/s, iterations=814/814 Iterations Completed]\u001b[A"
          ]
        },
        {
          "output_type": "stream",
          "name": "stdout",
          "text": [
            "cleaned_data----------------------------------------- True\n",
            "1/1 [==============================] - 0s 27ms/step - loss: 0.3419 - accuracy: 1.0000\n"
          ]
        },
        {
          "output_type": "stream",
          "name": "stderr",
          "text": [
            "WARNING:absl:Found untraced functions such as _update_step_xla while saving (showing 1 of 1). These functions will not be directly callable after loading.\n",
            "100%|█████████▉| 814/815 [00:00<?, ?it/s]\n",
            "100%|██████████| 815/815 [00:00<00:00,  5.93it/s, iterations=815/815 Iterations Completed]"
          ]
        },
        {
          "output_type": "stream",
          "name": "stdout",
          "text": [
            "cleaned_data----------------------------------------- True\n",
            "1/1 [==============================] - 0s 10ms/step - loss: 0.3757 - accuracy: 1.0000\n"
          ]
        },
        {
          "output_type": "stream",
          "name": "stderr",
          "text": [
            "WARNING:absl:Found untraced functions such as _update_step_xla while saving (showing 1 of 1). These functions will not be directly callable after loading.\n",
            "\n",
            "                                                                                          \n",
            "100%|██████████| 816/816 [00:00<00:00,  6.51it/s]\u001b[A\n",
            "100%|██████████| 816/816 [00:00<00:00,  6.51it/s, iterations=816/816 Iterations Completed]\u001b[A"
          ]
        },
        {
          "output_type": "stream",
          "name": "stdout",
          "text": [
            "cleaned_data----------------------------------------- True\n",
            "1/1 [==============================] - 0s 11ms/step - loss: 0.4832 - accuracy: 0.9643\n"
          ]
        },
        {
          "output_type": "stream",
          "name": "stderr",
          "text": [
            "WARNING:absl:Found untraced functions such as _update_step_xla while saving (showing 1 of 1). These functions will not be directly callable after loading.\n",
            "100%|█████████▉| 816/817 [00:00<?, ?it/s]\n",
            "100%|██████████| 817/817 [00:00<00:00,  6.16it/s, iterations=817/817 Iterations Completed]"
          ]
        },
        {
          "output_type": "stream",
          "name": "stdout",
          "text": [
            "cleaned_data----------------------------------------- True\n",
            "1/1 [==============================] - 0s 18ms/step - loss: 0.4231 - accuracy: 0.9643\n"
          ]
        },
        {
          "output_type": "stream",
          "name": "stderr",
          "text": [
            "WARNING:absl:Found untraced functions such as _update_step_xla while saving (showing 1 of 1). These functions will not be directly callable after loading.\n",
            "\n",
            "                                                                                          \n",
            "100%|██████████| 818/818 [00:00<00:00,  6.42it/s]\u001b[A\n",
            "100%|██████████| 818/818 [00:00<00:00,  6.42it/s, iterations=818/818 Iterations Completed]\u001b[A"
          ]
        },
        {
          "output_type": "stream",
          "name": "stdout",
          "text": [
            "cleaned_data----------------------------------------- True\n",
            "1/1 [==============================] - 0s 18ms/step - loss: 0.4079 - accuracy: 1.0000\n"
          ]
        },
        {
          "output_type": "stream",
          "name": "stderr",
          "text": [
            "WARNING:absl:Found untraced functions such as _update_step_xla while saving (showing 1 of 1). These functions will not be directly callable after loading.\n",
            "100%|█████████▉| 818/819 [00:00<?, ?it/s]\n",
            "100%|██████████| 819/819 [00:00<00:00,  6.00it/s, iterations=819/819 Iterations Completed]"
          ]
        },
        {
          "output_type": "stream",
          "name": "stdout",
          "text": [
            "cleaned_data----------------------------------------- True\n",
            "1/1 [==============================] - 0s 10ms/step - loss: 0.3813 - accuracy: 1.0000\n"
          ]
        },
        {
          "output_type": "stream",
          "name": "stderr",
          "text": [
            "WARNING:absl:Found untraced functions such as _update_step_xla while saving (showing 1 of 1). These functions will not be directly callable after loading.\n",
            "\n",
            "                                                                                          \n",
            "100%|██████████| 820/820 [00:00<00:00,  7.03it/s]\u001b[A\n",
            "100%|██████████| 820/820 [00:00<00:00,  7.03it/s, iterations=820/820 Iterations Completed]\u001b[A"
          ]
        },
        {
          "output_type": "stream",
          "name": "stdout",
          "text": [
            "cleaned_data----------------------------------------- True\n",
            "1/1 [==============================] - 0s 10ms/step - loss: 0.3358 - accuracy: 1.0000\n"
          ]
        },
        {
          "output_type": "stream",
          "name": "stderr",
          "text": [
            "WARNING:absl:Found untraced functions such as _update_step_xla while saving (showing 1 of 1). These functions will not be directly callable after loading.\n",
            "100%|█████████▉| 820/821 [00:00<?, ?it/s]\n",
            "100%|██████████| 821/821 [00:00<00:00,  6.57it/s, iterations=821/821 Iterations Completed]"
          ]
        },
        {
          "output_type": "stream",
          "name": "stdout",
          "text": [
            "cleaned_data----------------------------------------- True\n",
            "1/1 [==============================] - 0s 9ms/step - loss: 0.3377 - accuracy: 1.0000\n"
          ]
        },
        {
          "output_type": "stream",
          "name": "stderr",
          "text": [
            "WARNING:absl:Found untraced functions such as _update_step_xla while saving (showing 1 of 1). These functions will not be directly callable after loading.\n",
            "\n",
            "                                                                                          \n",
            "100%|██████████| 822/822 [00:00<00:00,  5.52it/s]\u001b[A\n",
            "100%|██████████| 822/822 [00:00<00:00,  5.52it/s, iterations=822/822 Iterations Completed]\u001b[A"
          ]
        },
        {
          "output_type": "stream",
          "name": "stdout",
          "text": [
            "cleaned_data----------------------------------------- True\n",
            "1/1 [==============================] - 0s 13ms/step - loss: 0.3438 - accuracy: 1.0000\n"
          ]
        },
        {
          "output_type": "stream",
          "name": "stderr",
          "text": [
            "WARNING:absl:Found untraced functions such as _update_step_xla while saving (showing 1 of 1). These functions will not be directly callable after loading.\n",
            "100%|█████████▉| 822/823 [00:00<?, ?it/s]\n",
            "100%|██████████| 823/823 [00:00<00:00,  4.44it/s, iterations=823/823 Iterations Completed]"
          ]
        },
        {
          "output_type": "stream",
          "name": "stdout",
          "text": [
            "cleaned_data----------------------------------------- True\n",
            "1/1 [==============================] - 0s 10ms/step - loss: 0.3986 - accuracy: 1.0000\n"
          ]
        },
        {
          "output_type": "stream",
          "name": "stderr",
          "text": [
            "WARNING:absl:Found untraced functions such as _update_step_xla while saving (showing 1 of 1). These functions will not be directly callable after loading.\n",
            "\n",
            "                                                                                          \n",
            "100%|██████████| 824/824 [00:00<00:00,  5.93it/s]\u001b[A\n",
            "100%|██████████| 824/824 [00:00<00:00,  5.93it/s, iterations=824/824 Iterations Completed]\u001b[A"
          ]
        },
        {
          "output_type": "stream",
          "name": "stdout",
          "text": [
            "cleaned_data----------------------------------------- True\n",
            "1/1 [==============================] - 0s 11ms/step - loss: 0.3811 - accuracy: 1.0000\n"
          ]
        },
        {
          "output_type": "stream",
          "name": "stderr",
          "text": [
            "WARNING:absl:Found untraced functions such as _update_step_xla while saving (showing 1 of 1). These functions will not be directly callable after loading.\n",
            "100%|█████████▉| 824/825 [00:00<?, ?it/s]\n",
            "100%|██████████| 825/825 [00:00<00:00,  5.39it/s, iterations=825/825 Iterations Completed]"
          ]
        },
        {
          "output_type": "stream",
          "name": "stdout",
          "text": [
            "cleaned_data----------------------------------------- True\n",
            "1/1 [==============================] - 0s 11ms/step - loss: 0.3919 - accuracy: 1.0000\n"
          ]
        },
        {
          "output_type": "stream",
          "name": "stderr",
          "text": [
            "WARNING:absl:Found untraced functions such as _update_step_xla while saving (showing 1 of 1). These functions will not be directly callable after loading.\n",
            "\n",
            "                                                                                          \n",
            "100%|██████████| 826/826 [00:00<00:00,  6.25it/s]\u001b[A\n",
            "100%|██████████| 826/826 [00:00<00:00,  6.25it/s, iterations=826/826 Iterations Completed]\u001b[A"
          ]
        },
        {
          "output_type": "stream",
          "name": "stdout",
          "text": [
            "cleaned_data----------------------------------------- True\n",
            "1/1 [==============================] - 0s 10ms/step - loss: 0.4551 - accuracy: 1.0000\n"
          ]
        },
        {
          "output_type": "stream",
          "name": "stderr",
          "text": [
            "WARNING:absl:Found untraced functions such as _update_step_xla while saving (showing 1 of 1). These functions will not be directly callable after loading.\n",
            "100%|█████████▉| 826/827 [00:00<?, ?it/s]\n",
            "100%|██████████| 827/827 [00:00<00:00,  5.78it/s, iterations=827/827 Iterations Completed]"
          ]
        },
        {
          "output_type": "stream",
          "name": "stdout",
          "text": [
            "cleaned_data----------------------------------------- True\n",
            "1/1 [==============================] - 0s 12ms/step - loss: 0.3886 - accuracy: 1.0000\n"
          ]
        },
        {
          "output_type": "stream",
          "name": "stderr",
          "text": [
            "WARNING:absl:Found untraced functions such as _update_step_xla while saving (showing 1 of 1). These functions will not be directly callable after loading.\n",
            "\n",
            "                                                                                          \n",
            "100%|██████████| 828/828 [00:00<00:00,  6.26it/s]\u001b[A\n",
            "100%|██████████| 828/828 [00:00<00:00,  6.26it/s, iterations=828/828 Iterations Completed]\u001b[A"
          ]
        },
        {
          "output_type": "stream",
          "name": "stdout",
          "text": [
            "cleaned_data----------------------------------------- True\n",
            "1/1 [==============================] - 0s 12ms/step - loss: 0.3633 - accuracy: 1.0000\n"
          ]
        },
        {
          "output_type": "stream",
          "name": "stderr",
          "text": [
            "WARNING:absl:Found untraced functions such as _update_step_xla while saving (showing 1 of 1). These functions will not be directly callable after loading.\n",
            "100%|█████████▉| 828/829 [00:00<?, ?it/s]\n",
            "100%|██████████| 829/829 [00:00<00:00,  6.39it/s, iterations=829/829 Iterations Completed]"
          ]
        },
        {
          "output_type": "stream",
          "name": "stdout",
          "text": [
            "cleaned_data----------------------------------------- True\n",
            "1/1 [==============================] - 0s 10ms/step - loss: 0.4064 - accuracy: 1.0000\n"
          ]
        },
        {
          "output_type": "stream",
          "name": "stderr",
          "text": [
            "WARNING:absl:Found untraced functions such as _update_step_xla while saving (showing 1 of 1). These functions will not be directly callable after loading.\n",
            "\n",
            "                                                                                          \n",
            "100%|██████████| 830/830 [00:00<00:00,  6.86it/s]\u001b[A\n",
            "100%|██████████| 830/830 [00:00<00:00,  6.86it/s, iterations=830/830 Iterations Completed]\u001b[A"
          ]
        },
        {
          "output_type": "stream",
          "name": "stdout",
          "text": [
            "cleaned_data----------------------------------------- True\n",
            "1/1 [==============================] - 0s 25ms/step - loss: 0.3584 - accuracy: 1.0000\n"
          ]
        },
        {
          "output_type": "stream",
          "name": "stderr",
          "text": [
            "WARNING:absl:Found untraced functions such as _update_step_xla while saving (showing 1 of 1). These functions will not be directly callable after loading.\n",
            "100%|█████████▉| 830/831 [00:00<?, ?it/s]\n",
            "100%|██████████| 831/831 [00:00<00:00,  6.58it/s, iterations=831/831 Iterations Completed]"
          ]
        },
        {
          "output_type": "stream",
          "name": "stdout",
          "text": [
            "cleaned_data----------------------------------------- True\n",
            "1/1 [==============================] - 0s 10ms/step - loss: 0.3580 - accuracy: 1.0000\n"
          ]
        },
        {
          "output_type": "stream",
          "name": "stderr",
          "text": [
            "WARNING:absl:Found untraced functions such as _update_step_xla while saving (showing 1 of 1). These functions will not be directly callable after loading.\n",
            "\n",
            "\n",
            "100%|██████████| 832/832 [00:00<00:00,  4.80it/s]\u001b[A\n",
            "100%|██████████| 832/832 [00:00<00:00,  4.80it/s, iterations=832/832 Iterations Completed]\u001b[A"
          ]
        },
        {
          "output_type": "stream",
          "name": "stdout",
          "text": [
            "cleaned_data----------------------------------------- True\n",
            "1/1 [==============================] - 0s 14ms/step - loss: 0.3979 - accuracy: 1.0000\n"
          ]
        },
        {
          "output_type": "stream",
          "name": "stderr",
          "text": [
            "WARNING:absl:Found untraced functions such as _update_step_xla while saving (showing 1 of 1). These functions will not be directly callable after loading.\n",
            "100%|█████████▉| 832/833 [00:00<?, ?it/s]\n",
            "100%|██████████| 833/833 [00:00<00:00,  4.90it/s, iterations=833/833 Iterations Completed]"
          ]
        },
        {
          "output_type": "stream",
          "name": "stdout",
          "text": [
            "cleaned_data----------------------------------------- True\n",
            "1/1 [==============================] - 0s 10ms/step - loss: 0.3650 - accuracy: 1.0000\n"
          ]
        },
        {
          "output_type": "stream",
          "name": "stderr",
          "text": [
            "WARNING:absl:Found untraced functions such as _update_step_xla while saving (showing 1 of 1). These functions will not be directly callable after loading.\n",
            "\n",
            "\n",
            "100%|██████████| 834/834 [00:00<00:00,  4.61it/s]\u001b[A\n",
            "100%|██████████| 834/834 [00:00<00:00,  4.61it/s, iterations=834/834 Iterations Completed]\u001b[A"
          ]
        },
        {
          "output_type": "stream",
          "name": "stdout",
          "text": [
            "cleaned_data----------------------------------------- True\n",
            "1/1 [==============================] - 0s 14ms/step - loss: 0.3298 - accuracy: 1.0000\n"
          ]
        },
        {
          "output_type": "stream",
          "name": "stderr",
          "text": [
            "WARNING:absl:Found untraced functions such as _update_step_xla while saving (showing 1 of 1). These functions will not be directly callable after loading.\n",
            "100%|█████████▉| 834/835 [00:00<?, ?it/s]\n",
            "100%|██████████| 835/835 [00:00<00:00,  6.66it/s, iterations=835/835 Iterations Completed]"
          ]
        },
        {
          "output_type": "stream",
          "name": "stdout",
          "text": [
            "cleaned_data----------------------------------------- True\n",
            "1/1 [==============================] - 0s 10ms/step - loss: 0.3402 - accuracy: 1.0000\n"
          ]
        },
        {
          "output_type": "stream",
          "name": "stderr",
          "text": [
            "WARNING:absl:Found untraced functions such as _update_step_xla while saving (showing 1 of 1). These functions will not be directly callable after loading.\n",
            "\n",
            "                                                                                          \n",
            "100%|██████████| 836/836 [00:00<00:00,  6.31it/s]\u001b[A\n",
            "100%|██████████| 836/836 [00:00<00:00,  6.31it/s, iterations=836/836 Iterations Completed]\u001b[A"
          ]
        },
        {
          "output_type": "stream",
          "name": "stdout",
          "text": [
            "cleaned_data----------------------------------------- True\n",
            "1/1 [==============================] - 0s 22ms/step - loss: 0.3407 - accuracy: 1.0000\n"
          ]
        },
        {
          "output_type": "stream",
          "name": "stderr",
          "text": [
            "WARNING:absl:Found untraced functions such as _update_step_xla while saving (showing 1 of 1). These functions will not be directly callable after loading.\n",
            "100%|█████████▉| 836/837 [00:00<?, ?it/s]\n",
            "100%|██████████| 837/837 [00:00<00:00,  6.02it/s, iterations=837/837 Iterations Completed]"
          ]
        },
        {
          "output_type": "stream",
          "name": "stdout",
          "text": [
            "cleaned_data----------------------------------------- True\n",
            "1/1 [==============================] - 0s 10ms/step - loss: 0.3735 - accuracy: 1.0000\n"
          ]
        },
        {
          "output_type": "stream",
          "name": "stderr",
          "text": [
            "WARNING:absl:Found untraced functions such as _update_step_xla while saving (showing 1 of 1). These functions will not be directly callable after loading.\n",
            "\n",
            "                                                                                          \n",
            "100%|██████████| 838/838 [00:00<00:00,  6.20it/s]\u001b[A\n",
            "100%|██████████| 838/838 [00:00<00:00,  6.20it/s, iterations=838/838 Iterations Completed]\u001b[A"
          ]
        },
        {
          "output_type": "stream",
          "name": "stdout",
          "text": [
            "cleaned_data----------------------------------------- True\n",
            "1/1 [==============================] - 0s 9ms/step - loss: 0.4067 - accuracy: 1.0000\n"
          ]
        },
        {
          "output_type": "stream",
          "name": "stderr",
          "text": [
            "WARNING:absl:Found untraced functions such as _update_step_xla while saving (showing 1 of 1). These functions will not be directly callable after loading.\n",
            "100%|█████████▉| 838/839 [00:00<?, ?it/s]\n",
            "100%|██████████| 839/839 [00:00<00:00,  5.72it/s, iterations=839/839 Iterations Completed]"
          ]
        },
        {
          "output_type": "stream",
          "name": "stdout",
          "text": [
            "cleaned_data----------------------------------------- True\n",
            "1/1 [==============================] - 0s 10ms/step - loss: 0.3831 - accuracy: 1.0000\n"
          ]
        },
        {
          "output_type": "stream",
          "name": "stderr",
          "text": [
            "WARNING:absl:Found untraced functions such as _update_step_xla while saving (showing 1 of 1). These functions will not be directly callable after loading.\n",
            "\n",
            "                                                                                          \n",
            "100%|██████████| 840/840 [00:00<00:00,  6.32it/s]\u001b[A\n",
            "100%|██████████| 840/840 [00:00<00:00,  6.32it/s, iterations=840/840 Iterations Completed]\u001b[A"
          ]
        },
        {
          "output_type": "stream",
          "name": "stdout",
          "text": [
            "cleaned_data----------------------------------------- True\n",
            "1/1 [==============================] - 0s 12ms/step - loss: 0.3734 - accuracy: 1.0000\n"
          ]
        },
        {
          "output_type": "stream",
          "name": "stderr",
          "text": [
            "WARNING:absl:Found untraced functions such as _update_step_xla while saving (showing 1 of 1). These functions will not be directly callable after loading.\n",
            "100%|█████████▉| 840/841 [00:00<?, ?it/s]\n",
            "100%|██████████| 841/841 [00:00<00:00,  5.57it/s, iterations=841/841 Iterations Completed]"
          ]
        },
        {
          "output_type": "stream",
          "name": "stdout",
          "text": [
            "cleaned_data----------------------------------------- True\n",
            "1/1 [==============================] - 0s 10ms/step - loss: 0.3627 - accuracy: 1.0000\n"
          ]
        },
        {
          "output_type": "stream",
          "name": "stderr",
          "text": [
            "WARNING:absl:Found untraced functions such as _update_step_xla while saving (showing 1 of 1). These functions will not be directly callable after loading.\n",
            "\n",
            "                                                                                          \n",
            "100%|██████████| 842/842 [00:00<00:00,  6.21it/s]\u001b[A\n",
            "100%|██████████| 842/842 [00:00<00:00,  6.21it/s, iterations=842/842 Iterations Completed]\u001b[A"
          ]
        },
        {
          "output_type": "stream",
          "name": "stdout",
          "text": [
            "cleaned_data----------------------------------------- True\n",
            "1/1 [==============================] - 0s 18ms/step - loss: 0.3433 - accuracy: 1.0000\n"
          ]
        },
        {
          "output_type": "stream",
          "name": "stderr",
          "text": [
            "WARNING:absl:Found untraced functions such as _update_step_xla while saving (showing 1 of 1). These functions will not be directly callable after loading.\n",
            "100%|█████████▉| 842/843 [00:00<?, ?it/s]\n",
            "100%|██████████| 843/843 [00:00<00:00,  5.71it/s, iterations=843/843 Iterations Completed]"
          ]
        },
        {
          "output_type": "stream",
          "name": "stdout",
          "text": [
            "cleaned_data----------------------------------------- True\n",
            "1/1 [==============================] - 0s 12ms/step - loss: 0.3484 - accuracy: 1.0000\n"
          ]
        },
        {
          "output_type": "stream",
          "name": "stderr",
          "text": [
            "WARNING:absl:Found untraced functions such as _update_step_xla while saving (showing 1 of 1). These functions will not be directly callable after loading.\n",
            "\n",
            "                                                                                          \n",
            "100%|██████████| 844/844 [00:00<00:00,  5.63it/s]\u001b[A\n",
            "100%|██████████| 844/844 [00:00<00:00,  5.63it/s, iterations=844/844 Iterations Completed]\u001b[A"
          ]
        },
        {
          "output_type": "stream",
          "name": "stdout",
          "text": [
            "cleaned_data----------------------------------------- True\n",
            "1/1 [==============================] - 0s 16ms/step - loss: 0.3333 - accuracy: 1.0000\n"
          ]
        },
        {
          "output_type": "stream",
          "name": "stderr",
          "text": [
            "WARNING:absl:Found untraced functions such as _update_step_xla while saving (showing 1 of 1). These functions will not be directly callable after loading.\n",
            "100%|█████████▉| 844/845 [00:00<?, ?it/s]\n",
            "100%|██████████| 845/845 [00:00<00:00,  6.49it/s, iterations=845/845 Iterations Completed]"
          ]
        },
        {
          "output_type": "stream",
          "name": "stdout",
          "text": [
            "cleaned_data----------------------------------------- True\n",
            "1/1 [==============================] - 0s 13ms/step - loss: 0.3385 - accuracy: 1.0000\n"
          ]
        },
        {
          "output_type": "stream",
          "name": "stderr",
          "text": [
            "WARNING:absl:Found untraced functions such as _update_step_xla while saving (showing 1 of 1). These functions will not be directly callable after loading.\n",
            "\n",
            "                                                                                          \n",
            "100%|██████████| 846/846 [00:00<00:00,  6.61it/s]\u001b[A\n",
            "100%|██████████| 846/846 [00:00<00:00,  6.61it/s, iterations=846/846 Iterations Completed]\u001b[A"
          ]
        },
        {
          "output_type": "stream",
          "name": "stdout",
          "text": [
            "cleaned_data----------------------------------------- True\n",
            "1/1 [==============================] - 0s 15ms/step - loss: 0.3610 - accuracy: 1.0000\n"
          ]
        },
        {
          "output_type": "stream",
          "name": "stderr",
          "text": [
            "WARNING:absl:Found untraced functions such as _update_step_xla while saving (showing 1 of 1). These functions will not be directly callable after loading.\n",
            "100%|█████████▉| 846/847 [00:00<?, ?it/s]\n",
            "100%|██████████| 847/847 [00:00<00:00,  6.34it/s, iterations=847/847 Iterations Completed]"
          ]
        },
        {
          "output_type": "stream",
          "name": "stdout",
          "text": [
            "cleaned_data----------------------------------------- True\n",
            "1/1 [==============================] - 0s 11ms/step - loss: 0.3642 - accuracy: 1.0000\n"
          ]
        },
        {
          "output_type": "stream",
          "name": "stderr",
          "text": [
            "WARNING:absl:Found untraced functions such as _update_step_xla while saving (showing 1 of 1). These functions will not be directly callable after loading.\n",
            "\n",
            "                                                                                          \n",
            "100%|██████████| 848/848 [00:00<00:00,  6.44it/s]\u001b[A\n",
            "100%|██████████| 848/848 [00:00<00:00,  6.44it/s, iterations=848/848 Iterations Completed]\u001b[A"
          ]
        },
        {
          "output_type": "stream",
          "name": "stdout",
          "text": [
            "cleaned_data----------------------------------------- True\n",
            "1/1 [==============================] - 0s 13ms/step - loss: 0.3815 - accuracy: 1.0000\n"
          ]
        },
        {
          "output_type": "stream",
          "name": "stderr",
          "text": [
            "WARNING:absl:Found untraced functions such as _update_step_xla while saving (showing 1 of 1). These functions will not be directly callable after loading.\n",
            "100%|█████████▉| 848/849 [00:00<?, ?it/s]\n",
            "100%|██████████| 849/849 [00:00<00:00,  5.88it/s, iterations=849/849 Iterations Completed]"
          ]
        },
        {
          "output_type": "stream",
          "name": "stdout",
          "text": [
            "cleaned_data----------------------------------------- True\n",
            "1/1 [==============================] - 0s 13ms/step - loss: 0.3639 - accuracy: 1.0000\n"
          ]
        },
        {
          "output_type": "stream",
          "name": "stderr",
          "text": [
            "WARNING:absl:Found untraced functions such as _update_step_xla while saving (showing 1 of 1). These functions will not be directly callable after loading.\n",
            "\n",
            "                                                                                          \n",
            "100%|██████████| 850/850 [00:00<00:00,  5.62it/s]\u001b[A\n",
            "100%|██████████| 850/850 [00:00<00:00,  5.62it/s, iterations=850/850 Iterations Completed]\u001b[A"
          ]
        },
        {
          "output_type": "stream",
          "name": "stdout",
          "text": [
            "cleaned_data----------------------------------------- True\n",
            "1/1 [==============================] - 0s 14ms/step - loss: 0.3656 - accuracy: 1.0000\n"
          ]
        },
        {
          "output_type": "stream",
          "name": "stderr",
          "text": [
            "WARNING:absl:Found untraced functions such as _update_step_xla while saving (showing 1 of 1). These functions will not be directly callable after loading.\n",
            "100%|█████████▉| 850/851 [00:00<?, ?it/s]\n",
            "100%|██████████| 851/851 [00:00<00:00,  6.32it/s, iterations=851/851 Iterations Completed]"
          ]
        },
        {
          "output_type": "stream",
          "name": "stdout",
          "text": [
            "cleaned_data----------------------------------------- True\n",
            "1/1 [==============================] - 0s 9ms/step - loss: 0.3572 - accuracy: 1.0000\n"
          ]
        },
        {
          "output_type": "stream",
          "name": "stderr",
          "text": [
            "WARNING:absl:Found untraced functions such as _update_step_xla while saving (showing 1 of 1). These functions will not be directly callable after loading.\n",
            "\n",
            "                                                                                          \n",
            "100%|██████████| 852/852 [00:00<00:00,  6.01it/s]\u001b[A\n",
            "100%|██████████| 852/852 [00:00<00:00,  6.01it/s, iterations=852/852 Iterations Completed]\u001b[A"
          ]
        },
        {
          "output_type": "stream",
          "name": "stdout",
          "text": [
            "cleaned_data----------------------------------------- True\n",
            "1/1 [==============================] - 0s 11ms/step - loss: 0.3653 - accuracy: 1.0000\n"
          ]
        },
        {
          "output_type": "stream",
          "name": "stderr",
          "text": [
            "WARNING:absl:Found untraced functions such as _update_step_xla while saving (showing 1 of 1). These functions will not be directly callable after loading.\n",
            "100%|█████████▉| 852/853 [00:00<?, ?it/s]\n",
            "100%|██████████| 853/853 [00:00<00:00,  5.06it/s, iterations=853/853 Iterations Completed]"
          ]
        },
        {
          "output_type": "stream",
          "name": "stdout",
          "text": [
            "cleaned_data----------------------------------------- True\n",
            "1/1 [==============================] - 0s 23ms/step - loss: 0.3544 - accuracy: 1.0000\n"
          ]
        },
        {
          "output_type": "stream",
          "name": "stderr",
          "text": [
            "WARNING:absl:Found untraced functions such as _update_step_xla while saving (showing 1 of 1). These functions will not be directly callable after loading.\n",
            "\n",
            "\n",
            "100%|██████████| 854/854 [00:00<00:00,  4.62it/s]\u001b[A\n",
            "100%|██████████| 854/854 [00:00<00:00,  4.62it/s, iterations=854/854 Iterations Completed]\u001b[A"
          ]
        },
        {
          "output_type": "stream",
          "name": "stdout",
          "text": [
            "cleaned_data----------------------------------------- True\n",
            "1/1 [==============================] - 0s 15ms/step - loss: 0.3430 - accuracy: 1.0000\n"
          ]
        },
        {
          "output_type": "stream",
          "name": "stderr",
          "text": [
            "WARNING:absl:Found untraced functions such as _update_step_xla while saving (showing 1 of 1). These functions will not be directly callable after loading.\n",
            "100%|█████████▉| 854/855 [00:00<?, ?it/s]\n",
            "100%|██████████| 855/855 [00:00<00:00,  4.19it/s, iterations=855/855 Iterations Completed]"
          ]
        },
        {
          "output_type": "stream",
          "name": "stdout",
          "text": [
            "cleaned_data----------------------------------------- True\n",
            "1/1 [==============================] - 0s 21ms/step - loss: 0.3434 - accuracy: 1.0000\n"
          ]
        },
        {
          "output_type": "stream",
          "name": "stderr",
          "text": [
            "WARNING:absl:Found untraced functions such as _update_step_xla while saving (showing 1 of 1). These functions will not be directly callable after loading.\n",
            "\n",
            "                                                                                          \n",
            "100%|██████████| 856/856 [00:00<00:00,  6.66it/s]\u001b[A\n",
            "100%|██████████| 856/856 [00:00<00:00,  6.66it/s, iterations=856/856 Iterations Completed]\u001b[A"
          ]
        },
        {
          "output_type": "stream",
          "name": "stdout",
          "text": [
            "cleaned_data----------------------------------------- True\n",
            "1/1 [==============================] - 0s 20ms/step - loss: 0.3332 - accuracy: 1.0000\n"
          ]
        },
        {
          "output_type": "stream",
          "name": "stderr",
          "text": [
            "WARNING:absl:Found untraced functions such as _update_step_xla while saving (showing 1 of 1). These functions will not be directly callable after loading.\n",
            "100%|█████████▉| 856/857 [00:00<?, ?it/s]\n",
            "100%|██████████| 857/857 [00:00<00:00,  6.74it/s, iterations=857/857 Iterations Completed]"
          ]
        },
        {
          "output_type": "stream",
          "name": "stdout",
          "text": [
            "cleaned_data----------------------------------------- True\n",
            "1/1 [==============================] - 0s 9ms/step - loss: 0.3309 - accuracy: 1.0000\n"
          ]
        },
        {
          "output_type": "stream",
          "name": "stderr",
          "text": [
            "WARNING:absl:Found untraced functions such as _update_step_xla while saving (showing 1 of 1). These functions will not be directly callable after loading.\n",
            "\n",
            "                                                                                          \n",
            "100%|██████████| 858/858 [00:00<00:00,  6.57it/s]\u001b[A\n",
            "100%|██████████| 858/858 [00:00<00:00,  6.57it/s, iterations=858/858 Iterations Completed]\u001b[A"
          ]
        },
        {
          "output_type": "stream",
          "name": "stdout",
          "text": [
            "cleaned_data----------------------------------------- True\n",
            "1/1 [==============================] - 0s 21ms/step - loss: 0.3313 - accuracy: 1.0000\n"
          ]
        },
        {
          "output_type": "stream",
          "name": "stderr",
          "text": [
            "WARNING:absl:Found untraced functions such as _update_step_xla while saving (showing 1 of 1). These functions will not be directly callable after loading.\n",
            "100%|█████████▉| 858/859 [00:00<?, ?it/s]\n",
            "100%|██████████| 859/859 [00:00<00:00,  6.04it/s, iterations=859/859 Iterations Completed]"
          ]
        },
        {
          "output_type": "stream",
          "name": "stdout",
          "text": [
            "cleaned_data----------------------------------------- True\n",
            "1/1 [==============================] - 0s 12ms/step - loss: 0.3305 - accuracy: 1.0000\n"
          ]
        },
        {
          "output_type": "stream",
          "name": "stderr",
          "text": [
            "WARNING:absl:Found untraced functions such as _update_step_xla while saving (showing 1 of 1). These functions will not be directly callable after loading.\n",
            "\n",
            "                                                                                          \n",
            "100%|██████████| 860/860 [00:00<00:00,  6.55it/s]\u001b[A\n",
            "100%|██████████| 860/860 [00:00<00:00,  6.55it/s, iterations=860/860 Iterations Completed]\u001b[A"
          ]
        },
        {
          "output_type": "stream",
          "name": "stdout",
          "text": [
            "cleaned_data----------------------------------------- True\n",
            "1/1 [==============================] - 0s 13ms/step - loss: 0.3326 - accuracy: 1.0000\n"
          ]
        },
        {
          "output_type": "stream",
          "name": "stderr",
          "text": [
            "WARNING:absl:Found untraced functions such as _update_step_xla while saving (showing 1 of 1). These functions will not be directly callable after loading.\n",
            "100%|█████████▉| 860/861 [00:00<?, ?it/s]\n",
            "100%|██████████| 861/861 [00:00<00:00,  5.63it/s, iterations=861/861 Iterations Completed]"
          ]
        },
        {
          "output_type": "stream",
          "name": "stdout",
          "text": [
            "cleaned_data----------------------------------------- True\n",
            "1/1 [==============================] - 0s 9ms/step - loss: 0.3390 - accuracy: 1.0000\n"
          ]
        },
        {
          "output_type": "stream",
          "name": "stderr",
          "text": [
            "WARNING:absl:Found untraced functions such as _update_step_xla while saving (showing 1 of 1). These functions will not be directly callable after loading.\n",
            "\n",
            "                                                                                          \n",
            "100%|██████████| 862/862 [00:00<00:00,  5.57it/s]\u001b[A\n",
            "100%|██████████| 862/862 [00:00<00:00,  5.57it/s, iterations=862/862 Iterations Completed]\u001b[A"
          ]
        },
        {
          "output_type": "stream",
          "name": "stdout",
          "text": [
            "cleaned_data----------------------------------------- True\n",
            "1/1 [==============================] - 0s 12ms/step - loss: 0.3526 - accuracy: 1.0000\n"
          ]
        },
        {
          "output_type": "stream",
          "name": "stderr",
          "text": [
            "WARNING:absl:Found untraced functions such as _update_step_xla while saving (showing 1 of 1). These functions will not be directly callable after loading.\n",
            "100%|█████████▉| 862/863 [00:00<?, ?it/s]\n",
            "100%|██████████| 863/863 [00:00<00:00,  4.90it/s, iterations=863/863 Iterations Completed]"
          ]
        },
        {
          "output_type": "stream",
          "name": "stdout",
          "text": [
            "cleaned_data----------------------------------------- True\n",
            "1/1 [==============================] - 0s 10ms/step - loss: 0.3500 - accuracy: 1.0000\n"
          ]
        },
        {
          "output_type": "stream",
          "name": "stderr",
          "text": [
            "WARNING:absl:Found untraced functions such as _update_step_xla while saving (showing 1 of 1). These functions will not be directly callable after loading.\n",
            "\n",
            "                                                                                          \n",
            "100%|██████████| 864/864 [00:00<00:00,  5.38it/s]\u001b[A\n",
            "100%|██████████| 864/864 [00:00<00:00,  5.38it/s, iterations=864/864 Iterations Completed]\u001b[A"
          ]
        },
        {
          "output_type": "stream",
          "name": "stdout",
          "text": [
            "cleaned_data----------------------------------------- True\n",
            "1/1 [==============================] - 0s 18ms/step - loss: 0.3611 - accuracy: 1.0000\n"
          ]
        },
        {
          "output_type": "stream",
          "name": "stderr",
          "text": [
            "WARNING:absl:Found untraced functions such as _update_step_xla while saving (showing 1 of 1). These functions will not be directly callable after loading.\n",
            "100%|█████████▉| 864/865 [00:00<?, ?it/s]\n",
            "100%|██████████| 865/865 [00:00<00:00,  3.95it/s, iterations=865/865 Iterations Completed]"
          ]
        },
        {
          "output_type": "stream",
          "name": "stdout",
          "text": [
            "cleaned_data----------------------------------------- True\n",
            "1/1 [==============================] - 0s 11ms/step - loss: 0.3741 - accuracy: 1.0000\n"
          ]
        },
        {
          "output_type": "stream",
          "name": "stderr",
          "text": [
            "WARNING:absl:Found untraced functions such as _update_step_xla while saving (showing 1 of 1). These functions will not be directly callable after loading.\n",
            "\n",
            "                                                                                          \n",
            "100%|██████████| 866/866 [00:00<00:00,  6.53it/s]\u001b[A\n",
            "100%|██████████| 866/866 [00:00<00:00,  6.53it/s, iterations=866/866 Iterations Completed]\u001b[A"
          ]
        },
        {
          "output_type": "stream",
          "name": "stdout",
          "text": [
            "cleaned_data----------------------------------------- True\n",
            "1/1 [==============================] - 0s 11ms/step - loss: 0.3679 - accuracy: 1.0000\n"
          ]
        },
        {
          "output_type": "stream",
          "name": "stderr",
          "text": [
            "WARNING:absl:Found untraced functions such as _update_step_xla while saving (showing 1 of 1). These functions will not be directly callable after loading.\n",
            "100%|█████████▉| 866/867 [00:00<?, ?it/s]\n",
            "100%|██████████| 867/867 [00:00<00:00,  6.12it/s, iterations=867/867 Iterations Completed]"
          ]
        },
        {
          "output_type": "stream",
          "name": "stdout",
          "text": [
            "cleaned_data----------------------------------------- True\n",
            "1/1 [==============================] - 0s 11ms/step - loss: 0.3445 - accuracy: 1.0000\n"
          ]
        },
        {
          "output_type": "stream",
          "name": "stderr",
          "text": [
            "WARNING:absl:Found untraced functions such as _update_step_xla while saving (showing 1 of 1). These functions will not be directly callable after loading.\n",
            "\n",
            "                                                                                          \n",
            "100%|██████████| 868/868 [00:00<00:00,  6.68it/s]\u001b[A\n",
            "100%|██████████| 868/868 [00:00<00:00,  6.68it/s, iterations=868/868 Iterations Completed]\u001b[A"
          ]
        },
        {
          "output_type": "stream",
          "name": "stdout",
          "text": [
            "cleaned_data----------------------------------------- True\n",
            "1/1 [==============================] - 0s 23ms/step - loss: 0.3329 - accuracy: 1.0000\n"
          ]
        },
        {
          "output_type": "stream",
          "name": "stderr",
          "text": [
            "WARNING:absl:Found untraced functions such as _update_step_xla while saving (showing 1 of 1). These functions will not be directly callable after loading.\n",
            "100%|█████████▉| 868/869 [00:00<?, ?it/s]\n",
            "100%|██████████| 869/869 [00:00<00:00,  6.41it/s, iterations=869/869 Iterations Completed]"
          ]
        },
        {
          "output_type": "stream",
          "name": "stdout",
          "text": [
            "cleaned_data----------------------------------------- True\n",
            "1/1 [==============================] - 0s 11ms/step - loss: 0.3367 - accuracy: 1.0000\n"
          ]
        },
        {
          "output_type": "stream",
          "name": "stderr",
          "text": [
            "WARNING:absl:Found untraced functions such as _update_step_xla while saving (showing 1 of 1). These functions will not be directly callable after loading.\n",
            "\n",
            "                                                                                          \n",
            "100%|██████████| 870/870 [00:00<00:00,  6.63it/s]\u001b[A\n",
            "100%|██████████| 870/870 [00:00<00:00,  6.63it/s, iterations=870/870 Iterations Completed]\u001b[A"
          ]
        },
        {
          "output_type": "stream",
          "name": "stdout",
          "text": [
            "cleaned_data----------------------------------------- True\n",
            "1/1 [==============================] - 0s 10ms/step - loss: 0.3458 - accuracy: 1.0000\n"
          ]
        },
        {
          "output_type": "stream",
          "name": "stderr",
          "text": [
            "WARNING:absl:Found untraced functions such as _update_step_xla while saving (showing 1 of 1). These functions will not be directly callable after loading.\n",
            "100%|█████████▉| 870/871 [00:00<?, ?it/s]\n",
            "100%|██████████| 871/871 [00:00<00:00,  5.55it/s, iterations=871/871 Iterations Completed]"
          ]
        },
        {
          "output_type": "stream",
          "name": "stdout",
          "text": [
            "cleaned_data----------------------------------------- True\n",
            "1/1 [==============================] - 0s 17ms/step - loss: 0.4045 - accuracy: 1.0000\n"
          ]
        },
        {
          "output_type": "stream",
          "name": "stderr",
          "text": [
            "WARNING:absl:Found untraced functions such as _update_step_xla while saving (showing 1 of 1). These functions will not be directly callable after loading.\n",
            "\n",
            "                                                                                          \n",
            "100%|██████████| 872/872 [00:00<00:00,  6.87it/s]\u001b[A\n",
            "100%|██████████| 872/872 [00:00<00:00,  6.87it/s, iterations=872/872 Iterations Completed]\u001b[A"
          ]
        },
        {
          "output_type": "stream",
          "name": "stdout",
          "text": [
            "cleaned_data----------------------------------------- True\n",
            "1/1 [==============================] - 0s 11ms/step - loss: 0.3818 - accuracy: 1.0000\n"
          ]
        },
        {
          "output_type": "stream",
          "name": "stderr",
          "text": [
            "WARNING:absl:Found untraced functions such as _update_step_xla while saving (showing 1 of 1). These functions will not be directly callable after loading.\n",
            "100%|█████████▉| 872/873 [00:00<?, ?it/s]\n",
            "100%|██████████| 873/873 [00:00<00:00,  6.19it/s, iterations=873/873 Iterations Completed]"
          ]
        },
        {
          "output_type": "stream",
          "name": "stdout",
          "text": [
            "cleaned_data----------------------------------------- True\n",
            "1/1 [==============================] - 0s 11ms/step - loss: 0.3664 - accuracy: 1.0000\n"
          ]
        },
        {
          "output_type": "stream",
          "name": "stderr",
          "text": [
            "WARNING:absl:Found untraced functions such as _update_step_xla while saving (showing 1 of 1). These functions will not be directly callable after loading.\n",
            "\n",
            "                                                                                          \n",
            "100%|██████████| 874/874 [00:00<00:00,  5.59it/s]\u001b[A\n",
            "100%|██████████| 874/874 [00:00<00:00,  5.59it/s, iterations=874/874 Iterations Completed]\u001b[A"
          ]
        },
        {
          "output_type": "stream",
          "name": "stdout",
          "text": [
            "cleaned_data----------------------------------------- True\n",
            "1/1 [==============================] - 0s 34ms/step - loss: 0.3633 - accuracy: 1.0000\n"
          ]
        },
        {
          "output_type": "stream",
          "name": "stderr",
          "text": [
            "WARNING:absl:Found untraced functions such as _update_step_xla while saving (showing 1 of 1). These functions will not be directly callable after loading.\n",
            "100%|█████████▉| 874/875 [00:00<?, ?it/s]\n",
            "100%|██████████| 875/875 [00:00<00:00,  3.93it/s, iterations=875/875 Iterations Completed]"
          ]
        },
        {
          "output_type": "stream",
          "name": "stdout",
          "text": [
            "cleaned_data----------------------------------------- True\n",
            "1/1 [==============================] - 0s 22ms/step - loss: 0.3510 - accuracy: 1.0000\n"
          ]
        },
        {
          "output_type": "stream",
          "name": "stderr",
          "text": [
            "WARNING:absl:Found untraced functions such as _update_step_xla while saving (showing 1 of 1). These functions will not be directly callable after loading.\n",
            "\n",
            "\n",
            "100%|██████████| 876/876 [00:00<00:00,  3.52it/s]\u001b[A\n",
            "100%|██████████| 876/876 [00:00<00:00,  3.52it/s, iterations=876/876 Iterations Completed]\u001b[A"
          ]
        },
        {
          "output_type": "stream",
          "name": "stdout",
          "text": [
            "cleaned_data----------------------------------------- True\n",
            "1/1 [==============================] - 0s 16ms/step - loss: 0.3446 - accuracy: 1.0000\n"
          ]
        },
        {
          "output_type": "stream",
          "name": "stderr",
          "text": [
            "WARNING:absl:Found untraced functions such as _update_step_xla while saving (showing 1 of 1). These functions will not be directly callable after loading.\n",
            "100%|█████████▉| 876/877 [00:00<?, ?it/s]\n",
            "100%|██████████| 877/877 [00:00<00:00,  6.05it/s, iterations=877/877 Iterations Completed]"
          ]
        },
        {
          "output_type": "stream",
          "name": "stdout",
          "text": [
            "cleaned_data----------------------------------------- True\n",
            "1/1 [==============================] - 0s 10ms/step - loss: 0.3454 - accuracy: 1.0000\n"
          ]
        },
        {
          "output_type": "stream",
          "name": "stderr",
          "text": [
            "WARNING:absl:Found untraced functions such as _update_step_xla while saving (showing 1 of 1). These functions will not be directly callable after loading.\n",
            "\n",
            "                                                                                          \n",
            "100%|██████████| 878/878 [00:00<00:00,  6.82it/s]\u001b[A\n",
            "100%|██████████| 878/878 [00:00<00:00,  6.82it/s, iterations=878/878 Iterations Completed]\u001b[A"
          ]
        },
        {
          "output_type": "stream",
          "name": "stdout",
          "text": [
            "cleaned_data----------------------------------------- True\n",
            "1/1 [==============================] - 0s 13ms/step - loss: 0.3429 - accuracy: 1.0000\n"
          ]
        },
        {
          "output_type": "stream",
          "name": "stderr",
          "text": [
            "WARNING:absl:Found untraced functions such as _update_step_xla while saving (showing 1 of 1). These functions will not be directly callable after loading.\n",
            "100%|█████████▉| 878/879 [00:00<?, ?it/s]\n",
            "100%|██████████| 879/879 [00:00<00:00,  6.23it/s, iterations=879/879 Iterations Completed]"
          ]
        },
        {
          "output_type": "stream",
          "name": "stdout",
          "text": [
            "cleaned_data----------------------------------------- True\n",
            "1/1 [==============================] - 0s 16ms/step - loss: 0.3396 - accuracy: 1.0000\n"
          ]
        },
        {
          "output_type": "stream",
          "name": "stderr",
          "text": [
            "WARNING:absl:Found untraced functions such as _update_step_xla while saving (showing 1 of 1). These functions will not be directly callable after loading.\n",
            "\n",
            "                                                                                          \n",
            "100%|██████████| 880/880 [00:00<00:00,  6.08it/s]\u001b[A\n",
            "100%|██████████| 880/880 [00:00<00:00,  6.08it/s, iterations=880/880 Iterations Completed]\u001b[A"
          ]
        },
        {
          "output_type": "stream",
          "name": "stdout",
          "text": [
            "cleaned_data----------------------------------------- True\n",
            "1/1 [==============================] - 0s 19ms/step - loss: 0.3409 - accuracy: 1.0000\n"
          ]
        },
        {
          "output_type": "stream",
          "name": "stderr",
          "text": [
            "WARNING:absl:Found untraced functions such as _update_step_xla while saving (showing 1 of 1). These functions will not be directly callable after loading.\n",
            "100%|█████████▉| 880/881 [00:00<?, ?it/s]\n",
            "100%|██████████| 881/881 [00:00<00:00,  5.54it/s, iterations=881/881 Iterations Completed]"
          ]
        },
        {
          "output_type": "stream",
          "name": "stdout",
          "text": [
            "cleaned_data----------------------------------------- True\n",
            "1/1 [==============================] - 0s 11ms/step - loss: 0.3456 - accuracy: 1.0000\n"
          ]
        },
        {
          "output_type": "stream",
          "name": "stderr",
          "text": [
            "WARNING:absl:Found untraced functions such as _update_step_xla while saving (showing 1 of 1). These functions will not be directly callable after loading.\n",
            "\n",
            "                                                                                          \n",
            "100%|██████████| 882/882 [00:00<00:00,  6.69it/s]\u001b[A\n",
            "100%|██████████| 882/882 [00:00<00:00,  6.69it/s, iterations=882/882 Iterations Completed]\u001b[A"
          ]
        },
        {
          "output_type": "stream",
          "name": "stdout",
          "text": [
            "cleaned_data----------------------------------------- True\n",
            "1/1 [==============================] - 0s 18ms/step - loss: 0.3306 - accuracy: 1.0000\n"
          ]
        },
        {
          "output_type": "stream",
          "name": "stderr",
          "text": [
            "WARNING:absl:Found untraced functions such as _update_step_xla while saving (showing 1 of 1). These functions will not be directly callable after loading.\n",
            "100%|█████████▉| 882/883 [00:00<?, ?it/s]\n",
            "100%|██████████| 883/883 [00:00<00:00,  6.09it/s, iterations=883/883 Iterations Completed]"
          ]
        },
        {
          "output_type": "stream",
          "name": "stdout",
          "text": [
            "cleaned_data----------------------------------------- True\n",
            "1/1 [==============================] - 0s 10ms/step - loss: 0.3291 - accuracy: 1.0000\n"
          ]
        },
        {
          "output_type": "stream",
          "name": "stderr",
          "text": [
            "WARNING:absl:Found untraced functions such as _update_step_xla while saving (showing 1 of 1). These functions will not be directly callable after loading.\n",
            "\n",
            "                                                                                          \n",
            "100%|██████████| 884/884 [00:00<00:00,  6.59it/s]\u001b[A\n",
            "100%|██████████| 884/884 [00:00<00:00,  6.59it/s, iterations=884/884 Iterations Completed]\u001b[A"
          ]
        },
        {
          "output_type": "stream",
          "name": "stdout",
          "text": [
            "cleaned_data----------------------------------------- True\n",
            "1/1 [==============================] - 0s 25ms/step - loss: 0.3335 - accuracy: 1.0000\n"
          ]
        },
        {
          "output_type": "stream",
          "name": "stderr",
          "text": [
            "WARNING:absl:Found untraced functions such as _update_step_xla while saving (showing 1 of 1). These functions will not be directly callable after loading.\n",
            "100%|█████████▉| 884/885 [00:00<?, ?it/s]\n",
            "100%|██████████| 885/885 [00:00<00:00,  6.06it/s, iterations=885/885 Iterations Completed]"
          ]
        },
        {
          "output_type": "stream",
          "name": "stdout",
          "text": [
            "cleaned_data----------------------------------------- True\n",
            "1/1 [==============================] - 0s 17ms/step - loss: 0.3443 - accuracy: 1.0000\n"
          ]
        },
        {
          "output_type": "stream",
          "name": "stderr",
          "text": [
            "WARNING:absl:Found untraced functions such as _update_step_xla while saving (showing 1 of 1). These functions will not be directly callable after loading.\n",
            "\n",
            "\n",
            "100%|██████████| 886/886 [00:00<00:00,  4.21it/s]\u001b[A\n",
            "100%|██████████| 886/886 [00:00<00:00,  4.21it/s, iterations=886/886 Iterations Completed]\u001b[A"
          ]
        },
        {
          "output_type": "stream",
          "name": "stdout",
          "text": [
            "cleaned_data----------------------------------------- True\n",
            "1/1 [==============================] - 0s 20ms/step - loss: 0.3438 - accuracy: 1.0000\n"
          ]
        },
        {
          "output_type": "stream",
          "name": "stderr",
          "text": [
            "WARNING:absl:Found untraced functions such as _update_step_xla while saving (showing 1 of 1). These functions will not be directly callable after loading.\n",
            "100%|█████████▉| 886/887 [00:00<?, ?it/s]\n",
            "100%|██████████| 887/887 [00:00<00:00,  5.80it/s, iterations=887/887 Iterations Completed]"
          ]
        },
        {
          "output_type": "stream",
          "name": "stdout",
          "text": [
            "cleaned_data----------------------------------------- True\n",
            "1/1 [==============================] - 0s 10ms/step - loss: 0.3680 - accuracy: 1.0000\n"
          ]
        },
        {
          "output_type": "stream",
          "name": "stderr",
          "text": [
            "WARNING:absl:Found untraced functions such as _update_step_xla while saving (showing 1 of 1). These functions will not be directly callable after loading.\n",
            "\n",
            "                                                                                          \n",
            "100%|██████████| 888/888 [00:00<00:00,  6.16it/s]\u001b[A\n",
            "100%|██████████| 888/888 [00:00<00:00,  6.16it/s, iterations=888/888 Iterations Completed]\u001b[A"
          ]
        },
        {
          "output_type": "stream",
          "name": "stdout",
          "text": [
            "cleaned_data----------------------------------------- True\n",
            "1/1 [==============================] - 0s 16ms/step - loss: 0.3374 - accuracy: 1.0000\n"
          ]
        },
        {
          "output_type": "stream",
          "name": "stderr",
          "text": [
            "WARNING:absl:Found untraced functions such as _update_step_xla while saving (showing 1 of 1). These functions will not be directly callable after loading.\n",
            "100%|█████████▉| 888/889 [00:00<?, ?it/s]\n",
            "100%|██████████| 889/889 [00:00<00:00,  5.64it/s, iterations=889/889 Iterations Completed]"
          ]
        },
        {
          "output_type": "stream",
          "name": "stdout",
          "text": [
            "cleaned_data----------------------------------------- True\n",
            "1/1 [==============================] - 0s 10ms/step - loss: 0.3462 - accuracy: 1.0000\n"
          ]
        },
        {
          "output_type": "stream",
          "name": "stderr",
          "text": [
            "WARNING:absl:Found untraced functions such as _update_step_xla while saving (showing 1 of 1). These functions will not be directly callable after loading.\n",
            "\n",
            "                                                                                          \n",
            "100%|██████████| 890/890 [00:00<00:00,  5.68it/s]\u001b[A\n",
            "100%|██████████| 890/890 [00:00<00:00,  5.68it/s, iterations=890/890 Iterations Completed]\u001b[A"
          ]
        },
        {
          "output_type": "stream",
          "name": "stdout",
          "text": [
            "cleaned_data----------------------------------------- True\n",
            "1/1 [==============================] - 0s 11ms/step - loss: 0.3394 - accuracy: 1.0000\n"
          ]
        },
        {
          "output_type": "stream",
          "name": "stderr",
          "text": [
            "WARNING:absl:Found untraced functions such as _update_step_xla while saving (showing 1 of 1). These functions will not be directly callable after loading.\n",
            "100%|█████████▉| 890/891 [00:00<?, ?it/s]\n",
            "100%|██████████| 891/891 [00:00<00:00,  6.40it/s, iterations=891/891 Iterations Completed]"
          ]
        },
        {
          "output_type": "stream",
          "name": "stdout",
          "text": [
            "cleaned_data----------------------------------------- True\n",
            "1/1 [==============================] - 0s 11ms/step - loss: 0.3296 - accuracy: 1.0000\n"
          ]
        },
        {
          "output_type": "stream",
          "name": "stderr",
          "text": [
            "WARNING:absl:Found untraced functions such as _update_step_xla while saving (showing 1 of 1). These functions will not be directly callable after loading.\n",
            "\n",
            "                                                                                          \n",
            "100%|██████████| 892/892 [00:00<00:00,  6.79it/s]\u001b[A\n",
            "100%|██████████| 892/892 [00:00<00:00,  6.79it/s, iterations=892/892 Iterations Completed]\u001b[A"
          ]
        },
        {
          "output_type": "stream",
          "name": "stdout",
          "text": [
            "cleaned_data----------------------------------------- True\n",
            "1/1 [==============================] - 0s 14ms/step - loss: 0.3295 - accuracy: 1.0000\n"
          ]
        },
        {
          "output_type": "stream",
          "name": "stderr",
          "text": [
            "WARNING:absl:Found untraced functions such as _update_step_xla while saving (showing 1 of 1). These functions will not be directly callable after loading.\n",
            "100%|█████████▉| 892/893 [00:00<?, ?it/s]\n",
            "100%|██████████| 893/893 [00:00<00:00,  6.00it/s, iterations=893/893 Iterations Completed]"
          ]
        },
        {
          "output_type": "stream",
          "name": "stdout",
          "text": [
            "cleaned_data----------------------------------------- True\n",
            "1/1 [==============================] - 0s 10ms/step - loss: 0.3362 - accuracy: 1.0000\n"
          ]
        },
        {
          "output_type": "stream",
          "name": "stderr",
          "text": [
            "WARNING:absl:Found untraced functions such as _update_step_xla while saving (showing 1 of 1). These functions will not be directly callable after loading.\n",
            "\n",
            "                                                                                          \n",
            "100%|██████████| 894/894 [00:00<00:00,  6.57it/s]\u001b[A\n",
            "100%|██████████| 894/894 [00:00<00:00,  6.57it/s, iterations=894/894 Iterations Completed]\u001b[A"
          ]
        },
        {
          "output_type": "stream",
          "name": "stdout",
          "text": [
            "cleaned_data----------------------------------------- True\n",
            "1/1 [==============================] - 0s 12ms/step - loss: 0.3315 - accuracy: 1.0000\n"
          ]
        },
        {
          "output_type": "stream",
          "name": "stderr",
          "text": [
            "WARNING:absl:Found untraced functions such as _update_step_xla while saving (showing 1 of 1). These functions will not be directly callable after loading.\n",
            "100%|█████████▉| 894/895 [00:00<?, ?it/s]\n",
            "100%|██████████| 895/895 [00:00<00:00,  6.14it/s, iterations=895/895 Iterations Completed]"
          ]
        },
        {
          "output_type": "stream",
          "name": "stdout",
          "text": [
            "cleaned_data----------------------------------------- True\n",
            "1/1 [==============================] - 0s 10ms/step - loss: 0.3370 - accuracy: 1.0000\n"
          ]
        },
        {
          "output_type": "stream",
          "name": "stderr",
          "text": [
            "WARNING:absl:Found untraced functions such as _update_step_xla while saving (showing 1 of 1). These functions will not be directly callable after loading.\n",
            "\n",
            "\n",
            "100%|██████████| 896/896 [00:00<00:00,  4.71it/s]\u001b[A\n",
            "100%|██████████| 896/896 [00:00<00:00,  4.71it/s, iterations=896/896 Iterations Completed]\u001b[A"
          ]
        },
        {
          "output_type": "stream",
          "name": "stdout",
          "text": [
            "cleaned_data----------------------------------------- True\n",
            "1/1 [==============================] - 0s 16ms/step - loss: 0.3305 - accuracy: 1.0000\n"
          ]
        },
        {
          "output_type": "stream",
          "name": "stderr",
          "text": [
            "WARNING:absl:Found untraced functions such as _update_step_xla while saving (showing 1 of 1). These functions will not be directly callable after loading.\n",
            "100%|█████████▉| 896/897 [00:00<?, ?it/s]\n",
            "100%|██████████| 897/897 [00:00<00:00,  5.05it/s, iterations=897/897 Iterations Completed]"
          ]
        },
        {
          "output_type": "stream",
          "name": "stdout",
          "text": [
            "cleaned_data----------------------------------------- True\n",
            "1/1 [==============================] - 0s 14ms/step - loss: 0.3318 - accuracy: 1.0000\n"
          ]
        },
        {
          "output_type": "stream",
          "name": "stderr",
          "text": [
            "WARNING:absl:Found untraced functions such as _update_step_xla while saving (showing 1 of 1). These functions will not be directly callable after loading.\n",
            "\n",
            "                                                                                          \n",
            "100%|██████████| 898/898 [00:00<00:00,  6.21it/s]\u001b[A\n",
            "100%|██████████| 898/898 [00:00<00:00,  6.21it/s, iterations=898/898 Iterations Completed]\u001b[A"
          ]
        },
        {
          "output_type": "stream",
          "name": "stdout",
          "text": [
            "cleaned_data----------------------------------------- True\n",
            "1/1 [==============================] - 0s 11ms/step - loss: 0.3322 - accuracy: 1.0000\n"
          ]
        },
        {
          "output_type": "stream",
          "name": "stderr",
          "text": [
            "WARNING:absl:Found untraced functions such as _update_step_xla while saving (showing 1 of 1). These functions will not be directly callable after loading.\n",
            "100%|█████████▉| 898/899 [00:00<?, ?it/s]\n",
            "100%|██████████| 899/899 [00:00<00:00,  5.79it/s, iterations=899/899 Iterations Completed]"
          ]
        },
        {
          "output_type": "stream",
          "name": "stdout",
          "text": [
            "cleaned_data----------------------------------------- True\n",
            "1/1 [==============================] - 0s 15ms/step - loss: 0.3364 - accuracy: 1.0000\n"
          ]
        },
        {
          "output_type": "stream",
          "name": "stderr",
          "text": [
            "WARNING:absl:Found untraced functions such as _update_step_xla while saving (showing 1 of 1). These functions will not be directly callable after loading.\n",
            "\n",
            "                                                                                          \n",
            "100%|██████████| 900/900 [00:00<00:00,  6.42it/s]\u001b[A\n",
            "100%|██████████| 900/900 [00:00<00:00,  6.42it/s, iterations=900/900 Iterations Completed]\u001b[A"
          ]
        },
        {
          "output_type": "stream",
          "name": "stdout",
          "text": [
            "cleaned_data----------------------------------------- True\n",
            "1/1 [==============================] - 0s 13ms/step - loss: 0.3318 - accuracy: 1.0000\n"
          ]
        },
        {
          "output_type": "stream",
          "name": "stderr",
          "text": [
            "WARNING:absl:Found untraced functions such as _update_step_xla while saving (showing 1 of 1). These functions will not be directly callable after loading.\n",
            "100%|█████████▉| 900/901 [00:00<?, ?it/s]\n",
            "100%|██████████| 901/901 [00:00<00:00,  5.89it/s, iterations=901/901 Iterations Completed]"
          ]
        },
        {
          "output_type": "stream",
          "name": "stdout",
          "text": [
            "cleaned_data----------------------------------------- True\n",
            "1/1 [==============================] - 0s 10ms/step - loss: 0.3395 - accuracy: 1.0000\n"
          ]
        },
        {
          "output_type": "stream",
          "name": "stderr",
          "text": [
            "WARNING:absl:Found untraced functions such as _update_step_xla while saving (showing 1 of 1). These functions will not be directly callable after loading.\n",
            "\n",
            "                                                                                          \n",
            "100%|██████████| 902/902 [00:00<00:00,  5.97it/s]\u001b[A\n",
            "100%|██████████| 902/902 [00:00<00:00,  5.97it/s, iterations=902/902 Iterations Completed]\u001b[A"
          ]
        },
        {
          "output_type": "stream",
          "name": "stdout",
          "text": [
            "cleaned_data----------------------------------------- True\n",
            "1/1 [==============================] - 0s 12ms/step - loss: 0.3442 - accuracy: 1.0000\n"
          ]
        },
        {
          "output_type": "stream",
          "name": "stderr",
          "text": [
            "WARNING:absl:Found untraced functions such as _update_step_xla while saving (showing 1 of 1). These functions will not be directly callable after loading.\n",
            "100%|█████████▉| 902/903 [00:00<?, ?it/s]\n",
            "100%|██████████| 903/903 [00:00<00:00,  6.10it/s, iterations=903/903 Iterations Completed]"
          ]
        },
        {
          "output_type": "stream",
          "name": "stdout",
          "text": [
            "cleaned_data----------------------------------------- True\n",
            "1/1 [==============================] - 0s 10ms/step - loss: 0.3604 - accuracy: 1.0000\n"
          ]
        },
        {
          "output_type": "stream",
          "name": "stderr",
          "text": [
            "WARNING:absl:Found untraced functions such as _update_step_xla while saving (showing 1 of 1). These functions will not be directly callable after loading.\n",
            "\n",
            "                                                                                          \n",
            "100%|██████████| 904/904 [00:00<00:00,  6.64it/s]\u001b[A\n",
            "100%|██████████| 904/904 [00:00<00:00,  6.64it/s, iterations=904/904 Iterations Completed]\u001b[A"
          ]
        },
        {
          "output_type": "stream",
          "name": "stdout",
          "text": [
            "cleaned_data----------------------------------------- True\n",
            "1/1 [==============================] - 0s 26ms/step - loss: 0.3405 - accuracy: 1.0000\n"
          ]
        },
        {
          "output_type": "stream",
          "name": "stderr",
          "text": [
            "WARNING:absl:Found untraced functions such as _update_step_xla while saving (showing 1 of 1). These functions will not be directly callable after loading.\n",
            "100%|█████████▉| 904/905 [00:00<?, ?it/s]\n",
            "100%|██████████| 905/905 [00:00<00:00,  6.10it/s, iterations=905/905 Iterations Completed]"
          ]
        },
        {
          "output_type": "stream",
          "name": "stdout",
          "text": [
            "cleaned_data----------------------------------------- True\n",
            "1/1 [==============================] - 0s 10ms/step - loss: 0.3322 - accuracy: 1.0000\n"
          ]
        },
        {
          "output_type": "stream",
          "name": "stderr",
          "text": [
            "WARNING:absl:Found untraced functions such as _update_step_xla while saving (showing 1 of 1). These functions will not be directly callable after loading.\n",
            "\n",
            "                                                                                          \n",
            "100%|██████████| 906/906 [00:00<00:00,  5.20it/s]\u001b[A\n",
            "100%|██████████| 906/906 [00:00<00:00,  5.20it/s, iterations=906/906 Iterations Completed]\u001b[A"
          ]
        },
        {
          "output_type": "stream",
          "name": "stdout",
          "text": [
            "cleaned_data----------------------------------------- True\n",
            "1/1 [==============================] - 0s 15ms/step - loss: 0.3272 - accuracy: 1.0000\n"
          ]
        },
        {
          "output_type": "stream",
          "name": "stderr",
          "text": [
            "WARNING:absl:Found untraced functions such as _update_step_xla while saving (showing 1 of 1). These functions will not be directly callable after loading.\n",
            "100%|█████████▉| 906/907 [00:00<?, ?it/s]\n",
            "100%|██████████| 907/907 [00:00<00:00,  5.51it/s, iterations=907/907 Iterations Completed]"
          ]
        },
        {
          "output_type": "stream",
          "name": "stdout",
          "text": [
            "cleaned_data----------------------------------------- True\n",
            "1/1 [==============================] - 0s 11ms/step - loss: 0.3281 - accuracy: 1.0000\n"
          ]
        },
        {
          "output_type": "stream",
          "name": "stderr",
          "text": [
            "WARNING:absl:Found untraced functions such as _update_step_xla while saving (showing 1 of 1). These functions will not be directly callable after loading.\n",
            "\n",
            "\n",
            "100%|██████████| 908/908 [00:00<00:00,  3.61it/s]\u001b[A\n",
            "100%|██████████| 908/908 [00:00<00:00,  3.61it/s, iterations=908/908 Iterations Completed]\u001b[A"
          ]
        },
        {
          "output_type": "stream",
          "name": "stdout",
          "text": [
            "cleaned_data----------------------------------------- True\n",
            "1/1 [==============================] - 0s 13ms/step - loss: 0.3329 - accuracy: 1.0000\n"
          ]
        },
        {
          "output_type": "stream",
          "name": "stderr",
          "text": [
            "WARNING:absl:Found untraced functions such as _update_step_xla while saving (showing 1 of 1). These functions will not be directly callable after loading.\n",
            "100%|█████████▉| 908/909 [00:00<?, ?it/s]\n",
            "100%|██████████| 909/909 [00:00<00:00,  5.91it/s, iterations=909/909 Iterations Completed]"
          ]
        },
        {
          "output_type": "stream",
          "name": "stdout",
          "text": [
            "cleaned_data----------------------------------------- True\n",
            "1/1 [==============================] - 0s 11ms/step - loss: 0.3285 - accuracy: 1.0000\n"
          ]
        },
        {
          "output_type": "stream",
          "name": "stderr",
          "text": [
            "WARNING:absl:Found untraced functions such as _update_step_xla while saving (showing 1 of 1). These functions will not be directly callable after loading.\n",
            "\n",
            "                                                                                          \n",
            "100%|██████████| 910/910 [00:00<00:00,  6.28it/s]\u001b[A\n",
            "100%|██████████| 910/910 [00:00<00:00,  6.28it/s, iterations=910/910 Iterations Completed]\u001b[A"
          ]
        },
        {
          "output_type": "stream",
          "name": "stdout",
          "text": [
            "cleaned_data----------------------------------------- True\n",
            "1/1 [==============================] - 0s 11ms/step - loss: 0.3283 - accuracy: 1.0000\n"
          ]
        },
        {
          "output_type": "stream",
          "name": "stderr",
          "text": [
            "WARNING:absl:Found untraced functions such as _update_step_xla while saving (showing 1 of 1). These functions will not be directly callable after loading.\n",
            "100%|█████████▉| 910/911 [00:00<?, ?it/s]\n",
            "100%|██████████| 911/911 [00:00<00:00,  5.85it/s, iterations=911/911 Iterations Completed]"
          ]
        },
        {
          "output_type": "stream",
          "name": "stdout",
          "text": [
            "cleaned_data----------------------------------------- True\n",
            "1/1 [==============================] - 0s 10ms/step - loss: 0.3299 - accuracy: 1.0000\n"
          ]
        },
        {
          "output_type": "stream",
          "name": "stderr",
          "text": [
            "WARNING:absl:Found untraced functions such as _update_step_xla while saving (showing 1 of 1). These functions will not be directly callable after loading.\n",
            "\n",
            "                                                                                          \n",
            "100%|██████████| 912/912 [00:00<00:00,  5.42it/s]\u001b[A\n",
            "100%|██████████| 912/912 [00:00<00:00,  5.42it/s, iterations=912/912 Iterations Completed]\u001b[A"
          ]
        },
        {
          "output_type": "stream",
          "name": "stdout",
          "text": [
            "cleaned_data----------------------------------------- True\n",
            "1/1 [==============================] - 0s 20ms/step - loss: 0.3306 - accuracy: 1.0000\n"
          ]
        },
        {
          "output_type": "stream",
          "name": "stderr",
          "text": [
            "WARNING:absl:Found untraced functions such as _update_step_xla while saving (showing 1 of 1). These functions will not be directly callable after loading.\n",
            "100%|█████████▉| 912/913 [00:00<?, ?it/s]\n",
            "100%|██████████| 913/913 [00:00<00:00,  5.89it/s, iterations=913/913 Iterations Completed]"
          ]
        },
        {
          "output_type": "stream",
          "name": "stdout",
          "text": [
            "cleaned_data----------------------------------------- True\n",
            "1/1 [==============================] - 0s 11ms/step - loss: 0.3429 - accuracy: 1.0000\n"
          ]
        },
        {
          "output_type": "stream",
          "name": "stderr",
          "text": [
            "WARNING:absl:Found untraced functions such as _update_step_xla while saving (showing 1 of 1). These functions will not be directly callable after loading.\n",
            "\n",
            "                                                                                          \n",
            "100%|██████████| 914/914 [00:00<00:00,  6.43it/s]\u001b[A\n",
            "100%|██████████| 914/914 [00:00<00:00,  6.43it/s, iterations=914/914 Iterations Completed]\u001b[A"
          ]
        },
        {
          "output_type": "stream",
          "name": "stdout",
          "text": [
            "cleaned_data----------------------------------------- True\n",
            "1/1 [==============================] - 0s 10ms/step - loss: 0.3375 - accuracy: 1.0000\n"
          ]
        },
        {
          "output_type": "stream",
          "name": "stderr",
          "text": [
            "WARNING:absl:Found untraced functions such as _update_step_xla while saving (showing 1 of 1). These functions will not be directly callable after loading.\n",
            "100%|█████████▉| 914/915 [00:00<?, ?it/s]\n",
            "100%|██████████| 915/915 [00:00<00:00,  6.03it/s, iterations=915/915 Iterations Completed]"
          ]
        },
        {
          "output_type": "stream",
          "name": "stdout",
          "text": [
            "cleaned_data----------------------------------------- True\n",
            "1/1 [==============================] - 0s 19ms/step - loss: 0.3281 - accuracy: 1.0000\n"
          ]
        },
        {
          "output_type": "stream",
          "name": "stderr",
          "text": [
            "WARNING:absl:Found untraced functions such as _update_step_xla while saving (showing 1 of 1). These functions will not be directly callable after loading.\n",
            "\n",
            "                                                                                          \n",
            "100%|██████████| 916/916 [00:00<00:00,  6.75it/s]\u001b[A\n",
            "100%|██████████| 916/916 [00:00<00:00,  6.75it/s, iterations=916/916 Iterations Completed]\u001b[A"
          ]
        },
        {
          "output_type": "stream",
          "name": "stdout",
          "text": [
            "cleaned_data----------------------------------------- True\n",
            "1/1 [==============================] - 0s 12ms/step - loss: 0.3303 - accuracy: 1.0000\n"
          ]
        },
        {
          "output_type": "stream",
          "name": "stderr",
          "text": [
            "WARNING:absl:Found untraced functions such as _update_step_xla while saving (showing 1 of 1). These functions will not be directly callable after loading.\n",
            "100%|█████████▉| 916/917 [00:00<?, ?it/s]\n",
            "100%|██████████| 917/917 [00:00<00:00,  4.51it/s, iterations=917/917 Iterations Completed]"
          ]
        },
        {
          "output_type": "stream",
          "name": "stdout",
          "text": [
            "cleaned_data----------------------------------------- True\n",
            "1/1 [==============================] - 0s 11ms/step - loss: 0.3292 - accuracy: 1.0000\n"
          ]
        },
        {
          "output_type": "stream",
          "name": "stderr",
          "text": [
            "WARNING:absl:Found untraced functions such as _update_step_xla while saving (showing 1 of 1). These functions will not be directly callable after loading.\n",
            "\n",
            "                                                                                          \n",
            "100%|██████████| 918/918 [00:00<00:00,  5.61it/s]\u001b[A\n",
            "100%|██████████| 918/918 [00:00<00:00,  5.61it/s, iterations=918/918 Iterations Completed]\u001b[A"
          ]
        },
        {
          "output_type": "stream",
          "name": "stdout",
          "text": [
            "cleaned_data----------------------------------------- True\n",
            "1/1 [==============================] - 0s 21ms/step - loss: 0.3286 - accuracy: 1.0000\n"
          ]
        },
        {
          "output_type": "stream",
          "name": "stderr",
          "text": [
            "WARNING:absl:Found untraced functions such as _update_step_xla while saving (showing 1 of 1). These functions will not be directly callable after loading.\n",
            "100%|█████████▉| 918/919 [00:00<?, ?it/s]\n",
            "100%|██████████| 919/919 [00:00<00:00,  4.55it/s, iterations=919/919 Iterations Completed]"
          ]
        },
        {
          "output_type": "stream",
          "name": "stdout",
          "text": [
            "cleaned_data----------------------------------------- True\n",
            "1/1 [==============================] - 0s 17ms/step - loss: 0.3322 - accuracy: 1.0000\n"
          ]
        },
        {
          "output_type": "stream",
          "name": "stderr",
          "text": [
            "WARNING:absl:Found untraced functions such as _update_step_xla while saving (showing 1 of 1). These functions will not be directly callable after loading.\n",
            "\n",
            "                                                                                          \n",
            "100%|██████████| 920/920 [00:00<00:00,  6.46it/s]\u001b[A\n",
            "100%|██████████| 920/920 [00:00<00:00,  6.46it/s, iterations=920/920 Iterations Completed]\u001b[A"
          ]
        },
        {
          "output_type": "stream",
          "name": "stdout",
          "text": [
            "cleaned_data----------------------------------------- True\n",
            "1/1 [==============================] - 0s 14ms/step - loss: 0.3290 - accuracy: 1.0000\n"
          ]
        },
        {
          "output_type": "stream",
          "name": "stderr",
          "text": [
            "WARNING:absl:Found untraced functions such as _update_step_xla while saving (showing 1 of 1). These functions will not be directly callable after loading.\n",
            "100%|█████████▉| 920/921 [00:00<?, ?it/s]\n",
            "100%|██████████| 921/921 [00:00<00:00,  5.88it/s, iterations=921/921 Iterations Completed]"
          ]
        },
        {
          "output_type": "stream",
          "name": "stdout",
          "text": [
            "cleaned_data----------------------------------------- True\n",
            "1/1 [==============================] - 0s 10ms/step - loss: 0.3366 - accuracy: 1.0000\n"
          ]
        },
        {
          "output_type": "stream",
          "name": "stderr",
          "text": [
            "WARNING:absl:Found untraced functions such as _update_step_xla while saving (showing 1 of 1). These functions will not be directly callable after loading.\n",
            "\n",
            "                                                                                          \n",
            "100%|██████████| 922/922 [00:00<00:00,  5.92it/s]\u001b[A\n",
            "100%|██████████| 922/922 [00:00<00:00,  5.92it/s, iterations=922/922 Iterations Completed]\u001b[A"
          ]
        },
        {
          "output_type": "stream",
          "name": "stdout",
          "text": [
            "cleaned_data----------------------------------------- True\n",
            "1/1 [==============================] - 0s 21ms/step - loss: 0.3289 - accuracy: 1.0000\n"
          ]
        },
        {
          "output_type": "stream",
          "name": "stderr",
          "text": [
            "WARNING:absl:Found untraced functions such as _update_step_xla while saving (showing 1 of 1). These functions will not be directly callable after loading.\n",
            "100%|█████████▉| 922/923 [00:00<?, ?it/s]\n",
            "100%|██████████| 923/923 [00:00<00:00,  5.85it/s, iterations=923/923 Iterations Completed]"
          ]
        },
        {
          "output_type": "stream",
          "name": "stdout",
          "text": [
            "cleaned_data----------------------------------------- True\n",
            "1/1 [==============================] - 0s 9ms/step - loss: 0.3321 - accuracy: 1.0000\n"
          ]
        },
        {
          "output_type": "stream",
          "name": "stderr",
          "text": [
            "WARNING:absl:Found untraced functions such as _update_step_xla while saving (showing 1 of 1). These functions will not be directly callable after loading.\n",
            "\n",
            "                                                                                          \n",
            "100%|██████████| 924/924 [00:00<00:00,  6.45it/s]\u001b[A\n",
            "100%|██████████| 924/924 [00:00<00:00,  6.45it/s, iterations=924/924 Iterations Completed]\u001b[A"
          ]
        },
        {
          "output_type": "stream",
          "name": "stdout",
          "text": [
            "cleaned_data----------------------------------------- True\n",
            "1/1 [==============================] - 0s 15ms/step - loss: 0.3333 - accuracy: 1.0000\n"
          ]
        },
        {
          "output_type": "stream",
          "name": "stderr",
          "text": [
            "WARNING:absl:Found untraced functions such as _update_step_xla while saving (showing 1 of 1). These functions will not be directly callable after loading.\n",
            "100%|█████████▉| 924/925 [00:00<?, ?it/s]\n",
            "100%|██████████| 925/925 [00:00<00:00,  6.24it/s, iterations=925/925 Iterations Completed]"
          ]
        },
        {
          "output_type": "stream",
          "name": "stdout",
          "text": [
            "cleaned_data----------------------------------------- True\n",
            "1/1 [==============================] - 0s 11ms/step - loss: 0.3308 - accuracy: 1.0000\n"
          ]
        },
        {
          "output_type": "stream",
          "name": "stderr",
          "text": [
            "WARNING:absl:Found untraced functions such as _update_step_xla while saving (showing 1 of 1). These functions will not be directly callable after loading.\n",
            "\n",
            "                                                                                          \n",
            "100%|██████████| 926/926 [00:00<00:00,  6.42it/s]\u001b[A\n",
            "100%|██████████| 926/926 [00:00<00:00,  6.42it/s, iterations=926/926 Iterations Completed]\u001b[A"
          ]
        },
        {
          "output_type": "stream",
          "name": "stdout",
          "text": [
            "cleaned_data----------------------------------------- True\n",
            "1/1 [==============================] - 0s 14ms/step - loss: 0.3348 - accuracy: 1.0000\n"
          ]
        },
        {
          "output_type": "stream",
          "name": "stderr",
          "text": [
            "WARNING:absl:Found untraced functions such as _update_step_xla while saving (showing 1 of 1). These functions will not be directly callable after loading.\n",
            "100%|█████████▉| 926/927 [00:00<?, ?it/s]\n",
            "100%|██████████| 927/927 [00:00<00:00,  6.44it/s, iterations=927/927 Iterations Completed]"
          ]
        },
        {
          "output_type": "stream",
          "name": "stdout",
          "text": [
            "cleaned_data----------------------------------------- True\n",
            "1/1 [==============================] - 0s 14ms/step - loss: 0.3367 - accuracy: 1.0000\n"
          ]
        },
        {
          "output_type": "stream",
          "name": "stderr",
          "text": [
            "WARNING:absl:Found untraced functions such as _update_step_xla while saving (showing 1 of 1). These functions will not be directly callable after loading.\n",
            "\n",
            "\n",
            "100%|██████████| 928/928 [00:00<00:00,  5.14it/s]\u001b[A\n",
            "100%|██████████| 928/928 [00:00<00:00,  5.14it/s, iterations=928/928 Iterations Completed]\u001b[A"
          ]
        },
        {
          "output_type": "stream",
          "name": "stdout",
          "text": [
            "cleaned_data----------------------------------------- True\n",
            "1/1 [==============================] - 0s 21ms/step - loss: 0.3299 - accuracy: 1.0000\n"
          ]
        },
        {
          "output_type": "stream",
          "name": "stderr",
          "text": [
            "WARNING:absl:Found untraced functions such as _update_step_xla while saving (showing 1 of 1). These functions will not be directly callable after loading.\n",
            "100%|█████████▉| 928/929 [00:00<?, ?it/s]\n",
            "100%|██████████| 929/929 [00:00<00:00,  5.56it/s, iterations=929/929 Iterations Completed]"
          ]
        },
        {
          "output_type": "stream",
          "name": "stdout",
          "text": [
            "cleaned_data----------------------------------------- True\n",
            "1/1 [==============================] - 0s 15ms/step - loss: 0.3322 - accuracy: 1.0000\n"
          ]
        },
        {
          "output_type": "stream",
          "name": "stderr",
          "text": [
            "WARNING:absl:Found untraced functions such as _update_step_xla while saving (showing 1 of 1). These functions will not be directly callable after loading.\n",
            "\n",
            "\n",
            "100%|██████████| 930/930 [00:00<00:00,  4.30it/s]\u001b[A\n",
            "100%|██████████| 930/930 [00:00<00:00,  4.30it/s, iterations=930/930 Iterations Completed]\u001b[A"
          ]
        },
        {
          "output_type": "stream",
          "name": "stdout",
          "text": [
            "cleaned_data----------------------------------------- True\n",
            "1/1 [==============================] - 0s 13ms/step - loss: 0.3285 - accuracy: 1.0000\n"
          ]
        },
        {
          "output_type": "stream",
          "name": "stderr",
          "text": [
            "WARNING:absl:Found untraced functions such as _update_step_xla while saving (showing 1 of 1). These functions will not be directly callable after loading.\n",
            "100%|█████████▉| 930/931 [00:00<?, ?it/s]\n",
            "100%|██████████| 931/931 [00:00<00:00,  5.07it/s, iterations=931/931 Iterations Completed]"
          ]
        },
        {
          "output_type": "stream",
          "name": "stdout",
          "text": [
            "cleaned_data----------------------------------------- True\n",
            "1/1 [==============================] - 0s 10ms/step - loss: 0.3413 - accuracy: 1.0000\n"
          ]
        },
        {
          "output_type": "stream",
          "name": "stderr",
          "text": [
            "WARNING:absl:Found untraced functions such as _update_step_xla while saving (showing 1 of 1). These functions will not be directly callable after loading.\n",
            "\n",
            "                                                                                          \n",
            "100%|██████████| 932/932 [00:00<00:00,  5.78it/s]\u001b[A\n",
            "100%|██████████| 932/932 [00:00<00:00,  5.78it/s, iterations=932/932 Iterations Completed]\u001b[A"
          ]
        },
        {
          "output_type": "stream",
          "name": "stdout",
          "text": [
            "cleaned_data----------------------------------------- True\n",
            "1/1 [==============================] - 0s 13ms/step - loss: 0.3531 - accuracy: 1.0000\n"
          ]
        },
        {
          "output_type": "stream",
          "name": "stderr",
          "text": [
            "WARNING:absl:Found untraced functions such as _update_step_xla while saving (showing 1 of 1). These functions will not be directly callable after loading.\n",
            "100%|█████████▉| 932/933 [00:00<?, ?it/s]\n",
            "100%|██████████| 933/933 [00:00<00:00,  6.46it/s, iterations=933/933 Iterations Completed]"
          ]
        },
        {
          "output_type": "stream",
          "name": "stdout",
          "text": [
            "cleaned_data----------------------------------------- True\n",
            "1/1 [==============================] - 0s 10ms/step - loss: 0.3303 - accuracy: 1.0000\n"
          ]
        },
        {
          "output_type": "stream",
          "name": "stderr",
          "text": [
            "WARNING:absl:Found untraced functions such as _update_step_xla while saving (showing 1 of 1). These functions will not be directly callable after loading.\n",
            "\n",
            "                                                                                          \n",
            "100%|██████████| 934/934 [00:00<00:00,  6.13it/s]\u001b[A\n",
            "100%|██████████| 934/934 [00:00<00:00,  6.13it/s, iterations=934/934 Iterations Completed]\u001b[A"
          ]
        },
        {
          "output_type": "stream",
          "name": "stdout",
          "text": [
            "cleaned_data----------------------------------------- True\n",
            "1/1 [==============================] - 0s 11ms/step - loss: 0.3283 - accuracy: 1.0000\n"
          ]
        },
        {
          "output_type": "stream",
          "name": "stderr",
          "text": [
            "WARNING:absl:Found untraced functions such as _update_step_xla while saving (showing 1 of 1). These functions will not be directly callable after loading.\n",
            "100%|█████████▉| 934/935 [00:00<?, ?it/s]\n",
            "100%|██████████| 935/935 [00:00<00:00,  6.12it/s, iterations=935/935 Iterations Completed]"
          ]
        },
        {
          "output_type": "stream",
          "name": "stdout",
          "text": [
            "cleaned_data----------------------------------------- True\n",
            "1/1 [==============================] - 0s 9ms/step - loss: 0.3366 - accuracy: 1.0000\n"
          ]
        },
        {
          "output_type": "stream",
          "name": "stderr",
          "text": [
            "WARNING:absl:Found untraced functions such as _update_step_xla while saving (showing 1 of 1). These functions will not be directly callable after loading.\n",
            "\n",
            "                                                                                          \n",
            "100%|██████████| 936/936 [00:00<00:00,  6.21it/s]\u001b[A\n",
            "100%|██████████| 936/936 [00:00<00:00,  6.21it/s, iterations=936/936 Iterations Completed]\u001b[A"
          ]
        },
        {
          "output_type": "stream",
          "name": "stdout",
          "text": [
            "cleaned_data----------------------------------------- True\n",
            "1/1 [==============================] - 0s 16ms/step - loss: 0.3324 - accuracy: 1.0000\n"
          ]
        },
        {
          "output_type": "stream",
          "name": "stderr",
          "text": [
            "WARNING:absl:Found untraced functions such as _update_step_xla while saving (showing 1 of 1). These functions will not be directly callable after loading.\n",
            "100%|█████████▉| 936/937 [00:00<?, ?it/s]\n",
            "100%|██████████| 937/937 [00:00<00:00,  6.09it/s, iterations=937/937 Iterations Completed]"
          ]
        },
        {
          "output_type": "stream",
          "name": "stdout",
          "text": [
            "cleaned_data----------------------------------------- True\n",
            "1/1 [==============================] - 0s 11ms/step - loss: 0.3329 - accuracy: 1.0000\n"
          ]
        },
        {
          "output_type": "stream",
          "name": "stderr",
          "text": [
            "WARNING:absl:Found untraced functions such as _update_step_xla while saving (showing 1 of 1). These functions will not be directly callable after loading.\n",
            "\n",
            "\n",
            "100%|██████████| 938/938 [00:00<00:00,  5.41it/s]\u001b[A\n",
            "100%|██████████| 938/938 [00:00<00:00,  5.41it/s, iterations=938/938 Iterations Completed]\u001b[A"
          ]
        },
        {
          "output_type": "stream",
          "name": "stdout",
          "text": [
            "cleaned_data----------------------------------------- True\n",
            "1/1 [==============================] - 0s 15ms/step - loss: 0.3297 - accuracy: 1.0000\n"
          ]
        },
        {
          "output_type": "stream",
          "name": "stderr",
          "text": [
            "WARNING:absl:Found untraced functions such as _update_step_xla while saving (showing 1 of 1). These functions will not be directly callable after loading.\n",
            "100%|█████████▉| 938/939 [00:00<?, ?it/s]\n",
            "100%|██████████| 939/939 [00:00<00:00,  5.34it/s, iterations=939/939 Iterations Completed]"
          ]
        },
        {
          "output_type": "stream",
          "name": "stdout",
          "text": [
            "cleaned_data----------------------------------------- True\n",
            "1/1 [==============================] - 0s 19ms/step - loss: 0.3376 - accuracy: 1.0000\n"
          ]
        },
        {
          "output_type": "stream",
          "name": "stderr",
          "text": [
            "WARNING:absl:Found untraced functions such as _update_step_xla while saving (showing 1 of 1). These functions will not be directly callable after loading.\n",
            "\n",
            "\n",
            "100%|██████████| 940/940 [00:00<00:00,  4.32it/s]\u001b[A\n",
            "100%|██████████| 940/940 [00:00<00:00,  4.32it/s, iterations=940/940 Iterations Completed]\u001b[A"
          ]
        },
        {
          "output_type": "stream",
          "name": "stdout",
          "text": [
            "cleaned_data----------------------------------------- True\n",
            "1/1 [==============================] - 0s 21ms/step - loss: 0.3287 - accuracy: 1.0000\n"
          ]
        },
        {
          "output_type": "stream",
          "name": "stderr",
          "text": [
            "WARNING:absl:Found untraced functions such as _update_step_xla while saving (showing 1 of 1). These functions will not be directly callable after loading.\n",
            "100%|█████████▉| 940/941 [00:00<?, ?it/s]\n",
            "100%|██████████| 941/941 [00:00<00:00,  6.31it/s, iterations=941/941 Iterations Completed]"
          ]
        },
        {
          "output_type": "stream",
          "name": "stdout",
          "text": [
            "cleaned_data----------------------------------------- True\n",
            "1/1 [==============================] - 0s 11ms/step - loss: 0.3355 - accuracy: 1.0000\n"
          ]
        },
        {
          "output_type": "stream",
          "name": "stderr",
          "text": [
            "WARNING:absl:Found untraced functions such as _update_step_xla while saving (showing 1 of 1). These functions will not be directly callable after loading.\n",
            "\n",
            "                                                                                          \n",
            "100%|██████████| 942/942 [00:00<00:00,  6.60it/s]\u001b[A\n",
            "100%|██████████| 942/942 [00:00<00:00,  6.60it/s, iterations=942/942 Iterations Completed]\u001b[A"
          ]
        },
        {
          "output_type": "stream",
          "name": "stdout",
          "text": [
            "cleaned_data----------------------------------------- True\n",
            "1/1 [==============================] - 0s 12ms/step - loss: 0.3285 - accuracy: 1.0000\n"
          ]
        },
        {
          "output_type": "stream",
          "name": "stderr",
          "text": [
            "WARNING:absl:Found untraced functions such as _update_step_xla while saving (showing 1 of 1). These functions will not be directly callable after loading.\n",
            "100%|█████████▉| 942/943 [00:00<?, ?it/s]\n",
            "100%|██████████| 943/943 [00:00<00:00,  6.32it/s, iterations=943/943 Iterations Completed]"
          ]
        },
        {
          "output_type": "stream",
          "name": "stdout",
          "text": [
            "cleaned_data----------------------------------------- True\n",
            "1/1 [==============================] - 0s 11ms/step - loss: 0.3364 - accuracy: 1.0000\n"
          ]
        },
        {
          "output_type": "stream",
          "name": "stderr",
          "text": [
            "WARNING:absl:Found untraced functions such as _update_step_xla while saving (showing 1 of 1). These functions will not be directly callable after loading.\n",
            "\n",
            "                                                                                          \n",
            "100%|██████████| 944/944 [00:00<00:00,  5.43it/s]\u001b[A\n",
            "100%|██████████| 944/944 [00:00<00:00,  5.43it/s, iterations=944/944 Iterations Completed]\u001b[A"
          ]
        },
        {
          "output_type": "stream",
          "name": "stdout",
          "text": [
            "cleaned_data----------------------------------------- True\n",
            "1/1 [==============================] - 0s 25ms/step - loss: 0.3285 - accuracy: 1.0000\n"
          ]
        },
        {
          "output_type": "stream",
          "name": "stderr",
          "text": [
            "WARNING:absl:Found untraced functions such as _update_step_xla while saving (showing 1 of 1). These functions will not be directly callable after loading.\n",
            "100%|█████████▉| 944/945 [00:00<?, ?it/s]\n",
            "100%|██████████| 945/945 [00:00<00:00,  5.99it/s, iterations=945/945 Iterations Completed]"
          ]
        },
        {
          "output_type": "stream",
          "name": "stdout",
          "text": [
            "cleaned_data----------------------------------------- True\n",
            "1/1 [==============================] - 0s 11ms/step - loss: 0.3410 - accuracy: 1.0000\n"
          ]
        },
        {
          "output_type": "stream",
          "name": "stderr",
          "text": [
            "WARNING:absl:Found untraced functions such as _update_step_xla while saving (showing 1 of 1). These functions will not be directly callable after loading.\n",
            "\n",
            "                                                                                          \n",
            "100%|██████████| 946/946 [00:00<00:00,  5.87it/s]\u001b[A\n",
            "100%|██████████| 946/946 [00:00<00:00,  5.87it/s, iterations=946/946 Iterations Completed]\u001b[A"
          ]
        },
        {
          "output_type": "stream",
          "name": "stdout",
          "text": [
            "cleaned_data----------------------------------------- True\n",
            "1/1 [==============================] - 0s 19ms/step - loss: 0.3327 - accuracy: 1.0000\n"
          ]
        },
        {
          "output_type": "stream",
          "name": "stderr",
          "text": [
            "WARNING:absl:Found untraced functions such as _update_step_xla while saving (showing 1 of 1). These functions will not be directly callable after loading.\n",
            "100%|█████████▉| 946/947 [00:00<?, ?it/s]\n",
            "100%|██████████| 947/947 [00:00<00:00,  5.71it/s, iterations=947/947 Iterations Completed]"
          ]
        },
        {
          "output_type": "stream",
          "name": "stdout",
          "text": [
            "cleaned_data----------------------------------------- True\n",
            "1/1 [==============================] - 0s 10ms/step - loss: 0.3352 - accuracy: 1.0000\n"
          ]
        },
        {
          "output_type": "stream",
          "name": "stderr",
          "text": [
            "WARNING:absl:Found untraced functions such as _update_step_xla while saving (showing 1 of 1). These functions will not be directly callable after loading.\n",
            "\n",
            "                                                                                          \n",
            "100%|██████████| 948/948 [00:00<00:00,  5.93it/s]\u001b[A\n",
            "100%|██████████| 948/948 [00:00<00:00,  5.93it/s, iterations=948/948 Iterations Completed]\u001b[A"
          ]
        },
        {
          "output_type": "stream",
          "name": "stdout",
          "text": [
            "cleaned_data----------------------------------------- True\n",
            "1/1 [==============================] - 0s 29ms/step - loss: 0.3290 - accuracy: 1.0000\n"
          ]
        },
        {
          "output_type": "stream",
          "name": "stderr",
          "text": [
            "WARNING:absl:Found untraced functions such as _update_step_xla while saving (showing 1 of 1). These functions will not be directly callable after loading.\n",
            "100%|█████████▉| 948/949 [00:00<?, ?it/s]\n",
            "100%|██████████| 949/949 [00:00<00:00,  5.12it/s, iterations=949/949 Iterations Completed]"
          ]
        },
        {
          "output_type": "stream",
          "name": "stdout",
          "text": [
            "cleaned_data----------------------------------------- True\n",
            "1/1 [==============================] - 0s 20ms/step - loss: 0.3476 - accuracy: 1.0000\n"
          ]
        },
        {
          "output_type": "stream",
          "name": "stderr",
          "text": [
            "WARNING:absl:Found untraced functions such as _update_step_xla while saving (showing 1 of 1). These functions will not be directly callable after loading.\n",
            "\n",
            "\n",
            "100%|██████████| 950/950 [00:00<00:00,  4.62it/s]\u001b[A\n",
            "100%|██████████| 950/950 [00:00<00:00,  4.62it/s, iterations=950/950 Iterations Completed]\u001b[A"
          ]
        },
        {
          "output_type": "stream",
          "name": "stdout",
          "text": [
            "cleaned_data----------------------------------------- True\n",
            "1/1 [==============================] - 0s 17ms/step - loss: 0.3291 - accuracy: 1.0000\n"
          ]
        },
        {
          "output_type": "stream",
          "name": "stderr",
          "text": [
            "WARNING:absl:Found untraced functions such as _update_step_xla while saving (showing 1 of 1). These functions will not be directly callable after loading.\n",
            "100%|█████████▉| 950/951 [00:00<?, ?it/s]\n",
            "100%|██████████| 951/951 [00:00<00:00,  5.50it/s, iterations=951/951 Iterations Completed]"
          ]
        },
        {
          "output_type": "stream",
          "name": "stdout",
          "text": [
            "cleaned_data----------------------------------------- True\n",
            "1/1 [==============================] - 0s 11ms/step - loss: 0.3312 - accuracy: 1.0000\n"
          ]
        },
        {
          "output_type": "stream",
          "name": "stderr",
          "text": [
            "WARNING:absl:Found untraced functions such as _update_step_xla while saving (showing 1 of 1). These functions will not be directly callable after loading.\n",
            "\n",
            "                                                                                          \n",
            "100%|██████████| 952/952 [00:00<00:00,  6.34it/s]\u001b[A\n",
            "100%|██████████| 952/952 [00:00<00:00,  6.34it/s, iterations=952/952 Iterations Completed]\u001b[A"
          ]
        },
        {
          "output_type": "stream",
          "name": "stdout",
          "text": [
            "cleaned_data----------------------------------------- True\n",
            "1/1 [==============================] - 0s 16ms/step - loss: 0.3295 - accuracy: 1.0000\n"
          ]
        },
        {
          "output_type": "stream",
          "name": "stderr",
          "text": [
            "WARNING:absl:Found untraced functions such as _update_step_xla while saving (showing 1 of 1). These functions will not be directly callable after loading.\n",
            "100%|█████████▉| 952/953 [00:00<?, ?it/s]\n",
            "100%|██████████| 953/953 [00:00<00:00,  5.63it/s, iterations=953/953 Iterations Completed]"
          ]
        },
        {
          "output_type": "stream",
          "name": "stdout",
          "text": [
            "cleaned_data----------------------------------------- True\n",
            "1/1 [==============================] - 0s 11ms/step - loss: 0.3332 - accuracy: 1.0000\n"
          ]
        },
        {
          "output_type": "stream",
          "name": "stderr",
          "text": [
            "WARNING:absl:Found untraced functions such as _update_step_xla while saving (showing 1 of 1). These functions will not be directly callable after loading.\n",
            "\n",
            "                                                                                          \n",
            "100%|██████████| 954/954 [00:00<00:00,  5.65it/s]\u001b[A\n",
            "100%|██████████| 954/954 [00:00<00:00,  5.65it/s, iterations=954/954 Iterations Completed]\u001b[A"
          ]
        },
        {
          "output_type": "stream",
          "name": "stdout",
          "text": [
            "cleaned_data----------------------------------------- True\n",
            "1/1 [==============================] - 0s 19ms/step - loss: 0.3348 - accuracy: 1.0000\n"
          ]
        },
        {
          "output_type": "stream",
          "name": "stderr",
          "text": [
            "WARNING:absl:Found untraced functions such as _update_step_xla while saving (showing 1 of 1). These functions will not be directly callable after loading.\n",
            "100%|█████████▉| 954/955 [00:00<?, ?it/s]\n",
            "100%|██████████| 955/955 [00:00<00:00,  6.60it/s, iterations=955/955 Iterations Completed]"
          ]
        },
        {
          "output_type": "stream",
          "name": "stdout",
          "text": [
            "cleaned_data----------------------------------------- True\n",
            "1/1 [==============================] - 0s 12ms/step - loss: 0.3367 - accuracy: 1.0000\n"
          ]
        },
        {
          "output_type": "stream",
          "name": "stderr",
          "text": [
            "WARNING:absl:Found untraced functions such as _update_step_xla while saving (showing 1 of 1). These functions will not be directly callable after loading.\n",
            "\n",
            "                                                                                          \n",
            "100%|██████████| 956/956 [00:00<00:00,  5.98it/s]\u001b[A\n",
            "100%|██████████| 956/956 [00:00<00:00,  5.98it/s, iterations=956/956 Iterations Completed]\u001b[A"
          ]
        },
        {
          "output_type": "stream",
          "name": "stdout",
          "text": [
            "cleaned_data----------------------------------------- True\n",
            "1/1 [==============================] - 0s 10ms/step - loss: 0.3453 - accuracy: 1.0000\n"
          ]
        },
        {
          "output_type": "stream",
          "name": "stderr",
          "text": [
            "WARNING:absl:Found untraced functions such as _update_step_xla while saving (showing 1 of 1). These functions will not be directly callable after loading.\n",
            "100%|█████████▉| 956/957 [00:00<?, ?it/s]\n",
            "100%|██████████| 957/957 [00:00<00:00,  5.97it/s, iterations=957/957 Iterations Completed]"
          ]
        },
        {
          "output_type": "stream",
          "name": "stdout",
          "text": [
            "cleaned_data----------------------------------------- True\n",
            "1/1 [==============================] - 0s 9ms/step - loss: 0.3349 - accuracy: 1.0000\n"
          ]
        },
        {
          "output_type": "stream",
          "name": "stderr",
          "text": [
            "WARNING:absl:Found untraced functions such as _update_step_xla while saving (showing 1 of 1). These functions will not be directly callable after loading.\n",
            "\n",
            "                                                                                          \n",
            "100%|██████████| 958/958 [00:00<00:00,  6.02it/s]\u001b[A\n",
            "100%|██████████| 958/958 [00:00<00:00,  6.02it/s, iterations=958/958 Iterations Completed]\u001b[A"
          ]
        },
        {
          "output_type": "stream",
          "name": "stdout",
          "text": [
            "cleaned_data----------------------------------------- True\n",
            "1/1 [==============================] - 0s 14ms/step - loss: 0.3297 - accuracy: 1.0000\n"
          ]
        },
        {
          "output_type": "stream",
          "name": "stderr",
          "text": [
            "WARNING:absl:Found untraced functions such as _update_step_xla while saving (showing 1 of 1). These functions will not be directly callable after loading.\n",
            "100%|█████████▉| 958/959 [00:00<?, ?it/s]\n",
            "100%|██████████| 959/959 [00:00<00:00,  4.66it/s, iterations=959/959 Iterations Completed]"
          ]
        },
        {
          "output_type": "stream",
          "name": "stdout",
          "text": [
            "cleaned_data----------------------------------------- True\n",
            "1/1 [==============================] - 0s 13ms/step - loss: 0.3358 - accuracy: 1.0000\n"
          ]
        },
        {
          "output_type": "stream",
          "name": "stderr",
          "text": [
            "WARNING:absl:Found untraced functions such as _update_step_xla while saving (showing 1 of 1). These functions will not be directly callable after loading.\n",
            "\n",
            "\n",
            "100%|██████████| 960/960 [00:00<00:00,  3.83it/s]\u001b[A\n",
            "100%|██████████| 960/960 [00:00<00:00,  3.83it/s, iterations=960/960 Iterations Completed]\u001b[A"
          ]
        },
        {
          "output_type": "stream",
          "name": "stdout",
          "text": [
            "cleaned_data----------------------------------------- True\n",
            "1/1 [==============================] - 0s 30ms/step - loss: 0.3284 - accuracy: 1.0000\n"
          ]
        },
        {
          "output_type": "stream",
          "name": "stderr",
          "text": [
            "WARNING:absl:Found untraced functions such as _update_step_xla while saving (showing 1 of 1). These functions will not be directly callable after loading.\n",
            "100%|█████████▉| 960/961 [00:00<?, ?it/s]\n",
            "100%|██████████| 961/961 [00:00<00:00,  5.55it/s, iterations=961/961 Iterations Completed]"
          ]
        },
        {
          "output_type": "stream",
          "name": "stdout",
          "text": [
            "cleaned_data----------------------------------------- True\n",
            "1/1 [==============================] - 0s 8ms/step - loss: 0.3291 - accuracy: 1.0000\n"
          ]
        },
        {
          "output_type": "stream",
          "name": "stderr",
          "text": [
            "WARNING:absl:Found untraced functions such as _update_step_xla while saving (showing 1 of 1). These functions will not be directly callable after loading.\n",
            "\n",
            "                                                                                          \n",
            "100%|██████████| 962/962 [00:00<00:00,  6.53it/s]\u001b[A\n",
            "100%|██████████| 962/962 [00:00<00:00,  6.53it/s, iterations=962/962 Iterations Completed]\u001b[A"
          ]
        },
        {
          "output_type": "stream",
          "name": "stdout",
          "text": [
            "cleaned_data----------------------------------------- True\n",
            "1/1 [==============================] - 0s 21ms/step - loss: 0.3296 - accuracy: 1.0000\n"
          ]
        },
        {
          "output_type": "stream",
          "name": "stderr",
          "text": [
            "WARNING:absl:Found untraced functions such as _update_step_xla while saving (showing 1 of 1). These functions will not be directly callable after loading.\n",
            "100%|█████████▉| 962/963 [00:00<?, ?it/s]\n",
            "100%|██████████| 963/963 [00:00<00:00,  6.21it/s, iterations=963/963 Iterations Completed]"
          ]
        },
        {
          "output_type": "stream",
          "name": "stdout",
          "text": [
            "cleaned_data----------------------------------------- True\n",
            "1/1 [==============================] - 0s 10ms/step - loss: 0.3292 - accuracy: 1.0000\n"
          ]
        },
        {
          "output_type": "stream",
          "name": "stderr",
          "text": [
            "WARNING:absl:Found untraced functions such as _update_step_xla while saving (showing 1 of 1). These functions will not be directly callable after loading.\n",
            "\n",
            "                                                                                          \n",
            "100%|██████████| 964/964 [00:00<00:00,  6.33it/s]\u001b[A\n",
            "100%|██████████| 964/964 [00:00<00:00,  6.33it/s, iterations=964/964 Iterations Completed]\u001b[A"
          ]
        },
        {
          "output_type": "stream",
          "name": "stdout",
          "text": [
            "cleaned_data----------------------------------------- True\n",
            "1/1 [==============================] - 0s 12ms/step - loss: 0.3275 - accuracy: 1.0000\n"
          ]
        },
        {
          "output_type": "stream",
          "name": "stderr",
          "text": [
            "WARNING:absl:Found untraced functions such as _update_step_xla while saving (showing 1 of 1). These functions will not be directly callable after loading.\n",
            "100%|█████████▉| 964/965 [00:00<?, ?it/s]\n",
            "100%|██████████| 965/965 [00:00<00:00,  6.00it/s, iterations=965/965 Iterations Completed]"
          ]
        },
        {
          "output_type": "stream",
          "name": "stdout",
          "text": [
            "cleaned_data----------------------------------------- True\n",
            "1/1 [==============================] - 0s 13ms/step - loss: 0.3303 - accuracy: 1.0000\n"
          ]
        },
        {
          "output_type": "stream",
          "name": "stderr",
          "text": [
            "WARNING:absl:Found untraced functions such as _update_step_xla while saving (showing 1 of 1). These functions will not be directly callable after loading.\n",
            "\n",
            "                                                                                          \n",
            "100%|██████████| 966/966 [00:00<00:00,  5.89it/s]\u001b[A\n",
            "100%|██████████| 966/966 [00:00<00:00,  5.89it/s, iterations=966/966 Iterations Completed]\u001b[A"
          ]
        },
        {
          "output_type": "stream",
          "name": "stdout",
          "text": [
            "cleaned_data----------------------------------------- True\n",
            "1/1 [==============================] - 0s 15ms/step - loss: 0.3294 - accuracy: 1.0000\n"
          ]
        },
        {
          "output_type": "stream",
          "name": "stderr",
          "text": [
            "WARNING:absl:Found untraced functions such as _update_step_xla while saving (showing 1 of 1). These functions will not be directly callable after loading.\n",
            "100%|█████████▉| 966/967 [00:00<?, ?it/s]\n",
            "100%|██████████| 967/967 [00:00<00:00,  6.15it/s, iterations=967/967 Iterations Completed]"
          ]
        },
        {
          "output_type": "stream",
          "name": "stdout",
          "text": [
            "cleaned_data----------------------------------------- True\n",
            "1/1 [==============================] - 0s 11ms/step - loss: 0.3272 - accuracy: 1.0000\n"
          ]
        },
        {
          "output_type": "stream",
          "name": "stderr",
          "text": [
            "WARNING:absl:Found untraced functions such as _update_step_xla while saving (showing 1 of 1). These functions will not be directly callable after loading.\n",
            "\n",
            "                                                                                          \n",
            "100%|██████████| 968/968 [00:00<00:00,  6.39it/s]\u001b[A\n",
            "100%|██████████| 968/968 [00:00<00:00,  6.39it/s, iterations=968/968 Iterations Completed]\u001b[A"
          ]
        },
        {
          "output_type": "stream",
          "name": "stdout",
          "text": [
            "cleaned_data----------------------------------------- True\n",
            "1/1 [==============================] - 0s 26ms/step - loss: 0.3327 - accuracy: 1.0000\n"
          ]
        },
        {
          "output_type": "stream",
          "name": "stderr",
          "text": [
            "WARNING:absl:Found untraced functions such as _update_step_xla while saving (showing 1 of 1). These functions will not be directly callable after loading.\n",
            "100%|█████████▉| 968/969 [00:00<?, ?it/s]\n",
            "100%|██████████| 969/969 [00:00<00:00,  5.86it/s, iterations=969/969 Iterations Completed]"
          ]
        },
        {
          "output_type": "stream",
          "name": "stdout",
          "text": [
            "cleaned_data----------------------------------------- True\n",
            "1/1 [==============================] - 0s 12ms/step - loss: 0.3281 - accuracy: 1.0000\n"
          ]
        },
        {
          "output_type": "stream",
          "name": "stderr",
          "text": [
            "WARNING:absl:Found untraced functions such as _update_step_xla while saving (showing 1 of 1). These functions will not be directly callable after loading.\n",
            "\n",
            "\n",
            "100%|██████████| 970/970 [00:00<00:00,  4.89it/s]\u001b[A\n",
            "100%|██████████| 970/970 [00:00<00:00,  4.89it/s, iterations=970/970 Iterations Completed]\u001b[A"
          ]
        },
        {
          "output_type": "stream",
          "name": "stdout",
          "text": [
            "cleaned_data----------------------------------------- True\n",
            "1/1 [==============================] - 0s 18ms/step - loss: 0.3278 - accuracy: 1.0000\n"
          ]
        },
        {
          "output_type": "stream",
          "name": "stderr",
          "text": [
            "WARNING:absl:Found untraced functions such as _update_step_xla while saving (showing 1 of 1). These functions will not be directly callable after loading.\n",
            "100%|█████████▉| 970/971 [00:00<?, ?it/s]\n",
            "100%|██████████| 971/971 [00:00<00:00,  3.98it/s, iterations=971/971 Iterations Completed]"
          ]
        },
        {
          "output_type": "stream",
          "name": "stdout",
          "text": [
            "cleaned_data----------------------------------------- True\n",
            "1/1 [==============================] - 0s 17ms/step - loss: 0.3296 - accuracy: 1.0000\n"
          ]
        },
        {
          "output_type": "stream",
          "name": "stderr",
          "text": [
            "WARNING:absl:Found untraced functions such as _update_step_xla while saving (showing 1 of 1). These functions will not be directly callable after loading.\n",
            "\n",
            "                                                                                          \n",
            "100%|██████████| 972/972 [00:00<00:00,  5.96it/s]\u001b[A\n",
            "100%|██████████| 972/972 [00:00<00:00,  5.96it/s, iterations=972/972 Iterations Completed]\u001b[A"
          ]
        },
        {
          "output_type": "stream",
          "name": "stdout",
          "text": [
            "cleaned_data----------------------------------------- True\n",
            "1/1 [==============================] - 0s 16ms/step - loss: 0.3273 - accuracy: 1.0000\n"
          ]
        },
        {
          "output_type": "stream",
          "name": "stderr",
          "text": [
            "WARNING:absl:Found untraced functions such as _update_step_xla while saving (showing 1 of 1). These functions will not be directly callable after loading.\n",
            "100%|█████████▉| 972/973 [00:00<?, ?it/s]\n",
            "100%|██████████| 973/973 [00:00<00:00,  5.59it/s, iterations=973/973 Iterations Completed]"
          ]
        },
        {
          "output_type": "stream",
          "name": "stdout",
          "text": [
            "cleaned_data----------------------------------------- True\n",
            "1/1 [==============================] - 0s 11ms/step - loss: 0.3287 - accuracy: 1.0000\n"
          ]
        },
        {
          "output_type": "stream",
          "name": "stderr",
          "text": [
            "WARNING:absl:Found untraced functions such as _update_step_xla while saving (showing 1 of 1). These functions will not be directly callable after loading.\n",
            "\n",
            "                                                                                          \n",
            "100%|██████████| 974/974 [00:00<00:00,  6.17it/s]\u001b[A\n",
            "100%|██████████| 974/974 [00:00<00:00,  6.17it/s, iterations=974/974 Iterations Completed]\u001b[A"
          ]
        },
        {
          "output_type": "stream",
          "name": "stdout",
          "text": [
            "cleaned_data----------------------------------------- True\n",
            "1/1 [==============================] - 0s 12ms/step - loss: 0.3313 - accuracy: 1.0000\n"
          ]
        },
        {
          "output_type": "stream",
          "name": "stderr",
          "text": [
            "WARNING:absl:Found untraced functions such as _update_step_xla while saving (showing 1 of 1). These functions will not be directly callable after loading.\n",
            "100%|█████████▉| 974/975 [00:00<?, ?it/s]\n",
            "100%|██████████| 975/975 [00:00<00:00,  6.16it/s, iterations=975/975 Iterations Completed]"
          ]
        },
        {
          "output_type": "stream",
          "name": "stdout",
          "text": [
            "cleaned_data----------------------------------------- True\n",
            "1/1 [==============================] - 0s 11ms/step - loss: 0.3404 - accuracy: 1.0000\n"
          ]
        },
        {
          "output_type": "stream",
          "name": "stderr",
          "text": [
            "WARNING:absl:Found untraced functions such as _update_step_xla while saving (showing 1 of 1). These functions will not be directly callable after loading.\n",
            "\n",
            "                                                                                          \n",
            "100%|██████████| 976/976 [00:00<00:00,  6.39it/s]\u001b[A\n",
            "100%|██████████| 976/976 [00:00<00:00,  6.39it/s, iterations=976/976 Iterations Completed]\u001b[A"
          ]
        },
        {
          "output_type": "stream",
          "name": "stdout",
          "text": [
            "cleaned_data----------------------------------------- True\n",
            "1/1 [==============================] - 0s 15ms/step - loss: 0.3613 - accuracy: 1.0000\n"
          ]
        },
        {
          "output_type": "stream",
          "name": "stderr",
          "text": [
            "WARNING:absl:Found untraced functions such as _update_step_xla while saving (showing 1 of 1). These functions will not be directly callable after loading.\n",
            "100%|█████████▉| 976/977 [00:00<?, ?it/s]\n",
            "100%|██████████| 977/977 [00:00<00:00,  6.17it/s, iterations=977/977 Iterations Completed]"
          ]
        },
        {
          "output_type": "stream",
          "name": "stdout",
          "text": [
            "cleaned_data----------------------------------------- True\n",
            "1/1 [==============================] - 0s 9ms/step - loss: 0.3413 - accuracy: 1.0000\n"
          ]
        },
        {
          "output_type": "stream",
          "name": "stderr",
          "text": [
            "WARNING:absl:Found untraced functions such as _update_step_xla while saving (showing 1 of 1). These functions will not be directly callable after loading.\n",
            "\n",
            "                                                                                          \n",
            "100%|██████████| 978/978 [00:00<00:00,  5.85it/s]\u001b[A\n",
            "100%|██████████| 978/978 [00:00<00:00,  5.85it/s, iterations=978/978 Iterations Completed]\u001b[A"
          ]
        },
        {
          "output_type": "stream",
          "name": "stdout",
          "text": [
            "cleaned_data----------------------------------------- True\n",
            "1/1 [==============================] - 0s 13ms/step - loss: 0.3300 - accuracy: 1.0000\n"
          ]
        },
        {
          "output_type": "stream",
          "name": "stderr",
          "text": [
            "WARNING:absl:Found untraced functions such as _update_step_xla while saving (showing 1 of 1). These functions will not be directly callable after loading.\n",
            "100%|█████████▉| 978/979 [00:00<?, ?it/s]\n",
            "100%|██████████| 979/979 [00:00<00:00,  5.90it/s, iterations=979/979 Iterations Completed]"
          ]
        },
        {
          "output_type": "stream",
          "name": "stdout",
          "text": [
            "cleaned_data----------------------------------------- True\n",
            "1/1 [==============================] - 0s 9ms/step - loss: 0.3354 - accuracy: 1.0000\n"
          ]
        },
        {
          "output_type": "stream",
          "name": "stderr",
          "text": [
            "WARNING:absl:Found untraced functions such as _update_step_xla while saving (showing 1 of 1). These functions will not be directly callable after loading.\n",
            "\n",
            "\n",
            "100%|██████████| 980/980 [00:00<00:00,  4.09it/s]\u001b[A\n",
            "100%|██████████| 980/980 [00:00<00:00,  4.09it/s, iterations=980/980 Iterations Completed]\u001b[A"
          ]
        },
        {
          "output_type": "stream",
          "name": "stdout",
          "text": [
            "cleaned_data----------------------------------------- True\n",
            "1/1 [==============================] - 0s 17ms/step - loss: 0.3515 - accuracy: 1.0000\n"
          ]
        },
        {
          "output_type": "stream",
          "name": "stderr",
          "text": [
            "WARNING:absl:Found untraced functions such as _update_step_xla while saving (showing 1 of 1). These functions will not be directly callable after loading.\n",
            "100%|█████████▉| 980/981 [00:00<?, ?it/s]\n",
            "100%|██████████| 981/981 [00:00<00:00,  5.19it/s, iterations=981/981 Iterations Completed]"
          ]
        },
        {
          "output_type": "stream",
          "name": "stdout",
          "text": [
            "cleaned_data----------------------------------------- True\n",
            "1/1 [==============================] - 0s 17ms/step - loss: 0.3384 - accuracy: 1.0000\n"
          ]
        },
        {
          "output_type": "stream",
          "name": "stderr",
          "text": [
            "WARNING:absl:Found untraced functions such as _update_step_xla while saving (showing 1 of 1). These functions will not be directly callable after loading.\n",
            "\n",
            "\n",
            "100%|██████████| 982/982 [00:00<00:00,  4.39it/s]\u001b[A\n",
            "100%|██████████| 982/982 [00:00<00:00,  4.39it/s, iterations=982/982 Iterations Completed]\u001b[A"
          ]
        },
        {
          "output_type": "stream",
          "name": "stdout",
          "text": [
            "cleaned_data----------------------------------------- True\n",
            "1/1 [==============================] - 0s 15ms/step - loss: 0.3349 - accuracy: 1.0000\n"
          ]
        },
        {
          "output_type": "stream",
          "name": "stderr",
          "text": [
            "WARNING:absl:Found untraced functions such as _update_step_xla while saving (showing 1 of 1). These functions will not be directly callable after loading.\n",
            "100%|█████████▉| 982/983 [00:00<?, ?it/s]\n",
            "100%|██████████| 983/983 [00:00<00:00,  5.99it/s, iterations=983/983 Iterations Completed]"
          ]
        },
        {
          "output_type": "stream",
          "name": "stdout",
          "text": [
            "cleaned_data----------------------------------------- True\n",
            "1/1 [==============================] - 0s 10ms/step - loss: 0.3480 - accuracy: 1.0000\n"
          ]
        },
        {
          "output_type": "stream",
          "name": "stderr",
          "text": [
            "WARNING:absl:Found untraced functions such as _update_step_xla while saving (showing 1 of 1). These functions will not be directly callable after loading.\n",
            "\n",
            "                                                                                          \n",
            "100%|██████████| 984/984 [00:00<00:00,  5.98it/s]\u001b[A\n",
            "100%|██████████| 984/984 [00:00<00:00,  5.98it/s, iterations=984/984 Iterations Completed]\u001b[A"
          ]
        },
        {
          "output_type": "stream",
          "name": "stdout",
          "text": [
            "cleaned_data----------------------------------------- True\n",
            "1/1 [==============================] - 0s 17ms/step - loss: 0.3353 - accuracy: 1.0000\n"
          ]
        },
        {
          "output_type": "stream",
          "name": "stderr",
          "text": [
            "WARNING:absl:Found untraced functions such as _update_step_xla while saving (showing 1 of 1). These functions will not be directly callable after loading.\n",
            "100%|█████████▉| 984/985 [00:00<?, ?it/s]\n",
            "100%|██████████| 985/985 [00:00<00:00,  5.91it/s, iterations=985/985 Iterations Completed]"
          ]
        },
        {
          "output_type": "stream",
          "name": "stdout",
          "text": [
            "cleaned_data----------------------------------------- True\n",
            "1/1 [==============================] - 0s 9ms/step - loss: 0.3437 - accuracy: 1.0000\n"
          ]
        },
        {
          "output_type": "stream",
          "name": "stderr",
          "text": [
            "WARNING:absl:Found untraced functions such as _update_step_xla while saving (showing 1 of 1). These functions will not be directly callable after loading.\n",
            "\n",
            "                                                                                          \n",
            "100%|██████████| 986/986 [00:00<00:00,  5.65it/s]\u001b[A\n",
            "100%|██████████| 986/986 [00:00<00:00,  5.65it/s, iterations=986/986 Iterations Completed]\u001b[A"
          ]
        },
        {
          "output_type": "stream",
          "name": "stdout",
          "text": [
            "cleaned_data----------------------------------------- True\n",
            "1/1 [==============================] - 0s 10ms/step - loss: 0.3344 - accuracy: 1.0000\n"
          ]
        },
        {
          "output_type": "stream",
          "name": "stderr",
          "text": [
            "WARNING:absl:Found untraced functions such as _update_step_xla while saving (showing 1 of 1). These functions will not be directly callable after loading.\n",
            "100%|█████████▉| 986/987 [00:00<?, ?it/s]\n",
            "100%|██████████| 987/987 [00:00<00:00,  6.01it/s, iterations=987/987 Iterations Completed]"
          ]
        },
        {
          "output_type": "stream",
          "name": "stdout",
          "text": [
            "cleaned_data----------------------------------------- True\n",
            "1/1 [==============================] - 0s 9ms/step - loss: 0.3327 - accuracy: 1.0000\n"
          ]
        },
        {
          "output_type": "stream",
          "name": "stderr",
          "text": [
            "WARNING:absl:Found untraced functions such as _update_step_xla while saving (showing 1 of 1). These functions will not be directly callable after loading.\n",
            "\n",
            "                                                                                          \n",
            "100%|██████████| 988/988 [00:00<00:00,  6.37it/s]\u001b[A\n",
            "100%|██████████| 988/988 [00:00<00:00,  6.37it/s, iterations=988/988 Iterations Completed]\u001b[A"
          ]
        },
        {
          "output_type": "stream",
          "name": "stdout",
          "text": [
            "cleaned_data----------------------------------------- True\n",
            "1/1 [==============================] - 0s 9ms/step - loss: 0.3298 - accuracy: 1.0000\n"
          ]
        },
        {
          "output_type": "stream",
          "name": "stderr",
          "text": [
            "WARNING:absl:Found untraced functions such as _update_step_xla while saving (showing 1 of 1). These functions will not be directly callable after loading.\n",
            "100%|█████████▉| 988/989 [00:00<?, ?it/s]\n",
            "100%|██████████| 989/989 [00:00<00:00,  5.50it/s, iterations=989/989 Iterations Completed]"
          ]
        },
        {
          "output_type": "stream",
          "name": "stdout",
          "text": [
            "cleaned_data----------------------------------------- True\n",
            "1/1 [==============================] - 0s 12ms/step - loss: 0.3297 - accuracy: 1.0000\n"
          ]
        },
        {
          "output_type": "stream",
          "name": "stderr",
          "text": [
            "WARNING:absl:Found untraced functions such as _update_step_xla while saving (showing 1 of 1). These functions will not be directly callable after loading.\n",
            "\n",
            "                                                                                          \n",
            "100%|██████████| 990/990 [00:00<00:00,  6.47it/s]\u001b[A\n",
            "100%|██████████| 990/990 [00:00<00:00,  6.47it/s, iterations=990/990 Iterations Completed]\u001b[A"
          ]
        },
        {
          "output_type": "stream",
          "name": "stdout",
          "text": [
            "cleaned_data----------------------------------------- True\n",
            "1/1 [==============================] - 0s 11ms/step - loss: 0.3294 - accuracy: 1.0000\n"
          ]
        },
        {
          "output_type": "stream",
          "name": "stderr",
          "text": [
            "WARNING:absl:Found untraced functions such as _update_step_xla while saving (showing 1 of 1). These functions will not be directly callable after loading.\n",
            "100%|█████████▉| 990/991 [00:00<?, ?it/s]\n",
            "100%|██████████| 991/991 [00:00<00:00,  4.77it/s, iterations=991/991 Iterations Completed]"
          ]
        },
        {
          "output_type": "stream",
          "name": "stdout",
          "text": [
            "cleaned_data----------------------------------------- True\n",
            "1/1 [==============================] - 0s 12ms/step - loss: 0.3274 - accuracy: 1.0000\n"
          ]
        },
        {
          "output_type": "stream",
          "name": "stderr",
          "text": [
            "WARNING:absl:Found untraced functions such as _update_step_xla while saving (showing 1 of 1). These functions will not be directly callable after loading.\n",
            "\n",
            "\n",
            "100%|██████████| 992/992 [00:00<00:00,  4.86it/s]\u001b[A\n",
            "100%|██████████| 992/992 [00:00<00:00,  4.86it/s, iterations=992/992 Iterations Completed]\u001b[A"
          ]
        },
        {
          "output_type": "stream",
          "name": "stdout",
          "text": [
            "cleaned_data----------------------------------------- True\n",
            "1/1 [==============================] - 0s 19ms/step - loss: 0.3312 - accuracy: 1.0000\n"
          ]
        },
        {
          "output_type": "stream",
          "name": "stderr",
          "text": [
            "WARNING:absl:Found untraced functions such as _update_step_xla while saving (showing 1 of 1). These functions will not be directly callable after loading.\n",
            "100%|█████████▉| 992/993 [00:00<?, ?it/s]\n",
            "100%|██████████| 993/993 [00:00<00:00,  6.06it/s, iterations=993/993 Iterations Completed]"
          ]
        },
        {
          "output_type": "stream",
          "name": "stdout",
          "text": [
            "cleaned_data----------------------------------------- True\n",
            "1/1 [==============================] - 0s 13ms/step - loss: 0.3336 - accuracy: 1.0000\n"
          ]
        },
        {
          "output_type": "stream",
          "name": "stderr",
          "text": [
            "WARNING:absl:Found untraced functions such as _update_step_xla while saving (showing 1 of 1). These functions will not be directly callable after loading.\n",
            "\n",
            "                                                                                          \n",
            "100%|██████████| 994/994 [00:00<00:00,  6.75it/s]\u001b[A\n",
            "100%|██████████| 994/994 [00:00<00:00,  6.75it/s, iterations=994/994 Iterations Completed]\u001b[A"
          ]
        },
        {
          "output_type": "stream",
          "name": "stdout",
          "text": [
            "cleaned_data----------------------------------------- True\n",
            "1/1 [==============================] - 0s 12ms/step - loss: 0.3305 - accuracy: 1.0000\n"
          ]
        },
        {
          "output_type": "stream",
          "name": "stderr",
          "text": [
            "WARNING:absl:Found untraced functions such as _update_step_xla while saving (showing 1 of 1). These functions will not be directly callable after loading.\n",
            "100%|█████████▉| 994/995 [00:00<?, ?it/s]\n",
            "100%|██████████| 995/995 [00:00<00:00,  6.07it/s, iterations=995/995 Iterations Completed]"
          ]
        },
        {
          "output_type": "stream",
          "name": "stdout",
          "text": [
            "cleaned_data----------------------------------------- True\n",
            "1/1 [==============================] - 0s 10ms/step - loss: 0.3293 - accuracy: 1.0000\n"
          ]
        },
        {
          "output_type": "stream",
          "name": "stderr",
          "text": [
            "WARNING:absl:Found untraced functions such as _update_step_xla while saving (showing 1 of 1). These functions will not be directly callable after loading.\n",
            "\n",
            "                                                                                          \n",
            "100%|██████████| 996/996 [00:00<00:00,  5.67it/s]\u001b[A\n",
            "100%|██████████| 996/996 [00:00<00:00,  5.67it/s, iterations=996/996 Iterations Completed]\u001b[A"
          ]
        },
        {
          "output_type": "stream",
          "name": "stdout",
          "text": [
            "cleaned_data----------------------------------------- True\n",
            "1/1 [==============================] - 0s 29ms/step - loss: 0.3321 - accuracy: 1.0000\n"
          ]
        },
        {
          "output_type": "stream",
          "name": "stderr",
          "text": [
            "WARNING:absl:Found untraced functions such as _update_step_xla while saving (showing 1 of 1). These functions will not be directly callable after loading.\n",
            "100%|█████████▉| 996/997 [00:00<?, ?it/s]\n",
            "100%|██████████| 997/997 [00:00<00:00,  5.42it/s, iterations=997/997 Iterations Completed]"
          ]
        },
        {
          "output_type": "stream",
          "name": "stdout",
          "text": [
            "cleaned_data----------------------------------------- True\n",
            "1/1 [==============================] - 0s 12ms/step - loss: 0.3319 - accuracy: 1.0000\n"
          ]
        },
        {
          "output_type": "stream",
          "name": "stderr",
          "text": [
            "WARNING:absl:Found untraced functions such as _update_step_xla while saving (showing 1 of 1). These functions will not be directly callable after loading.\n",
            "\n",
            "                                                                                          \n",
            "100%|██████████| 998/998 [00:00<00:00,  6.22it/s]\u001b[A\n",
            "100%|██████████| 998/998 [00:00<00:00,  6.22it/s, iterations=998/998 Iterations Completed]\u001b[A"
          ]
        },
        {
          "output_type": "stream",
          "name": "stdout",
          "text": [
            "cleaned_data----------------------------------------- True\n",
            "1/1 [==============================] - 0s 11ms/step - loss: 0.3458 - accuracy: 1.0000\n"
          ]
        },
        {
          "output_type": "stream",
          "name": "stderr",
          "text": [
            "WARNING:absl:Found untraced functions such as _update_step_xla while saving (showing 1 of 1). These functions will not be directly callable after loading.\n",
            "100%|█████████▉| 998/999 [00:00<?, ?it/s]\n",
            "100%|██████████| 999/999 [00:00<00:00,  5.50it/s, iterations=999/999 Iterations Completed]"
          ]
        },
        {
          "output_type": "stream",
          "name": "stdout",
          "text": [
            "cleaned_data----------------------------------------- True\n",
            "1/1 [==============================] - 0s 10ms/step - loss: 0.3309 - accuracy: 1.0000\n"
          ]
        },
        {
          "output_type": "stream",
          "name": "stderr",
          "text": [
            "WARNING:absl:Found untraced functions such as _update_step_xla while saving (showing 1 of 1). These functions will not be directly callable after loading.\n",
            "\n",
            "                                                                                          \n",
            "100%|██████████| 1000/1000 [00:00<00:00,  6.18it/s]\u001b[A\n",
            "100%|██████████| 1000/1000 [00:00<00:00,  6.18it/s, iterations=1000/1000 Iterations Completed]\u001b[A"
          ]
        },
        {
          "output_type": "stream",
          "name": "stdout",
          "text": [
            "cleaned_data----------------------------------------- True\n",
            "1/1 [==============================] - 0s 14ms/step - loss: 0.3301 - accuracy: 1.0000\n"
          ]
        },
        {
          "output_type": "stream",
          "name": "stderr",
          "text": [
            "WARNING:absl:Found untraced functions such as _update_step_xla while saving (showing 1 of 1). These functions will not be directly callable after loading.\n",
            "\n",
            "                                                                                              \u001b[A"
          ]
        },
        {
          "output_type": "stream",
          "name": "stdout",
          "text": [
            "\n",
            "Total Iterations 1000\n",
            "Single Threaded Time Elapsed: 1290.033878926\n",
            "Shutting down background jobs, please wait a moment...\n",
            "Done!\n",
            "Waiting for the remaining 113 operations to synchronize with Neptune. Do not kill this process.\n",
            "All 113 operations synced, thanks for waiting!\n",
            "Explore the metadata in the Neptune app:\n",
            "https://app.neptune.ai/alehav/RamseyRL/e/RAM-237/metadata\n",
            "Shutting down background jobs, please wait a moment...\n",
            "Done!\n",
            "Explore the metadata in the Neptune app:\n",
            "https://app.neptune.ai/alehav/RamseyRL/m/RAM-HEUR/v/RAM-HEUR-158/metadata\n"
          ]
        }
      ]
    }
  ]
}
